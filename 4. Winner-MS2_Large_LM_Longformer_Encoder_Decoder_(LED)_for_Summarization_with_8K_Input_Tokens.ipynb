{
  "cells": [
    {
      "cell_type": "markdown",
      "metadata": {
        "id": "6Hgw3GTXLLw0"
      },
      "source": [
        "## 🤗 Finetune **LLM Longformer Encoder-Decoder (LED)**\n",
        "***note: update that you changed the tokenizer to BioBert***"
      ]
    },
    {
      "cell_type": "markdown",
      "source": [
        "We need to upgrade accelerate. Install it on the first session. No need to re-install on the restarted session. Use the pip show to verify you have the version previously installed."
      ],
      "metadata": {
        "id": "vZUHVh2vy988"
      }
    },
    {
      "cell_type": "markdown",
      "source": [],
      "metadata": {
        "id": "l92U9H-2FVG_"
      }
    },
    {
      "cell_type": "markdown",
      "metadata": {
        "id": "0B19PhgrCHM1"
      },
      "source": [
        "First, let's check we have a GPU with at least 15GB RAM."
      ]
    },
    {
      "cell_type": "code",
      "source": [
        "gpu_info = !nvidia-smi\n",
        "gpu_info = '\\n'.join(gpu_info)\n",
        "if gpu_info.find('failed') >= 0:\n",
        "  print('Not connected to a GPU')\n",
        "else:\n",
        "  print(gpu_info)"
      ],
      "metadata": {
        "colab": {
          "base_uri": "https://localhost:8080/"
        },
        "id": "L3_Sw8q2e_Ef",
        "outputId": "e91e7894-1341-4818-fb78-1d081fc0d4f6"
      },
      "execution_count": null,
      "outputs": [
        {
          "output_type": "stream",
          "name": "stdout",
          "text": [
            "Fri Apr 12 09:46:50 2024       \n",
            "+---------------------------------------------------------------------------------------+\n",
            "| NVIDIA-SMI 535.104.05             Driver Version: 535.104.05   CUDA Version: 12.2     |\n",
            "|-----------------------------------------+----------------------+----------------------+\n",
            "| GPU  Name                 Persistence-M | Bus-Id        Disp.A | Volatile Uncorr. ECC |\n",
            "| Fan  Temp   Perf          Pwr:Usage/Cap |         Memory-Usage | GPU-Util  Compute M. |\n",
            "|                                         |                      |               MIG M. |\n",
            "|=========================================+======================+======================|\n",
            "|   0  NVIDIA A100-SXM4-40GB          Off | 00000000:00:04.0 Off |                    0 |\n",
            "| N/A   35C    P0              44W / 400W |      2MiB / 40960MiB |      0%      Default |\n",
            "|                                         |                      |             Disabled |\n",
            "+-----------------------------------------+----------------------+----------------------+\n",
            "                                                                                         \n",
            "+---------------------------------------------------------------------------------------+\n",
            "| Processes:                                                                            |\n",
            "|  GPU   GI   CI        PID   Type   Process name                            GPU Memory |\n",
            "|        ID   ID                                                             Usage      |\n",
            "|=======================================================================================|\n",
            "|  No running processes found                                                           |\n",
            "+---------------------------------------------------------------------------------------+\n"
          ]
        }
      ]
    },
    {
      "cell_type": "code",
      "source": [
        "!pip install accelerate -U --quiet"
      ],
      "metadata": {
        "colab": {
          "base_uri": "https://localhost:8080/"
        },
        "id": "D3LBE9eTMyPb",
        "outputId": "b4ecaa3d-024e-45b5-daf3-1c6f9c6798c6"
      },
      "execution_count": null,
      "outputs": [
        {
          "output_type": "stream",
          "name": "stdout",
          "text": [
            "\u001b[?25l     \u001b[90m━━━━━━━━━━━━━━━━━━━━━━━━━━━━━━━━━━━━━━━━\u001b[0m \u001b[32m0.0/297.4 kB\u001b[0m \u001b[31m?\u001b[0m eta \u001b[36m-:--:--\u001b[0m\r\u001b[2K     \u001b[91m━━━━━━━━━━━━━━━━━━━━━━━━━━━━━━\u001b[0m\u001b[90m╺\u001b[0m\u001b[90m━━━━━━━━━\u001b[0m \u001b[32m225.3/297.4 kB\u001b[0m \u001b[31m6.6 MB/s\u001b[0m eta \u001b[36m0:00:01\u001b[0m\r\u001b[2K     \u001b[90m━━━━━━━━━━━━━━━━━━━━━━━━━━━━━━━━━━━━━━━━\u001b[0m \u001b[32m297.4/297.4 kB\u001b[0m \u001b[31m6.2 MB/s\u001b[0m eta \u001b[36m0:00:00\u001b[0m\n",
            "\u001b[?25h"
          ]
        }
      ]
    },
    {
      "cell_type": "markdown",
      "source": [
        "Install on the first session. Do no reinstall again after you restart your session as it will upgrade the dill package to 0.3.8."
      ],
      "metadata": {
        "id": "6x8jlX-ZzPct"
      }
    },
    {
      "cell_type": "code",
      "execution_count": null,
      "metadata": {
        "id": "Pzh-JNaUK3Y_"
      },
      "outputs": [],
      "source": [
        "%%capture\n",
        "!pip install datasets==1.2.1 #do not install again, if installed in previous session\n",
        "!pip install transformers==4.2.0 #do not install again, if installed in previous session\n",
        "!pip install rouge_score #do not install again, if installed in previous session"
      ]
    },
    {
      "cell_type": "markdown",
      "source": [
        "Need dill 0.3.4, need to uninstall default dill 0.3.8, otherwise it will have both installations, and the model will fail. After installation wait to restart session AFTER you ALSO reinstall numpy"
      ],
      "metadata": {
        "id": "89-b8Rlkzii0"
      }
    },
    {
      "cell_type": "code",
      "source": [
        "!pip uninstall -y dill #need 0.3.4, need to reinstall default dill 0.3.8, otherwise it will have both installations, and model will fail\n",
        "!pip install dill==0.3.4 #after installation restart session AFTER you ALSO reinstall numpy"
      ],
      "metadata": {
        "colab": {
          "base_uri": "https://localhost:8080/"
        },
        "id": "00BzeVU7MBxn",
        "outputId": "694dd884-c294-4d8d-9cb4-086853e55c34"
      },
      "execution_count": null,
      "outputs": [
        {
          "output_type": "stream",
          "name": "stdout",
          "text": [
            "Found existing installation: dill 0.3.8\n",
            "Uninstalling dill-0.3.8:\n",
            "  Successfully uninstalled dill-0.3.8\n",
            "Collecting dill==0.3.4\n",
            "  Downloading dill-0.3.4-py2.py3-none-any.whl (86 kB)\n",
            "\u001b[2K     \u001b[90m━━━━━━━━━━━━━━━━━━━━━━━━━━━━━━━━━━━━━━━━\u001b[0m \u001b[32m86.9/86.9 kB\u001b[0m \u001b[31m2.8 MB/s\u001b[0m eta \u001b[36m0:00:00\u001b[0m\n",
            "\u001b[?25hInstalling collected packages: dill\n",
            "\u001b[31mERROR: pip's dependency resolver does not currently take into account all the packages that are installed. This behaviour is the source of the following dependency conflicts.\n",
            "multiprocess 0.70.16 requires dill>=0.3.8, but you have dill 0.3.4 which is incompatible.\u001b[0m\u001b[31m\n",
            "\u001b[0mSuccessfully installed dill-0.3.4\n"
          ]
        }
      ]
    },
    {
      "cell_type": "markdown",
      "source": [
        "Downgrading numpy version to a previous version that supports np.object. Default numpy installation 1.25.2 causes failure, need to uninstall and install 1.23.5."
      ],
      "metadata": {
        "id": "FwtXqhfVk-_D"
      }
    },
    {
      "cell_type": "code",
      "source": [
        "!pip uninstall -y numpy #default numpy installation 1.25.2 causes failure, need to uninstall and install 1.23.5\n",
        "!pip install numpy==1.23.5 #need to restart session\n"
      ],
      "metadata": {
        "colab": {
          "base_uri": "https://localhost:8080/",
          "height": 333
        },
        "id": "ZHyvn8xTktWw",
        "outputId": "a10643e7-de4f-4b08-d986-f177670361f6"
      },
      "execution_count": null,
      "outputs": [
        {
          "output_type": "stream",
          "name": "stdout",
          "text": [
            "Found existing installation: numpy 1.25.2\n",
            "Uninstalling numpy-1.25.2:\n",
            "  Successfully uninstalled numpy-1.25.2\n",
            "Collecting numpy==1.23.5\n",
            "  Downloading numpy-1.23.5-cp310-cp310-manylinux_2_17_x86_64.manylinux2014_x86_64.whl (17.1 MB)\n",
            "\u001b[2K     \u001b[90m━━━━━━━━━━━━━━━━━━━━━━━━━━━━━━━━━━━━━━━━\u001b[0m \u001b[32m17.1/17.1 MB\u001b[0m \u001b[31m80.2 MB/s\u001b[0m eta \u001b[36m0:00:00\u001b[0m\n",
            "\u001b[?25hInstalling collected packages: numpy\n",
            "\u001b[31mERROR: pip's dependency resolver does not currently take into account all the packages that are installed. This behaviour is the source of the following dependency conflicts.\n",
            "chex 0.1.86 requires numpy>=1.24.1, but you have numpy 1.23.5 which is incompatible.\n",
            "pandas-stubs 2.0.3.230814 requires numpy>=1.25.0; python_version >= \"3.9\", but you have numpy 1.23.5 which is incompatible.\u001b[0m\u001b[31m\n",
            "\u001b[0mSuccessfully installed numpy-1.23.5\n"
          ]
        },
        {
          "output_type": "display_data",
          "data": {
            "application/vnd.colab-display-data+json": {
              "pip_warning": {
                "packages": [
                  "numpy"
                ]
              },
              "id": "7edc009eb6dc469197918c186922448a"
            }
          },
          "metadata": {}
        }
      ]
    },
    {
      "cell_type": "markdown",
      "source": [
        "After your install dill and numpy versions needed, you need to restart. After you restart your session, you do not need to install them again. You can verify that you have the expected versions installed by running !pip show dill, or numpy"
      ],
      "metadata": {
        "id": "5x96r4S_s463"
      }
    },
    {
      "cell_type": "code",
      "source": [
        "!pip show accelerate #should show 0.28.0"
      ],
      "metadata": {
        "colab": {
          "base_uri": "https://localhost:8080/"
        },
        "id": "iASmeZzHLbzb",
        "outputId": "c40edfbd-7b0c-4319-f404-dfd156c919e7"
      },
      "execution_count": null,
      "outputs": [
        {
          "output_type": "stream",
          "name": "stdout",
          "text": [
            "Name: accelerate\n",
            "Version: 0.29.2\n",
            "Summary: Accelerate\n",
            "Home-page: https://github.com/huggingface/accelerate\n",
            "Author: The HuggingFace team\n",
            "Author-email: zach.mueller@huggingface.co\n",
            "License: Apache\n",
            "Location: /usr/local/lib/python3.10/dist-packages\n",
            "Requires: huggingface-hub, numpy, packaging, psutil, pyyaml, safetensors, torch\n",
            "Required-by: \n"
          ]
        }
      ]
    },
    {
      "cell_type": "markdown",
      "metadata": {
        "id": "eHSLE5TdC7RL"
      },
      "source": [
        "Next, we install 🤗Transformers, 🤗Datasets, and `rouge_score`.\n",
        "\n"
      ]
    },
    {
      "cell_type": "markdown",
      "source": [
        "The next cells are just to check you have the expected versions installed."
      ],
      "metadata": {
        "id": "xmwS9SnYzctT"
      }
    },
    {
      "cell_type": "code",
      "source": [
        "!pip show datasets #should show 1.2.1"
      ],
      "metadata": {
        "id": "HNlh4up6Lptl",
        "colab": {
          "base_uri": "https://localhost:8080/"
        },
        "outputId": "3b804b8e-dac5-4371-f1bb-133d654fbd89"
      },
      "execution_count": null,
      "outputs": [
        {
          "output_type": "stream",
          "name": "stdout",
          "text": [
            "Name: datasets\n",
            "Version: 1.2.1\n",
            "Summary: HuggingFace/Datasets is an open library of NLP datasets.\n",
            "Home-page: https://github.com/huggingface/datasets\n",
            "Author: HuggingFace Inc.\n",
            "Author-email: thomas@huggingface.co\n",
            "License: Apache 2.0\n",
            "Location: /usr/local/lib/python3.10/dist-packages\n",
            "Requires: dill, multiprocess, numpy, pandas, pyarrow, requests, tqdm, xxhash\n",
            "Required-by: \n"
          ]
        }
      ]
    },
    {
      "cell_type": "code",
      "source": [
        "!pip show transformers #should show 4.38.2"
      ],
      "metadata": {
        "id": "LrRT_T1KLs15",
        "colab": {
          "base_uri": "https://localhost:8080/"
        },
        "outputId": "dedee124-b9c8-4d05-a3c3-f45441d85a5d"
      },
      "execution_count": null,
      "outputs": [
        {
          "output_type": "stream",
          "name": "stdout",
          "text": [
            "Name: transformers\n",
            "Version: 4.38.2\n",
            "Summary: State-of-the-art Machine Learning for JAX, PyTorch and TensorFlow\n",
            "Home-page: https://github.com/huggingface/transformers\n",
            "Author: The Hugging Face team (past and future) with the help of all our contributors (https://github.com/huggingface/transformers/graphs/contributors)\n",
            "Author-email: transformers@huggingface.co\n",
            "License: Apache 2.0 License\n",
            "Location: /usr/local/lib/python3.10/dist-packages\n",
            "Requires: filelock, huggingface-hub, numpy, packaging, pyyaml, regex, requests, safetensors, tokenizers, tqdm\n",
            "Required-by: \n"
          ]
        }
      ]
    },
    {
      "cell_type": "code",
      "source": [
        "!pip show rouge_score #should show 0.1.2"
      ],
      "metadata": {
        "id": "7ASUNupQLwkh",
        "colab": {
          "base_uri": "https://localhost:8080/"
        },
        "outputId": "c80980dc-6602-4d12-cd72-68948e0bcdac"
      },
      "execution_count": null,
      "outputs": [
        {
          "output_type": "stream",
          "name": "stdout",
          "text": [
            "Name: rouge-score\n",
            "Version: 0.1.2\n",
            "Summary: Pure python implementation of ROUGE-1.5.5.\n",
            "Home-page: https://github.com/google-research/google-research/tree/master/rouge\n",
            "Author: Google LLC\n",
            "Author-email: rouge-opensource@google.com\n",
            "License: \n",
            "Location: /usr/local/lib/python3.10/dist-packages\n",
            "Requires: absl-py, nltk, numpy, six\n",
            "Required-by: \n"
          ]
        }
      ]
    },
    {
      "cell_type": "code",
      "source": [
        "!pip show dill #need 0.3.4 to work, otherwise you get _stack error.\n",
        "#if you have not restarted your session it will not work even if it shows 0.3.4\n"
      ],
      "metadata": {
        "colab": {
          "base_uri": "https://localhost:8080/"
        },
        "id": "Z-MXkpmGFR_H",
        "outputId": "e6ef49ad-712b-41b7-bcd5-6454338cae47"
      },
      "execution_count": null,
      "outputs": [
        {
          "output_type": "stream",
          "name": "stdout",
          "text": [
            "Name: dill\n",
            "Version: 0.3.4\n",
            "Summary: serialize all of python\n",
            "Home-page: https://github.com/uqfoundation/dill\n",
            "Author: Mike McKerns\n",
            "Author-email: \n",
            "License: 3-clause BSD\n",
            "Location: /usr/local/lib/python3.10/dist-packages\n",
            "Requires: \n",
            "Required-by: datasets, multiprocess\n"
          ]
        }
      ]
    },
    {
      "cell_type": "code",
      "source": [
        "!pip show numpy #should show numpy 1.23.5, otherwise it will not work"
      ],
      "metadata": {
        "colab": {
          "base_uri": "https://localhost:8080/"
        },
        "id": "smwS0VvHWPWt",
        "outputId": "ed551f75-abc0-4dad-c0a3-057dcf7dda06"
      },
      "execution_count": null,
      "outputs": [
        {
          "output_type": "stream",
          "name": "stdout",
          "text": [
            "Name: numpy\n",
            "Version: 1.23.5\n",
            "Summary: NumPy is the fundamental package for array computing with Python.\n",
            "Home-page: https://www.numpy.org\n",
            "Author: Travis E. Oliphant et al.\n",
            "Author-email: \n",
            "License: BSD\n",
            "Location: /usr/local/lib/python3.10/dist-packages\n",
            "Requires: \n",
            "Required-by: accelerate, albumentations, altair, arviz, astropy, autograd, blis, bokeh, bqplot, chex, cmdstanpy, contourpy, cufflinks, cupy-cuda12x, cvxpy, datascience, datasets, db-dtypes, dopamine-rl, ecos, flax, folium, geemap, gensim, gym, h5py, holoviews, hyperopt, ibis-framework, imageio, imbalanced-learn, imgaug, jax, jaxlib, librosa, lightgbm, matplotlib, matplotlib-venn, missingno, mizani, ml-dtypes, mlxtend, moviepy, music21, nibabel, numba, numexpr, opencv-contrib-python, opencv-python, opencv-python-headless, opt-einsum, optax, orbax-checkpoint, osqp, pandas, pandas-gbq, pandas-stubs, patsy, plotnine, prophet, pyarrow, pycocotools, pyerfa, pymc, pytensor, python-louvain, PyWavelets, qdldl, qudida, rouge-score, scikit-image, scikit-learn, scipy, scs, seaborn, shapely, sklearn-pandas, soxr, spacy, stanio, statsmodels, tables, tensorboard, tensorflow, tensorflow-datasets, tensorflow-hub, tensorflow-probability, tensorstore, thinc, tifffile, torchtext, torchvision, transformers, wordcloud, xarray, xarray-einstats, xgboost, yellowbrick, yfinance\n"
          ]
        }
      ]
    },
    {
      "cell_type": "markdown",
      "metadata": {
        "id": "W7-QHmRiAMB9"
      },
      "source": [
        "The *Longformer Encoder-Decoder (LED)* was recently added as an extension to [Longformer: The Long-Document Transformer](https://arxiv.org/abs/2004.05150) by Iz Beltagy, Matthew E. Peters, Arman Cohan.\n",
        "\n",
        "In this notebook we will finetune *LED* for Summarization on MS2 data (https://huggingface.co/datasets/allenai/mslr2022).  LED will be finetuned up to an input length of 8K tokens on a single GPU.\n",
        "\n",
        "We will leverage 🤗`Seq2SeqTrainer`, gradient checkpointing and as usual 🤗`datasets`."
      ]
    },
    {
      "cell_type": "code",
      "source": [
        "import os\n",
        "import re\n",
        "import pandas as pd"
      ],
      "metadata": {
        "id": "F9QIUT6phH54"
      },
      "execution_count": null,
      "outputs": []
    },
    {
      "cell_type": "code",
      "source": [
        "# This cell will authenticate you and mount your Drive in the Colab.\n",
        "from google.colab import drive\n",
        "drive.mount('/content/drive')"
      ],
      "metadata": {
        "colab": {
          "base_uri": "https://localhost:8080/"
        },
        "id": "7jqTqtNBf__7",
        "outputId": "4b7e7499-2848-41d8-81db-185d049874b3"
      },
      "execution_count": null,
      "outputs": [
        {
          "output_type": "stream",
          "name": "stdout",
          "text": [
            "Mounted at /content/drive\n"
          ]
        }
      ]
    },
    {
      "cell_type": "markdown",
      "source": [
        "Load the data"
      ],
      "metadata": {
        "id": "lBR6ifZhu49F"
      }
    },
    {
      "cell_type": "code",
      "source": [
        "from tqdm import tqdm\n",
        "\n",
        "\n",
        "def load_data(file_path):\n",
        "    chunksize = 5e5 # adjust this value depending on your file's size\n",
        "    df = pd.DataFrame()\n",
        "    for chunk in tqdm(pd.read_csv(file_path, chunksize=chunksize)):\n",
        "        df = pd.concat([df, chunk])\n",
        "    return df\n",
        "\n",
        "#  path to where you saved the train data\n",
        "tr_df = load_data('drive/MyDrive/W266_NLP/Project2/summarization/ms2-train-data.csv') #train data\n",
        "ts_df = load_data('drive/MyDrive/W266_NLP/Project2/summarization/ms2-test-data.csv') #test data\n",
        "vl_df = load_data('drive/MyDrive/W266_NLP/Project2/summarization/ms2-val-data.csv')  #validation data\n"
      ],
      "metadata": {
        "colab": {
          "base_uri": "https://localhost:8080/"
        },
        "id": "EQfxBmE9utO5",
        "outputId": "e8d8d0d3-acb3-4ceb-abaa-376f5b681782"
      },
      "execution_count": null,
      "outputs": [
        {
          "output_type": "stream",
          "name": "stderr",
          "text": [
            "1it [00:07,  7.32s/it]\n",
            "1it [00:01,  1.03s/it]\n",
            "1it [00:04,  4.44s/it]\n"
          ]
        }
      ]
    },
    {
      "cell_type": "markdown",
      "source": [
        "Sanity check the data"
      ],
      "metadata": {
        "id": "MsraYBLHyqvB"
      }
    },
    {
      "cell_type": "code",
      "source": [
        "tr_df.head(2)"
      ],
      "metadata": {
        "colab": {
          "base_uri": "https://localhost:8080/",
          "height": 164
        },
        "id": "NSzRDnwehVmq",
        "outputId": "cc774c92-89a3-4104-ec30-63e2d238ed9c"
      },
      "execution_count": null,
      "outputs": [
        {
          "output_type": "execute_result",
          "data": {
            "text/plain": [
              "   Unnamed: 0  review_id                                               pmid  \\\n",
              "0           0   30760312  ['22776744', '25271670', '3493740', '1863023',...   \n",
              "1           1   19588356  ['8532025', '10790348', '17504794', '16793845'...   \n",
              "\n",
              "                                               title  \\\n",
              "0  ['Improved Cell Survival and Paracrine Capacit...   \n",
              "1  ['A comparison of continuous intravenous epopr...   \n",
              "\n",
              "                                            abstract  \\\n",
              "0  ['Although transplantation of adult bone marro...   \n",
              "1  ['BACKGROUND Primary pulmonary hypertension is...   \n",
              "\n",
              "                                              target  \\\n",
              "0  Conclusions SC therapy is effective for PAH in...   \n",
              "1  There was a trend for endothelin receptor anta...   \n",
              "\n",
              "                                          background  \n",
              "0  Background Despite significant progress in dru...  \n",
              "1  BACKGROUND Pulmonary arterial hypertension is ...  "
            ],
            "text/html": [
              "\n",
              "  <div id=\"df-80e7fee8-f846-4c72-9755-7d9759765714\" class=\"colab-df-container\">\n",
              "    <div>\n",
              "<style scoped>\n",
              "    .dataframe tbody tr th:only-of-type {\n",
              "        vertical-align: middle;\n",
              "    }\n",
              "\n",
              "    .dataframe tbody tr th {\n",
              "        vertical-align: top;\n",
              "    }\n",
              "\n",
              "    .dataframe thead th {\n",
              "        text-align: right;\n",
              "    }\n",
              "</style>\n",
              "<table border=\"1\" class=\"dataframe\">\n",
              "  <thead>\n",
              "    <tr style=\"text-align: right;\">\n",
              "      <th></th>\n",
              "      <th>Unnamed: 0</th>\n",
              "      <th>review_id</th>\n",
              "      <th>pmid</th>\n",
              "      <th>title</th>\n",
              "      <th>abstract</th>\n",
              "      <th>target</th>\n",
              "      <th>background</th>\n",
              "    </tr>\n",
              "  </thead>\n",
              "  <tbody>\n",
              "    <tr>\n",
              "      <th>0</th>\n",
              "      <td>0</td>\n",
              "      <td>30760312</td>\n",
              "      <td>['22776744', '25271670', '3493740', '1863023',...</td>\n",
              "      <td>['Improved Cell Survival and Paracrine Capacit...</td>\n",
              "      <td>['Although transplantation of adult bone marro...</td>\n",
              "      <td>Conclusions SC therapy is effective for PAH in...</td>\n",
              "      <td>Background Despite significant progress in dru...</td>\n",
              "    </tr>\n",
              "    <tr>\n",
              "      <th>1</th>\n",
              "      <td>1</td>\n",
              "      <td>19588356</td>\n",
              "      <td>['8532025', '10790348', '17504794', '16793845'...</td>\n",
              "      <td>['A comparison of continuous intravenous epopr...</td>\n",
              "      <td>['BACKGROUND Primary pulmonary hypertension is...</td>\n",
              "      <td>There was a trend for endothelin receptor anta...</td>\n",
              "      <td>BACKGROUND Pulmonary arterial hypertension is ...</td>\n",
              "    </tr>\n",
              "  </tbody>\n",
              "</table>\n",
              "</div>\n",
              "    <div class=\"colab-df-buttons\">\n",
              "\n",
              "  <div class=\"colab-df-container\">\n",
              "    <button class=\"colab-df-convert\" onclick=\"convertToInteractive('df-80e7fee8-f846-4c72-9755-7d9759765714')\"\n",
              "            title=\"Convert this dataframe to an interactive table.\"\n",
              "            style=\"display:none;\">\n",
              "\n",
              "  <svg xmlns=\"http://www.w3.org/2000/svg\" height=\"24px\" viewBox=\"0 -960 960 960\">\n",
              "    <path d=\"M120-120v-720h720v720H120Zm60-500h600v-160H180v160Zm220 220h160v-160H400v160Zm0 220h160v-160H400v160ZM180-400h160v-160H180v160Zm440 0h160v-160H620v160ZM180-180h160v-160H180v160Zm440 0h160v-160H620v160Z\"/>\n",
              "  </svg>\n",
              "    </button>\n",
              "\n",
              "  <style>\n",
              "    .colab-df-container {\n",
              "      display:flex;\n",
              "      gap: 12px;\n",
              "    }\n",
              "\n",
              "    .colab-df-convert {\n",
              "      background-color: #E8F0FE;\n",
              "      border: none;\n",
              "      border-radius: 50%;\n",
              "      cursor: pointer;\n",
              "      display: none;\n",
              "      fill: #1967D2;\n",
              "      height: 32px;\n",
              "      padding: 0 0 0 0;\n",
              "      width: 32px;\n",
              "    }\n",
              "\n",
              "    .colab-df-convert:hover {\n",
              "      background-color: #E2EBFA;\n",
              "      box-shadow: 0px 1px 2px rgba(60, 64, 67, 0.3), 0px 1px 3px 1px rgba(60, 64, 67, 0.15);\n",
              "      fill: #174EA6;\n",
              "    }\n",
              "\n",
              "    .colab-df-buttons div {\n",
              "      margin-bottom: 4px;\n",
              "    }\n",
              "\n",
              "    [theme=dark] .colab-df-convert {\n",
              "      background-color: #3B4455;\n",
              "      fill: #D2E3FC;\n",
              "    }\n",
              "\n",
              "    [theme=dark] .colab-df-convert:hover {\n",
              "      background-color: #434B5C;\n",
              "      box-shadow: 0px 1px 3px 1px rgba(0, 0, 0, 0.15);\n",
              "      filter: drop-shadow(0px 1px 2px rgba(0, 0, 0, 0.3));\n",
              "      fill: #FFFFFF;\n",
              "    }\n",
              "  </style>\n",
              "\n",
              "    <script>\n",
              "      const buttonEl =\n",
              "        document.querySelector('#df-80e7fee8-f846-4c72-9755-7d9759765714 button.colab-df-convert');\n",
              "      buttonEl.style.display =\n",
              "        google.colab.kernel.accessAllowed ? 'block' : 'none';\n",
              "\n",
              "      async function convertToInteractive(key) {\n",
              "        const element = document.querySelector('#df-80e7fee8-f846-4c72-9755-7d9759765714');\n",
              "        const dataTable =\n",
              "          await google.colab.kernel.invokeFunction('convertToInteractive',\n",
              "                                                    [key], {});\n",
              "        if (!dataTable) return;\n",
              "\n",
              "        const docLinkHtml = 'Like what you see? Visit the ' +\n",
              "          '<a target=\"_blank\" href=https://colab.research.google.com/notebooks/data_table.ipynb>data table notebook</a>'\n",
              "          + ' to learn more about interactive tables.';\n",
              "        element.innerHTML = '';\n",
              "        dataTable['output_type'] = 'display_data';\n",
              "        await google.colab.output.renderOutput(dataTable, element);\n",
              "        const docLink = document.createElement('div');\n",
              "        docLink.innerHTML = docLinkHtml;\n",
              "        element.appendChild(docLink);\n",
              "      }\n",
              "    </script>\n",
              "  </div>\n",
              "\n",
              "\n",
              "<div id=\"df-2b2f4d72-a95c-44a0-8363-dfdade1b5ab8\">\n",
              "  <button class=\"colab-df-quickchart\" onclick=\"quickchart('df-2b2f4d72-a95c-44a0-8363-dfdade1b5ab8')\"\n",
              "            title=\"Suggest charts\"\n",
              "            style=\"display:none;\">\n",
              "\n",
              "<svg xmlns=\"http://www.w3.org/2000/svg\" height=\"24px\"viewBox=\"0 0 24 24\"\n",
              "     width=\"24px\">\n",
              "    <g>\n",
              "        <path d=\"M19 3H5c-1.1 0-2 .9-2 2v14c0 1.1.9 2 2 2h14c1.1 0 2-.9 2-2V5c0-1.1-.9-2-2-2zM9 17H7v-7h2v7zm4 0h-2V7h2v10zm4 0h-2v-4h2v4z\"/>\n",
              "    </g>\n",
              "</svg>\n",
              "  </button>\n",
              "\n",
              "<style>\n",
              "  .colab-df-quickchart {\n",
              "      --bg-color: #E8F0FE;\n",
              "      --fill-color: #1967D2;\n",
              "      --hover-bg-color: #E2EBFA;\n",
              "      --hover-fill-color: #174EA6;\n",
              "      --disabled-fill-color: #AAA;\n",
              "      --disabled-bg-color: #DDD;\n",
              "  }\n",
              "\n",
              "  [theme=dark] .colab-df-quickchart {\n",
              "      --bg-color: #3B4455;\n",
              "      --fill-color: #D2E3FC;\n",
              "      --hover-bg-color: #434B5C;\n",
              "      --hover-fill-color: #FFFFFF;\n",
              "      --disabled-bg-color: #3B4455;\n",
              "      --disabled-fill-color: #666;\n",
              "  }\n",
              "\n",
              "  .colab-df-quickchart {\n",
              "    background-color: var(--bg-color);\n",
              "    border: none;\n",
              "    border-radius: 50%;\n",
              "    cursor: pointer;\n",
              "    display: none;\n",
              "    fill: var(--fill-color);\n",
              "    height: 32px;\n",
              "    padding: 0;\n",
              "    width: 32px;\n",
              "  }\n",
              "\n",
              "  .colab-df-quickchart:hover {\n",
              "    background-color: var(--hover-bg-color);\n",
              "    box-shadow: 0 1px 2px rgba(60, 64, 67, 0.3), 0 1px 3px 1px rgba(60, 64, 67, 0.15);\n",
              "    fill: var(--button-hover-fill-color);\n",
              "  }\n",
              "\n",
              "  .colab-df-quickchart-complete:disabled,\n",
              "  .colab-df-quickchart-complete:disabled:hover {\n",
              "    background-color: var(--disabled-bg-color);\n",
              "    fill: var(--disabled-fill-color);\n",
              "    box-shadow: none;\n",
              "  }\n",
              "\n",
              "  .colab-df-spinner {\n",
              "    border: 2px solid var(--fill-color);\n",
              "    border-color: transparent;\n",
              "    border-bottom-color: var(--fill-color);\n",
              "    animation:\n",
              "      spin 1s steps(1) infinite;\n",
              "  }\n",
              "\n",
              "  @keyframes spin {\n",
              "    0% {\n",
              "      border-color: transparent;\n",
              "      border-bottom-color: var(--fill-color);\n",
              "      border-left-color: var(--fill-color);\n",
              "    }\n",
              "    20% {\n",
              "      border-color: transparent;\n",
              "      border-left-color: var(--fill-color);\n",
              "      border-top-color: var(--fill-color);\n",
              "    }\n",
              "    30% {\n",
              "      border-color: transparent;\n",
              "      border-left-color: var(--fill-color);\n",
              "      border-top-color: var(--fill-color);\n",
              "      border-right-color: var(--fill-color);\n",
              "    }\n",
              "    40% {\n",
              "      border-color: transparent;\n",
              "      border-right-color: var(--fill-color);\n",
              "      border-top-color: var(--fill-color);\n",
              "    }\n",
              "    60% {\n",
              "      border-color: transparent;\n",
              "      border-right-color: var(--fill-color);\n",
              "    }\n",
              "    80% {\n",
              "      border-color: transparent;\n",
              "      border-right-color: var(--fill-color);\n",
              "      border-bottom-color: var(--fill-color);\n",
              "    }\n",
              "    90% {\n",
              "      border-color: transparent;\n",
              "      border-bottom-color: var(--fill-color);\n",
              "    }\n",
              "  }\n",
              "</style>\n",
              "\n",
              "  <script>\n",
              "    async function quickchart(key) {\n",
              "      const quickchartButtonEl =\n",
              "        document.querySelector('#' + key + ' button');\n",
              "      quickchartButtonEl.disabled = true;  // To prevent multiple clicks.\n",
              "      quickchartButtonEl.classList.add('colab-df-spinner');\n",
              "      try {\n",
              "        const charts = await google.colab.kernel.invokeFunction(\n",
              "            'suggestCharts', [key], {});\n",
              "      } catch (error) {\n",
              "        console.error('Error during call to suggestCharts:', error);\n",
              "      }\n",
              "      quickchartButtonEl.classList.remove('colab-df-spinner');\n",
              "      quickchartButtonEl.classList.add('colab-df-quickchart-complete');\n",
              "    }\n",
              "    (() => {\n",
              "      let quickchartButtonEl =\n",
              "        document.querySelector('#df-2b2f4d72-a95c-44a0-8363-dfdade1b5ab8 button');\n",
              "      quickchartButtonEl.style.display =\n",
              "        google.colab.kernel.accessAllowed ? 'block' : 'none';\n",
              "    })();\n",
              "  </script>\n",
              "</div>\n",
              "\n",
              "    </div>\n",
              "  </div>\n"
            ],
            "application/vnd.google.colaboratory.intrinsic+json": {
              "type": "dataframe",
              "variable_name": "tr_df",
              "summary": "{\n  \"name\": \"tr_df\",\n  \"rows\": 14188,\n  \"fields\": [\n    {\n      \"column\": \"Unnamed: 0\",\n      \"properties\": {\n        \"dtype\": \"number\",\n        \"std\": 4095,\n        \"min\": 0,\n        \"max\": 14187,\n        \"num_unique_values\": 14188,\n        \"samples\": [\n          12820,\n          2012,\n          12299\n        ],\n        \"semantic_type\": \"\",\n        \"description\": \"\"\n      }\n    },\n    {\n      \"column\": \"review_id\",\n      \"properties\": {\n        \"dtype\": \"number\",\n        \"std\": 4992746,\n        \"min\": 2137711,\n        \"max\": 32692006,\n        \"num_unique_values\": 14188,\n        \"samples\": [\n          15069009,\n          26177653,\n          25681239\n        ],\n        \"semantic_type\": \"\",\n        \"description\": \"\"\n      }\n    },\n    {\n      \"column\": \"pmid\",\n      \"properties\": {\n        \"dtype\": \"string\",\n        \"num_unique_values\": 14159,\n        \"samples\": [\n          \"['19559380', '11189684', '23479454', '20598634', '3069219', '19297565', '22228146', '15042607', '17728218', '12704675', '22269382', '20473861', '14983954', '21788129', '21041707', '14983950', '11857418', '11774270', '12765053', '15548438', '9020270', '19233435', '16934392', '14983953', '23759326']\",\n          \"['10927732', '12401734', '11888606', '9917117', '2170088', '10963245', '15457308', '2289639', '3535493', '10868001', '11465228', '14638565', '2630378', '7888692', '16216821', '2357919', '2802431', '15630104', '15287950', '11722037', '11074901', '15638860']\",\n          \"['22417254', '24047060', '23683639', '23727163', '22010915', '22335736', '23924878', '23953385', '21908036', '24131140', '19631869', '24369076', '23870813', '24024839', '3136726', '22830462', '23134837', '20799923', '22192488', '24245566', '23602230', '22551128', '22464343', '24075051', '22277570', '24195548', '21351877', '22087680', '21752462', '23363666', '23803136', '23294500', '24209829', '22070475', '24054816', '11703888', '23216616', '23841729', '23075176', '23883379', '23944300', '23782158', '23902483', '23992602', '23991622', '22986377', '23732713', '24026317']\"\n        ],\n        \"semantic_type\": \"\",\n        \"description\": \"\"\n      }\n    },\n    {\n      \"column\": \"title\",\n      \"properties\": {\n        \"dtype\": \"string\",\n        \"num_unique_values\": 14159,\n        \"samples\": [\n          \"['[Results and participation factors to the European Randomized study of Screening for Prostate Cancer (ERSPC) with Prostate Specific Antigen: French departments of Tarn and H\\u00e9rault].', 'Design of the Prostate, Lung, Colorectal and Ovarian (PLCO) Cancer Screening Trial.', 'Prostate cancer mortality in the Finnish randomized screening trial.', 'Mortality results from the G\\u00f6teborg randomised population-based prostate-cancer screening trial.', 'Randomised prostate cancer screening trial: 20 year follow-up', 'Mortality results from a randomized prostate-cancer screening trial.', 'Prostate cancer screening in the randomized Prostate, Lung, Colorectal, and Ovarian Cancer Screening Trial: mortality results after 13 years of follow-up.', 'Screening decreases prostate cancer mortality: 11-year follow-up of the 1988 Quebec prospective randomized controlled trial.', 'Interval cancers in prostate cancer screening: comparing 2- and 4-year screening intervals in the European Randomized Study of Screening for Prostate Cancer, Gothenburg and Rotterdam.', 'Effective PSA contamination in the Rotterdam section of the European Randomized Study of Screening for Prostate Cancer', '[Mortality due to prostate cancer in the Spanish arm of the European Randomized Study of Screening for Prostate Cancer (ERSPC). Results after a 15-year follow-up].', 'Results of the three rounds of the Finnish Prostate Cancer Screening Trial--the incidence of advanced cancer is decreased by screening.', 'Features and preliminary results of prostate cancer screening in Canton Aargau, Switzerland', 'False-positive screening results in the European randomized study of screening for prostate cancer.', 'Comorbidity and mortality results from a randomized prostate cancer screening trial.', 'ERSPC: features and preliminary results of France', 'Prostate cancer mortality reduction by screening: power and time frame with complete enrollment in the European Randomised Screening for Prostate Cancer (ERSPC) trial.', 'Large\\u2010scale randomized prostate cancer screening trials: Program performances in the European randomized screening for prostate cancer trial and the prostate, lung, colorectal and ovary cancer trial', '[Prostate cancer screening].', 'Clinical consequences of screening for prostate cancer: 15 years follow-up of a randomised controlled trial in Sweden.', 'Fifteen-year survival in prostate cancer. A prospective, population-based study in Sweden.', '15-year followup of a population based prostate cancer screening study.', 'Prostate cancer screening decreases the absolute risk of being diagnosed with advanced prostate cancer--results from a prospective, population-based randomized controlled trial.', 'Population\\u2010based screening for prostate cancer by measuring free and total serum prostate\\u2010specific antigen in Sweden', 'Screening for prostate cancer: results of the Rotterdam section of the European randomized study of screening for prostate cancer.']\",\n          \"['Oral anticoagulation management in primary care with the use of computerized decision support and near-patient testing: a randomized, controlled trial.', 'Meal-related structured self-monitoring of blood glucose: effect on diabetes control in non-insulin-treated type 2 diabetic patients.', 'Sample size slippages in randomised trials: exclusions and the lost and wayward', 'A structured teaching and self-management program for patients receiving oral anticoagulation: a randomized controlled trial. Working Group for the Study of Patient Self-Management of Oral Anticoagulation.', 'Impact of Glucose Self-Monitoring on Non-lnsulin-Treated Patients With Type II Diabetes Mellitus: Randomized Controlled Trial Comparing Blood and Urine Testing', 'Oral anticoagulation self-management and management by a specialist anticoagulation clinic: a randomised cross-over comparison', 'A randomized trial of patient self-managed versus physician-managed oral anticoagulation.', 'Feasibility and effects of a diabetes type II protocol with blood glucose self-monitoring in general practice.', 'Does self-monitoring of blood glucose levels improve dietary compliance for obese patients with type II diabetes?', '[Background and evaluation plan of a study on self-management of anticoagulation in patients with non-valvular atrial fibrillation (SMAAF Study)].', 'International normalized ratio self-management after mechanical heart valve replacement: is an early start advantageous?', 'Comparison of the quality of oral anticoagulant therapy through patient self-management and management by specialized anticoagulation clinics in the Netherlands: a randomized clinical trial.', 'Is glucose self-monitoring beneficial in non-insulin-treated diabetic patients? Results of a randomized comparative trial.', 'Self-monitoring of blood glucose in overweight type 2 diabetic patients', 'Self management of oral anticoagulation: randomised trial', 'Follow-up Intervention: Its Effect on Compliance Behavior to a Diabetes Regimen', 'Home prothrombin time monitoring after the initiation of warfarin therapy. A randomized, prospective study.', 'Comparing Self-Management of Oral Anticoagulant Therapy with Clinic Management', 'The value of education and self\\u2010monitoring in the management of warfarin therapy in older patients with unstable control of anticoagulation', 'Self-managed anticoagulation: results from a two-year prospective randomized trial with heart valve patients.', 'A Multicomponent Intervention To Prevent Major Bleeding Complications in Older Patients Receiving Warfarin', 'Patient self\\u2010testing is a reliable and acceptable alternative to laboratory INR monitoring']\",\n          \"['Ingenol mebutate gel for actinic keratosis.', 'Long-term mortality after screening for colorectal cancer.', \\\"Effect of women's groups and volunteer peer counselling on rates of mortality, morbidity, and health behaviours in mothers and children in rural Malawi (MaiMwana): a factorial, cluster-randomised controlled trial\\\", 'Effectiveness of intermittent pneumatic compression in reduction of risk of deep vein thrombosis in patients who have had a stroke (CLOTS 3): a multicentre randomised controlled trial', 'Integration of antiretroviral therapy with tuberculosis treatment.', 'Intramuscular versus intravenous therapy for prehospital status epilepticus.', 'Cervical pessaries for prevention of preterm birth in women with a multiple pregnancy (ProTWIN): a multicentre, open-label randomised controlled trial', 'Prasugrel versus clopidogrel for patients with unstable angina or non-ST-segment elevation myocardial infarction with or without angiography: a secondary, prespecified analysis of the TRILOGY ACS trial', 'Safety and efficacy of dalcetrapib on atherosclerotic disease using novel non-invasive multimodality imaging (dal-PLAQUE): a randomised clinical trial', 'Increased survival in pancreatic cancer with nab-paclitaxel plus gemcitabine.', 'Under-representation of women and ethnic minorities in vascular surgery randomized controlled trials.', 'Arthroscopic partial meniscectomy versus sham surgery for a degenerative meniscal tear.', 'Alternative treatments to inhibit VEGF in age-related choroidal neovascularisation: 2-year findings of the IVAN randomised controlled trial', 'Panitumumab-FOLFOX4 treatment and RAS mutations in colorectal cancer.', 'Effect of early intensive multifactorial therapy on 5-year cardiovascular outcomes in individuals with type 2 diabetes detected by screening (ADDITION-Europe): a cluster-randomised trial', 'Coronary CT angiography versus standard evaluation in acute chest pain.', 'Antimicrobial catheters for reduction of symptomatic urinary tract infection in adults requiring short-term catheterisation in hospital: a multicentre randomised controlled trial', 'Inclusion of women and gender-specific analyses in randomized clinical trials of treatments for depression.', 'Comparison of annual versus twice-yearly mass azithromycin treatment for hyperendemic trachoma in Ethiopia: a cluster-randomised trial', 'Stenting and medical therapy for atherosclerotic renal-artery stenosis.', 'Effect of provision of daily zinc and iron with several micronutrients on growth and morbidity among young children in Pakistan: a cluster-randomised trial', 'Ablation with low-dose radioiodine and thyrotropin alfa in thyroid cancer.', 'Point-of-care genetic testing for personalisation of antiplatelet treatment (RAPID GENE): a prospective, randomised, proof-of-concept trial', 'Enrichment of autologous fat grafts with ex-vivo expanded adipose tissue-derived stem cells for graft survival: a randomised placebo-controlled trial', 'Dutasteride in localised prostate cancer management: the REDEEM randomised, double-blind, placebo-controlled trial', 'Dolutegravir plus abacavir-lamivudine for the treatment of HIV-1 infection.', 'Inclusion, analysis, and reporting of sex and race/ethnicity in clinical trials: have we made progress?', 'Mycophenolate versus azathioprine as maintenance therapy for lupus nephritis.', 'Exclusive breastfeeding promotion by peer counsellors in sub-Saharan Africa (PROMISE-EBF): a cluster-randomised trial', 'Daily chlorhexidine bathing to reduce bacteraemia in critically ill children: a multicentre, cluster-randomised, crossover trial', 'Clopidogrel with aspirin in acute minor stroke or transient ischemic attack.', 'Tofacitinib (CP-690,550) in combination with methotrexate in patients with active rheumatoid arthritis with an inadequate response to tumour necrosis factor inhibitors: a randomised phase 3 trial', 'Early time-limited antiretroviral therapy versus deferred therapy in South African infants infected with HIV: results from the children with HIV early antiretroviral (CHER) randomised trial', 'Glucocorticoids plus N-acetylcysteine in severe alcoholic hepatitis.', 'A structured training programme for caregivers of inpatients after stroke (TRACS): a cluster randomised controlled trial and cost-effectiveness analysis', 'Gender bias in clinical trials: do double standards still apply?', 'Cardiovascular events and intensity of treatment in polycythemia vera.', 'Retinoic acid and arsenic trioxide for acute promyelocytic leukemia.', \\\"Relapse risk after discontinuation of risperidone in Alzheimer's disease.\\\", \\\"A phase 3 trial of semagacestat for treatment of Alzheimer's disease.\\\", 'Faldaprevir and deleobuvir for HCV genotype 1 infection.', 'Targeting BTK with ibrutinib in relapsed chronic lymphocytic leukemia.', 'Lenalidomide plus dexamethasone for high-risk smoldering multiple myeloma.', 'Alogliptin after acute coronary syndrome in patients with type 2 diabetes.', 'Pretreatment with prasugrel in non-ST-segment elevation acute coronary syndromes.', 'Thalidomide for the Treatment of Cough in Idiopathic Pulmonary Fibrosis', 'Aspirin Versus Low-Molecular-Weight Heparin for Extended Venous Thromboembolism Prophylaxis After Total Hip Arthroplasty', 'Social Networking Technologies as an Emerging Tool for HIV Prevention']\"\n        ],\n        \"semantic_type\": \"\",\n        \"description\": \"\"\n      }\n    },\n    {\n      \"column\": \"abstract\",\n      \"properties\": {\n        \"dtype\": \"string\",\n        \"num_unique_values\": 14159,\n        \"samples\": [\n          \"['INTRODUCTION Mass screening modalities remained controversial and made necessary large studies . The European R and omized study of Screening for Prostate cancer ( ERSPC ) was initiated in 1994 . Eight countries including France are participating . METHODS ERSPC is a multicentric r and omised study and started with the aim to determine whether a 20 % reduction in prostate cancer mortality can be achieved with PSA-based screening .  Men aged 50 - 74 and living in the Tarn or H\\u00e9rault were included . After r and omization and exclusion of men who died or had a prostate cancer were invited to participate by giving their consent and had a PSA test . In case of PSA greater than or equal to 3 ng/ml , biopsy was recommended . Included men in both screening and control group were followed through cancer registries . Objective was to present first round results of French participation to ERSPC , to determine factors of participation and to compare detected cancers cases between both groups . RESULTS Population of men included was 84,781 and were r and omized in screening ( n=42,590 ) or control ( n=42,191 ) group .  Participation rate was 36.9 % in Tarn and 24.3 % in H\\u00e9rault . PSA was greater than or equal to 3 ng/ml in 15,4 % of cases ( n=1812 ) and 45.9 % of men ( n=832 ) who were biopsied . Age , previous PSA performed within two years prior to invitation , health insurance and department of residence were significantly associated to participation rate . Cumulated incidence with a four years follow-up was 2.48 % ( n=1053 ) in screening and 1.99 % ( n=840 ) in control group , with a relative risk ( RR ) of 1.242 . Corresponding RR for Tarn and H\\u00e9rault were 1.37 and 1.20 respectively . Clinical parameters and treatments modalities were similar between both screening and control groups ( radical prostatectomy 68 % and radiation therapy 20 % ) . CONCLUSION Participation rate at first round was modest . Profile of men who participated compared to men who did not were different . The control group was probably contaminated by PSA testing outside study protocol . Consequences at ERSPC level of this low participation rate on final analysis remain to be determined', 'The objectives of the Prostate , Lung , Colorectal and Ovarian Cancer Screening Trial are to determine in screenees ages 55 - 74 at entry whether screening with flexible sigmoidoscopy ( 60-cm sigmoidoscope ) can reduce mortality from colorectal cancer , whether screening with chest X-ray can reduce mortality from lung cancer , whether screening men with digital rectal examination ( DRE ) plus serum prostate-specific antigen ( PSA ) can reduce mortality from prostate cancer , and whether screening women with CA125 and transvaginal ultrasound ( TVU ) can reduce mortality from ovarian cancer . Secondary objectives are to assess screening variables other than mortality for each of the interventions including sensitivity , specificity , and positive predictive value ; to assess incidence , stage , and survival of cancer cases ; and to investigate biologic and /or prognostic characterizations of tumor tissue and biochemical products as intermediate endpoints . The design is a multicenter , two-armed , r and omized trial with 37,000 females and 37,000 males in each of the two arms . In the intervention arm , the  PSA and CA125 tests  are performed at entry , then annually for 5 years . The  DRE , TVU , and chest X-ray exams  are performed at entry and then annually for 3 years . Sigmoidoscopy is performed at entry and then at the 5-year point . Participants in the control arm follow their usual medical care practice s. Participants will be followed for at least 13 years from r and omization to ascertain all cancers of the prostate , lung , colorectum , and ovary , as well as deaths from all causes . A pilot phase was undertaken to assess the r and omization , screening , and data collection procedures of the trial and to estimate design parameters such as compliance and contamination levels . This paper describes eligibility , consent , and other design features of the trial , r and omization and screening procedures , and an outline of the follow-up procedures . Sample -size calculations are reported , and a data analysis plan is presented', 'BACKGROUND Prostate cancer ( PC ) screening with prostate-specific antigen ( PSA ) has been shown to decrease PC mortality by the European R and omized Study of Screening for Prostate Cancer ( ERSPC ) . We evaluated mortality results in the Finnish Prostate Cancer Screening Trial , the largest component of ERSPC . The primary endpoint was PC-specific mortality . METHODS A total of 80 144 men were identified from the population registry and r and omized to either a  screening arm ( SA ) or a  control arm ( CA ) . Men in the SA were invited to serum PSA determination up to three times with a 4-year interval between each scan and referred to biopsy if the PSA concentration was greater than or equal to 4.0 ng/mL or 3.0 to 3.99 ng/mL with a free/total PSA ratio less than or equal to 16 % . Men in the CA received usual care . The analysis covers follow-up to 12 years from r and omization for all men . Hazard ratios ( HRs ) were estimated for incidence and mortality using Cox proportional hazard model . All statistical tests were two-sided . RESULTS PC incidence was 8.8 per 1000 person-years in the SA and 6.6 in the CA ( HR = 1.34 , 95 % confidence interval [ CI ] = 1.27 to 1.40 ) . The incidence of advanced PC was lower in the SA vs CA arm ( 1.2 vs 1.6 , respectively ; HR = 0.73 , 95 % CI = 0.64 to 0.82 ; P < .001 ) . For PC mortality , no statistically significant difference was observed between the SA and CA ( HR = 0.85 , 95 % CI = 0.69 to 1.04 ) ( with intention-to-screen analysis ) . To avoid one PC death , we needed to invite 1199 men to screening and to detect 25 PCs . We observed no difference in all-cause mortality between trial arms . CONCLUSIONS At 12 years , a relatively conservative screening protocol produced a small , non-statistically significant PC-specific mortality reduction in the Finnish trial , at the cost of moderate overdiagnosis', 'BACKGROUND Prostate cancer is one of the leading causes of death from malignant disease among men in the developed world . One strategy to decrease the risk of death from this disease is screening with prostate-specific antigen ( PSA ) ; however , the extent of benefit and harm with such screening is under continuous debate . METHODS In December , 1994 , 20,000 men born between 1930 and 1944 , r and omly sample d from the population register , were r and omised by computer in a 1:1 ratio to either a screening group invited for PSA testing every 2 years ( n=10,000 ) or to a control group not invited ( n=10,000 ) . Men in the screening group were invited up to the upper age limit ( median 69 , range 67 - 71 years ) and only men with raised PSA concentrations were offered additional tests such as digital rectal examination and prostate biopsies . The primary endpoint was prostate-cancer specific mortality , analysed according to the intention-to-screen principle . The study is ongoing , with men who have not reached the upper age limit invited for PSA testing . This is the first planned report on cumulative prostate-cancer incidence and mortality calculated up to Dec 31 , 2008 . This study is registered as an International St and ard R and omised Controlled Trial IS RCT N54449243 . FINDINGS In each group , 48 men were excluded from the analysis because of death or emigration before the r and omisation date , or prevalent prostate cancer . In men r and omised to screening , 7578 ( 76 % ) of 9952 attended at least once . During a median follow-up of 14 years , 1138 men in the screening group and 718 in the control group  were diagnosed with prostate cancer , result ing in a cumulative prostate-cancer incidence of 12.7 % in the screening group and 8.2 % in the  control  group ( hazard ratio 1.64 ; 95 % CI 1.50 - 1.80 ; p<0.0001 ) . The absolute cumulative risk reduction of death from prostate cancer at 14 years was 0.40 % ( 95 % CI 0.17 - 0.64 ) , from 0.90 % in the control group to 0.50 % in the screening group . The rate ratio for death from prostate cancer was 0.56 ( 95 % CI 0.39 - 0.82 ; p=0.002 ) in the screening compared with the control group . The rate ratio of death from prostate cancer for attendees compared with the control group was 0.44 ( 95 % CI 0.28 - 0.68 ; p=0.0002 ) . Overall , 293 ( 95 % CI 177 - 799 ) men needed to be invited for screening and 12 to be diagnosed to prevent one prostate cancer death . INTERPRETATION This study shows that prostate cancer mortality was reduced almost by half over 14 years . However , the risk of over-diagnosis is substantial and the number needed to treat is at least as high as in breast-cancer screening programmes . The benefit of prostate-cancer screening compares favourably to other cancer screening programs . FUNDING The Swedish Cancer Society , the Swedish Research Council , and the National Cancer Institute', 'Objective To assess whether screening for prostate cancer reduces prostate cancer specific mortality . Design Population based r and omised controlled trial . Setting Department of Urology , Norrk\\u00f6ping , and the South-East Region Prostate Cancer Register . Participants All men aged 50 - 69 in the city of Norrk\\u00f6ping , Sweden , identified in 1987 in the National Population Register ( n=9026 ) . Intervention From the study population , 1494 men were r and omly allocated to be screened by including every sixth man from a list of date s of birth . These men were invited to be screened every third year from 1987 to 1996 . On the first two occasions screening was done by digital rectal examination only . From 1993 , this was combined with prostate specific antigen testing , with 4 \\u00b5g/L as cut off . On the fourth occasion ( 1996 ) , only men aged 69 or under at the time of the investigation were invited . Main outcome measures Data on tumour stage , grade , and treatment from the South East Region Prostate Cancer Register . Prostate cancer specific mortality up to 31 December 2008 . Results In the four screenings from 1987 to 1996 attendance was 1161/1492 ( 78 % ) , 957/1363 ( 70 % ) , 895/1210 ( 74 % ) , and 446/606 ( 74 % ) , respectively . There were 85 cases ( 5.7 % ) of prostate cancer diagnosed in the screened group and 292 ( 3.9 % ) in the control group . The risk ratio for death from prostate cancer in the screening group was 1.16 ( 95 % confidence interval 0.78 to 1.73 ) . In a Cox proportional hazard analysis comparing prostate cancer specific survival in the control group with that in the screened group , the hazard ratio for death from prostate cancer was 1.23 ( 0.94 to 1.62 ; P=0.13 ) . After adjustment for age at start of the study , the hazard ratio was 1.58 ( 1.06 to 2.36 ; P=0.024 ) . Conclusions After 20 years of follow-up the rate of death from prostate cancer did not differ significantly between men in the screening group and those in the  control group . Trial registration Current Controlled Trials , IS RCT N06342431', 'BACKGROUND The effect of screening with prostate-specific-antigen ( PSA ) testing and digital rectal examination on the rate of death from prostate cancer is unknown . This is the first report from the Prostate , Lung , Colorectal , and Ovarian ( PLCO ) Cancer Screening Trial on prostate-cancer mortality . METHODS From 1993 through 2001 , we r and omly assigned 76,693 men at 10 U.S. study centers to receive either annual screening ( 38,343 subjects ) or usual care as the control ( 38,350 subjects ) . Men in the screening group were offered annual PSA testing for 6 years and digital rectal examination for 4 years . The subjects and health care providers received the results and decided on the type of follow-up evaluation . Usual care sometimes included screening , as some organizations have recommended . The numbers of all cancers and deaths and causes of death were ascertained . RESULTS In the screening group , rates of compliance were 85 % for PSA testing and 86 % for digital rectal examination . Rates of screening in the control group increased from 40 % in the first year to 52 % in the sixth year for PSA testing and ranged from 41 to 46 % for digital rectal examination . After 7 years of follow-up , the incidence of prostate cancer per 10,000 person-years was 116 ( 2820 cancers ) in the screening group and 95 ( 2322 cancers ) in the control group ( rate ratio , 1.22 ; 95 % confidence interval [ CI ] , 1.16 to 1.29 ) . The incidence of death per 10,000 person-years was 2.0 ( 50 deaths ) in the screening group and 1.7 ( 44 deaths ) in the control group ( rate ratio , 1.13 ; 95 % CI , 0.75 to 1.70 ) . The data at 10 years were 67 % complete and consistent with these overall findings . CONCLUSIONS After 7 to 10 years of follow-up , the rate of death from prostate cancer was very low and did not differ significantly between the two study groups . ( Clinical Trials.gov number , NCT00002540 .', 'BACKGROUND The prostate component of the Prostate , Lung , Colorectal , and Ovarian ( PLCO ) Cancer Screening Trial was undertaken to determine whether there is a reduction in prostate cancer mortality from screening using serum prostate-specific antigen ( PSA ) testing and digital rectal examination ( DRE ) . Mortality after 7 - 10 years of follow-up has been reported previously . We report extended follow-up to 13 years after the trial . METHODS A total of 76 685 men , aged 55 - 74 years , were enrolled at 10 screening centers between November 1993 and July 2001 and r and omly assigned to the intervention  ( organized screening of annual PSA testing for 6 years and annual DRE for 4 years ; 38 340 men ) and control ( usual care , which sometimes included opportunistic screening ; 38 345 men ) arms . Screening was completed in October 2006 . All incident prostate cancers and deaths from prostate cancer through 13 years of follow-up or through December 31 , 2009 , were ascertained . Relative risks ( RRs ) were estimated as the ratio of observed rates in the intervention and control arms , and 95 % confidence intervals ( CIs ) were calculated assuming a Poisson distribution for the number of events . Poisson regression modeling was used to examine the interactions with respect to prostate cancer mortality between trial arm and age , comorbidity status , and pretrial PSA testing . All statistical tests were two-sided . RESULTS Approximately 92 % of the study participants were followed to 10 years and 57 % to 13 years . At 13 years , 4250 participants had been diagnosed with prostate cancer in the intervention arm compared with 3815 in the control arm . Cumulative incidence rates for prostate cancer in the intervention and control arms were 108.4 and 97.1 per 10 000 person-years , respectively , result ing in a relative increase of 12 % in the intervention arm ( RR = 1.12 , 95 % CI = 1.07 to 1.17 ) . After 13 years of follow-up , the cumulative mortality rates from prostate cancer in the intervention and control arms were 3.7 and 3.4 deaths per 10 000 person-years , respectively , result ing in a non-statistically significant difference between the two arms ( RR = 1.09 , 95 % CI = 0.87 to 1.36 ) . No statistically significant interactions with respect to prostate cancer mortality were observed between trial arm and age ( P(interaction ) = .81 ) , pretrial PSA testing ( P(interaction ) = .52 ) , and comorbidity ( P(interaction ) = .68 ) . CONCLUSIONS After 13 years of follow-up , there was no evidence of a mortality benefit for organized annual screening in the PLCO trial compared with opportunistic screening , which forms part of usual care , and there was no apparent interaction with age , baseline comorbidity , or pretrial PSA testing', \\\"PURPOSE This clinical trial is aim ed at evaluating the impact of prostate cancer screening on cancer-specific mortality . SUBJECTS AND METHODS Forty-six thous and four hundred and eighty-six ( 46,486 ) men aged 45 - 80 years registered in the electoral roll of the Quebec city area were r and omized in 1988 between screening and no screening . Screening included measurement of serum prostatic specific antigen ( PSA ) using 3.0 ng/ml as upper limit of normal and digital rectal examination ( DRE ) at first visit . At follow-up visits , serum PSA only was used . RESULTS Seventy-four ( 74 ) deaths from prostate cancer occurred in the 14,231 unscreened controls while 10 deaths were observed in the screened group of 7,348 men during the first 11 years following r and omization . Median follow-up of screened men was 7.93 years . A Cox proportional hazards model of the age at death from prostate cancer shows a 62 % reduction ( P < 0.002 , Fisher 's exact test ) of cause-specific mortality in the screened men ( P = 0.005 ) . These results are in agreement with the continuous decrease of prostate cancer mortality observed in North America\\\", 'BACKGROUND The incidence of prostate cancer has increased substantially since it became common practice to screen asymptomatic men for the disease . The European R and omized Study of Screening for Prostate Cancer ( ERSPC ) was initiated in 1993 to determine how prostate-specific antigen ( PSA ) screening affects prostate cancer mortality . Variations in the screening algorithm , such as the interval between screening rounds , likely influence the morbidity , mortality , and quality of life of the screened population . METHODS We compared the number and characteristics of interval cancers , defined as those diagnosed during the screening interval but not detected by screening , in men in the screening arm of the ERSPC who were aged 55 - 65 years at the time of the first screening and were participating through two centers of the ERSPC : Gothenburg ( 2-year screening interval , n = 4202 ) and Rotterdam ( 4-year screening interval , n = 13301 ) . All participants who were diagnosed with prostate cancer through December 31 , 2005 , but at most 10 years after the initial screening were ascertained by linkage with the national cancer registries . A potentially life-threatening ( aggressive ) interval cancer was defined as one with at least one of the following characteristics at diagnosis : stage M1 or N1 , plasma PSA concentration greater than 20.0 ng/mL , or Gleason score greater than 7 . We used Mantel Cox regression to assess differences between rates of interval cancers and aggressive interval cancers at the two centers . All statistical tests were two-sided . RESULTS The 10-year cumulative incidence of all prostate cancers in Rotterdam versus Gothenburg was 1118 ( 8.41 % ) versus 552 ( 13.14 % ) ( P<.001 ) , the cumulative incidence of interval cancer was 57 ( 0.43 % ) versus 31 ( 0.74 % ) ( P = .51 ) , and the cumulative incidence of aggressive interval cancer was 15 ( 0.11 % ) versus 5 ( 0.12 % ) ( P = .72 ) . CONCLUSION The rate of interval cancer , especially aggressive interval cancer , was low in this study . The 2-year screening interval had higher detection rates than the 4-year interval but did not lead to lower rates of interval and aggressive interval prostate cancers', 'The extent of effective prostate\\u2010specific antigen ( PSA ) contamination in the Rotterdam section of the ongoing European R and omized Study of Screening for Prostate Cancer ( ERSPC ) trial was evaluated and defined as when opportunistic PSA testing of \\u2265 3.0 ng/ml was followed by biopsy , similar to the regular procedure within the trial . Records of participants aged 55\\u201374 years at entry were linked to the regional data base of the general practitioner ( GP ) laboratory to obtain PSA tests requested by GPs in the period 1 July 1997 to 31 May 2000 ( 2.9 years ) , and to the national pathology data base to quantify the number of biopsies . All men r and omized were included , only those with prostate cancer screen\\u2010detected or clinical ly diagnosed before July 1997 were omitted from the analyses . 2,895 out of the 14,349 men ( 20.2 % ) in the control arm and 1,981 out of the 14,052 men ( 14.1 % ) in the screening arm were  PSA\\u2010tested  , at an average annual rate of 73 and 52 per 1,000 person\\u2010years , respectively . These rates were higher than those recorded at the national and regional levels , 33 and 38 per 1,000 person\\u2010years , respectively . Opportunistic PSA testing in the control arm reached a peak within the first months of r and omization , after which it decreased to around 70 per 1,000 person\\u2010years . An opposite pattern was observed in the screening arm , where participants already had received the scheduled screening within the trial . The proportion of men in the control arm with PSA \\u2265 3.0 ng/ml followed by biopsy and prostate cancer was 7\\u20138 % and 3 % , respectively ( 3 % and 0.4\\u20130.6 % in the screening arm ) , over the whole study period . Over a 4\\u2010year rescreening interval , the average PSA and effective contamination amount were approximately 28 % and 10 % , respectively . PSA testing in the control arm in the Rotterdam ERSPC section is high , but was not followed by a substantial increase in prostate biopsies . Although the reasons for ordering PSA test or indicating biopsy are unknown , effective PSA contamination in the Rotterdam ERSPC section is low and not likely to jeopardize the power of the trial . \\u00a9 2003 Wiley\\u2010Liss ,', 'OBJECTIVE To address if prostate cancer ( PCa ) screening decreases PCa mortality in the asymptomatic population , within the setting of the Spanish arm of the European R and omized Study of Screening for Prostate Cancer ( ERSPC ) . MATERIAL AND METHODS From 1996 to 1999 , 4,278 men aged 45 - 70 years were recruited and r and omized to the screening arm ( PSA every 4 years , prostate biopsy when PSA \\u22653 ng/ml ) and control arm ( no tests ) . Date s and causes of death were collected on an annual basis . A Kaplan-Meier analysis was used to calculate overall and cancer-specific survival . RESULTS A total of 2,416 men were recruited in the screening arm and 1,862 in the control arm . Mean age was 57.8 years , median follow-up was 13.3 years . At the end of the follow-up period , 427 deaths ( 9 from PCa ) were observed . Survival analysis did not show any difference between the study arms with respect to overall and cancer-specific survival ( p=0.939 and p=0.544 respectively ) . Most relevant causes of death were malignant tumors ( 52.9 % ) , cardiovascular disease ( 17.3 % ) and respiratory ( 8.9 % ) . Only 2.1 % of deaths ( 0.2 % of all recruited men ) were due to PCa ( 2.5 % screening , 1.6 % control ) . CONCLUSIONS The Spanish arm of ERSPC failed to reproduce the long-term results shown in the whole study . No differences in mortality ( overall or cancer-specific ) were observed after 15 years of follow-up . PCa mortality was infrequent ( less than 1 % ) . These results suggest limited yield of PCa screening in our setting', 'Screening for prostate cancer ( PC ) remains a controversial issue despite some new evidence on the mortality benefits of PC screening . We conducted a prospect i ve , r and omized screening trial in Finl and to investigate whether screening decreases PC incidence . Here , we report the incidence results from three screening rounds during a 12-year period . Of the 80,144 men enrolled , 31,866 men were r and omized to the screening arm ( SA ) and invited for screening with prostate-specific antigen test ( cut-off 4.0 ng/ml ) every 4 years , while the remaining men formed the control arm ( CA ) that received no interventions . The mean follow-up time for PC incidence in both arms was over 9 years . The incidence rate of PC ( including screen-detected and interval cancers as well as cases among non participants ) was 9.1 per 1,000 person-years in the SA and 6.2 in the CA , yielding an incidence rate ratio ( IRR ) 1.5 ( 95 % confidence interval 1.4 - 1.5 ) . The incidence of advanced PC was 1.1 in the SA and 1.5 in the CA , IRR = 0.7 ( 0.6 - 0.8 ) and the difference emerges after 5 - 6 years of follow-up . The incidence of localized PC was 7.5 in the SA and 4.6 in the CA , IRR = 1.6 ( 1.5 - 1.7 ) . The results from our large population -based trial indicate that screening for PC decreases the incidence of advanced PC . When compared with the CA , the PC detected in the SA there were substantially more often localized , low- grade PCs due to overdiagnosis', \\\"To report the results from  Switzerl and 's participation in the ERSPC from 1998 ; importantly , epidemiological data showed that Switzerl and has one of the highest rates of morbidity and mortality from prostate cancer in the world . The local study protocol was accepted by the ethical committee and after the successful pilot study phase , the centre joined the ERSPC\\\", 'BACKGROUND Screening for prostate cancer ( PC ) with prostate-specific antigen ( PSA ) has been shown to decrease mortality , but has adverse effects , such as false-positive ( FP ) screening results . We describe the frequency of FP results and assess their relation to subsequent screening attendance , test results and prostate cancer risk in a large r and omized trial . MATERIAL S AND METHODS We included data from five centres of the European R and omized Study of Screening for Prostate Cancer , altogether over 61,000 screened men . Men were screened with PSA test at a 2 - 7 year interval depending on the centre ; PSA cut-off was 3.0 - 4.0 ng/ml . A positive screen with no histologically confirmed PC in biopsy within 1 year was defined as an FP result . RESULTS Of the 61,604 men who were screened at least once , 17.8 % had one or more FP result ( s ) . Almost 20 % of men who participated at all screening rounds had one or more FP result ( s ) . More than half of the men with an FP result had another FP if screened again . Men with FP results had a fourfold risk of PC at subsequent screen ( depending on the round , 10.0 % versus 2.6 - 2.7 % of men with negative screen , risk ratio 3.8 - 3.9 ) . The PCs following an FP result were in 92.8 % of cases localised and low- grade versus 90.4 % following a screen-negative result . CONCLUSIONS Our results show that FP results are common adverse effects in PC screening , as they affect at least one in six screened men . False-positive men are more prone to be diagnosed with PC but are also likely to have consistently high PSA levels', \\\"PURPOSE Estimates of prostate cancer-specific mortality ( PCSM ) were similar for men r and omly assigned to intervention compared with usual care  on the Prostate , Lung , Colorectal and Ovarian PC screening study . However , results analyzed by comorbidity strata remain unknown . PATIENTS AND METHODS Between 1993 and 2001 , of 76,693 men who were r and omly assigned to usual care or intervention at 10 US centers , 73,378 ( 96 % ) completed a question naire that inquired about comorbidity and prostate-specific antigen ( PSA ) testing before r and om assignment . Fine and Gray 's multivariable analysis was performed to assess whether the r and omized screening arm was associated with the risk of PCSM in men with no or minimal versus at least one significant comorbidity , adjusting for age and prer and omization PSA testing . RESULTS After 10 years of follow-up , 9,565 deaths occurred , 164 from PC . A significant decrease in the risk of PCSM ( 22 v 38 deaths ; adjusted hazard ratio [ AHR ] , 0.56 ; 95 % CI , 0.33 to 0.95 ; P = .03 ) was observed in men with no or minimal comorbidity r and omly assigned to intervention versus usual care , and the additional number needed to treat to prevent one PC death at 10 years was five . Among men with at least one significant comorbidity , those r and omly assigned to intervention versus usual care did not have a decreased risk of PCSM ( 62 v 42 deaths ; AHR , 1.43 ; 95 % CI , 0.96 to 2.11 ; P = .08 ) . CONCLUSION Selective use of PSA screening for men in good health appears to reduce the risk of PCSM with minimal overtreatment\\\", 'The specific details of the French national programme are based on the design of a local mass screening programme .  Men in the screening group are repeatedly invited by mail to be screened while no information other that the national available guidelines on the use of prostate\\u2010specific antigen ( PSA ) is offered to the control group . The protocol includes r and omization before information and consent . In addition , knowledge of any pre\\u2010existing PSA test is obtained through the health insurance data base . This will allow separate analysis , if necessary , between groups with previous PSA testing ( low participation rate expected ) and without ( higher participation rate expected )', 'From 1992 - 2001 , 7 countries in Europe gradually recruited men for the European R and omised Screening for Prostate Cancer ( ERSPC ) trial . Centres recruit different age groups and have different design s for recruiting and countries have different underlying risks for prostate cancer . Recruitment has reached 163,126 men aged 55 - 69 at entry now . Our purpose was to calculate the power of the trial and at what point in time can statistically significant differences in prostate cancer mortality be expected . Recruitment data were collected from the screening centres .  We calculated the expected number of prostate cancer deaths in each follow-up year , based on national statistics and expected rate in trial entrants . The power was calculated using different assumptions on intervention effect and contamination rate and also if the ERSPC trial would cooperate with other trials . With an assumed 25 % intervention effect in men actually screened and a 20 % contamination rate , the trial will reach a power of 0.86 in 2008 . With an assumed intervention effect of 40 % , the power reaches 0.90 in 2003 - 2004 . Pooling data with those of the Prostate , Lung , Colorectal and Ovary ( PLCO ) trial early is expected to improve the power to 79 % ( 20 % intervention effect ) to 92 % ( 40 % intervention effect PLCO ) . Adding more centres with compliance rates lower than 45 % decreases the power of the trial . The ERSPC trial has sufficient power to detect a significant difference in prostate cancer mortality between the 2 arms if the true reduction in mortality by screening is 25 % or more or if contamination remains limited to 10 % if the true effect is 20 % or more . If early detection and treatment turns out to have a stronger effect as may be suggested by observational data , the ERSPC trial is likely to conclusively show that within the next 5 years', 'Two large\\u2010scale r and omized screening trials , the Prostate , Lung , Colorectal and Ovary ( PLCO ) cancer trial in the USA and the European R and omized Screening for Prostate Cancer ( ERSPC ) trial in Europe are currently under way , aim ed at assessing whether screening reduces prostate cancer mortality . Up to the end of 1998 , 102,691 men have been r and omized to the intervention arm and 115,322 to the control arm ( which represents 83 % of the target sample size ) from 7 European countries and 10 screening centers in the USA . The principal screening method at all centers is determination of  serum prostate\\u2010specific antigen ( PSA ) . The PLCO trial and some European centers use also  digital rectal examination ( DRE )  as an ancillary screening test . In the core age group ( 55\\u201369 years ) , 3,362 of 32,486 men screened ( 10 % ) had a  serum PSA concentration of 4 ng/ml or greater , which is 1 cut\\u2010off for biopsy ( performed in 84 % ) . An additional 6 % was referred for further assessment based on other criteria , with much less efficiency . Differences in PSA by country are largely attributable to the age structure of the study population . The mean age\\u2010specific PSA levels are lower in the PLCO trial ( 1.64 ng/ml [ in the age group 55\\u201359 years ] , 1.80 [ 60\\u201364 years ] and 2.18 [ 65\\u201369 years ) than in the ERSPC trial ( 1.28\\u20131.71 [ 55\\u201359 ] , 1.75\\u20132.87 [ 60\\u201364 ] and 2.48\\u20133.06 [ 65\\u201369 years ] ) . Detection rates at the first screen in the ERSPC trial range from 11 to 42/1,000 men screened and reflect underlying differences in incidence rates and screening procedures . In centers with consent to r and omization design , adherence in the screening arm is 91 % , but less than half of the men in the target population are enrolled in the trial . In population \\u2010based centers in which men were r and omized prior to consent , all eligible subjects are enrolled , but only about two\\u2010thirds of the men in the intervention arm undergo screening . Considerable progress has been made in both trials . Enrollment will be completed in 2001 . A substantial number of early prostate cancers have been detected . The differences between countries seem to reflect both underlying prostate cancer incidence and screening policy . The trials have the power to show definitive results in 2005\\u20132008 . \\u00a9 2002 Wiley\\u2010Liss ,', \\\"Prostate cancer has become the most frequent cancer and the second cause of cancer mortality in men . This public health problem is becoming increasingly important due to the increasing life expectancy . At the present time , prostate cancer will be discovered in one in every eight men during their lifetime . Prostate cancer represents 25 % of all new cases of male cancers . Prostate cancer screening is design ed to detect early stage , asymptomatic prostate cancer , as the patient 's chances of cure are higher when the cancer is diagnosed at an early stage . The conclusions of the ANAES evaluation in 1998 did not recommend mass screening for prostate cancer . Several international prospect i ve r and omized studies based on serum PSA assay , sometimes associated with digital rectal examination , are currently underway . France is participating in the European ERSPC study ( European R and omized Study of Screening for Cancer Prostate ) and is organizing a national study on high-risk population s. While waiting for the final results of these studies , a recommendation needs to be proposed to inform general practitioners and specialists about optimal use of the currently available tests . Based on the conclusions of its oncology committee ( composed of urologists , medical oncologists , radiotherapists , pathologists and radiologists ) , the Association Fran\\u00e7aise d'Urologie proposes a recommendation concerning prostate cancer screening and defines its modalities , especially concerning the target population , screening tests and the information given to men before screening . The Association Fran\\u00e7aise d'Urologie recommends prostate cancer screening by PSA assay ( prostate specific antigen ) and digital rectal examination annually between the ages of 50 and 75 years , and from the age of 45 years in men with a family or ethnic risk . If total PSA is above the normal value of the test or if digital rectal examination is abnormal , referral to a urologist is recommended . Information concerning the limits , benefits and risks of screening and the available treatment options must be given before performing these examinations\\\", 'OBJECTIVE To test the feasibility of a population -based prostate cancer screening programme in general practice and explore the outcome after a 15-year follow-up period . METHODS From the total population of men aged 50 - 69 years in Norrk\\u00f6ping ( n = 9026 ) every sixth man ( n = 1494 ) was r and omly selected to be screened for prostate cancer every third year over a 12-year period . The remaining 7532 men were treated as controls . In 1987 and 1990 only  digital rectal examination ( DRE )  was performed , in 1993 and 1996 DRE was combined with a test for Prostate-Specific Antigen ( PSA ) .  TNM categories , grade of malignancy , management and cause of death were recorded in the South-East Region Prostate Cancer Register . RESULTS There were 85 ( 5.7 % ) cancers detected in the screened group ( SG ) , 42 of these in the interval between screenings , and 292 ( 3.8 % ) in the unscreened group ( UG ) . In the SG 48 ( 56.5 % ) of the tumours and in the UG 78 ( 26.7 % ) were localised at diagnosis ( p < 0.001 ) . In the SG 21 ( 25 % ) and in the UG 41 ( 14 % ) received curative treatment . There was no significant difference in total or prostate cancer-specific survival between the groups . CONCLUSIONS Although PSA had not been introduced in the clinical practice at the start of the study , we were still able to show that it is possible to perform a long-term population -based r and omised controlled study with st and ardised management and that screening in general practice is an efficient way of detecting prostate cancer whilst it is localised . Complete data on stage , treatment and mortality for both groups was obtained from a vali date d cancer register , which is a fundamental prerequisite when assessing screening programmes', 'OBJECTIVE To describe the natural history of initially untreated early-stage prostate cancer . A key secondary objective was to calculate long-term survival rates by stage , grade , and age at diagnosis . DESIGN Prospect i ve cohort study . SETTING Population -based in 1 county of Sweden , without screening for prostate cancer . PATIENTS A group of 642 patients with prostate cancer of any stage , consecutively diagnosed between 1977 and 1984 at a mean age of 72 years with complete follow-up to 1994 . MAIN OUTCOME MEASURES Proportion of patients who died from prostate cancer , and 15-year survival ( with 95 % confidence interval [ CI ] ) , corrected for causes of death other than prostate cancer . RESULTS In the entire cohort , prostate cancer accounted for 201 ( 37 % ) of all 541 deaths . Among 300 patients with a diagnosis of localized disease ( T0-T2 ) , 33 ( 11 % ) died of prostate cancer . In this group , the corrected 15-year survival rate was similar in 223 patients with deferred treatment ( 81 % ; 95 % CI , 72%-89 % ) and in 77 who received initial treatment ( 81 % ; 95 % CI , 67%-95 % ) . The corrected 15-year survival was 57 % ( 95 % CI , 45%-68 % ) in 183 patients with locally advanced cancer ( T3-T4 ) and 6 % ( 95 % CI , 0%-12 % ) in those 159 who had distant metastases at the time of diagnosis . CONCLUSION Patients with localized prostate cancer have a favorable outlook following watchful waiting , and the number of deaths potentially avoidable by radical initial treatment is limited . Without reliable prognostic indicators , an aggressive approach to all patients with early disease would entail substantial overtreatment . In contrast , patients with locally advanced or metastatic disease need trials of aggressive therapy to improve their poor prognosis', 'PURPOSE We evaluated long-term survival in attendees and nonattendees of a 1-time screening for prostate cancer . MATERIAL S AND METHODS A total of 2,400 men 55 to 70 years old in 1988 were r and omly selected and invited to a screening for prostate cancer . Of the invited men 1,782 ( 74 % ) attended . Screening attendees were examined with digital rectal examination , transrectal ultrasound and prostate specific antigen analysis .  When cancer was suspected , prostate biopsies were taken . A total of 65 men with prostate cancer were detected by this procedure . The entire source population comprising 27,204 men , including 618 nonattendees ( 26 % ) , was followed for prostate cancer diagnosis and survival for 15 years . RESULTS Incidence rate ratios were calculated using Poisson regression models . We found no effect of this screening procedure on the risk of death from prostate cancer and other causes of death ( incidence rate ratio 1.10 , 95 % CI 0.83 - 1.46 and 0.98 , 95 % CI 0.92 - 1.05 , respectively ) when comparing all invited men with the source population . However , attending the screening program was associated with a significantly decreased risk of death from causes other than prostate cancer ( vs source population incidence rate ratio 0.82 , 95 % CI 0.76 - 0.90 ) . In contrast , the corresponding incidence rate ratio in nonattendees was 1.53 ( 95 % CI 1.37 - 1.71 ) . CONCLUSIONS We found no evidence of a beneficial effect of this specific screening procedure but strong evidence of a difference in overall survival in screening attendees and nonattendees . These findings should be considered when interpreting previous and upcoming studies of the effect of screening programs', 'OBJECTIVES R and omized controlled trials are currently conducted to assess whether the mortality from prostate cancer is reduced by early detection with the use of prostate-specific antigen ( PSA ) measurements in serum . To be effective , such a program should be able to reduce the absolute number of men diagnosed with metastatic prostate cancer ( for which no cure is available ) . The aim of the present report is to evaluate whether PSA-based screening reduces the risk of being diagnosed with metastatic prostate cancer . METHODS A population -based , prospect i ve , r and omized , controlled screening trial for prostate cancer started in 1995 ( the G\\u00f6teborg branch of the European R and omized Study of Screening for Prostate Cancer [ ERSPC ] ) . Ten thous and , r and omly selected men aged 50 - 66 yr were invited for biennial PSA testing , with 10,000 men serving as passive controls for whom diagnosis of metastatic prostate cancer was monitored by using the Swedish Cancer Registry . RESULTS After a follow-up of 10 yr , the risk of being diagnosed with metastatic prostate cancer was reduced by 48.9%-that is , decreasing from 47 cases in the control group to 24 cases in the group r and omized to PSA-based screening ( p=0.0084 ) . However , the risk of being diagnosed with prostate cancer increased 1.8-fold with PSA-based screening . CONCLUSIONS Biennial PSA screening reduces the risk of being diagnosed with metastatic prostate cancer , the first prerequisite for achieving decreased cancer mortality  in younger men . This putative benefit is balanced by a 1.8-fold increased risk for diagnosis of prostate cancer', 'To report the initial results from Sweden of a large population \\u2010based r and omized study of screening using prostate\\u2010specific antigen ( PSA ) to detect prostate cancer , as the efficacy of such screening to decrease prostate cancer mortality has not yet been proven', 'BACKGROUND Evidence from r and omized trials on the effects of screening for prostate cancer ( PCa ) on disease-specific mortality accumulates slowly with increasing follow-up . OBJECTIVE To assess data on PCa-specific mortality in the Rotterdam section of the European R and omized Study of Screening for Prostate Cancer ( ERSPC ) trial . DESIGN , SETTING , AND PARTICIPANTS A r and omized controlled trial with r and omization after signed , written informed consent ( efficacy trial ) . In the period 1993 - 1999 , a total of 42 376 men aged 54 - 74 yr were r and omized to a screening arm ( S-arm )  ( n = 21 210 with screening every 4 yr , applying a total prostate-specific antigen [ PSA ] level cut-off \\u2265 3.0 ng/ml as biopsy indication ) or a control arm ( C-arm ) ( n = 21 166 ; no intervention ) . OUTCOME MEASUREMENTS AND STATISTICAL ANALYSIS Number of PCas detected per arm depicted by predefined time periods and prognostic groups . PCa-specific mortality analyses using Poisson regression in age group 55 - 74 yr at r and omization and separately in the predefined age group of 55 - 69 yr . RESULTS AND LIMITATIONS After a median follow-up of 12.8 yr , 19 765 men ( 94.2 % ) were screened at least once and 2674 PCas were detected ( of which 561 [ 21.0 % ] were interval PCas ) . In the C-arm , 1430 PCas were detected , result ing in an excess incidence of 59 PCas per 1000 men r and omized ( 61 PCas per 1000 in age group 55 - 69 yr ) . Thirty-two percent of all men r and omized have died . PCa-specific mortality relative-risk ( RR ) reductions of 20.0 % overall ( age : 55 - 74 yr ; p = 0.042 ) and 31.6 % ( age : 55 - 69 yr ; p = 0.004 ) were found . A 14.1 % increase was found in men aged 70 - 74 yr ( not statistically significant ) . Absolute PCa mortality was 1.8 per 1000 men r and omized ( 2.6 per 1000 men r and omized in age group 55 - 69 yr ) . The number needed to invite and number needed to manage were 565 and 33 , respectively , for age group 55 - 74 yr , and 392 and 24 , respectively , for age group 65 - 69 yr . Given the slow natural history of the disease , follow-up might be too short . CONCLUSIONS Systematic PSA-based screening reduced PCa-specific mortality by 32 % in the age range of 55 - 69 yr . The roughly twofold higher incidence in the S-arm underlines the importance of tools to better identify those men who would benefit from screening']\",\n          \"[\\\"BACKGROUND There is increased pressure on primary care physicians to monitor oral anticoagulation . OBJECTIVE To test the null hypothesis that oral anticoagulation care can be provided at least as well in primary care through a nurse-led clinic , involving near-patient testing and computerized decision support software , compared with routine hospital management based on a variety of clinical outcome measures . METHODS A r and omized , controlled trial in 12 primary care practice s in Birmingham , Engl and ( 9 intervention and 3 control ) . Two control population s were used :  patients individually r and omly allocated as controls in the intervention practice s ( intra practice controls ) and all patients in control practice s ( inter practice controls ) . Intervention practice s ' patients were r and omized to the intervention ( practice -based anticoagulation clinic ) or control ( hospital clinic ) group . The main outcome measure was therapeutic control of the international normalized ratio . RESULTS Three hundred sixty-seven patients were recruited ( 122 intervention patients , 102 intra practice control patients , and 143 inter practice control patients ) . St and ard measures of control of the international normalized ratio ( point prevalence ) showed no significant difference between the intervention and control groups . Data on proportion of time spent in the international normalized ratio range showed significant improvement for patients in the intervention group ( paired t test , P = .008 ) . CONCLUSIONS Nurse-led anticoagulation clinics can be implemented in novice primary care setting s by means of computerized decision support software and near-patient testing . Care given by this model is at least as good as routine hospital follow-up . The model is generalizable to primary health care centers operating in developed health care systems\\\", 'OBJECTIVE To investigate the effect of meal-related self-monitoring of blood glucose on glycemic control and well-being in non-insulin-treated type 2 diabetic patients . RESEARCH DESIGN AND METHODS This 6-month study , which included 6 months of follow-up , adopted a prospect i ve , multicenter , r and omized controlled design . Subjects were r and omized to two groups : one group used a blood glucose-monitoring device , kept a blood glucose/eating diary , and received st and ardized counseling ; the control group received nonst and ardized counseling on diet and lifestyle . The primary efficacy parameter was the change in HbA(1c ) . Secondary efficacy variables included changes in body weight , lipids , and microalbumin and changes in treatment satisfaction and well-being . RESULTS In the per- protocol analysis , the use of a self-monitoring blood glucose device significantly reduced HbA(1c ) levels by 1.0 + /- 1.08 % compared with 0.54 + /- 1.41 % for the control group ( P = 0.0086 ) ; subgroup analysis showed three types of responders . Body weight , total cholesterol , and microalbumin improved when using a glucometer , but there was no statistically significant difference between the two groups . Treatment satisfaction increased in both groups to a similar extent ( P = 0.9 ) . Self-monitoring result ed in a marked improvement of general well-being with significant improvements in the subitems depression ( P = 0.032 ) and lack of well-being ( P = 0.02 ) . CONCLUSIONS Meal-related self-monitoring of blood glucose within a structured counseling program improved glycemic control in the majority of non-insulin-treated type 2 diabetic patients in this study . The finding of three types of responders will be important for future planning of counseling and educational interventions', 'Proper r and omisation means little if investigators can not include all r and omised participants in the primary analysis . Participants might ignore follow-up , leave town , or take aspartame when instructed to take aspirin . Exclusions before r and omisation do not bias the treatment comparison , but they can hurt generalisability . Eligibility criteria for a trial should be clear , specific , and applied before r and omisation . Readers should assess whether any of the criteria make the trial sample atypical or unrepresentative of the people in which they are interested . In principle , assessment of exclusions after r and omisation is simple : none are allowed . For the primary analysis , all participants enrolled should be included and analysed as part of the original group assigned ( an intent-to-treat analysis ) . In reality , however , losses frequently occur . Investigators should , therefore , commit adequate re sources to develop and implement procedures to maximise retention of participants . Moreover , research ers should provide clear , explicit information on the progress of all r and omised participants through the trial by use of , for instance , a trial profile . Investigators can also do secondary analyses on , for instance , per- protocol or as-treated participants . Such analyses should be described as secondary and non-r and omised comparisons . Mish and ling of exclusions causes serious method ological difficulties . Unfortunately , some explanations for mish and ling exclusions intuitively appeal to readers , disguising the seriousness of the issues . Creative mismanagement of exclusions can undermine trial validity', \\\"CONTEXT Control of oral anticoagulation therapy has been reported to often be inadequate . Previous retrospective investigations suggest that patients ' self-adjustment of oral anticoagulants may lead to improved control . OBJECTIVE To investigate the effects of patients ' self-management of oral anticoagulation therapy on accuracy of control and measures of treatment-related quality of life . DESIGN R and omized , single-blind , multicenter trial . SETTING AND PARTICIPANTS A total of 179 patients receiving long-term oral anticoagulation treatment were enrolled at 5 referral centers in Germany . INTERVENTION Patients were r and omized to an oral anticoagulation self-management group based on a structured treatment and teaching program and international normalized ratio ( INR ) self-monitoring . The control group received conventional care as provided by family physicians , including referral to specialists if necessary . MAIN OUTCOME MEASURES Deviation of INR values from the individual INR target range ( squared ) and the 5 categories of treatment-related quality of life . RESULTS Deviation of INR value from the mean of the INR target range was significantly lower in the intervention group at 3-month ( squared INR deviation , 0.59 vs 0.95 ; P<.001 ) and 6-month follow-up ( 0.65 vs 0.83 ; P=.03 ) compared with the control group . Also , the intervention group had INR values within the target range more often ( repeated measurement analysis for categorical data , P=.006 ) . The results were mainly due to less frequent suboptimal INR values in the intervention group ( 32.8 % vs 50.0 % [ P=.03 ] at 3-month , and 33.7 % vs 48.2 % [ P=.08 ] at 6-month follow-up ) . Treatment-related quality -of-life measures , especially treatment satisfaction scores , were significantly higher in the intervention group compared with controls . CONCLUSIONS An anticoagulation education program that includes self-management of anticoagulation therapy results in improved accuracy of anticoagulation control and in treatment-related quality -of-life measures . Further studies are needed to describe whether the program will reduce risk of bleeding or thromboembolism\\\", 'The goal of this study was to compare the relative efficacy and cost of self-monitoring of blood glucose ( SMBG ) with routine urine testing in the management of patients with type II ( non-insulin-dependent ) diabetes mellitus not treated with insulin . Fifty-four patients with type II diabetes mellitus , not treated with insulin , who had inadequate glucose control on diet aloneor diet and oral hypoglycemic agents were studied . Patients performed SMBG or urine glucose testing as part of a st and ardized treatment program that also included diet and exercise counseling . During the 6-mo study , both the urine-testing and SMBG groups showed similar improvement in glycemic control ; within each group , there were significant improvements in fasting plasma glucose ( reduction of 1.4 \\u00b1 3.2 mM , P < 0.03 ) and glycosylated hemoglobin ( reduction of 2.0 \\u00b1 3.4 % , P < 0.01 ) levels . Seventeen ( 31 % ) of54 patients actually normalized their glycosylated hemoglobin values , 9 in the urine-testing group and 8 in the SMBG group . Comparisons between the urine-testing and SMBG groups showed no significant differences in mean fasting plasma glucose ( P > 0.86 ) , glycosylated hemoglobin ( P > 0.95 ) , or weight ( P < 0.19 ) . In patients with type II diabetes mellitus not treated with insulin , SMBG is no more effective , but is 8\\u201312 times more expensive , thanurine testing in facilitating improved glycemic control . Our results do not support widespread use of SMBG in diabetic patients not treated with insulin', 'BACKGROUND Vitamin K antagonist treatment is effective for prevention and treatment of thromboembolic events but frequent laboratory control and dose-adjustment are essential . Small portable devices have enabled patient self-monitoring of anticoagulation and self-adjustment of the dose . We compared this self-management of oral anticoagulant therapy with conventional management by a specialist anticoagulation clinic in a r and omised cross-over study . METHODS 50 patients on long-term oral anticoagulant treatment were included in a r and omised controlled crossover study . Patients were self-managed or were managed by the anticoagulation clinic for a period of 3 months . After this period the alternative strategy was followed for each patient . Prothrombin time ( expressed as international normalised ratio [ INR ] ) were measured at intervals of 1 - 2 weeks in both periods without knowledge of type of management . The primary endpoint was the number of measurements within the therapeutic range ( therapeutic target value + /-50.5 INR units ) . FINDINGS There was no significant difference in the overall quality of control of anticoagulation between the two study periods . Patients were for 55 % and for 49 % of the treatment period within a range of + /-0.5 from the therapeutic target INR during self-management and anticoagulation clinic management , respectively ( p=0.06 ) . The proportion of patients who spent most time in the therapeutic target range was larger during self-management than during anticoagulation clinic-guided management . The odds ratio for a better control of anticoagulation ( defined as the period of time in the therapeutic target range ) during self-management compared with anticoagulation clinic-guided management was 4.6 ( 95 % CI 2.1 - 10.2 ) . A patient-satisfaction assessment showed superiority of self-management over conventional care . INTERPRETATION Self-management of INR in the population in this study is feasible and appears to result in control of anticoagulation that is at least equivalent to management by a specialist anticoagulation clinic . It is also better appreciated by patients . Larger studies are required to assess the effect of this novel management strategy on the incidence of thromboembolic or bleeding complications', 'BACKGROUND Self-management ( SM ) of warfarin by patients is an attractive strategy , particularly if it improves anticoagulation control and can be done safely under minimal physician supervision . OBJECTIVE To compare the effect of SM with physician-management ( PM ) on the maintenance of therapeutic anticoagulation . METHODS A r and omized , open-label eight-month trial was performed . Patients 18 years of age and older were eligible if they were receiving warfarin for at least one month before enrolment and required anticoagulation for at least one year to a target international normalized ratio ( INR ) of 2.0 to 3.0 or 2.5 to 3.5 . Exclusion criteria were a known hypercoaguable disorder , mental incompetence , a language barrier or an inability to attend training sessions . Patients r and omly assigned to SM tested their INR using a point-of-care device ( Pro Time Microcogulation System , International Technidyne Corporation , USA ) and adjusted their warfarin doses using a nomogram . Patients r and omly assigned to PM received usual care from their general practitioner . The primary outcome was to demonstrate 20 % improvement in anticoagulation control by SM . RESULTS One hundred forty patients were r and omly assigned ( 70 per group ) . Thirteen patients dropped out of SM early due to an inability to self-manage . Based on intention-to-treat analysis , there was no difference in the proportion of INR in range ( SM 64.8 % versus PM 58.7 % , P=0.23 ) or time in target range ( SM 71.8 % versus PM 63.2 % , P=0.14 ) . Patients managing their own therapy spent less time below the therapeutic range ( 15.0 % versus 27.3 % , P=0.04 ) . There were three major complications of thrombosis or bleeding , all occurring in the PM arm . All patients who completed SM preferred to continue with that strategy . CONCLUSIONS SM was not significantly better than PM in maintaining therapeutic anticoagulation . SM was feasible and appeared safe in the present study population', \\\"A diabetes protocol characterized by self-monitoring of blood glucose was introduced in four general practice s with the aim of making the frequency of consultations dependent on the metabolic regulation and emphasizing body weight reduction . The feasibility of the programme was investigated and the results after 1 year were compared with those of conventional care in four control practice s. In the experimental practice s , 13 patients switched from a medical specialist 's to a general practitioner 's supervision  , 20 remained under supervision of their GP  and 33 started self-monitoring .  The self-monitoring rate , the consultation frequency according to protocol , the low number of dropouts and inadequate referrals and adherence to the therapeutic scheme showed that the protocol was feasible for both the GPs and the patients . At the initial assessment , the regulation of the diabetes was worse in patients of the experimental group , compared with those of the control group ( mean HbA1 9.7 % vs 8.9 % ; p less than 0.05 ) . On average , patients in the experimental group ( n = 56 ) lost 0.4 kg of body weight , whereas those in the control group ( n = 73 ) gained 0.1 kg ( n.s . ) . The mean change in HbA1 , adjusted for the initial value , was -0.4 % in the experimental and + 0.5 % in the control group ( p less than 0.05 ) . The results of the protocol can be attributed to a combination of greater participation of the patient , the individualized consultation frequency and the prescription of oral hypoglycaemic agents according to body weight development\\\", 'Self-monitoring of blood glucose levels is currently being recommended for obese patients with type II diabetes to improve weight loss and glycemic control . To determine whether self-monitoring of blood glucose levels improves dietary compliance in these patients , 50 obese patients with type II diabetes were r and omly assigned either to a st and ard behavioral weight control program or to a weight control program that included self-monitoring of blood glucose levels and focused on the weight-blood glucose relationship . Both groups lost significant amounts of weight and maintained their losses for at least one year ; reductions in medication could be made for 70 percent of patients . These data suggest that the behavioral weight control used in this study may be of benefit to patients with type II diabetes . However , there was no evidence that the addition of self-monitoring of blood glucose levels to the treatment program improved the outcome in terms of weight loss , reduction in medication , dietary compliance , or mood state', 'The objective of this open , r and omized , multicenter study is to investigate the benefits and economic efficiency of  self-management of oral anticoagulation in patients with atrial fibrillation ( SMAAF study ) in comparison with a group of patients given conventional care by a general practitioner or specialist . Two thous and patients suitable for self-management will be assigned at r and om to either the self-management group or the control group . The numbers of thromboembolic and hemorrhagic complications requiring treatment during the 2-year follow-up period will be recorded as the primary end point . The secondary endpoint variables will be maintenance of the INR value in the individual target range , INR variance , the course of complications over time , and the cost efficiency of self-management compared with the routine procedures . The last of these parameters will include the diagnostic and /or therapeutic measures carried out , the duration of inpatient hospital treatment , and the social consequences ( subsequent rehabilitation treatment , inability to work , forced retirement ) . The estimate of the required number of patients was based on the assumption that during long-term anticoagulant therapy within the framework of primary and secondary prevention 4 % of patients with chronic non-valvular atrial fibrillation would have severe thromboembolic of hemorrhagic complications each year . Since this rate can be halved by self-management , a one-tailed chi 2-test of 80 % power and a 5 % significance threshold would require n = 997 patients per group . The results of the SMAAF study will establish the socioeconomic benefits of self-management in patients with non-valvular atrial fibrillation', 'BACKGROUND Severe thromboembolic and hemorrhagic complications after mechanical heart valve replacement essentially depend on the intensity of oral anticoagulation and the fluctuation of individual international normalized ratio ( INR ) values . METHODS After heart valve replacement with Medtronic Hall , St. Jude Medical , and CarboMedics implants , patients were r and omly divided into two groups , one controlling INR values at home , the other being monitored by family practitioners . RESULTS Almost 80 % of the INR values recorded by patients at home were within the stipulated therapeutic range , INR 2.5 to 4.5 , compared with just 62 % of INR values recorded by family practitioners . The overall complication rate ( hemorrhages and thromboembolic events ) of the self-management group was significantly ( p < 0.05 ) decreased compared with the conventional group . CONCLUSIONS Through INR self-management , an improvement in the quality of ongoing oral anticoagulation could be shown . Starting this form of therapeutic control early after mechanical heart valve replacement appears to effect a further reduction in anticoagulant-induced complications', 'BACKGROUND Several studies have demonstrated that patient self-management of oral anticoagulant therapy ( OAT )  can improve treatment quality . However , most of these studies were not conducted within a specialized anticoagulation care system . The objective of the present study was to determine whether patient self-management of OAT improves the quality of care delivered by anticoagulation clinics . METHODS In this r and omized study by 2 Dutch anticoagulation clinics 341 patients aged between 18 and 75 years and receiving long-term OAT were divided into 4 groups : an existing routine care group of patients untrained in self-management ; a routine care group of trained patients ; a group managed weekly at an anticoagulation clinic where international normalized ratios were measured by trained patients ; and weekly patient self-management . A 2-step r and omization procedure was followed : first , a Zelen- design r and omization was performed to distribute patients ( without informing them ) to the existing care group or to receive training in self-management ; second , trained patients were r and omized to the 3 other study groups . RESULTS Only 25.6 % of invited patients agreed to participate in the training program . Patients who remained in the existing care group were within the international normalized ratio target range 63.5 % of the time . The type of coumarin taken was a major predicting factor of OAT quality . In all study groups phenprocoumon outperformed acenocoumarol by 11.6 % ( 95 % confidence interval [ CI ] , 6.6%-16.5 % ) . Weekly management with phenprocoumon led to a 6.5 % improvement ( 95 % CI , 0.0%-13.1 % ) in time in the international normalized ratio target range when patients were managed at an anticoagulation clinic and to an 8.7 % improvement ( 95 % CI , 1.6%-15.9 % ) when patients were self-managed . Weekly management with acenocoumarol did not improve the quality of OAT . CONCLUSION With selected patients , the quality of OAT obtained through patient self-management is at least as high as that delivered by specialized physicians at anticoagulation clinics . Weekly management of OAT with long-acting phenprocoumon has to be preferred at anticoagulation clinics or , where possible , through patient self-management', 'To study if self-monitoring of glucose , urinary or capillary , could help them to improve their metabolic control through better compliance to diet and /or hypoglycaemic agents , 208 non-insulin-treated poorly controlled diabetic patients were r and omized to : group A -- regular HbA1c determinations but no self-monitoring , group B -- self-urine glucose monitoring , twice every other day , group C -- self blood glucose monitoring , twice every other day , and followed six months . At the end of the study period , the decrease of HbA1c over six months -- main endpoint -- was not significantly different between the three groups ( mean + /- SEM ; group A : -0.5 + /- 0.2 % ; group B : -0.1 + /- 0.3 % ; group C : -0.4 + /- 0.3 % ) . However , the degree of compliance to  blood glucose self-monitoring  in group C appeared to relate to the outcome : a significant correlation was found between the number of blood glucose strips used and the decrease of HbA1c ( r = .36 , p less than .02 ) . We conclude that regular self-monitoring has no definite advantage over the usual management for improving metabolic control in non-insulin-treated diabetic patients , though it may possibly help patients ready to comply with its use', 'Self-monitoring of blood glucose  ( SBGM ) is widely recommended for both type 1 and type 2 diabetic patients despite the lack of evidence of benefit in glucose control or as an aid in weight loss in type 2 subjects . This study tested the hypothesis that combined use of SMBG and dietary carbohydrate ( CHO ) counting , using the blood monitoring results to shape dietary CHO quotas , is beneficial in managing type 2 diabetes . Twenty-three over-weight ( body mass index , BMI 27.5\\u201344 kg/m2 ) patients aged 40\\u201375 participated in a 28-week behavioral weight control program . Baseline hemoglobin HbA 1c ranged between 9.5 % and 13.5 % ( normal range 5.5%\\u20137.7 % ) . Subjects were matched for weight , sex , and HbAlc and assigned to small ( 4\\u20138 participants ) groups which met weekly for 12 weeks and then monthly for 16 weeks . After 8 weeks , the group were r and omized either to continue the behavioral program or to have SMBG and dietary CHO counting .  Glucose monitoring was performed 6 times daily ( pre- and 2h postpr and ially ) for the first month , focusing on the meal increment and correlating this to dietary CHO intake . Weight loss was identical in both groups during the year of follow-up . The HbA1c level showed a progressive decline in experimental subjects ( P<0.05 ) , whereas there was no improvement in control subjects', 'Abstract Objective To determine the clinical effectiveness of self management compared with routine care in patients on long term oral anticoagulants . Design Multicentre open r and omised controlled trial . Setting Midl and s region of the UK . Participants 617 patients aged over 18 and receiving warfarin r and omised to intervention ( n = 337 ) and routine care ( n = from 2470 invited ; 193/337 ( 57 % ) completed the 12 month intervention . Intervention Intervention patients used a point of care device to measure international normalised ratio twice a week and a simple dosing chart to interpret their dose of warfarin . Main outcome measure Percentage of time spent within the therapeutic range of international normalised ratio . Results No significant differences were found in percentage of time in the therapeutic range between self managment and routine care ( 70 % v 68 % ) . Self managed patients with poor control before the study showed an improvement in control that was not seen in the routine care group . Nine patients ( 2.8/100 patient years ) had serious adverse events in the self managed group , compared with seven ( 2.7/100 patient years ) in the routine care arm ( \\u03c72(df = 1 ) = 0.02 , P = 0.89 ) . Conclusion With appropriate training , self management is safe and reliable for a sizeable proportion of patients receiving oral anticoagulation treatment . It may improve the time spent the therapeutic range for patients with initially poor control . Trial registration IS RCT N 19313375', 'This study tested the hypothesis that follow-up intervention ( by telephone calls and home visit ) affects compliance in patients with non-insulin-dependent diabetes mellitus ( NIDDM ) . Sixty NIDDM patients were r and omly assigned to two groups \\u2014 a control group , which received the st and ard protocol ( 3-day educational program and a review session 1 month after the program ) ; and an intervention group , which received the st and ard protocol as well as a series offour telephone calls and one home visit by a registered nurse over a 3-month period .  Compliance to prescribed regimens was determined by analyzing three sets of data : changes in pre- to post study glycosylated hemoglobin ( HbA1c ) values ; changes in pre- to post study weight ; and frequency with which self-monitoring of blood glucose ( SMBG ) was practice d. Results showed that SMBG practice was significantly better for the intervention group . No significant differences were seen in post study HbA 1c values and weight changes between the two groups . Follow-up inter vention by telephone calls and home visit can enhance patient compliance to certain aspects of the prescribed diabetes management plan', 'STUDY OBJECTIVE To evaluate the efficacy and accuracy of monitoring prothrombin times at home . DESIGN R and omized , prospect i ve cohort study . SETTING Out patients discharged from a university hospital or a community hospital . PATIENTS Fifty patients started on warfarin for the first time who demonstrated an ability to use the monitor and who had not achieved a stable response to warfarin in the hospital . INTERVENTION Oral anticoagulation therapy managed using a portable prothrombin time monitor compared with specialized anticoagulation clinic care . MEASUREMENTS AND MAIN RESULTS In the 46 patients who completed the 8-week study , the median percentage of time that patients in the home-monitor group ( n = 23 ) were within a range equal to the target prothrombin ratio + /- 0.3 , but always above 1.25 , was 93 % , compared with 75 % for patients in the clinic group ( n = 23 ) ( P = 0.003 ) . There was no significant difference between groups in the percentage of time above the therapeutic range ; however , the percentage of time that patients were subtherapeutic was significantly greater in the clinic group ( P less than 0.001 ) . There were no major thromboembolic or hemorrhagic complications in either group . Differences between home monitor measurements and corresponding clinical laboratory measurements using blood sample s drawn within 4 hours of the home test were comparable to differences observed between measurements using two different clinical laboratory instruments . CONCLUSIONS Use of a portable prothrombin time monitor by patients at home is feasible and provides accurate measurements . Patients doing home monitoring achieve superior anticoagulation control compared with those receiving st and ard anticoagulation clinic care', \\\"Context Although many out patients require oral anticoagulation , the optimal management of outpatient anticoagulation remains uncertain . Studies have demonstrated the feasibility of patient self-management using portable coagulometers , but the studies that compared patient outcomes with self-management and those with conventional management in an anticoagulation clinic did not find a better outcome with self-management . Contribution In this r and omized , controlled trial of 737 patients , patients assigned to self-management of anticoagulation achieved a similar level of control and had fewer adverse events than patients assigned to conventional management . Implication s Health care providers should begin to implement patient self-management of oral anticoagulation with portable coagulometers in mainstream practice . The Editors Indications for oral anticoagulant treatment to prevent thromboembolic disease have increased in recent years ( 1 ) . Prothrombin times must be monitored frequently in patients taking oral anticoagulants to determine the safest dose and to minimize the risk for complications . The clinical management of oral anticoagulant treatment improved greatly after the international normalized ratio ( INR ) was introduced as a measurement of anticoagulation intensity ( 1 ) . The establishment of accurate therapeutic INR ranges was also beneficial . Target ranges include the safest INR values that carry the lowest risk for hemorrhagic or thromboembolic complications ( 2 ) . Despite these improvements , however , serious complications are still associated with oral anticoagulant treatment ( 3 , 4 ) , and management by specialized staff at anticoagulation clinics seems to be safer than other clinical strategies in terms of numbers of complications ( 5 - 7 ) . Currently , portable coagulometers are available for determining INR easily and reliably ( 8) . This technology provides interesting clinical models for the control of oral anticoagulant treatment , the most promising of which are patient self-testing and patient self-management . For patient self-testing , patients measure INRs themselves and ask their referring physicians for the proper anticoagulant dose . Patient self-management assumes that patients will adjust their own doses and is the most autonomous strategy . Several published studies have compared these strategies with usual care ( that is , monitoring of oral anticoagulant treatment by practitioners ) ( 9 - 13 ) or with specialized anticoagulation clinics ( 14 - 18 ) . Although these studies showed that both patient self-testing and patient self-management are feasible , their sample s were relatively small ( 9 , 11 , 13 , 14 - 18 ) or included selected patients with mechanical valve prostheses ( 10 ) or patients older than 65 years of age ( 12 ) . In general , previous studies indicate that patient self-management may be superior to management by general practitioners or anticoagulation clinics in quality of INR control ( 10 - 18 ) . In addition , Krtke and Krfer ( 10 ) , Beyth and associates ( 12 ) , and Sawicki ( 13 ) reported a decrease in major complications among self-managed patients compared with patients managed by general practitioners . To date , no published data have suggested a better clinical outcome ( decrease in associated complications ) with patient self-management than with specialized management at an anticoagulation clinic ( 5 , 19 ) . We performed a r and omized , controlled trial to directly compare self-management of oral anticoagulant treatment , as evaluated in terms of efficacy and safety in unselected patients , with management in an anticoagulation clinic . Methods Study Design The Alternative Control of Oral Anticoagulant Treatment ( ACOA ) trial is a single-center , central ly r and omized , controlled study that was performed at Hospital de la Santa Creu i Sant Pau , Barcelona , Spain , from January 2001 to July 2002 . The hematologists who manage our anticoagulation clinic use a homogeneous dosing protocol and st and ard protocol s to manage situations that increase clinical risk . The clinical staff includes trained nurses . Computers control the clinical data and INR records , ensuring excellent follow-up . Patients and their relatives receive basic education at the beginning of oral anticoagulant treatment , including information on the main characteristics of oral anticoagulants , potential risks , rationale for periodic monitoring , and drug interactions . Samsa and Matchar ( 20 ) recommended that these characteristics be used to provide an appropriate control group in a trial on patient self-management . The institutional review board of our hospital approved the study . Recruitment Phase The recruitment phase began with computerized r and om selection of 1500 patients from the more than 5000 who were receiving oral anticoagulant treatment controlled in our hospital . We included any ambulatory patient 18 years of age or older who had been receiving long-term anticoagulant therapy for at least 3 months before entering the study . We excluded patients who were younger than 18 years of age , who had a severe physical or mental illness without a responsible caregiver , or who were of foreign origin and were unable to underst and Spanish . Once the patient ( or his or her caregiver ) agreed to participate , written informed consent was obtained . Next , central ized telephone r and omization assigned the patient to the experimental group ( patient self-management ) or to the control group ( conventional management ) . The allocation sequence was generated at the hospital 's epidemiology department , and the sequence of r and omization was concealed until the patient was assigned to a group . To facilitate comparability between study groups , this r and omization was stratified according to sex , age ( 70 years of age or < 70 years of age ) , and indication for oral anticoagulant treatment ( 4 groups ) . Members of our anticoagulation clinic enrolled participants and assigned them to groups . Baseline data included demographic details , clinical information on associated risk factors , other medications , previous length of anticoagulant therapy , bleeding or thromboembolic complications during oral anticoagulant treatment , and target INR range . Follow-up for patients assigned to the conventional management group was done immediately . Patients in the self-management group received a training course first , and follow-up was not performed until the nurse teaching the course judged that the patients had acquired a minimum of expertise in self-management . Training Course An educational program was design ed to optimize the number of patients able to underst and and safely perform  self-management  ( Appendix ) . It was similar to the German program developed by Sawicki ( 13 ) but was demographically adapted to the characteristics of the Spanish population , considering differences in daily schedules , diet , educational level , and other idiosyncratic factors . The program consisted of 2 sessions of 2 hours each on consecutive days . A specially trained nurse was responsible for teaching the patients in small , organized groups . The lessons included basic theoretical and practical concepts involving the use of a coagulometer , interpretation of INR , and adjustment of dose . The concepts of target range and dose modification were emphasized when necessary . A simple card system was design ed to help the patient select the correct dose . For each target range , a specific card was provided . Patients were taught to use the portable coagulometer CoaguChek S ( Roche Diagnostics , Mannheim , Germany ) with the appropriate reagent strips . Follow-up Phase Normally , the patients in the conventional management group visited our hospital every 4 weeks to check their INRs . When the INR result was out of target range , our dosing protocol indicated that we should advance the next appointment for INR testing to 1 or 2 weeks . International normalized ratio was determined by means of a st and ard KC 10 coagulometer ( Amelung , Lemgo , Germany ) . As a thromboplastin , we used Thromborel S ( Behring , Marburg , Germany ) . A hematologist experienced in oral anticoagulation management adjusted the dose and made the appointment for the next INR test . Patients in the self-management group performed the INR tests at home once per week using the CoaguChek S kit . They determined the appropriate dose of oral anticoagulant and the time of the next INR test . All of the INR results in both groups were entered into a computer ( in the central system of our anticoagulation clinic or in the portable coagulometers ) to facilitate data management . Patients in both groups were interviewed monthly by telephone to record any complications or changes in their health status . For the conventional management group , these interviews were done approximately midway between hospital visits . The questions addressed minor or major bleeding , thromboembolic events , episodic diseases , changes in long-term medications , and hospital stays . Associated complications were diagnosed and evaluated by a third physician who was not involved in the trial and was unaware of patients ' study group . St and ard criteria were used to diagnose any thromboembolic complications . Transient ischemic attack was diagnosed clinical ly by a neurologist , and superficial thrombophlebitis was diagnosed clinical ly by an angiologist . To diagnose stroke , arterial embolism , venous thromboembolism , pulmonary embolism , or valve thrombosis , we used widely accepted methods ( computed tomography or magnetic nuclear resonance imaging , angiography , surgical diagnosis , Doppler ultrasonography , phlebography , lung angiography or ventilation-perfusion lung scanning , cardiac ultrasonography , or fluoroscopy ) . All thromboembolic complications were considered major events . Life-threatening bleeding or bleeding requiring transfusion or hospital admission was considered a major event . Any other bleeding was considered a minor event . Statistical Analysis Study outcomes were evaluated on an intention-to-treat basis and also on an on-treatment basis .\\\", 'Of 125 patients aged 65 years or over , with atrial fibrillation taking warfarin for at least 12 months , with a st and ard deviation ( SD ) of prothrombin time , expressed as the International Normalized Ratio ( INR ) > 0\\u00b75 over the previous 6 months , 40 were r and omized to continue with usual clinic care and 85 to receive education about warfarin .  Of these , 44 were r and omized to self\\u2010monitor their INR and 41 returned to clinic . Compared with the previous 6 months there was a significant increase in percentage time within the therapeutic range for the 6 months following education [ 61\\u00b71 vs. 70\\u00b74 ; mean difference 8\\u00b78 ; 95 % confidence interval ( CI ) : \\u22120\\u00b72\\u201317\\u00b78 ; P = 0\\u00b7054 ] and following education and self\\u2010monitoring ( 57 vs. 71\\u00b71 ; mean difference 14\\u00b71 ; 95 % CI : 6\\u00b77\\u201321\\u00b75 ; P < 0\\u00b7001 ) , compared with those patients following usual clinic care ( 60\\u00b70 vs. 63\\u00b72 ; mean difference 3\\u00b72 ; 95 % CI : \\u22127\\u00b73\\u201313\\u00b77 ) . Using the same comparative periods , the INR SD fell by 0\\u00b724 ( P < 0\\u00b70001 ) in the group allocated to education and self\\u2010monitoring , 0\\u00b726 ( P < 0\\u00b70001 ) in the group receiving education alone and 0\\u00b716 ( P = 0\\u00b7003 ) in the control group . Inter\\u2010group differences were not statistically significant ( intervention groups 0\\u00b726 \\u00b1 0\\u00b730 vs. control 0\\u00b716 \\u00b1 0\\u00b73 , P = 0\\u00b710 ) . Quality \\u2010of\\u2010life measurements and health beliefs about warfarin were unchanged ( apart from emotional role limitation ) with education or education and self\\u2010monitoring .  Patient  education regarding anticoagulation therapy could be a cost\\u2010effective initiative and is worthy of further study', 'BACKGROUND This study was conducted to assess the ability of patients receiving heart valve replacements to practice self-managed anticoagulation using a portable coagulometer . METHODS We carried out a prospect i ve , r and omized trial , comparing self-managed anticoagulation with conventional management .  Patients practicing self-managed anticoagulation ( 51 patients ) did so at home , measuring their international normalized ratio and then deciding on their dosage of warfarin , while  conventionally controlled patients ( n = 49 ) attended hospital clinics or were managed by their family physicians . RESULTS We successfully trained 41 of 44 patients who agreed to self-manage their anticoagulant therapy ; 34 of the 41 managed their own anticoagulation at home for 2 years . Their control , assessed by a number of tests in range ( 67.6 % versus 58.0 % ) and time in therapeutic range ( 76.5 % versus 63.8 % ) , was significantly better than that for the group managed conventionally ( p < 0.0001 ) . There was no significant difference in mortality or morbidity between the two groups . CONCLUSIONS Self-managed anticoagulation is a reliable , easily learned method of controlling anticoagulation , and it is suitable for approximately two thirds of patients , with excellent results', \\\"Bleeding is the major side effect of warfarin and is a major deterrent to its use , especially in older patients . Older people are widely thought to be at increased risk for warfarin-related bleeding ( 1 - 8 ) , and they are less likely to be treated with warfarin , even when it has been proven efficacious , in part because of concern about risk for bleeding ( 9 - 13 ) . Efforts that reduce the frequency of major warfarin-related bleeding not only will increase the net benefit of therapy but also will facilitate more appropriate and widespread use of warfarin therapy in older patients . Methods for identifying patients at highest risk for bleeding have recently advanced ( 5 - 7 , 14 - 21 ) , and experience with specialized programs that coordinate the management of anticoagulant therapy suggests that clinical outcomes may be improved ( 6 , 14 , 18 , 22 - 27 ) . However , there is little controlled or experimental evidence on how to optimize management of anticoagulant therapy in older patients and prevent bleeding . We developed a multicomponent comprehensive program for management of warfarin therapy aim ed at improving control of the anticoagulant effect and reducing events ( such as use of an interacting medicine ) that might precipitate bleeding . We hypothesized that this intervention would be acceptable to most elderly persons starting warfarin therapy and would reduce the frequency of warfarin-related major bleeding . Methods Patients Patients hospitalized at University Hospitals of Clevel and , a 900-bed teaching hospital , between September 1992 and October 1995 who were 65 years of age or older and were receiving 10 000 units or more of intravenous unfractionated heparin every 24 hours were screened daily . Of these patients , we identified 426 persons who were 65 years of age or older , who resided in Cuyahoga County , Ohio , and for whom treatment with warfarin was planned for 10 or more days ( Figure 1 ) . Patients were excluded if they had been treated with warfarin at any time during the previous 6 months , were admitted from a nursing home , were enrolled in another clinical trial , were too ill to give consent and had no available surrogate , were discharged prematurely , or did not speak English ; if their private physician refused to participate ; or if no r and om allocation was taking place ( for example , during vacations or holidays ) . Eligible patients who were enrolled did not differ significantly from those who were not enrolled with regard to age , ethnicity , sex , or indication for therapy . Figure 1 . Eligibility and r and om assignment of patients . Patients were stratified according to their baseline risk for major bleeding by using the Outpatient Bleeding Risk Index ( 20 ) . This index includes four independent risk factors for  major bleeding :  age 65 years or older , history of gastrointestinal bleeding , history of stroke , and one or more of four specific comorbid conditions ( recent myocardial infa rct ion , hematocrit<30 % , creatinine concentration>133 mol/L [ 1.5 mg/dL ] , or diabetes mellitus ) . Patients with one or two risk factors were classified as intermediate risk , and those with three or more risk factors were classified as high risk ; estimated frequencies of major bleeding in 6 months were 6 % and 35 % , respectively . After stratification , patients were r and omly assigned to receive usual care or intervention . Informed consent for observation and data collection was then sought from both groups , and informed consent to participate in the intervention was sought from the intervention group . This method , initially proposed by Zelen ( 28 ) , allows the study to test the effectiveness of offering the intervention rather than simply the efficacy of the intervention in patients who consent to participation before r and om assignment . The sample size was calculated to provide 80 % power and an level of 0.05 . The study protocol and informed consent procedures were approved by the hospital 's institutional review board . Intervention The intervention had two main components . The first component consisted of a guideline -based consultation that assessed the patient 's indications for therapy and potential risk factors for warfarin-related bleeding .  We used this method previously to reduce the frequency of anticoagulant-related bleeding  during hospitalization ( 27 ) . Specific recommendations about modifiable risk factors , such as use of nonsteroidal anti-inflammatory drugs , were made and implemented . The study investigators directed warfarin dosing and international normalized ratio ( INR ) testing after hospital discharge . The second component included patient education , coaching , and self-monitoring of prothrombin time ;  this component was grounded in social learning theory ( 29 - 31 ) and experimental evidence ( 32 , 33 ) showing that increasing participation of patients in their care can improve clinical outcomes but that increasing patient knowledge alone is insufficient ( 34 , 35 ) . Patient education consisted of one-on-one teaching by a lay educator using a specifically formatted workbook for older adults to teach them about warfarin , indications for its use , drug and food interactions , and the signs and symptoms of bleeding . The lay educator review ed the workbook and was taught how to use the prothrombin time monitor by one of the authors but had no formal medical training . Coaching was aim ed to increase patients ' participation in their care and to improve information-seeking skills . Patients were trained and encouraged to communicate more effectively with physicians and other health personnel about a range of issues , such as health concerns , drug interactions , or changes in lifestyle or diet . Finally , patients were taught to self-monitor the  prothrombin time by using a home portable monitor ( Coumatrak Protime Test System , Biotrack , Inc. , Mountain View , California ) . The monitor uses a fingerstick to obtain a blood sample and has well-established accuracy ( 36 - 38 ) . Patients were initially assessed , educated , and taught to use the portable monitor while hospitalized ; training lasted 30 minutes to 1 hour . They were seen daily while hospitalized , warfarin therapy was adjusted as needed , and any concerns or questions about anticoagulant therapy were addressed . Within 3 days of discharge from the hospital , the lay educator or study investigator made a home visit to assess patients ' use of the portable monitor and to check the  prothrombin time .  In general , patients were instructed to check their prothrombin time three times during the first week after hospital discharge , weekly for the remainder of the first month , and monthly thereafter depending on their results . Patients phoned in their results to the coach , who review ed the results with one of the investigators and provided same-day follow-up , including recommendations for dose and subsequent INR testing . Patients were instructed to call whenever they had questions or concerns about their  warfarin management or possible side effects , if they were hospitalized for any reason , or if they began receiving new medications . After the 6-month intervention period , management and dosing of warfarin therapy reverted back to patients ' personal physicians . Patients assigned to usual care received medical care , including management , dosing , and medical information , according to the discretion and practice s of their personal physician . Data Collection Trained abstract ors who were not involved with the intervention component of the study collected data from the medical chart at the start of anticoagulant therapy ; at each subsequent hospitalization ; and by blinded interview at enrollment and 1 , 3 , and 6 months after enrollment and every 6 months thereafter . Data elements included demographic characteristics , clinical history including comorbid diagnoses , indications for therapy , potential risk factors for bleeding , functional status , and new illnesses or comorbid conditions that developed after enrollment . Surveillance for bleeding and thromboembolism was conducted identically in the intervention and control groups and consisted of 12 items inquiring about bleeding and thromboembolism at each follow-up interview . Whenever an event was reported , the clinical characteristics of the bleeding or thromboembolic episode were determined by review of the relevant medical record and abstract ed without identifying patient information onto a st and ard form . All date s of death were confirmed by death certificates , and all causes of death were confirmed by review of death certificates and medical records . Follow-up was complete for all patients . End Points The primary end point was the first major bleeding event during the 6-month intervention period . Using explicit criteria in the Bleeding Severity Index ( 39 ) for the amount , rate , and consequences of bleeding , we defined major bleeding as overt bleeding that led to the loss of at least 2.0 units of blood in 7 days or less or was otherwise life-threatening ( for example , intracranial bleeding ) . Bleeding was classified without information about possible risk factors or r and omization status . Two author- review ers who were blinded to group assignment adjudicated bleeding events ; their agreement was high ( statistic , 0.97 ) . Secondary outcomes were death and recurrent venous thromboembolism at 6 months ; major bleeding after 6 months ; and control of anticoagulant therapy during the first 6 months of therapy , as measured by the INR . The therapeutic range of the INR was defined as 2.5 to 3.5 for persons with mechanical heart valves and 2.0 to 3.0 for persons with all other indications ( 40 ) . Therapeutic quality control was assessed by using the patient-time approach , described by Rosendaal and colleagues ( 41 ) , for three time periods after discharge from the hospital : 0 to 1 month , 1 to 3 months , and 3 to 6 months of therapy . This approach estimates the amount of time a patient is in the therapeutic range based on the actual INRs measured , assuming a linear relationship between consecutive INRs . Patients with only one\\\", \\\"An ageing population and the continuing expansion of clinical indications for coumadin therapy have increased pressure on hospital anticoagulant clinics . One solution is patient self\\u2010testing ( PST ) of the international normalized ratio ( INR ) using capillary blood sample s on point\\u2010of\\u2010care coagulation monitors at home . We conducted a prospect i ve study to determine whether patients can achieve accurate INR values through PST , using the CoaguChek S ( Roche Diagnostics , Lewes , UK ) . The main outcome measurements were : comparability of INR values obtained by PST and the hospital laboratory , patient acceptability as assessed by a question naire and anticoagulant control . Eighty\\u2010four patients [ 53 men , 31 women ; median age 59 years ( range 26\\u201383 ) ] , receiving long\\u2010term oral anticoagulation ( warfarin ) , were recruited from our Anticoagulation Clinic . Patients were r and omized to weekly self\\u2010testing or continuing 4\\u2010weekly hospital laboratory monitoring of INR . Comparison of INRs ( n = 234 ) showed no significant differences between the CoaguChek ( median INR 3\\u00b702 ) and laboratory testing ( median INR 3\\u00b707 ) . There was excellent correlation between the two methods ( r = 0\\u00b795 ) , with 85 % of CoaguChek results within 0\\u00b75 INR units of the laboratory method . On four occasions , differences of > 1 unit INR were obtained , but in each case the patient 's anticoagulation was unstable ( INR > 4\\u00b75 by both methods ) and the differences in INR would not have altered patient management . 87 % of patients found self\\u2010testing straightforward , 87 % were confident in the result they obtained and 77 % preferred self\\u2010testing . We conclude that PST is a reliable alternative to hospital clinic attendance and is acceptable to the majority of suitably trained patients\\\"]\",\n          \"['BACKGROUND Actinic keratosis is a common precursor to sun-related squamous-cell carcinoma . Treating actinic keratoses and the surrounding skin area ( i.e. , field therapy ) can eradicate clinical and sub clinical actinic keratoses . Topical field therapy currently requires weeks or months of treatment . We investigated the efficacy and safety of a new topical field therapy for actinic keratosis , ingenol mebutate gel ( 0.015 % for face and scalp and 0.05 % for trunk and extremities ) . METHODS In four multicenter , r and omized , double-blind studies , we r and omly assigned patients with actinic keratoses on the face or scalp or on the trunk or extremities to receive ingenol mebutate or placebo ( vehicle ) , self-applied to a 25-cm(2 ) contiguous field once daily for 3 consecutive days for lesions on the face or scalp or for 2 consecutive days for the trunk or extremities . Complete clearance ( primary outcome ) was assessed at 57 days , and local reactions were quantitatively measured . RESULTS In a pooled analysis of the two trials involving the face and scalp , the rate of complete clearance was higher with ingenol mebutate than with placebo ( 42.2 % vs. 3.7 % , P<0.001 ) . Local reactions peaked at day 4 , with a mean maximum composite score of 9.1 on the local-skin-response scale ( which ranges from 0 to 4 for six types of reaction , yielding a composite score of 0 to 24 , with higher numbers indicating more severe reactions ) , rapidly decreased by day 8 , and continued to decrease , approaching baseline scores by day 29 . In a pooled analysis of the two trials involving the trunk and extremities , the rate of complete clearance was also higher with ingenol mebutate than with placebo ( 34.1 % vs. 4.7 % , P<0.001 ) . Local skin reactions peaked between days 3 and 8 and declined rapidly , approaching baseline by day 29 , with a mean maximum score of 6.8 . Adverse events were generally mild to moderate in intensity and resolved without sequelae . CONCLUSIONS Ingenol mebutate gel applied topically for 2 to 3 days is effective for field treatment of actinic keratoses . ( Funded by LEO Pharma ; Clinical Trials.gov numbers , NCT00742391 , NCT00916006 , NCT00915551 , and NCT00942604 . )', 'BACKGROUND In r and omized trials , fecal occult-blood testing reduces mortality from colorectal cancer . However , the duration of the benefit is unknown , as are the effects specific to age and sex . METHODS In the Minnesota Colon Cancer Control Study , 46,551 participants , 50 to 80 years of age , were r and omly assigned to usual care ( control ) or to annual or biennial screening with fecal occult-blood testing . Screening was performed from 1976 through 1982 and from 1986 through 1992 . We used the National Death Index to obtain up date d information on the vital status of participants and to determine causes of death through 2008 . RESULTS Through 30 years of follow-up , 33,020 participants ( 70.9 % ) died . A total of 732 deaths were attributed to colorectal cancer : 200 of the 11,072 deaths ( 1.8 % ) in the annual-screening group , 237 of the 11,004 deaths ( 2.2 % ) in the biennial-screening group , and 295 of the 10,944 deaths ( 2.7 % ) in the control group . Screening reduced colorectal-cancer mortality ( relative risk with annual screening , 0.68 ; 95 % confidence interval [ CI ] , 0.56 to 0.82 ; relative risk with biennial screening , 0.78 ; 95 % CI , 0.65 to 0.93 ) through 30 years of follow-up . No reduction was observed in all-cause mortality ( relative risk with annual screening , 1.00 ; 95 % CI , 0.99 to 1.01 ; relative risk with biennial screening , 0.99 ; 95 % CI , 0.98 to 1.01 ) . The reduction in colorectal-cancer mortality was larger for men than for women in the biennial-screening group ( P=0.04 for interaction ) . CONCLUSIONS The effect of screening with fecal occult-blood testing on colorectal-cancer mortality persists after 30 years but does not influence all-cause mortality . The sustained reduction in colorectal-cancer mortality supports the effect of polypectomy . ( Funded by the Veterans Affairs Merit Review Award Program and others . )', \\\"BACKGROUND Women 's groups and health education by peer counsellors can improve the health of mothers and children . We assessed their effects on mortality and breastfeeding rates  in rural Malawi . METHODS We did a 2 \\u00d7 2 factorial , cluster-r and omised trial in 185,888 people in Mchinji district . 48 equal-sized clusters were r and omly allocated to four groups with a computer-generated number sequence . 24 facilitators guided groups through a community action cycle to tackle maternal and child health problems . 72 trained volunteer peer counsellors  made home visits at five timepoints during pregnancy and after birth to support breastfeeding and infant care . Primary outcomes for the women 's group intervention were maternal , perinatal , neonatal , and infant mortality rates ( MMR , PMR , NMR , and IMR , respectively ) ; and for the peer counselling were IMR and exclusive breastfeeding ( EBF ) rates . Analysis was by intention to treat . The trial is registered as IS RCT N06477126 . FINDINGS We monitored outcomes of 26,262 births between 2005 and 2009 . In a factorial model adjusted only for clustering and the volunteer peer counselling intervention , in women 's group areas , for years 2 and 3 , we noted non-significant decreases in NMR ( odds ratio 0.93 , 0.64 - 1.35 ) and MMR ( 0.54 , 0.28 - 1.04 ) . After adjustment for parity , socioeconomic quintile , and baseline measures , effects were larger for NMR ( 0.85 , 0.59 - 1.22 ) and MMR ( 0.48 , 0.26 - 0.91 ) . Because of the interaction between the two interventions , a stratified analysis was done . For women 's groups , in adjusted analyses , MMR fell by 74 % ( 0.26 , 0.10 - 0.70 ) , and NMR by 41 % ( 0.59 , 0.40 - 0.86 ) in areas with no peer counsellors , but there was no effect in areas with counsellors ( 1.09 , 0.40 - 2.98 , and 1.38 , 0.75 - 2.54 ) . Factorial analysis for the peer counselling intervention for years 1 - 3 showed a fall in IMR of 18 % ( 0.82 , 0.67 - 1.00 ) and an improvement in EBF rates ( 2.42 , 1.48 - 3.96 ) . The results of the stratified , adjusted analysis showed a 36 % reduction in IMR ( 0.64 , 0.48 - 0.85 ) but no effect on EBF ( 1.18 , 0.63 - 2.25 ) in areas without women 's groups , and in areas with women 's groups there was no effect on IMR ( 1.05 , 0.82 - 1.36 ) and an increase in EBF ( 5.02 , 2.67 - 9.44 ) . The cost of women 's groups was US$ 114 per year of life lost ( YLL ) averted and that of peer counsellors was $ 33 per YLL averted , using stratified data from single intervention comparisons . INTERPRETATION Community mobilisation through women 's groups and volunteer peer counsellor health education are methods to improve maternal and child health outcomes in poor rural population s in Africa . FUNDING Saving Newborn Lives , UK Department for International Development , and Wellcome Trust\\\", 'BACKGROUND Venous thromboembolism is a common , potentially avoidable cause of death and morbidity in patients in hospital , including those with stroke . In surgical patients , intermittent pneumatic compression ( IPC ) reduces the risk of deep vein thrombosis ( DVT ) , but no reliable evidence exists about its effectiveness in patients who have had a stroke . We assessed the effectiveness of IPC to reduce the risk of DVT in patients who have had a stroke . METHODS The CLOTS 3 trial is a multicentre parallel group r and omised trial assessing IPC in immobile patients ( ie , who can not walk to the toilet without the help of another person ) with acute stroke . We enrolled patients from day 0 to day 3 of admission and allocated them via a central r and omisation system ( ratio 1:1 ) to receive either IPC or no IPC . A technician who was masked to treatment allocation did a compression duplex ultrasound ( CDU ) of both legs at 7 - 10 days and , wherever practical , at 25 - 30 days after enrolment . Caregivers and patients were not masked to treatment assignment . Patients were followed up for 6 months to determine survival and later symptomatic venous thromboembolism . The primary outcome was a DVT in the proximal veins detected on a screening CDU or any symptomatic DVT in the proximal veins , confirmed on imaging , within 30 days of r and omisation . Patients were analysed according to their treatment allocation . TRIAL REGISTRATION IS RCT N93529999 . FINDINGS Between Dec 8 , 2008 , and Sept 6 , 2012 , 2876 patients were enrolled in 94 centres in the UK . The included patients were broadly representative of immobile stroke patients admitted to hospital and had a median age of 76 years ( IQR 67 - 84 ) . The primary outcome occurred in 122 ( 8\\u00b75 % ) of 1438 patients allocated IPC and 174 ( 12\\u00b71 % ) of 1438 patients allocated no IPC ; an absolute reduction in risk of 3\\u00b76 % ( 95 % CI 1\\u00b74 - 5\\u00b78 ) . Excluding the 323 patients who died before any primary outcome and 41 without any screening CDU , the adjusted OR for the comparison of 122 of 1267 patients vs 174 of 1245 patients was 0\\u00b765 ( 95 % CI 0\\u00b751 - 0\\u00b784 ; p=0\\u00b7001 ) . Deaths in the treatment period occurred in 156 ( 11 % ) patients allocated IPC and 189 ( 13 % ) patients allocated no IPC died within the 30 days of treatment period ( p=0\\u00b7057 ) ; skin breaks on the legs were reported in 44 ( 3 % ) patients allocated IPC and in 20 ( 1 % ) patients allocated no IPC ( p=0\\u00b7002 ) ; falls with injury were reported in 33 ( 2 % ) patients in the IPC group and in 24 ( 2 % ) patients in the no-IPC group ( p=0\\u00b7221 ) . INTERPRETATION IPC is an effective method of reducing the risk of DVT and possibly improving survival in a wide variety of patients who are immobile after stroke . FUNDING National Institute of Health Research ( NIHR ) Health Technology Assessment ( HTA ) programme , UK ; Chief Scientist Office of Scottish Government ; Covidien ( MA , USA )', \\\"BACKGROUND We previously reported that integrating antiretroviral therapy ( ART ) with tuberculosis treatment reduces mortality . However , the timing for the initiation of ART during tuberculosis treatment remains unresolved . METHODS We conducted a three-group , open-label , r and omized , controlled trial in South Africa involving 642 ambulatory patients , all with tuberculosis ( confirmed by a positive sputum smear for acid-fast bacilli ) , human immunodeficiency virus infection , and a CD4 + T-cell count of less than 500 per cubic millimeter . Findings in the earlier-ART group ( ART initiated within 4 weeks after the start of tuberculosis treatment ,  214 patients ) and later-ART group ( ART initiated during the first 4 weeks of the continuation phase of tuberculosis treatment ,  215 patients ) are presented here . RESULTS At baseline , the median CD4 + T-cell count was 150 per cubic millimeter , and the median viral load was 161,000 copies per milliliter , with no significant differences between the two groups . The incidence rate of the acquired immunodeficiency syndrome ( AIDS ) or death was 6.9 cases per 100 person-years in the earlier-ART group ( 18 cases ) as compared with 7.8 per 100 person-years in the later-ART group ( 19 cases ) ( incidence-rate ratio , 0.89 ; 95 % confidence interval [ CI ] , 0.44 to 1.79 ; P=0.73 ) . However , among patients with CD4 + T-cell counts of less than 50 per cubic millimeter , the incidence rates of AIDS or death were 8.5 and 26.3 cases per 100 person-years , respectively ( incidence-rate ratio , 0.32 ; 95 % CI , 0.07 to 1.13 ; P=0.06 ) . The incidence rates of the immune reconstitution inflammatory syndrome ( IRIS ) were 20.1 and 7.7 cases per 100 person-years , respectively ( incidence-rate ratio , 2.62 ; 95 % CI , 1.48 to 4.82 ; P<0.001 ) . Adverse events requiring a switching of antiretroviral drugs occurred in 10 patients in the earlier-ART group and 1 patient in the later-ART group ( P=0.006 ) . CONCLUSIONS Early initiation of ART in patients with CD4 + T-cell counts of less than 50 per cubic millimeter increased AIDS-free survival . Deferral of the initiation of ART to the first 4 weeks of the continuation phase of tuberculosis therapy in those with higher CD4 + T-cell counts reduced the risks of IRIS and other adverse events related to ART without increasing the risk of AIDS or death . ( Funded by the U.S. President 's Emergency Plan for AIDS Relief and others ; SAPIT Clinical Trials.gov number , NCT00398996 . )\\\", 'BACKGROUND Early termination of prolonged seizures with intravenous administration of benzodiazepines improves outcomes . For faster and more reliable administration , paramedics increasingly use an intramuscular route . METHODS This double-blind , r and omized , noninferiority trial compared the efficacy of intramuscular midazolam with that of intravenous lorazepam for children and adults in status epilepticus treated by paramedics . Subjects whose convulsions had persisted for more than 5 minutes and who were still convulsing after paramedics arrived were given the study medication by either intramuscular autoinjector or intravenous infusion . The primary outcome was absence of seizures at the time of arrival in the emergency department without the need for rescue therapy . Secondary outcomes included endotracheal intubation , recurrent seizures , and timing of treatment relative to the cessation of convulsive seizures . This trial tested the hypothesis that intramuscular midazolam was noninferior to intravenous lorazepam by a margin of 10 percentage points . RESULTS At the time of arrival in the emergency department , seizures were absent without rescue therapy in 329 of 448 subjects ( 73.4 % ) in the intramuscular-midazolam group and in 282 of 445 ( 63.4 % ) in the intravenous-lorazepam group ( absolute difference , 10 percentage points ; 95 % confidence interval , 4.0 to 16.1 ; P<0.001 for both noninferiority and superiority ) . The two treatment groups were similar with respect to need for endotracheal intubation ( 14.1 % of subjects with intramuscular midazolam and 14.4 % with intravenous lorazepam ) and recurrence of seizures ( 11.4 % and 10.6 % , respectively ) . Among subjects whose seizures ceased before arrival in the emergency department , the median times to active treatment were 1.2 minutes in the intramuscular-midazolam group and 4.8 minutes in the intravenous-lorazepam group , with corresponding median times from active treatment to cessation of convulsions of 3.3 minutes and 1.6 minutes . Adverse-event rates were similar in the two groups . CONCLUSIONS For subjects in status epilepticus , intramuscular midazolam is at least as safe and effective as intravenous lorazepam for prehospital seizure cessation . ( Funded by the National Institute of Neurological Disorders and Stroke and others ; Clinical Trials.gov number , Clinical Trials.gov NCT00809146 . )', \\\"BACKGROUND In women with a multiple pregnancy , spontaneous preterm delivery is the leading cause of perinatal morbidity and mortality . Interventions to reduce preterm birth in these women have not been successful . We assessed whether a cervical pessary could effectively prevent poor perinatal outcomes . METHODS We undertook a multicentre , open-label r and omised controlled trial in 40 hospitals in the Netherl and s. We r and omly assigned women with a multiple pregnancy between 12 and 20 weeks ' gestation ( 1:1 ) to pessary or control groups  , using a web-based application with a computer-generated list with r and om block sizes of two to four , stratified by hospital . Participants and investigators were aware of group allocation . For women in the pessary group , a midwife or obstetrician inserted a cervical pessary between 16 and 20 weeks ' gestation . Women in the control group did not receive the pessary , but otherwise received similar obstetrical care to those in the pessary group . The primary outcome was a composite of poor perinatal outcome : stillbirth , periventricular leucomalacia , severe respiratory distress syndrome , bronchopulmonary dysplasia , intraventricular haemorrhage , necrotising enterocolitis , proven sepsis , and neonatal death . Analyses were by modified intention to treat . This trial is registered in the Dutch trial registry , number NTR1858 . FINDINGS Between Sept 21 , 2009 , and March 9 , 2012 , 813 women underwent r and omisation , of whom 808 were analysed ( 401 in the pessary group ; 407 in the control group ) . At least one child of 53 women ( 13 % ) in the pessary group had poor perinatal outcome , compared with 55 ( 14 % ) in the control group ( relative risk 0\\u00b798 , 95 % CI 0\\u00b769 - 1\\u00b739 ) . INTERPRETATION In unselected women with a multiple pregnancy , prophylactic use of a cervical pessary does not reduce poor perinatal outcome . FUNDING The Netherl and s Organisation for Health Research and Development\\\", 'BACKGROUND Treatment with prasugrel and aspirin improves outcomes compared with clopidogrel and aspirin for patients with acute coronary syndrome who have had angiography and percutaneous coronary intervention ; however , no clear benefit has been shown for patients managed first with drugs only . We assessed outcomes from the TRILOGY ACS trial based on whether or not patients had coronary angiography before treatment was chosen . METHODS TRILOGY ACS ( Clinical Trials.gov number NCT00699998 ) was a r and omised controlled trial , done at more than 800 sites worldwide . Patients with non-ST-elevation acute coronary syndrome who were selected for management without [ corrected ] revascularisation were r and omly assigned to clopidogrel or prasugrel . The primary endpoint was cardiovascular death , myocardial infa rct ion , or stroke at 30 months . In the present analysis we assessed differences in the primary endpoint by angiography status and whether the effects of treatment on the primary endpoint differed between patients who had angiography before enrolment and those who had not . FINDINGS 7243 patients younger than 75 years were included in the TRILOGY ACS primary analysis . 3085 ( 43 % ) had angiography at baseline , 4158 ( 57 % ) had not . Fewer patients who had angiography reached the primary endpoint at 30 months compared with those who did not have angiography , according to Kaplan-Meier analysis ( 281/3085 [ 12\\u00b78 % ] vs 480/4158 [ 16\\u00b75 % ] , adjusted hazard ratio [ HR ] 0\\u00b763 , 95 % CI 0\\u00b753 - 0\\u00b775 ; p<0\\u00b70001 ) . The proportion of patients who reached the primary endpoint was lower in the prasugrel group than in the clopidogrel group for those who had angiography ( 122/1524 [ 10\\u00b77 % ] vs 159/1561 [ 14\\u00b79 % ] , HR 0\\u00b777 , 95 % CI 0\\u00b761 - 0\\u00b798 ; p=0\\u00b7032 ) but did not differ between groups in patients who did not have angiography ( 242/2096 [ 16\\u00b73 % ] vs 238/2062 [ 16\\u00b77 % ] , HR 1\\u00b701 , 0\\u00b784 - 1\\u00b720 ; p=0\\u00b794 ; pinteraction=0\\u00b708 ) . Overall , TIMI major bleeding and GUSTO severe bleeding were rare . Bleeding outcomes tended to be higher with prasugrel but did not differ significantly between treatment groups in either angiography cohort . INTERPRETATION Among patients who had angiography who took prasugrel there were fewer cardiovascular deaths , myocardial infa rct ions , or strokes than in those who took clopidogrel . This result needs to be corroborated , but it is consistent with previous trials of more versus less intensive antiplatelet treatment . When angiography is done for acute coronary syndrome and anatomic coronary disease confirmed , the benefits and risks of intensive antiplatelet treatment exist whether the patient is treated with drugs or percutaneous coronary intervention . FUNDING Daiichi Sankyo , Eli Lilly', 'BACKGROUND Dalcetrapib modulates cholesteryl ester transfer protein ( CETP ) activity to raise high-density lipoprotein cholesterol ( HDL-C ) . After the failure of torcetrapib it was unknown if HDL produced by interaction with CETP had pro-atherogenic or pro-inflammatory properties . dal-PLAQUE is the first multicentre study using novel non-invasive multimodality imaging to assess structural and inflammatory indices of atherosclerosis as primary endpoints . METHODS In this phase 2b , double-blind , multicentre trial , patients ( aged 18 - 75 years ) with , or with high risk of , coronary heart disease were r and omly assigned ( 1:1 ) to dalcetrapib 600 mg/day or placebo for 24 months . R and omisation was done with a computer-generated r and omisation code and was stratified by centre . Patients and investigators were masked to treatment . Co primary endpoints were MRI-assessed indices ( total vessel area , wall area , wall thickness , and normalised wall index [ average carotid ] ) after 24 months and (18)F-fluorodeoxyglucose ( (18)F-FDG ) PET/CT assessment of arterial inflammation within an index vessel ( right carotid , left carotid , or ascending thoracic aorta ) after 6 months , with no-harm boundaries established before unblinding of the trial . Analysis was by intention to treat . This trial is registered at Clinical Trials.gov , NCT00655473 . FINDINGS 189 patients were screened and 130 r and omly assigned to placebo ( 66 patients ) or dalcetrapib ( 64 patients ) . For the co primary MRI and PET/CT endpoints , CIs were below the no-harm boundary or the adverse change was numerically lower in the dalcetrapib group than in the placebo group . MRI-derived change in total vessel area was reduced in patients given dalcetrapib compared with those given placebo after 24 months ; absolute change from baseline relative to placebo was -4\\u00b701 mm(2 ) ( 90 % CI -7\\u00b723 to -0\\u00b780 ; nominal p=0\\u00b704 ) . The PET/CT measure of index vessel most-diseased-segment target-to- background ratio ( TBR ) was not different between groups , but carotid artery analysis showed a 7 % reduction in most-diseased-segment TBR in the dalcetrapib group compared with the placebo group ( -7\\u00b73 [ 90 % CI -13\\u00b75 to -0\\u00b78 ] ; nominal p=0\\u00b707 ) . Dalcetrapib did not increase office blood pressure and the frequency of adverse events was similar between groups . INTERPRETATION Dalcetrapib showed no evidence of a pathological effect related to the arterial wall over 24 months . Moreover , this trial suggests possible beneficial vascular effects of dalcetrapib , including the reduction in total vessel enlargement over 24 months , but long-term safety and clinical outcomes efficacy of dalcetrapib need to be analysed . FUNDING F Hoffmann-La Roche', 'BACKGROUND In a phase 1 - 2 trial of albumin-bound paclitaxel ( nab-paclitaxel ) plus gemcitabine , substantial clinical activity was noted in patients with advanced pancreatic cancer . We conducted a phase 3 study of the efficacy and safety of the combination versus gemcitabine monotherapy in patients with metastatic pancreatic cancer . METHODS We r and omly assigned patients with a Karnofsky performance-status score of 70 or more ( on a scale from 0 to 100 , with higher scores indicating better performance status ) to nab-paclitaxel ( 125 mg per square meter of body-surface area ) followed by gemcitabine  ( 1000 mg per square meter ) on days 1 , 8 , and 15 every 4 weeks or gemcitabine monotherapy ( 1000 mg per square meter ) weekly for 7 of 8 weeks ( cycle 1 ) and then on days 1 , 8 , and 15 every 4 weeks ( cycle 2 and subsequent cycles ) . Patients received the study treatment until disease progression . The primary end point was overall survival ; secondary end points were progression-free survival and overall response rate . RESULTS A total of 861 patients were r and omly assigned to nab-paclitaxel plus gemcitabine ( 431 patients ) or gemcitabine  ( 430 ) . The median overall survival was 8.5 months in the nab-paclitaxel-gemcitabine group as compared with 6.7 months in the gemcitabine group ( hazard ratio for death , 0.72 ; 95 % confidence interval [ CI ] , 0.62 to 0.83 ; P<0.001 ) . The survival rate was 35 % in the nab-paclitaxel-gemcitabine group versus 22 % in the gemcitabine group at 1 year , and 9 % versus 4 % at 2 years . The median progression-free survival was 5.5 months in the nab-paclitaxel-gemcitabine group , as compared with 3.7 months in the gemcitabine group ( hazard ratio for disease progression or death , 0.69 ; 95 % CI , 0.58 to 0.82 ; P<0.001 ) ; the response rate according to independent review was 23 % versus 7 % in the two groups ( P<0.001 ) . The most common adverse events of grade 3 or higher were neutropenia ( 38 % in the nab-paclitaxel-gemcitabine group vs. 27 % in the gemcitabine group ) , fatigue ( 17 % vs. 7 % ) , and neuropathy ( 17 % vs. 1 % ) . Febrile neutropenia occurred in 3 % versus 1 % of the patients in the two groups . In the nab-paclitaxel-gemcitabine group , neuropathy of grade 3 or higher improved to grade 1 or lower in a median of 29 days . CONCLUSIONS In patients with metastatic pancreatic adenocarcinoma , nab-paclitaxel plus gemcitabine significantly improved overall survival , progression-free survival , and response rate , but rates of peripheral neuropathy and myelosuppression were increased . ( Funded by Celgene ; Clinical Trials.gov number , NCT00844649 . )', 'OBJECTIVES Gender and ethnicity are factors affecting the incidence and severity of vascular disease as well as subsequent treatment outcomes . Although well studied in other fields , balanced enrollment of patients with relevant demographic characteristics in vascular surgery r and omized controlled trials ( RCTs ) is not well known . This study describes the reporting of gender and ethnicity data in vascular surgery RCTs and analyzes whether these studies adequately represent our diverse patient population . METHODS We conducted a retrospective review of United States-based RCTs from 1983 through 2007 for three broadly defined vascular procedures : aortic aneurysm repair ( AAR ) , carotid revascularization ( CR ) , and lower extremity revascularization ( LER ) . Included studies were examined for gender and ethnicity data , study parameters , funding source , and geographic region . The Nationwide Inpatient Sample ( NIS ) data base was analyzed to obtain group-specific procedure frequency as an estimate of procedure frequency in the general population . RESULTS We review ed 77 studies , and 52 met our inclusion criteria . Only 85 % reported gender , and 21 % reported ethnicity . Reporting of ethnicity was strongly associated with larger ( > 280 participants ) , multicenter , government-funded trials ( P < .001 for all ) . Women are disproportionately under-represented in RCTs for all procedure categories ( AAR , 9.0 % vs 21.5 % ; CR , 30.0 % vs 42.9 % ; LER , 22.4 % vs 41.3 % ) . Minorities are under-represented in AAR studies ( 6.0 % vs 10.7 % ) and CR studies ( 6.9 % vs 9.5 % ) but are over-represented in LER studies ( 26.0 % vs 21.8 % , P < .001 for all ) . CONCLUSIONS Minority ethnicity and female gender are under-reported and under-represented in vascular surgery RCTs , particularly in small , non-government-funded and single-center trials . The generalizability of some trial results may not be applicable to these population s. Greater effort to enroll a balanced study population in RCTs may yield more broadly applicable results', 'BACKGROUND Arthroscopic partial meniscectomy is one of the most common orthopedic procedures , yet rigorous evidence of its efficacy is lacking . METHODS We conducted a multicenter , r and omized , double-blind , sham-controlled trial in 146 patients 35 to 65 years of age who had knee symptoms consistent with a degenerative medial meniscus tear and no knee osteoarthritis . Patients were r and omly assigned to arthroscopic partial meniscectomy or sham surgery . The primary outcomes were changes in the Lysholm and Western Ontario Meniscal Evaluation Tool ( WOMET ) scores ( each ranging from 0 to 100 , with lower scores indicating more severe symptoms ) and in knee pain after exercise ( rated on a scale from 0 to 10 , with 0 denoting no pain ) at 12 months after the procedure . RESULTS In the intention-to-treat analysis , there were no significant between-group differences in the change from baseline to 12 months in any primary outcome . The mean changes ( improvements ) in the primary outcome measures were as follows : Lysholm score , 21.7 points in the partial-meniscectomy group as compared with 23.3 points in the sham-surgery group ( between-group difference , -1.6 points ; 95 % confidence interval [ CI ] , -7.2 to 4.0 ) ; WOMET score , 24.6 and 27.1 points , respectively ( between-group difference , -2.5 points ; 95 % CI , -9.2 to 4.1 ) ; and score for knee pain after exercise , 3.1 and 3.3 points , respectively ( between-group difference , -0.1 ; 95 % CI , -0.9 to 0.7 ) . There were no significant differences between groups in the number of patients who required subsequent knee surgery ( two in the partial-meniscectomy group and five in the sham-surgery group ) or serious adverse events ( one and zero , respectively ) . CONCLUSIONS In this trial involving patients without knee osteoarthritis but with symptoms of a degenerative medial meniscus tear , the outcomes after arthroscopic partial meniscectomy were no better than those after a sham surgical procedure . ( Funded by the Sigrid Juselius Foundation and others ; Clinical Trials.gov number , NCT00549172 . )', 'BACKGROUND Bevacizumab has been suggested to have similar effectiveness to ranibizumab for treatment of neovascular age-related macular degeneration . The Inhibition of VEGF in Age-related choroidal Neovascularisation ( IVAN ) trial was design ed to compare these drugs and different regimens . Here , we report the findings at the prespecified 2-year timepoint . METHODS In a multicentre , 2 \\u00d7 2 factorial , non-inferiority r and omised trial , we enrolled adults aged at least 50 years with active , previously untreated neovascular age-related macular degeneration and a best corrected distance visual acuity ( BCVA ) of at least 25 letters from 23 hospitals in the UK . Participants were r and omly assigned ( 1:1:1:1 ) to intravitreal injections of ranibizumab ( 0\\u00b75 mg ) or bevacizumab ( 1\\u00b725 mg ) in continuous ( every month ) or discontinuous ( as needed ) regimens , with monthly review . Study participants and clinical assessors were masked to drug allocation . Allocation to continuous or discontinuous treatment was masked up to 3 months , at which point investigators and participants were unmasked . The primary outcome was BCVA at 2 years , with a prespecified non-inferiority limit of 3\\u00b75 letters . The primary safety outcome was arterial thrombotic event or hospital admission for heart failure . Analyses were by modified intention to treat . This trial is registered , number IS RCT N92166560 . FINDINGS Between March 27 , 2008 , and Oct 15 , 2010 , 628 patients underwent r and omisation . 18 were withdrawn ; 610 received study drugs ( 314 ranibizumab ; 296 bevacizumab ) and were included in analyses . 525 participants reached the visit at 2 years : 134 ranibizumab in continuous regimen , 137 ranibizumab in discontinuous regimen , 127 bevacizumab in continuous regimen , and 127 bevacizumab in discontinuous regimen . For BCVA , bevacizumab was neither non-inferior nor inferior to ranibizumab ( mean difference -1\\u00b737 letters , 95 % CI -3\\u00b775 to 1\\u00b701 ; p=0\\u00b726 ) . Discontinuous treatment was neither non-inferior nor inferior to continuous treatment ( -1\\u00b763 letters , -4\\u00b701 to 0\\u00b775 ; p=0\\u00b718 ) . Frequency of arterial thrombotic events or hospital admission for heart failure did not differ between groups given ranibizumab ( 20 [ 6 % ] of 314 participants ) and bevacizumab ( 12 [ 4 % ] of 296 ; odds ratio [ OR ] 1\\u00b769 , 95 % CI 0\\u00b780 - 3\\u00b757 ; p=0\\u00b716 ) , or those given continuous ( 12 [ 4 % ] of 308 ) and discontinuous treatment ( 20 [ 7 % ] of 302 ; 0\\u00b756 , 0\\u00b727 - 1\\u00b719 ; p=0\\u00b713 ) . Mortality was lower with continuous than discontinuous treatment ( OR 0\\u00b747 , 95 % CI 0\\u00b722 - 1\\u00b703 ; p=0\\u00b705 ) , but did not differ by drug group ( 0\\u00b796 , 0\\u00b746 - 2\\u00b702 ; p=0\\u00b791 ) . INTERPRETATION Ranibizumab and bevacizumab have similar efficacy . Reduction in the frequency of retreatment result ed in a small loss of efficacy irrespective of drug . Safety was worse when treatment was administered discontinuously . These findings highlight that the choice of anti-VEGF treatment strategy is less straightforward than previously thought . FUNDING UK National Institute for Health Research Health Technology Assessment programme', 'BACKGROUND Patients with metastatic colorectal cancer that harbors KRAS mutations in exon 2 do not benefit from anti-epidermal growth factor receptor ( EGFR ) therapy . Other activating RAS mutations may also be negative predictive biomarkers for anti-EGFR therapy . METHODS In this prospect ive-retrospective analysis , we assessed the efficacy and safety of panitumumab plus oxaliplatin , fluorouracil , and leucovorin ( FOLFOX4 ) as compared with FOLFOX4 alone , according to RAS ( KRAS or NRAS ) or BRAF mutation status . A total of 639 patients who had metastatic colorectal cancer without KRAS mutations in exon 2 had results for at least one of the following : KRAS exon 3 or 4 ; NRAS exon 2 , 3 , or 4 ; or BRAF exon 15 . The overall rate of ascertainment of RAS status was 90 % . RESULTS Among 512 patients without RAS mutations , progression-free survival was 10.1 months with panitumumab-FOLFOX4 versus 7.9 months with FOLFOX4 alone ( hazard ratio for progression or death with combination therapy , 0.72 ; 95 % confidence interval [ CI ] , 0.58 to 0.90 ; P=0.004 ) . Overall survival was 26.0 months in the panitumumab-FOLFOX4 group versus 20.2 months in the FOLFOX4-alone group ( hazard ratio for death , 0.78 ; 95 % CI , 0.62 to 0.99 ; P=0.04 ) . A total of 108 patients ( 17 % ) with nonmutated KRAS exon 2 had other RAS mutations . These mutations were associated with inferior progression-free survival and overall survival with panitumumab-FOLFOX4 treatment , which was consistent with the findings in patients with KRAS mutations in exon 2 .  BRAF mutations were a negative prognostic factor . No new safety signals were identified . CONCLUSIONS Additional RAS mutations predicted a lack of response in patients who received panitumumab-FOLFOX4 . In patients who had metastatic colorectal cancer without RAS mutations , improvements in overall survival were observed with panitumumab-FOLFOX4 therapy . ( Funded by Amgen and others ; PRIME Clinical Trials.gov number , NCT00364013 . )', \\\"Summary Background Intensive treatment of multiple cardiovascular risk factors can halve mortality among people with established type 2 diabetes . We investigated the effect of early multifactorial treatment after diagnosis by screening . Methods In a pragmatic , cluster-r and omised , parallel-group trial done in Denmark , the Netherl and s , and the UK , 343 general practice s were r and omly assigned screening of registered patients aged 40\\u201369 years without known diabetes followed by routine care of diabetes or screening followed by intensive treatment of multiple risk factors .  The primary endpoint was first cardiovascular event , including cardiovascular mortality and morbidity , revascularisation , and non-traumatic amputation within 5 years . Patients and staff assessing outcomes were unaware of the practice 's study group assignment . Analysis was done by intention to treat . This study is registered with Clinical Trials.gov , number NCT00237549 . Findings Primary endpoint data were available for 3055 ( 99\\u00b79 % ) of 3057 screen-detected patients . The mean age was 60\\u00b73 ( SD 6\\u00b79 ) years and the mean duration of follow-up was 5\\u00b73 ( SD 1\\u00b76 ) years .  Improvements in cardiovascular risk factors ( HbA1c and cholesterol concentrations and blood pressure ) were slightly but significantly better in the intensive treatment group . The incidence of first cardiovascular event was 7\\u00b72 % ( 13\\u00b75 per 1000 person-years ) in the intensive treatment group and 8\\u00b75 % ( 15\\u00b79 per 1000 person-years ) in the routine care group ( hazard ratio 0\\u00b783 , 95 % CI 0\\u00b765\\u20131\\u00b705 ) , and of all-cause mortality 6\\u00b72 % ( 11\\u00b76 per 1000 person-years ) and 6\\u00b77 % ( 12\\u00b75 per 1000 person-years ; 0\\u00b791 , 0\\u00b769\\u20131\\u00b721 ) , respectively . Interpretation An intervention to promote early intensive management of patients with type 2 diabetes was associated with a small , non-significant reduction in the incidence of cardiovascular events and death . Funding National Health Service Denmark , Danish Council for Strategic Research , Danish Research Foundation for General Practice , Danish Centre for Evaluation and Health Technology Assessment , Danish National Board of Health , Danish Medical Research Council , Aarhus University Research Foundation , Wellcome Trust , UK Medical Research Council , UK NIHR Health Technology Assessment Programme , UK National Health Service R&D , UK National Institute for Health Research , Julius Center for Health Sciences and Primary Care , University Medical Center , Utrecht , Novo Nordisk , Astra , Pfizer , GlaxoSmithKline , Servier , HemoCue , Merck\\\", 'BACKGROUND It is unclear whether an evaluation incorporating coronary computed tomographic angiography ( CCTA ) is more effective than st and ard evaluation in the emergency department in patients with symptoms suggestive of acute coronary syndromes . METHODS In this multicenter trial , we r and omly assigned patients 40 to 74 years of age with symptoms suggestive of acute coronary syndromes but without ischemic electrocardiographic changes or an initial positive troponin test to early CCTA or to st and ard evaluation in the emergency department on weekdays during daylight hours between April 2010 and January 2012 . The primary end point was length of stay in the hospital . Secondary end points included rates of discharge from the emergency department , major adverse cardiovascular events at 28 days , and cumulative costs . Safety end points were undetected acute coronary syndromes . RESULTS The rate of acute coronary syndromes  among 1000 patients with a mean ( \\u00b1SD ) age of 54\\u00b18 years ( 47 % women ) was 8 % . After early CCTA , as compared with st and ard evaluation  , the mean length of stay in the hospital was reduced by 7.6 hours ( P<0.001 ) and more patients were discharged directly from the emergency department ( 47 % vs. 12 % , P<0.001 ) . There were no undetected acute coronary syndromes and no significant differences in major adverse cardiovascular events at 28 days . After CCTA , there was more downstream testing and higher radiation exposure . The cumulative mean cost of care was similar in the CCTA group and the st and ard-evaluation group ( $ 4,289 and $ 4,060 , respectively ; P=0.65 ) . CONCLUSIONS In patients in the emergency department with symptoms suggestive of acute coronary syndromes , incorporating CCTA into a triage strategy improved the efficiency of clinical decision making , as compared with a st and ard evaluation in the emergency department , but it result ed in an increase in downstream testing and radiation exposure with no decrease in the overall costs of care . ( Funded by the National Heart , Lung , and Blood Institute ; ROMICAT-II Clinical Trials.gov number , NCT01084239 . )', 'BACKGROUND Catheter-associated urinary tract infection ( CAUTI ) is a major preventable cause of harm for patients in hospital . We aim ed to establish whether short-term routine use of antimicrobial catheters reduced risk of CAUTI compared with st and ard polytetrafluoroethylene ( PTFE ) catheterisation . METHODS In our parallel , three group , multicentre , r and omised controlled superiority trial , we enrolled adults ( aged \\u226516 years ) requiring short-term ( \\u226414 days ) catheterisation at 24 hospitals in the UK . Participants were r and omly allocated 1:1:1 with a remote computer allocation to receive a silver alloy-coated catheter , a nitrofural-impregnated catheter , or a PTFE-coated catheter ( control group ) . Patients undergoing unplanned catheterisation were also included and consent for participation was obtained retrospectively . Participants and trial staff were unmasked to treatment assignment . Data were collected by trial staff and by patient-reported question naires for 6 weeks after r and omisation . The primary outcome was incidence of symptomatic urinary tract infection for which an antibiotic was prescribed by 6 weeks . We postulated that a 3\\u00b73 % absolute reduction in CAUTI would represent sufficient benefit to recommend routine use of antimicrobial catheters . This study is registered , number IS RCT N75198618 . FINDINGS 708 ( 10 % ) of 7102 r and omly allocated participants were not catheterised , did not confirm consent , or withdrew , and were not included in the primary analyses . Compared with 271 ( 12\\u00b76 % ) of 2144 participants in the control group , 263 ( 12\\u00b75 % ) of 2097 participants allocated a silver alloy catheter had the primary outcome ( difference -0\\u00b71 % [ 95 % CI -2\\u00b74 to 2\\u00b72 ] ) , as did 228 ( 10\\u00b76 % ) of 2153 participants allocated a nitrofural catheter ( -2\\u00b71 % [ -4\\u00b72 to 0\\u00b71 ] ) . Rates of catheter-related discomfort were higher in the nitrofural group than they were in the other groups . INTERPRETATION Silver alloy-coated catheters were not effective for reduction of incidence of symptomatic CAUTI . The reduction we noted in CAUTI associated with nitrofural-impregnated catheters was less than that regarded as clinical ly important . Routine use of antimicrobial-impregnated catheters is not supported by this trial . FUNDING UK National Institute for Health Research Health Technology Assessment Programme', 'BACKGROUND The higher prevalence and cost of depression for women compared with men and the possible gender differences in treatment response dem and the inclusion of women in clinical trials of depression treatments . The 1993 National Institutes of Health ( NIH ) Revitalization Act set a new st and ard , requiring investigators to consider the inclusion of women and analyze outcomes by gender , yet compliance with these st and ards in depression research has not been examined systematic ally . The purpose of this study is to examine the inclusion of women and gender-specific analyses in recent r and omized clinical trials ( RCTs ) for depression . METHODS RCTs were identified through a MEDLINE search for trials published between January 1 and December 31 , 2007 , and a Clinical trials.gov search of self-identified interventional studies to treat depression . RESULTS Of the 150 RCTs for depression published in 2007 , 15 % did not report the gender composition of their sample , 50 % of studies did not analyze outcomes by gender , and 12 % controlled for gender but did not analyze for gender differences . Of the 768 trials review ed on Clinical trials.gov , 89 % reported recruiting male and female participants , yet < 1 % reported an intention to analyze results by gender . CONCLUSIONS Many recent studies of depression treatments include women but do not examine outcomes by gender . Underst and ing how women differ from men in response to treatment is critical for enhancing treatment efficacy for the greatest number of adults with depression', 'BACKGROUND In trachoma control programmes , azithromycin is distributed to treat the strains of chlamydia that cause ocular disease . We aim ed to compare the effect of annual versus twice-yearly distribution of azithromycin on infection with these strains . METHODS We did a cluster-r and omised trial in 24 subdistricts in northern Ethiopia , which we r and omly assigned to receive annual or twice-yearly treatment for all residents of all ages . R and om assignment was done with the R AND OM and SORT functions of Microsoft Excel . All individuals were offered their assigned treatment of a single , directly observed , oral dose of azithromycin . A 6 week course of topical 1 % tetracycline ointment , applied twice daily to both eyes but not directly observed , was offered as an alternative to azithromycin in patients younger than 12 months , and in patients with self-reported pregnancy , with allergy , or who refused azithromycin .  Our primary , prespecified outcome was the prevalence of ocular chlamydial infection in a r and om sample of children aged 0 - 9 years at baseline and every 6 months for a total of 42 months within sentinel villages . Our analysis was by intention to treat . This study is registered with Clinical Trials.gov , number NCT00322972 . FINDINGS Antibiotic coverage of children aged 1 - 9 years was greater than 80 % ( range 80\\u00b79 to 93\\u00b70 ) at all study visits . In the groups treated annually , the prevalence of infection in children aged 0 - 9 years was reduced from a mean 41\\u00b79 % ( 95 % CI 31\\u00b75 to 52\\u00b72 ) at baseline to 1\\u00b79 % ( 0\\u00b73 to 3\\u00b75 ) at 42 months . In the groups treated twice yearly , the prevalence of infection was reduced from a mean 38\\u00b73 % ( 29\\u00b70 to 47\\u00b76 ) at baseline to 3\\u00b72 % ( 0\\u00b70 to 6\\u00b75 ) at 42 months . The prevalence of ocular chlamydial infection in children aged 0 - 9 years in groups treated annually was not different from that of the groups treated twice yearly at 18 , 30 , and 42 months ( pooled regression p>0\\u00b799 , 95 % CI -0\\u00b706 to 0\\u00b706 ) . The mean elimination time in the twice-yearly treatment group was 7\\u00b75 months earlier ( 2\\u00b73 to 17\\u00b73 ) than that of the annual group ( p=0\\u00b710 , Cox proportional hazards model ) . INTERPRETATION After 42 months of treatment , the prevalence of ocular infection with chlamydia was similar in the groups treated annually and twice yearly . However , elimination of infection might have been more rapid in the groups of villages that received treatment twice yearly . FUNDING National Institutes of Health ( NEI U10 EY016214 )', 'BACKGROUND Atherosclerotic renal-artery stenosis is a common problem in the elderly . Despite two r and omized trials that did not show a benefit of renal-artery stenting with respect to kidney function , the usefulness of stenting for the prevention of major adverse renal and cardiovascular events is uncertain . METHODS We r and omly assigned 947 participants who had atherosclerotic renal-artery stenosis and either systolic hypertension while taking two or more antihypertensive drugs or chronic kidney disease to medical therapy plus renal-artery stenting or medical therapy alone . Participants were followed for the occurrence of adverse cardiovascular and renal events ( a composite end point of death from cardiovascular or renal causes , myocardial infa rct ion , stroke , hospitalization for congestive heart failure , progressive renal insufficiency , or the need for renal-replacement therapy ) . RESULTS Over a median follow-up period of 43 months ( interquartile range , 31 to 55 ) , the rate of the primary composite end point did not differ significantly between participants who underwent stenting in addition to receiving medical therapy and those who received medical therapy alone ( 35.1 % and 35.8 % , respectively ; hazard ratio with stenting , 0.94 ; 95 % confidence interval [ CI ] , 0.76 to 1.17 ; P=0.58 ) . There were also no significant differences between the treatment groups in the rates of the individual components of the primary end point or in all-cause mortality . During follow-up , there was a consistent modest difference in systolic blood pressure favoring the stent group ( -2.3 mm Hg ; 95 % CI , -4.4 to -0.2 ; P=0.03 ) . CONCLUSIONS Renal-artery stenting did not confer a significant benefit with respect to the prevention of clinical events when added to comprehensive , multifactorial medical therapy in people with atherosclerotic renal-artery stenosis and hypertension or chronic kidney disease . ( Funded by the National Heart , Lung and Blood Institute and others ; Clinical Trials.gov number , NCT00081731 . )', 'BACKGROUND Powders containing iron and other micronutrients are recommended as a strategy to prevent nutritional anaemia and other micronutrient deficiencies in children . We assessed the effects of provision of two micronutrient powder formulations , with or without zinc , to children in Pakistan . METHODS We did a cluster r and omised trial in urban and rural sites in Sindh , Pakistan . A baseline survey identified 256 clusters , which were r and omly assigned ( within urban and rural strata , by computer-generated r and om numbers ) to one of three groups : non-supplemented control ( group A ) , micronutrient powder without zinc ( group B ) , or micronutrient powder with 10 mg zinc ( group C ) . Children in the clusters aged 6 months were eligible for inclusion in the study . Powders were to be given daily between 6 and 18 months of age ; follow-up was to age 2 years . Micronutrient powder sachets for groups B and C were identical except for colour ; investigators and field and supervisory staff were masked to composition of the micronutrient powders until trial completion . Parents knew whether their child was receiving supplementation , but did not know whether the powder contained zinc . Primary outcomes were growth , episodes of diarrhoea , acute lower respiratory tract infection , fever , and incidence of admission to hospital . This trial is registered with Clinical Trials.gov , number NCT00705445 . RESULTS The trial was done between Nov 1 , 2008 , and Dec 31 , 2011 . 947 children were enrolled in group A clusters , 910 in group B clusters , and 889 in group C clusters . Micronutrient powder administration was associated with lower risk of iron-deficiency anaemia at 18 months compared with the control group ( odds ratio [ OR ] for micronutrient powder without zinc=0\\u00b720 , 95 % CI 0\\u00b711 - 0\\u00b736 ; OR for micronutrient powder with zinc=0\\u00b725 , 95 % CI 0\\u00b714 - 0\\u00b744 ) . Compared with the control group , children in the group receiving micronutrient powder without zinc gained an extra 0\\u00b731 cm ( 95 % CI 0\\u00b703 - 0\\u00b759 ) between 6 and 18 months of age and children receiving micronutrient powder with zinc an extra 0\\u00b756 cm ( 0\\u00b729 - 0\\u00b784 ) . We recorded strong evidence of an increased proportion of days with diarrhoea ( p=0\\u00b7001 ) and increased incidence of bloody diarrhoea ( p=0\\u00b7003 ) between 6 and 18 months in the two micronutrient powder groups , and reported chest indrawing ( p=0\\u00b703 ) . Incidence of febrile episodes or admission to hospital for diarrhoea , respiratory problems , or febrile episodes did not differ between the three groups . INTERPRETATION Use of micronutrient powders reduces iron-deficiency anaemia in young children . However , the excess burden of diarrhoea and respiratory morbidities associated with micronutrient powder use and the very small effect on growth recorded suggest that a careful assessment of risks and benefits must be done in population s with malnourished children and high diarrhoea burdens . FUNDING Bill & Melinda Gates Foundation', 'BACKGROUND It is not known whether low-dose radioiodine ( 1.1 GBq [ 30 mCi ] ) is as effective as high-dose radioiodine ( 3.7 GBq [ 100 mCi ] ) for treating patients with differentiated thyroid cancer or whether the effects of radioiodine ( especially at a low dose ) are influenced by using either recombinant human thyrotropin ( thyrotropin alfa ) or thyroid hormone withdrawal . METHODS At 29 centers in the United Kingdom , we conducted a r and omized noninferiority trial comparing low-dose and high-dose radioiodine , each in combination with either thyrotropin alfa or thyroid hormone withdrawal before ablation .  Patients ( age range , 16 to 80 years ) had tumor stage T1 to T3 , with possible spread to nearby lymph nodes but without metastasis . End points were the rate of success of ablation at 6 to 9 months , adverse events , quality of life , and length of hospital stay . RESULTS A total of 438 patients underwent r and omization ; data could be analyzed for 421 .  Ablation success rates were 85.0 % in the group receiving low-dose radioiodine versus 88.9 % in the group receiving the high dose and 87.1 % in the thyrotropin alfa group versus 86.7 % in the group undergoing thyroid hormone withdrawal . All 95 % confidence intervals for the differences were within \\u00b110 percentage points , indicating noninferiority . Similar results were found for low-dose radioiodine plus thyrotropin alfa ( 84.3 % ) versus high-dose radioiodine plus thyroid hormone withdrawal ( 87.6 % ) or high-dose radioiodine plus thyrotropin alfa ( 90.2 % ) . More patients in the high-dose group than in the low-dose group were hospitalized for at least 3 days ( 36.3 % vs. 13.0 % , P<0.001 ) . The proportions of patients with adverse events were 21 % in the low-dose group versus 33 % in the high-dose group ( P=0.007 ) and 23 % in the thyrotropin alfa group versus 30 % in the group undergoing thyroid hormone withdrawal ( P=0.11 ) . CONCLUSIONS Low-dose radioiodine plus thyrotropin alfa was as effective as high-dose radioiodine , with a lower rate of adverse events . ( Funded by Cancer Research UK ; Clinical Trials.gov number , NCT00415233 . )', 'BACKGROUND Prospect i ve assessment of pharmacogenetic strategies has been limited by an inability to undertake bedside genetic testing . The CYP2C19 * 2 allele is a common genetic variant associated with increased rates of major adverse events in individuals given clopidogrel after percutaneous coronary intervention ( PCI ) .  We used a novel point-of-care genetic test to identify carriers of the CYP2C19 * 2 allele and aim ed to assess a pharmacogenetic approach to dual antiplatelet treatment after PCI . METHODS Between Aug 26 , 2010 , and July 7 , 2011 , 200 patients were enrolled into our prospect i ve , r and omised , proof-of-concept study . Patients undergoing PCI for acute coronary syndrome or stable angina were r and omly assigned to rapid point-of-care genotyping or to st and ard treatment . Individuals in the rapid genotyping group were screened for the CYP2C19 * 2 allele . Carriers were given 10 mg prasugrel daily , and non-carriers and patients in the st and ard treatment group were given 75 mg clopidogrel daily . The primary endpoint was the proportion of CYP2C19 * 2 carriers with high on-treatment platelet reactivity ( P2Y12 reactivity unit [ PRU ] value of more than 234 ) after 1 week of dual antiplatelet treatment , which is a marker associated with increased adverse cardiovascular events . Interventional cardiologists and data analysts were masked to genetic status and treatment . Patients were not masked to treatment allocation . All analyses were by intention to treat . This study is registered with Clinical Trials.gov , NCT01184300 . FINDINGS After r and omisation , 187 patients completed follow-up ( 91 rapid genotyping group , 96 st and ard treatment ) . 23 individuals in each group carried at least one CYP2C19 * 2 allele . None of the 23 carriers in the rapid genotyping group had a PRU value of more than 234 at day 7 , compared with seven ( 30 % ) given st and ard treatment ( p=0\\u00b70092 ) . The point-of-care genetic test had a sensitivity of 100 % ( 95 % CI 92\\u00b73 - 100 ) and a specificity of 99\\u00b73 % ( 96\\u00b73 - 100 ) . INTERPRETATION Point-of-care genetic testing after PCI can be done effectively at the bedside and treatment of identified CYP2C19 * 2 carriers with prasugrel can reduce high on-treatment platelet reactivity . FUNDING Spartan Biosciences', 'BACKGROUND Autologous fat grafting is increasingly used in reconstructive surgery . However , resorption rates ranging from 25 % to 80 % have been reported . Therefore , methods to increase graft viability are needed . Here , we report the results of a triple-blind , placebo-controlled trial to compare the survival of fat grafts enriched with autologous adipose-derived stem cells ( ASCs ) versus non-enriched fat grafts . METHODS Healthy participants underwent two liposuctions  taken 14 days apart : one for ASC isolation and ex-vivo expansion , and another for the preparation of fat grafts . Two purified fat grafts ( 30 mL each ) taken from the second liposuction were prepared for each participant . One graft was enriched with ASCs ( 20 \\u00d7 10(6 ) cells per mL fat ) , and another graft without ASC enrichment served as a control . The fat grafts were injected subcutaneously as a bolus to the posterior part of the right and left upper arm according to the r and omisation sequence . The volumes of injected fat grafts were measured by MRI immediately after injection and after 121 days before surgical removal . The primary goal was to compare the residual graft volumes of ASC-enriched grafts with those of control grafts . This study is registered at www . clinical trialsregister.eu , number 2010 - 023006 - 12 . FINDINGS 13 participants were enrolled , three of whom were excluded . Compared with the control grafts , the ASC-enriched fat grafts had significantly higher residual volumes : 23\\u00b700 ( 95 % CI 20\\u00b757 - 25\\u00b743 ) cm(3 ) versus 4\\u00b766 ( 3\\u00b716 - 6\\u00b716 ) cm(3 ) for the controls , corresponding to 80\\u00b79 % ( 76\\u00b76 - 85\\u00b72 ) versus 16\\u00b73 % ( 11\\u00b71 - 21\\u00b74 ) of the initial volumes , respectively ( p<0\\u00b70001 ) . The difference between the groups was 18\\u00b734 ( 95 % CI 15\\u00b770 - 20\\u00b798 ) cm(3 ) , equivalent to 64\\u00b76 % ( 57\\u00b71 - 72\\u00b71 ; p<0\\u00b70001 ) . No serious adverse events were noted . INTERPRETATION The procedure of ASC-enriched fat grafting  had excellent feasibility and safety . These promising results add significantly to the prospect of stem cell use in clinical setting s , and indicate that ASC graft enrichment could render lipofilling a reliable alternative to major tissue augmentation , such as breast surgery , with allogeneic material or major flap surgery . FUNDING Danish Cancer Society , Centre of Head and Orthopaedics Rigshospitalet , and Moalem Weitemeyer Bendtsen', 'BACKGROUND We aim ed to investigate the safety and efficacy of dutasteride , a 5\\u03b1-reductase inhibitor , on prostate cancer progression in men with low-risk disease who chose to be followed up with active surveillance . METHODS In our 3 year , r and omised , double-blind , placebo-controlled study , undertaken at 65 academic medical centres or outpatient clinics in North America , we enrolled men aged 48 - 82 years who had low-volume , Gleason score 5 - 6 prostate cancer and had chosen to be followed up with active surveillance . We r and omly allocated participants in a one-to-one ratio , stratified by site and in block sizes of four , to receive once-daily dutasteride 0\\u00b75 mg or matching placebo . Participants were followed up for 3 years , with 12-core prostate biopsy sample s obtained after 18 months and 3 years . The primary endpoint was time to prostate cancer progression , defined as the number of days between the start of study treatment and the earlier of either pathological progression ( in patients with \\u22651 biopsy assessment after baseline ) or therapeutic progression ( start of medical therapy ) . This trial is registered with Clinical Trials.gov , number NCT00363311 . FINDINGS Between Aug 10 , 2006 , and March 26 , 2007 , we r and omly allocated 302 participants , of whom 289 ( 96 % ) had at least one biopsy procedure after baseline and were included in the primary analysis . By 3 years , 54 ( 38 % ) of 144 men in the dutasteride group and 70 ( 48 % ) of 145 controls had prostate cancer progression ( pathological or therapeutic ; hazard ratio 0\\u00b762 , 95 % CI 0\\u00b743 - 0\\u00b789 ; p=0\\u00b7009 ) . Incidence of adverse events was much the same between treatment groups . 35 ( 24 % ) men in the dutasteride group and 23 ( 15 % ) controls had sexual adverse events or breast enlargement or tenderness . Eight ( 5 % ) men in the dutasteride group and seven ( 5 % ) controls had cardiovascular adverse events , but there were no prostate cancer-related deaths or instances of metastatic disease . INTERPRETATION Dutasteride could provide a beneficial adjunct to active surveillance for men with low-risk prostate cancer . FUNDING GlaxoSmithKline', 'BACKGROUND Dolutegravir ( S/GSK1349572 ) , a once-daily , unboosted integrase inhibitor , was recently approved in the United States for the treatment of human immunodeficiency virus type 1 ( HIV-1 ) infection in combination with other antiretroviral agents . Dolutegravir , in combination with abacavir-lamivudine , may provide a simplified regimen . METHODS We conducted a r and omized , double-blind , phase 3 study involving adult participants who had not received previous therapy for HIV-1 infection and who had an HIV-1 RNA level of 1000 copies per milliliter or more . Participants were r and omly assigned to dolutegravir at a dose of 50 mg plus abacavir-lamivudine once daily ( DTG-ABC-3TC group ) or combination therapy with efavirenz-tenofovir disoproxil fumarate (DF)-emtricitabine once daily ( EFV-TDF-FTC group ) . The primary end point was the proportion of participants with an HIV-1 RNA level of less than 50 copies per milliliter at week 48 . Secondary end points included the time to viral suppression , the change from baseline in CD4 + T-cell count , safety , and viral resistance . RESULTS A total of 833 participants received at least one dose of study drug . At week 48 , the proportion of participants with an HIV-1 RNA level of less than 50 copies per milliliter was significantly higher in the DTG-ABC-3TC group than in the EFV-TDF-FTC group ( 88 % vs. 81 % , P=0.003 ) , thus meeting the criterion for superiority . The DTG-ABC-3TC group had a shorter median time to viral suppression than did the EFV-TDF-FTC group ( 28 vs. 84 days , P<0.001 ) , as well as greater increases in CD4 + T-cell count ( 267 vs. 208 per cubic millimeter , P<0.001 ) . The proportion of participants who discontinued therapy owing to adverse events was lower in the DTG-ABC-3TC group than in the EFV-TDF-FTC group ( 2 % vs. 10 % ) ; rash and neuropsychiatric events ( including abnormal dreams , anxiety , dizziness , and somnolence ) were significantly more common in the EFV-TDF-FTC group , whereas insomnia was reported more frequently in the DTG-ABC-3TC group . No participants in the DTG-ABC-3TC group had detectable antiviral resistance ; one tenofovir DF-associated mutation and four efavirenz-associated mutations were detected in participants with virologic failure in the EFV-TDF-FTC group . CONCLUSIONS Dolutegravir plus abacavir-lamivudine had a better safety profile and was more effective through 48 weeks than the regimen with efavirenz-tenofovir DF-emtricitabine . ( Funded by ViiV Healthcare ; SINGLE Clinical Trials.gov number , NCT01263015 . )', 'BACKGROUND The National Institutes of Health ( NIH ) Revitalization Act of 1993 requires that NIH-funded clinical trials include women and minorities as participants ; other federal agencies have adopted similar guidelines . The objective of this study is to determine the current level of compliance with these guidelines for the inclusion , analysis , and reporting of sex and race/ethnicity in federally funded r and omized controlled trials ( RCTs ) and to compare the current level of compliance with that from 2004 , which was reported previously . METHODS  RCTs published in nine prominent medical journals in 2009 were identified by PubMed search . Studies where individuals were not the unit of analysis , those begun before 1994 , and those not receiving federal funding were excluded . PubMed search located 512 published articles . After exclusion of ineligible articles , 86 ( 17 % ) remained for analysis . RESULTS Thirty studies were sex specific . The  median enrollment of women in the 56 studies that included both men and women was 37 % . Seventy-five percent of the studies did not report any outcomes by sex , including 9 studies reporting < 20 % women enrolled . Among all 86 studies , 21 % did not report sample sizes by racial and ethnic groups , and 64 % did not provide any analysis by racial or ethnic groups . Only 3 studies indicated that the generalizability of their results may be limited by lack of diversity among those studied . There were no statistically significant changes in inclusion or reporting of sex or race/ethnicity when compared with 2004 . CONCLUSIONS Ensuring enhanced inclusion , analysis , and reporting of sex and race/ethnicity entails the efforts of NIH , journal editors , and the research ers themselves', 'BACKGROUND Maintenance therapy , often with azathioprine or mycophenolate mofetil , is required to consoli date remission and prevent relapse after the initial control of lupus nephritis . METHODS We carried out a 36-month , r and omized , double-blind , double-dummy , phase 3 study comparing oral mycophenolate mofetil ( 2 g per day ) and oral azathioprine ( 2 mg per kilogram of body weight per day ) , plus placebo in each group , in patients who met response criteria during a 6-month induction trial . The study group underwent repeat r and omization in a 1:1 ratio . Up to 10 mg of prednisone per day or its equivalent was permitted . The primary efficacy end point was the time to treatment failure , which was defined as death , end-stage renal disease , doubling of the serum creatinine level , renal flare , or rescue therapy for lupus nephritis . Secondary assessment s included the time to the individual components of treatment failure and adverse events . RESULTS A total of 227 patients were r and omly assigned to maintenance treatment ( 116 to mycophenolate mofetil and 111 to azathioprine ) . Mycophenolate mofetil was superior to azathioprine with respect to the primary end point , time to treatment failure ( hazard ratio , 0.44 ; 95 % confidence interval , 0.25 to 0.77 ; P = 0.003 ) , and with respect to time to renal flare and time to rescue therapy ( hazard ratio , < 1.00 ; P < 0.05 ) . Observed rates of treatment failure were 16.4 % ( 19 of 116 patients ) in the mycophenolate mofetil group and 32.4 % ( 36 of 111 ) in the azathioprine group . Adverse events , most commonly minor infections and gastrointestinal disorders , occurred in more than 95 % of the patients in both groups ( P = 0.68 ) . Serious adverse events occurred in 33.3 % of patients in the azathioprine group and in 23.5 % of those in the mycophenolate mofetil group ( P = 0.11 ) , and the rate of withdrawal due to adverse events was higher with azathioprine than with mycophenolate mofetil ( 39.6 % vs. 25.2 % , P = 0.02 ) . CONCLUSIONS Mycophenolate mofetil was superior to azathioprine in maintaining a renal response to treatment and in preventing relapse in patients with lupus nephritis who had a response to induction therapy . ( Funded by Vifor Pharma [ formerly Aspreva ] ; ALMS Clinical Trials.gov number , NCT00377637 . )', 'BACKGROUND Exclusive breastfeeding ( EBF ) is reported to be a life-saving intervention in low-income setting s. The effect of breastfeeding counselling by peer counsellors was assessed in Africa . METHODS 24 communities in Burkina Faso , 24 in Ug and a , and 34 in South Africa were assigned in a 1:1 ratio , by use of a computer-generated r and omisation sequence , to the control or intervention clusters . In the intervention group , we scheduled one antenatal breastfeeding peer counselling visit and four post-delivery visits by trained peers . The data gathering team were masked to the intervention allocation . The primary outcomes were prevalance of EBF and diarrhoea reported by mothers for infants aged 12 weeks and 24 weeks .  Country-specific prevalence ratios were adjusted for cluster effects and sites . Analysis was by intention to treat . This study is registered with Clinical Trials.gov , number NCT00397150 . FINDINGS 2579 mother-infant pairs were assigned to the intervention or control clusters in Burkina Faso ( n=392 and n=402 , respectively ) , Ug and a ( n=396 and n=369 , respectively ) , and South Africa ( n=535 and 485 , respectively ) .  The EBF prevalences based on 24-h recall at 12 weeks in the intervention and control clusters were 310 ( 79 % ) of 392 and 139 ( 35 % ) of 402 , respectively , in Burkina Faso ( prevalence ratio 2\\u00b729 , 95 % CI 1\\u00b733 - 3\\u00b792 ) ; 323 ( 82 % ) of 396 and 161 ( 44 % ) of 369 , respectively , in Ug and a ( 1\\u00b789 , 1\\u00b770 - 2\\u00b711 ) ; and 56 ( 10 % ) of 535 and 30 ( 6 % ) of 485 , respectively , in South Africa ( 1\\u00b772 , 1\\u00b712 - 2\\u00b763 ) . The EBF prevalences based on 7-day recall in the intervention and control clusters were 300 ( 77 % ) and 94 ( 23 % ) , respectively , in Burkina Faso ( 3\\u00b727 , 2\\u00b713 - 5\\u00b703 ) ; 305 ( 77 % ) and 125 ( 34 % ) , respectively , in Ug and a ( 2\\u00b730 , 2\\u00b700 - 2\\u00b765 ) ; and 41 ( 8 % ) and 19 ( 4 % ) , respectively , in South Africa ( 1\\u00b798 , 1\\u00b730 - 3\\u00b702 ) . At 24 weeks , the prevalences based on 24-h recall were 286 ( 73 % ) in the intervention cluster and 88 ( 22 % ) in the control cluster in Burkina Faso ( 3\\u00b733 , 1\\u00b774 - 6\\u00b738 ) ; 232 ( 59 % ) and 57 ( 15 % ) , respectively , in Ug and a ( 3\\u00b783 , 2\\u00b797 - 4\\u00b795 ) ; and 12 ( 2 % ) and two ( < 1 % ) , respectively , in South Africa ( 5\\u00b770 , 1\\u00b733 - 24\\u00b726 ) . The prevalences based on 7-day recall were 279 ( 71 % ) in the intervention cluster and 38 ( 9 % ) in the control cluster in Burkina Faso ( 7\\u00b753 , 4\\u00b742 - 12\\u00b782 ) ; 203 ( 51 % ) and 41 ( 11 % ) , respectively , in Ug and a ( 4\\u00b766 , 3\\u00b735 - 6\\u00b749 ) ; and ten ( 2 % ) and one ( < 1 % ) , respectively , in South Africa ( 9\\u00b783 , 1\\u00b740 - 69\\u00b714 ) . Diarrhoea prevalence at age 12 weeks in the intervention and control clusters was 20 ( 5 % ) and 36 ( 9 % ) , respectively , in Burkina Faso ( 0\\u00b757 , 0\\u00b727 - 1\\u00b722 ) ; 39 ( 10 % ) and 32 ( 9 % ) , respectively , in Ug and a ( 1\\u00b713 , 0\\u00b781 - 1\\u00b759 ) ; and 45 ( 8 % ) and 33 ( 7 % ) , respectively , in South Africa ( 1\\u00b716 , 0\\u00b778 - 1\\u00b775 ) . The prevalence at age 24 weeks in the intervention and control clusters was 26 ( 7 % ) and 32 ( 8 % ) , respectively , in Burkina Faso ( 0\\u00b783 , 0\\u00b745 - 1\\u00b754 ) ; 52 ( 13 % ) and 59 ( 16 % ) , respectively , in Ug and a ( 0\\u00b782 , 0\\u00b758 - 1\\u00b715 ) ; and 54 ( 10 % ) and 33 ( 7 % ) , respectively , in South Africa ( 1\\u00b731 , 0\\u00b789 - 1\\u00b793 ) . INTERPRETATION Low-intensity individual breastfeeding peer counselling is achievable and , although it does not affect the diarrhoea prevalence , can be used to effectively increase EBF prevalence in many sub-Saharan African setting s. FUNDING European Union Sixth Framework International Cooperation-Developing Countries , Research Council of Norway , Swedish International Development Cooperation Agency , Norwegian Programme for Development , Research and Education , South African National Research Foundation , and Rockefeller Brothers Foundation', 'BACKGROUND Bacteraemia is an important cause of morbidity and mortality in critically ill children . Our objective was to assess whether daily bathing in chlorhexidine gluconate ( CHG ) compared with st and ard bathing practice s would reduce bacteraemia in critically ill children . METHODS In an unmasked , cluster-r and omised , two-period crossover trial , ten paediatric intensive-care units at five hospitals in the USA were r and omly assigned a  daily bathing routine for admitted patients older than 2 months , either st and ard bathing practice s or using a cloth impregnated with 2 % CHG , for a 6-month period . Units switched to the alternative bathing method for a second 6-month period . 6482 admissions were screened for eligibility . The primary outcome was an episode of bacteraemia . We did intention-to-treat ( ITT ) and per- protocol ( PP ) analyses . This study is registered with Clinical Trials.gov ( identifier NCT00549393 ) . FINDINGS 1521 admitted patients were excluded because their length of stay was less than 2 days , and 14 refused to participate . 4947 admissions were eligible for analysis . In the ITT population , a non-significant reduction in incidence of bacteraemia was noted with CHG bathing ( 3\\u00b752 per 1000 days , 95 % CI 2\\u00b764 - 4\\u00b761 ) compared with st and ard practice s ( 4\\u00b793 per 1000 days , 3\\u00b791 - 6\\u00b715 ; adjusted incidence rate ratio [ aIRR ] 0\\u00b771 , 95 % CI 0\\u00b742 - 1\\u00b720 ) . In the PP population , incidence of bacteraemia was lower in patients receiving CHG bathing ( 3\\u00b728 per 1000 days , 2\\u00b727 - 4\\u00b758 ) compared with st and ard practice s ( 4\\u00b793 per 1000 days , 3\\u00b791 - 6\\u00b715 ; aIRR 0\\u00b764 , 0\\u00b742 - 0\\u00b798 ) . No serious study -related adverse events were recorded , and the incidence of CHG-associated skin reactions was 1\\u00b72 per 1000 days ( 95 % CI 0\\u00b760 - 2\\u00b702 ) . INTERPRETATION Critically ill children  receiving daily CHG bathing had a lower incidence of bacteraemia compared with those receiving a st and ard bathing routine . Furthermore , the treatment was well tolerated . FUNDING Sage Products , US National Institutes of Health', \\\"BACKGROUND Stroke is common during the first few weeks after a transient ischemic attack ( TIA ) or minor ischemic stroke .  Combination therapy with clopidogrel and aspirin may provide greater protection against subsequent stroke than aspirin alone . METHODS In a r and omized , double-blind , placebo-controlled trial conducted at 114 centers in China , we r and omly assigned 5170 patients within 24 hours after the onset of minor ischemic stroke or high-risk TIA to combination therapy with clopidogrel and aspirin ( clopidogrel at an initial dose of 300 mg , followed by 75 mg per day for 90 days , plus aspirin at a dose of 75 mg per day for the first 21 days ) or to placebo plus aspirin ( 75 mg per day for 90 days ) . All participants received open-label aspirin at a clinician-determined dose of 75 to 300 mg on day 1 . The primary outcome was stroke ( ischemic or hemorrhagic ) during 90 days of follow-up in an intention-to-treat analysis . Treatment differences were assessed with the use of a Cox proportional-hazards model , with study center as a r and om effect . RESULTS Stroke occurred in 8.2 % of patients in the clopidogrel-aspirin group , as compared with 11.7 % of those in the aspirin group ( hazard ratio , 0.68 ; 95 % confidence interval , 0.57 to 0.81 ; P<0.001 ) . Moderate or severe hemorrhage occurred in seven patients ( 0.3 % ) in the clopidogrel-aspirin group and in eight ( 0.3 % ) in the aspirin group ( P=0.73 ) ; the rate of hemorrhagic stroke was 0.3 % in each group . CONCLUSIONS Among patients with TIA or minor stroke who can be treated within 24 hours after the onset of symptoms , the combination of clopidogrel and aspirin is superior to aspirin alone for reducing the risk of stroke in the first 90 days and does not increase the risk of hemorrhage . ( Funded by the Ministry of Science and Technology of the People 's Republic of China ; CHANCE Clinical Trials.gov number , NCT00979589 . )\\\", 'BACKGROUND Rheumatoid arthritis is a heterogeneous chronic disease , and no therapeutic agent has been identified which is universally and persistently effective in all patients . We investigated the effectiveness of tofacitinib ( CP-690,550 ) , a novel oral Janus kinase inhibitor , as a targeted immunomodulator and disease-modifying therapy for rheumatoid arthritis . METHODS We did a 6-month , double-blind , parallel-group phase 3 study at 82 centres in 13 countries , including North America , Europe , and Latin America . 399 patients aged 18 years or older with moderate-to-severe rheumatoid arthritis and inadequate response to tumour necrosis factor inhibitors ( TNFi ) were r and omly assigned in a 2:2:1:1 ratio with an automated internet or telephone system to receive twice a day treatment with : tofacitinib 5 mg ( n=133 ) ; tofacitinib 10 mg ( n=134 ) ; or placebo ( n=132 ) , all with methotrexate . At month 3 , patients given placebo advanced to either tofacitinib 5 mg twice a day ( n=66 ) or 10 mg twice a day ( n=66 ) . Primary endpoints included American College of Rheumatology (ACR)20 response rate , mean change from baseline in Health Assessment Question naire-Disability Index ( HAQ-DI ) , and rates of disease activity score (DAS)28 - 4(ESR ) less than 2\\u00b76 ( referred to as DAS28<2\\u00b76 ) , all at month 3 . The full analysis set for the primary analysis included all r and omised patients who received at least one dose of study medication and had at least one post-baseline assessment . This trial is registered with www . Clinical Trials.gov , number NCT00960440 . FINDINGS At month 3 , ACR20 response rates were 41\\u00b77 % ( 55 of 132 [ 95 % CI vs placebo 6\\u00b706 - 28\\u00b741 ] ; p=0\\u00b70024 ) for tofacitinib 5 mg twice a day and 48\\u00b71 % ( 64 of 133 ; [ 12\\u00b745 - 34\\u00b792 ] ; p<0\\u00b70001 ) for tofacitinib 10 mg twice a day versus 24\\u00b74 % ( 32 of 131 ) for  placebo . Improvements from baseline in HAQ-DI were -0\\u00b743 ( [ -0\\u00b736 to -0\\u00b715 ] ; p<0\\u00b70001 ) for 5 mg twice a day and -0\\u00b746 ( [ -0\\u00b738 to -0\\u00b717 ] ; p<0\\u00b70001 ) for 10 mg twice a day tofacitinib versus -0\\u00b718 for placebo ; DAS28<2\\u00b76 rates were 6\\u00b77 % ( eight of 119 ; [ 0 - 10\\u00b710 ] ; p=0\\u00b70496 ) for 5 mg twice a day tofacitinib and 8\\u00b78 % ( 11 of 125 [ 1\\u00b766 - 12\\u00b760 ] ; p=0\\u00b70105 ) for 10 mg twice a day tofacitinib versus 1\\u00b77 % ( two of 120 ) for  placebo . Safety was consistent with phase 2 and 3 studies . The most common adverse events in months 0 - 3 were diarrhoea ( 13 of 267 ; 4\\u00b79 % ) , nasopharyngitis ( 11 of 267 ; 4\\u00b71 % ) , headache ( 11 of 267 ; 4\\u00b71 % ) , and urinary tract infection ( eight of 267 ; 3\\u00b70 % ) across tofacitinib groups , and nausea ( nine of 132 ; 6\\u00b78 % ) in the placebo group . INTERPRETATION In this treatment-refractory population  , tofacitinib with methotrexate had rapid and clinical ly meaningful improvements in signs and symptoms of rheumatoid arthritis and physical function over 6 months with manageable safety . Tofacitinib could provide an effective treatment option in patients with an inadequate response to TNFi . FUNDING Pfizer', 'BACKGROUND Interim results from the children with HIV early antiretroviral ( CHER ) trial showed that early antiretroviral therapy ( ART ) was life-saving for infants infected with HIV . In view of the few treatment options and the potential toxicity associated with lifelong ART , in the CHER trial we compared early time-limited ART with deferred ART . METHODS CHER was an open-label r and omised controlled trial of HIV-infected asymptomatic infants younger than 12 weeks in two South African trial sites with a percentage of CD4-positive T lymphocytes ( CD4 % ) of 25 % or higher . 377 infants were r and omly allocated to one of three groups : deferred ART ( ART-Def ) , immediate ART for 40 weeks ( ART-40W ) , or immediate ART for 96 weeks ( ART-96W ) , with subsequent treatment interruption . The r and omisation schedule was stratified by clinical site with permuted blocks of r and om sizes to balance the numbers of infants allocated to each group . Criteria for ART initiation in the ART-Def group and re-initiation after interruption in the other groups were CD4 % less than 25 % in infancy ; otherwise , the criteria were CD4 % less than 20 % or Centers for Disease Control and Prevention severe stage B or stage C disease . Combination therapy of lopinavir-ritonavir , zidovudine , and lamivudine was the first-line treatment regimen at ART initiation and re-initiation . The primary endpoint was time to failure of first-line ART ( immunological , clinical , or virological ) or death . Comparisons were done by intention-to-treat analysis , with use of time-to-event methods . This trial is registered with Clinical Trials.gov , number NCT00102960 . FINDINGS 377 infants were enrolled , with a median age of 7\\u00b74 weeks , CD4 % of 35 % , and HIV RNA log 5\\u00b77 copies per mL. Median follow-up was 4\\u00b78 years ; 34 infants ( 9 % ) were lost to follow-up . Median time to ART initiation in the ART-Def group was 20 weeks ( IQR 16 - 25 ) . Time to restarting of ART after interruption was 33 weeks ( 26 - 45 ) in ART-40W and 70 weeks ( 35 - 109 ) in ART-96W ; at the end of the trial , 19 % of patients in ART-40W and 32 % of patients in ART-96W remained off ART . Proportions of follow-up time spent on ART were 81 % in the ART-Def group , 70 % in the ART-40W group , and 69 % in the ART-96W group . 48 ( 38 % ) of 125 children in the ART-Def group , 32 ( 25 % ) of 126 in the ART-40W group , and 26 ( 21 % ) of 126 in the ART-96W group reached the primary endpoint . The hazard ratio , relative to ART-Def , was 0\\u00b759 ( 95 % CI 0\\u00b738 - 0\\u00b793 , p=0\\u00b702 ) for ART-40W and 0\\u00b747 ( 0\\u00b727 - 0\\u00b776 , p=0\\u00b7002 ) for ART-96W . Three children in ART-Def , three in ART-40W , and one in ART-96W switched to second-line ART . INTERPRETATION Early time-limited ART had better clinical and immunological outcomes than deferred ART , with no evidence of excess disease progression during subsequent treatment interruption and less overall ART exposure than deferred ART . Longer time on primary ART permits longer subsequent interruption , with marginally better outcomes . FUNDING US National Institutes of Health', 'BACKGROUND Mortality among patients with severe acute alcoholic hepatitis is high , even among those treated with glucocorticoids . We investigated whether combination therapy with glucocorticoids plus N-acetylcysteine would improve survival . METHODS We r and omly assigned 174 patients to receive prednisolone plus N-acetylcysteine ( 85 patients ) or only prednisolone ( 89 patients ) . All patients received 4 weeks of prednisolone . The prednisolone-N-acetylcysteine group received intravenous N-acetylcysteine on day 1 ( at a dose of 150 , 50 , and 100 mg per kilogram of body weight in 250 , 500 , and 1000 ml of 5 % glucose solution over a period of 30 minutes , 4 hours , and 16 hours , respectively ) and on days 2 through 5 ( 100 mg per kilogram per day in 1000 ml of 5 % glucose solution ) . The prednisolone-only group received an infusion in 1000 ml of 5 % glucose solution per day on days 1 through 5 . The primary outcome was 6-month survival . Secondary outcomes included survival at 1 and 3 months , hepatitis complications , adverse events related to N-acetylcysteine use , and changes in bilirubin levels on days 7 and 14 . RESULTS Mortality was not significantly lower in the prednisolone-N-acetylcysteine group than in the prednisolone-only group at 6 months ( 27 % vs. 38 % , P = 0.07 ) . Mortality was significantly lower at 1 month ( 8 % vs. 24 % , P = 0.006 ) but not at 3 months ( 22 % vs. 34 % , P = 0.06 ) . Death due to the hepatorenal syndrome was less frequent in the prednisolone-N-acetylcysteine group than in the prednisolone-only group at 6 months ( 9 % vs. 22 % , P = 0.02 ) . In a multivariate analysis , factors associated with 6-month survival were a younger age ( P<0.001 ) , a shorter prothrombin time ( P<0.001 ) , a lower level of bilirubin at baseline ( P<0.001 ) , and a decrease in bilirubin on day 14 ( P<0.001 ) . Infections were less frequent in the prednisolone-N-acetylcysteine group than in the prednisolone-only group ( P = 0.001 ) ; other side effects were similar in the two groups . CONCLUSIONS Although combination therapy with prednisolone plus N-acetylcysteine increased 1-month survival among patients with severe acute alcoholic hepatitis , 6-month survival , the primary outcome , was not improved . ( Funded by Programme Hospitalier de Recherche Clinique ; AAH-NAC Clinical Trials.gov number , NCT00863785 . )', \\\"BACKGROUND Most patients who have had a stroke are dependent on informal caregivers for activities of daily living . The TRACS trial investigated a training programme for caregivers ( the London Stroke Carers Training Course , LSCTC ) on physical and psychological outcomes , including cost-effectiveness , for patients and caregivers after a disabling stroke . METHODS We undertook a pragmatic , multicentre , cluster r and omised controlled trial with a parallel cost-effectiveness analysis . Stroke units were eligible if four of five criteria used to define a stroke unit were met , a substantial number of patients on the unit had a diagnosis of stroke , staff were able to deliver the LSCTC , and most patients were discharged to a permanent place of residence . Stroke units were r and omly assigned to either LSCTC or usual care ( control group ) , stratified by geographical region and quality of care , and using blocks of size 2 . Patients with a diagnosis of stroke , likely to return home with residual disability and with a caregiver providing support were eligible . The primary outcome for patients was self-reported extended activities of daily living at 6 months , measured with the Nottingham Extended Activities of Daily Living ( NEADL ) scale . The primary outcome for caregivers was self-reported burden at 6 months , measured with the caregivers burden scale ( CBS ) . We combined patient and caregiver costs with primary outcomes and quality -adjusted life-years ( QALYs ) to assess cost-effectiveness . This trial is registered with controlled-trials.com , number IS RCT N 49208824 . FINDINGS We assessed 49 stroke units for eligibility , of which 36 were r and omly assigned to either the intervention group or the control group . Between Feb 27 , 2008 , and Feb 9 , 2010 , 928 patient and caregiver dyads were registered , of which 450 were in the intervention group , and 478 in the control group .  Patients ' self-reported extended activities of daily living did not differ between groups at 6 months ( adjusted mean NEADL score 27\\u00b74 in the intervention group versus 27\\u00b76 in the control group , difference -0\\u00b72 points [ 95 % CI -3\\u00b70 to 2\\u00b75 ] , p value=0\\u00b7866 , ICC=0\\u00b7027 ) . The caregiver burden scale did not differ between groups either ( adjusted mean CBS 45\\u00b75 in the intervention group versus 45\\u00b70 in the control group , difference 0\\u00b75 points [ 95 % CI -1\\u00b77 to 2\\u00b77 ] , p value=0\\u00b7660 , ICC=0\\u00b7013 ) . Patient and caregiver costs were similar in both groups ( length of the initial stroke admission and associated costs were \\u00a3 13,127 for the intervention group and \\u00a3 12,471 for the control group ; adjusted mean difference \\u00a3 1243 [ 95 % CI -1533 to 4019 ] ; p value=0\\u00b7380 ) . Probabilities of cost-effectiveness based on QALYs were low . INTERPRETATION In a large scale , robust evaluation , results from this study have shown no differences between the LSCTC and usual care on any of the assessed outcomes . The immediate period after stroke might not be the ideal time to deliver structured caregiver training . FUNDING Medical Research Council\\\", 'Differential enrollment into clinical trials by gender has been described previously . In 1993 , the National Institutes of Health ( NIH ) Revitalization Act was enacted to promote the inclusion of women in clinical trials . The purpose of this study was to review patterns in clinical trial enrollment among studies published in a major medical journal to determine the effects of this policy . A systematic search was conducted of all articles published in the Original Articles section of The New Engl and Journal of Medicine from 1994 to 1999 . Two independent observers abstract ed information from the r and omized clinical trials using st and ardized forms . All r and omized clinical trials in which the primary end point was total mortality or included mortality in a composite end point were considered for review . Trials were analyzed for enrollment of women with respect to disease state , funding source , site of trial performance , and use of gender-specific data analysis . From 1994 to 1999 , 1322 original articles were published in The New Engl and Journal of Medicine , including 442 r and omized , controlled trials of which 120 met our inclusion criteria . On average , 24.6 % women were enrolled .  Gender-specific data analysis was performed in 14 % of the trials . The NIH Revitalization Act does not appear to have improved gender-balanced enrollment or promoted the use of gender-specific analyses in clinical trials published in an influential medical journal . Overcoming this trend will require rigorous efforts on the part of funding entities , trial investigators , and journals disseminating study results', 'BACKGROUND Current treatment recommendations for patients with polycythemia vera call for maintaining a hematocrit of less than 45 % , but this therapeutic strategy has not been tested in a r and omized clinical trial . METHODS We r and omly assigned 365 adults with JAK2-positive polycythemia vera who were being treated with phlebotomy , hydroxyurea , or both to receive either more intensive treatment ( target hematocrit , < 45 % ) ( low-hematocrit group ) or less intensive treatment ( target hematocrit , 45 to 50 % ) ( high-hematocrit group ) . The primary composite end point was the time until death from cardiovascular causes or major thrombotic events . The secondary end points were cardiovascular events , cardiovascular hospitalizations , incidence of cancer , progression to myelofibrosis , myelodysplasia or leukemic transformation , and hemorrhage . An intention-to-treat analysis was performed . RESULTS After a median follow-up of 31 months , the primary end point was recorded in 5 of 182 patients in the low-hematocrit group ( 2.7 % ) and 18 of 183 patients in the high-hematocrit group ( 9.8 % ) ( hazard ratio in the high-hematocrit group , 3.91 ; 95 % confidence interval [ CI ] , 1.45 to 10.53 ; P=0.007 ) . The primary end point plus superficial-vein thrombosis occurred in 4.4 % of patients in the low-hematocrit group , as compared with 10.9 % in the high-hematocrit group ( hazard ratio , 2.69 ; 95 % CI , 1.19 to 6.12 ; P=0.02 ) . Progression to myelofibrosis , myelodysplasia or leukemic transformation , and bleeding were observed in 6 , 2 , and 2 patients , respectively , in the low-hematocrit group , as compared with 2 , 1 , and 5 patients , respectively , in the high-hematocrit group . There was no significant between-group difference in the rate of adverse events . CONCLUSIONS In patients with polycythemia vera , those with a hematocrit target of less than 45 % had a significantly lower rate of cardiovascular death and major thrombosis than did those with a hematocrit target of 45 to 50 % . ( Funded by the Italian Medicines Agency and others ; Clinical Trials.gov number , NCT01645124 , and EudraCT number , 2007 - 006694 - 91 . )', 'BACKGROUND All-trans retinoic acid ( ATRA ) with chemotherapy is the st and ard of care for acute promyelocytic leukemia ( APL ) , result ing in cure rates exceeding 80 % . Pilot studies of treatment with arsenic trioxide with or without ATRA have shown high efficacy and reduced hematologic toxicity . METHODS We conducted a phase 3 , multicenter trial comparing ATRA plus chemotherapy with ATRA plus arsenic trioxide in patients with APL classified as low-to-intermediate risk ( white-cell count , \\u226410 \\u00d7 10(9 ) per liter ) . Patients were r and omly assigned to receive either ATRA plus arsenic trioxide for induction and consolidation therapy or st and ard ATRA-idarubicin induction therapy followed by three cycles of consolidation therapy with ATRA plus chemotherapy and maintenance therapy with low-dose chemotherapy and ATRA . The study was design ed as a noninferiority trial to show that the difference between the rates of event-free survival at 2 years in the two groups was not greater than 5 % . RESULTS Complete remission was achieved in all 77 patients in the ATRA-arsenic  trioxide group who could be evaluated ( 100 % ) and in 75 of 79 patients in the ATRA-chemotherapy group ( 95 % ) ( P=0.12 ) . The median follow-up was 34.4 months . Two-year event-free survival rates were 97 % in the ATRA-arsenic trioxide group and 86 % in the ATRA-chemotherapy group ( 95 % confidence interval for the difference , 2 to 22 percentage points ; P<0.001 for noninferiority and P=0.02 for superiority of ATRA-arsenic trioxide ) . Overall survival was also better with ATRA-arsenic trioxide ( P=0.02 ) . As compared with ATRA-chemotherapy , ATRA-arsenic trioxide was associated with less hematologic toxicity and fewer infections but with more hepatic toxicity . CONCLUSIONS ATRA plus arsenic trioxide is at least not inferior and may be superior to ATRA plus chemotherapy in the treatment of patients with low-to-intermediate-risk APL . ( Funded by Associazione Italiana contro le Leucemie and others ; Clinical Trials.gov number , NCT00482833 . )', \\\"BACKGROUND Among patients with Alzheimer 's disease who have had a response to antipsychotic medication for psychosis or agitation-aggression , the risk of a recurrence of symptoms after discontinuation of the medication has not been established . METHODS Patients with Alzheimer 's disease and psychosis or agitation-aggression received open-label treatment with risperidone for 16 weeks . Those who had a response to risperidone therapy were then r and omly assigned , in a double-blind fashion , to one of three regimens : continued risperidone therapy for 32 weeks ( group 1 ) , risperidone therapy for 16 weeks followed by placebo for 16 weeks ( group 2 ) , or placebo for 32 weeks ( group 3 ) . The primary outcome was the time to relapse of psychosis or agitation . RESULTS A total of 180 patients received open-label  risperidone ( mean dose , 0.97 mg daily ) . The severity of psychosis and agitation were reduced , although there was a mild increase in extrapyramidal signs ;  112 patients met the criteria for response to treatment , of whom 110 underwent r and omization . In the first 16 weeks after r and omization , the rate of relapse was higher in the group that received placebo than in the groups that received risperidone ( 60 % [ 24 of 40 patients in group 3 ] vs. 33 % [ 23 of 70 in groups 1 and 2 ] ; P=0.004 ; hazard ratio with placebo , 1.94 ; 95 % confidence interval [ CI ] , 1.09 to 3.45 ; P=0.02 ) . During the next 16 weeks , the rate of relapse was higher in the group that was switched from risperidone to placebo than in the group that continued to receive risperidone ( 48 % [ 13 of 27 patients in group 2 ] vs. 15 % [ 2 of 13 in group 1 ] ; P=0.02 ; hazard ratio , 4.88 ; 95 % CI , 1.08 to 21.98 ; P=0.02 ) . The rates of adverse events and death after r and omization did not differ significantly among the groups , although comparisons were based on small numbers of patients , especially during the final 16 weeks . CONCLUSIONS In patients with Alzheimer 's disease who had psychosis or agitation that had responded to risperidone therapy for 4 to 8 months , discontinuation of risperidone was associated with an increased risk of relapse . ( Funded by the National Institutes of Health and others ; Clinical Trials.gov number , NCT00417482 . )\\\", \\\"BACKGROUND Alzheimer 's disease is characterized by the presence of cortical amyloid-beta ( A\\u03b2 ) protein plaques , which result from the sequential action of \\u03b2-secretase and \\u03b3-secretase on amyloid precursor protein . Semagacestat is a small-molecule \\u03b3-secretase inhibitor that was developed as a potential treatment for Alzheimer 's disease . METHODS We conducted a double-blind , placebo-controlled trial in which 1537 patients with probable Alzheimer 's disease underwent r and omization to receive 100 mg of semagacestat , 140 mg of semagacestat , or placebo daily .  Changes in cognition from baseline to week 76 were assessed with the use of the cognitive subscale of the Alzheimer 's Disease Assessment Scale for cognition ( ADAS-cog ) , on which scores range from 0 to 70 and higher scores indicate greater cognitive impairment , and changes in functioning were assessed with the Alzheimer 's Disease Cooperative Study -Activities of Daily Living ( ADCS-ADL ) scale , on which scores range from 0 to 78 and higher scores indicate better functioning . A mixed-model repeated- measures analysis was used . RESULTS The trial was terminated before completion on the basis of a recommendation by the data and safety monitoring board . At termination , there were 189 patients in the group receiving placebo  , 153 patients in the group receiving 100 mg of semagacestat , and 121 patients in the group receiving 140 mg of semagacestat .  The ADAS-cog scores worsened in all three groups ( mean change , 6.4 points in the placebo group , 7.5 points in the group receiving 100 mg of the study drug , and 7.8 points in the group receiving 140 mg ; P=0.15 and P=0.07 , respectively , for the comparison with placebo ) . The ADCS-ADL scores also worsened in all groups ( mean change at week 76 , -9.0 points in the placebo group , -10.5 points in the 100-mg group , and -12.6 points in the 140-mg group ; P=0.14 and P<0.001 , respectively , for the comparison with placebo ) . Patients treated with semagacestat  lost more weight and had more skin cancers and infections , treatment discontinuations due to adverse events , and serious adverse events ( P<0.001 for all comparisons with placebo ) . Laboratory abnormalities included reduced levels of lymphocytes , T cells , immunoglobulins , albumin , total protein , and uric acid and elevated levels of eosinophils , monocytes , and cholesterol ; the urine pH was also elevated . CONCLUSIONS As compared with placebo , semagacestat did not improve cognitive status , and patients receiving the higher dose had significant worsening of functional ability .  Semagacestat was associated with more adverse events , including skin cancers and infections . ( Funded by Eli Lilly ; Clinical Trials.gov number , NCT00594568 .\\\", 'BACKGROUND Interferon-free regimens would be a major advance in the treatment of patients with chronic hepatitis C virus ( HCV ) infection . METHODS In this phase 2b , r and omized , open-label trial of faldaprevir ( a protease inhibitor ) and deleobuvir ( a nonnucleoside polymerase inhibitor ) , we r and omly assigned 362 previously untreated patients with HCV genotype 1 infection to one of five groups : faldaprevir at a dose of 120 mg once daily and deleobuvir at a dose of 600 mg three times daily , plus ribavirin , for 16 , 28 , or 40 weeks ( TID16W , TID28W , or TID40W , respectively ) ; faldaprevir at a dose of 120 mg once daily and deleobuvir at a dose of 600 mg twice daily , plus ribavirin , for 28 weeks ( BID28W ) ; or faldaprevir at a dose of 120 mg once daily and deleobuvir at a dose of 600 mg three times daily , without ribavirin , for 28 weeks ( TID28W-NR ) . The primary end point was a sustained virologic response 12 weeks after the completion of therapy . RESULTS The primary end point was met in 59 % of patients in the TID16W group , 59 % of patients in the TID28W group , 52 % of patients in the TID40W group , 69 % of patients in the BID28W group , and 39 % of patients in the TID28W-NR group . The sustained virologic response 12 weeks after the completion of therapy did not differ significantly according to treatment duration or dosage among ribavirin-containing regimens . This response was significantly higher with TID28W than with TID28W-NR ( P=0.03 ) . Rates of a sustained virologic response 12 weeks after the completion of therapy were 56 to 85 % among patients with genotype 1b infection versus 11 to 47 % among patients with genotype 1a infection and 58 to 84 % among patients with IL28B CC versus 33 to 64 % with non-CC genotypes . Rash , photosensitivity , nausea , vomiting , and diarrhea were the most common adverse events . CONCLUSIONS The rate of a sustained virologic response 12 weeks after the completion of therapy was 52 to 69 % among patients who received interferon-free treatment with faldaprevir in combination with deleobuvir plus ribavirin . ( Funded by Boehringer Ingelheim ; SOUND-C2 Clinical Trials.gov number , NCT01132313 . )', \\\"BACKGROUND The treatment of relapsed chronic lymphocytic leukemia ( CLL ) has result ed in few durable remissions . Bruton 's tyrosine kinase ( BTK ) , an essential component of B-cell-receptor signaling , mediates interactions with the tumor microenvironment and promotes the survival and proliferation of CLL cells . METHODS We conducted a phase 1b-2 multicenter study to assess the safety , efficacy , pharmacokinetics , and pharmacodynamics of ibrutinib ( PCI-32765 ) , a first-in-class , oral covalent inhibitor of BTK design ed for treatment of B-cell cancers , in patients with relapsed or refractory CLL or small lymphocytic lymphoma . A total of 85 patients , the majority of whom were considered to have high-risk disease , received ibrutinib orally once daily ; 51 received 420 mg , and 34 received 840 mg . RESULTS Toxic effects were predominantly grade 1 or 2 and included transient diarrhea , fatigue , and upper respiratory tract infection ; thus , patients could receive extended treatment with minimal hematologic toxic effects . The overall response rate was the same in the group that received 420 mg and the group that received 840 mg ( 71 % ) , and an additional 20 % and 15 % of patients in the respective groups had a partial response with lymphocytosis . The response was independent of clinical and genomic risk factors present before treatment , including advanced-stage disease , the number of previous therapies , and the 17p13.1 deletion . At 26 months , the estimated progression-free survival rate was 75 % and the rate of overall survival was 83 % . CONCLUSIONS Ibrutinib was associated with a high frequency of durable remissions in patients with relapsed or refractory CLL and small lymphocytic lymphoma , including patients with high-risk genetic lesions . ( Funded by Pharmacyclics and others ; Clinical Trials.gov number , NCT01105247 . )\\\", 'BACKGROUND For patients with smoldering multiple myeloma , the st and ard of care is observation until symptoms develop . However , this approach does not identify high-risk patients who may benefit from early intervention . METHODS In this r and omized , open-label , phase 3 trial , we r and omly assigned 119 patients with high-risk smoldering myeloma to treatment or observation . Patients in the treatment group received an induction regimen ( lenalidomide at a dose of 25 mg per day on days 1 to 21 , plus dexamethasone at a dose of 20 mg per day on days 1 to 4 and days 12 to 15 , at 4-week intervals for nine cycles ) , followed by a maintenance regimen ( lenalidomide at a dose of 10 mg per day on days 1 to 21 of each 28-day cycle for 2 years ) . The primary end point was time to progression to symptomatic disease . Secondary end points were response rate , overall survival , and safety . RESULTS After a median follow-up of 40 months , the median time to progression was significantly longer in the treatment group than in the observation group ( median not reached vs. 21 months ; hazard ratio for progression , 0.18 ; 95 % confidence interval [ CI ] , 0.09 to 0.32 ; P<0.001 ) . The 3-year survival rate was also higher in the treatment group ( 94 % vs. 80 % ; hazard ratio for death , 0.31 ; 95 % CI , 0.10 to 0.91 ; P=0.03 ) . A partial response or better was achieved in 79 % of patients in the treatment group after the induction phase and in 90 % during the maintenance phase . Toxic effects were mainly grade 2 or lower . CONCLUSIONS Early treatment for patients with high-risk smoldering myeloma delays progression to active disease and increases overall survival . ( Funded by Celgene ; Clinical Trials.gov number , NCT00480363 . )', 'BACKGROUND To assess potentially elevated cardiovascular risk related to new antihyperglycemic drugs in patients with type 2 diabetes , regulatory agencies require a comprehensive evaluation of the cardiovascular safety profile of new antidiabetic therapies . We assessed cardiovascular outcomes with alogliptin , a new inhibitor of dipeptidyl peptidase 4 ( DPP-4 ) , as compared with placebo in patients with type 2 diabetes who had had a recent acute coronary syndrome . METHODS We r and omly assigned patients with type 2 diabetes and either an acute myocardial infa rct ion or unstable angina requiring hospitalization within the previous 15 to 90 days to receive alogliptin or placebo in addition to existing antihyperglycemic and cardiovascular drug therapy . The study design was a double-blind , noninferiority trial with a prespecified noninferiority margin of 1.3 for the hazard ratio for the primary end point of a composite of death from cardiovascular causes , nonfatal myocardial infa rct ion , or nonfatal stroke . RESULTS A total of 5380 patients underwent r and omization and were followed for up to 40 months ( median , 18 months ) . A primary end-point event occurred in 305 patients assigned to alogliptin ( 11.3 % ) and in 316 patients assigned to placebo ( 11.8 % ) ( hazard ratio , 0.96 ; upper boundary of the one-sided repeated confidence interval , 1.16 ; P<0.001 for noninferiority ) . Glycated hemoglobin levels were significantly lower with alogliptin than with placebo ( mean difference , -0.36 percentage points ; P<0.001 ) . Incidences of hypoglycemia , cancer , pancreatitis , and initiation of dialysis were similar with alogliptin and placebo . CONCLUSIONS Among patients with type 2 diabetes who had had a recent acute coronary syndrome , the rates of major adverse cardiovascular events were not increased with the DPP-4 inhibitor alogliptin as compared with placebo . ( Funded by Takeda Development Center Americas ; EXAMINE Clinical Trials.gov number , NCT00968708 . )', 'BACKGROUND Although P2Y12 antagonists are effective in patients with non-ST-segment elevation ( NSTE ) acute coronary syndromes , the effect of the timing of administration -- before or after coronary angiography -- is not known . We evaluated the effect of administering the P2Y12 antagonist prasugrel at the time of diagnosis versus administering it after the coronary angiography if percutaneous coronary intervention ( PCI ) was indicated . METHODS We enrolled 4033 patients with NSTE acute coronary syndromes and a positive troponin level who were scheduled to undergo coronary angiography within 2 to 48 hours after r and omization . Patients were r and omly assigned to receive prasugrel ( a 30-mg loading dose ) before the angiography ( pretreatment group ) or placebo ( control group ) . When PCI was indicated , an additional 30 mg of prasugrel was given in the pretreatment group at the time of PCI and 60 mg of prasugrel was given in the control group . RESULTS The rate of the primary efficacy end point , a composite of death from cardiovascular causes , myocardial infa rct ion , stroke , urgent revascularization , or glycoprotein IIb/IIIa inhibitor rescue therapy ( glycoprotein IIb/IIIa bailout ) through day 7 , did not differ significantly between the two groups ( hazard ratio with pretreatment , 1.02 ; 95 % confidence interval [ CI ] , 0.84 to 1.25 ; P=0.81 ) . The rate of the key safety end point of all Thrombolysis in Myocardial Infa rct ion ( TIMI ) major bleeding episodes , whether related or not related to coronary-artery bypass grafting ( CABG ) , through day 7 was increased with pretreatment ( hazard ratio , 1.90 ; 95 % CI , 1.19 to 3.02 ; P=0.006 ) . The rates of TIMI major bleeding and life-threatening bleeding not related to CABG were increased by a factor of 3 and 6 , respectively . Pretreatment did not reduce the rate of the primary outcome among patients undergoing PCI ( 69 % of the patients ) but increased the rate of TIMI major bleeding at 7 days . All the results were confirmed at 30 days and in prespecified subgroups . CONCLUSIONS Among patients with NSTE acute coronary syndromes who were scheduled to undergo catheterization , pretreatment with prasugrel did not reduce the rate of major ischemic events up to 30 days but increased the rate of major bleeding complications . ( Funded by Daiichi Sankyo and Eli Lilly ; ACCOAST Clinical Trials.gov number , NCT01015287 . )', \\\"BACKGROUND Idiopathic pulmonary fibrosis ( IPF ) is a progressive , fatal disorder of unknown cause with no effective treatment . Cough affects up to 80 % of patients with IPF , is frequently disabling , and lacks effective therapy . OBJECTIVE To determine the efficacy of thalidomide in suppressing cough in patients with IPF . DESIGN 24-week , double-blind , 2-treatment , 2-period crossover trial . ( Clinical Trials.gov registration number : NCT00600028 ) SETTING 1 university center . PARTICIPANTS 98 participants were screened , 24 were r and omly assigned , 23 received treatment ( 78.3 % men ; mean age , 67.6 years ; mean FVC , 70.4 % predicted ) , and 20 completed both treatment periods . MEASUREMENTS The primary end point was cough-specific quality of life measured by the Cough Quality of Life Question naire ( CQLQ ) . Secondary end points were visual analogue scale of cough and the St. George 's Respiratory Question naire ( SGRQ ) . For all measures , lower scores equaled improved cough or respiratory quality of life . RESULTS CQLQ scores significantly improved with thalidomide ( mean difference vs. placebo , -11.4 [ 95 % CI , -15.7 to -7.0 ] ; P < 0.001 ) . Thalidomide also significantly improved scores on the visual analogue scale of cough ( mean difference vs. placebo , -31.2 [ CI , -45.2 to -17.2 ] ; P < 0.001 ) . In participants receiving thalidomide , scores from the total SGRQ , SGRQ symptom domain , and SGRQ impact domain improved compared with those of participants receiving placebo .  Adverse events were reported in 74 % of patients receiving thalidomide and 22 % receiving placebo ;  constipation , dizziness , and malaise were more frequent with thalidomide . LIMITATION This was a single-center study of short duration and small sample size focused on symptom-specific quality of life . CONCLUSION Thalidomide improved cough and respiratory quality of life in patients with IPF . A larger trial is warranted to assess these promising results . PRIMARY FUNDING SOURCE Celgene Corporation\\\", 'BACKGROUND The role of aspirin in thromboprophylaxis after total hip arthroplasty ( THA ) is controversial . OBJECTIVE To compare extended prophylaxis with aspirin and dalteparin for prevention of symptomatic venous thromboembolism ( VTE )  after THA . DESIGN Multicenter r and omized , controlled trial with a noninferiority design based on a minimal clinical ly important difference of 2.0 % . R and omization was electronically generated ; patients were assigned to a treatment group through a Web-based program . Patients , physicians , study coordinators , health care team members , outcome adjudicators , and data analysts were blinded to interventions . ( Current Controlled Trials : IS RCT N11902170 ) . SETTING 12 tertiary care orthopedic referral centers in Canada . PATIENTS 778 patients who had elective unilateral THA between 2007 and 2010 . INTERVENTION After an initial 10 days of dalteparin prophylaxis after elective THA , patients were r and omly assigned to 28 days of dalteparin ( n = 400 ) or aspirin ( n = 386 ) . MEASUREMENTS Symptomatic VTE confirmed by objective testing ( primary efficacy outcome ) and bleeding . RESULTS Five of 398 patients ( 1.3 % ) r and omly assigned to dalteparin and 1 of 380 ( 0.3 % ) r and omly assigned to aspirin  had VTE ( absolute difference , 1.0 percentage point [ 95 % CI , -0.5 to 2.5 percentage points ] ) . Aspirin was noninferior ( P < 0.001 ) but not superior ( P = 0.22 ) to dalteparin . Clinical ly significant bleeding occurred in 5 patients ( 1.3 % ) receiving dalteparin and 2 ( 0.5 % ) receiving aspirin . The absolute between-group difference in a composite of all VTE and clinical ly significant bleeding events was 1.7 percentage points ( CI , -0.3 to 3.8 percentage points ; P = 0.091 ) in favor of aspirin . LIMITATION The study was halted prematurely because of difficulty with patient recruitment . CONCLUSION Extended prophylaxis for 28 days with aspirin was noninferior to and as safe as dalteparin for the prevention of VTE after THA in patients who initially received dalteparin for 10 days . Given its low cost and greater convenience , aspirin may be considered a reasonable alternative for extended thromboprophylaxis after THA . PRIMARY FUNDING SOURCE Canadian Institutes of Health Research', 'BACKGROUND Social networking technologies are an emerging tool for HIV prevention . OBJECTIVE To determine whether social networking communities can increase HIV testing among African American and Latino men who have sex with men ( MSM ) . DESIGN R and omized , controlled trial with concealed allocation . ( Clinical Trials.gov : NCT01701206 ) . SETTING Online . PATIENTS 112 MSM based in Los Angeles , more than 85 % of whom were African American or Latino . INTERVENTION Sixteen  peer leaders were r and omly assigned to deliver information about HIV or general health to participants via Facebook groups over 12 weeks . After participants accepted a request to join the group , participation was voluntary . Group participation and engagement were monitored . Participants could request a free , home-based HIV testing kit and completed question naires at baseline and 12-week follow-up . MEASUREMENTS Participant acceptance of and engagement in the intervention and social network participation , rates of home-based HIV testing , and sexual risk behaviors . RESULTS Almost 95 % of intervention participants and 73 % of control participants voluntarily communicated using the social platform . Twenty-five of 57 intervention participants ( 44 % ) requested home-based HIV testing kits compared with 11 of 55 control participants ( 20 % ) ( difference , 24 percentage points [ 95 % CI , 8 to 41 percentage points ] ) . Nine of the 25 intervention participants ( 36 % ) who requested the test took it and mailed it back compared with 2 of the 11 control participants ( 18 % ) who requested the test . Retention at study follow-up was more than 93 % . LIMITATION Only 2 Facebook communities were included for each group . CONCLUSION Social networking communities are acceptable and effective tools to increase home-based HIV testing among at-risk population s. PRIMARY FUNDING SOURCE National Institute of Mental Health']\"\n        ],\n        \"semantic_type\": \"\",\n        \"description\": \"\"\n      }\n    },\n    {\n      \"column\": \"target\",\n      \"properties\": {\n        \"dtype\": \"string\",\n        \"num_unique_values\": 14162,\n        \"samples\": [\n          \"The economic attractiveness of this therapy improves when administered to those at highest risk as assessed by APACHE II \\u2265 25 ( 93 % probability ICER \\u2264 $ 50,000/LYG ) but these results are not robust to different measures of disease severity .\",\n          \"RESULTS Successful components of programs align to the needs of people with ID .\",\n          \"The intraoperative use of MMC is safe and slightly improves the success rate of Ex- or En-DCR .\"\n        ],\n        \"semantic_type\": \"\",\n        \"description\": \"\"\n      }\n    },\n    {\n      \"column\": \"background\",\n      \"properties\": {\n        \"dtype\": \"string\",\n        \"num_unique_values\": 13943,\n        \"samples\": [\n          \"Objective : Pretreatment of myoinositol is a very new method that was evaluated in multiple small studies to manage poor ovarian response in assisted reproduction .\\nThis study was to determine the efficacy of myoinositol supplement in infertile women undergoing ovulation induction for intracytoplasmic sperm injection ( ICSI ) or in vitro fertilization embryo transfer ( IVF-ET ) .\",\n          \"Chronic non-cancer pain ( CNCP ) is a significant health burden among adults .\\nSt and ard behavioral therapies typically focus on targeting negative affect ( NA ) and yield only modest treatment effects .\\nThe aims of this study were to systematic ally review and investigate the association between positive affect ( PA ) and pain severity among adults with CNCP .\",\n          \"AIM We evaluated the evidence of pharmacogenetic associations with  statins  in a systematic review .\"\n        ],\n        \"semantic_type\": \"\",\n        \"description\": \"\"\n      }\n    }\n  ]\n}"
            }
          },
          "metadata": {},
          "execution_count": 10
        }
      ]
    },
    {
      "cell_type": "markdown",
      "source": [
        "Remove columns we will not use. abstract is our input data, and target is our target data."
      ],
      "metadata": {
        "id": "e9Q3Y16Zyw7_"
      }
    },
    {
      "cell_type": "code",
      "source": [
        "# List of columns to drop\n",
        "columns_to_drop = ['Unnamed: 0', 'review_id', 'pmid', 'title', 'background']\n",
        "\n",
        "# Drop the unnecessary columns\n",
        "tr_df = tr_df.drop(columns=columns_to_drop)\n",
        "ts_df = ts_df.drop(columns=columns_to_drop)\n",
        "vl_df = vl_df.drop(columns=columns_to_drop)\n",
        "\n",
        "tr_df.head(2)\n"
      ],
      "metadata": {
        "colab": {
          "base_uri": "https://localhost:8080/",
          "height": 112
        },
        "id": "XcJYCDXnn7zK",
        "outputId": "15092647-9cfb-4ca7-e5ed-414dc8a6c213"
      },
      "execution_count": null,
      "outputs": [
        {
          "output_type": "execute_result",
          "data": {
            "text/plain": [
              "                                            abstract  \\\n",
              "0  ['Although transplantation of adult bone marro...   \n",
              "1  ['BACKGROUND Primary pulmonary hypertension is...   \n",
              "\n",
              "                                              target  \n",
              "0  Conclusions SC therapy is effective for PAH in...  \n",
              "1  There was a trend for endothelin receptor anta...  "
            ],
            "text/html": [
              "\n",
              "  <div id=\"df-4ec28089-61fd-46b9-8d39-9b622c84146f\" class=\"colab-df-container\">\n",
              "    <div>\n",
              "<style scoped>\n",
              "    .dataframe tbody tr th:only-of-type {\n",
              "        vertical-align: middle;\n",
              "    }\n",
              "\n",
              "    .dataframe tbody tr th {\n",
              "        vertical-align: top;\n",
              "    }\n",
              "\n",
              "    .dataframe thead th {\n",
              "        text-align: right;\n",
              "    }\n",
              "</style>\n",
              "<table border=\"1\" class=\"dataframe\">\n",
              "  <thead>\n",
              "    <tr style=\"text-align: right;\">\n",
              "      <th></th>\n",
              "      <th>abstract</th>\n",
              "      <th>target</th>\n",
              "    </tr>\n",
              "  </thead>\n",
              "  <tbody>\n",
              "    <tr>\n",
              "      <th>0</th>\n",
              "      <td>['Although transplantation of adult bone marro...</td>\n",
              "      <td>Conclusions SC therapy is effective for PAH in...</td>\n",
              "    </tr>\n",
              "    <tr>\n",
              "      <th>1</th>\n",
              "      <td>['BACKGROUND Primary pulmonary hypertension is...</td>\n",
              "      <td>There was a trend for endothelin receptor anta...</td>\n",
              "    </tr>\n",
              "  </tbody>\n",
              "</table>\n",
              "</div>\n",
              "    <div class=\"colab-df-buttons\">\n",
              "\n",
              "  <div class=\"colab-df-container\">\n",
              "    <button class=\"colab-df-convert\" onclick=\"convertToInteractive('df-4ec28089-61fd-46b9-8d39-9b622c84146f')\"\n",
              "            title=\"Convert this dataframe to an interactive table.\"\n",
              "            style=\"display:none;\">\n",
              "\n",
              "  <svg xmlns=\"http://www.w3.org/2000/svg\" height=\"24px\" viewBox=\"0 -960 960 960\">\n",
              "    <path d=\"M120-120v-720h720v720H120Zm60-500h600v-160H180v160Zm220 220h160v-160H400v160Zm0 220h160v-160H400v160ZM180-400h160v-160H180v160Zm440 0h160v-160H620v160ZM180-180h160v-160H180v160Zm440 0h160v-160H620v160Z\"/>\n",
              "  </svg>\n",
              "    </button>\n",
              "\n",
              "  <style>\n",
              "    .colab-df-container {\n",
              "      display:flex;\n",
              "      gap: 12px;\n",
              "    }\n",
              "\n",
              "    .colab-df-convert {\n",
              "      background-color: #E8F0FE;\n",
              "      border: none;\n",
              "      border-radius: 50%;\n",
              "      cursor: pointer;\n",
              "      display: none;\n",
              "      fill: #1967D2;\n",
              "      height: 32px;\n",
              "      padding: 0 0 0 0;\n",
              "      width: 32px;\n",
              "    }\n",
              "\n",
              "    .colab-df-convert:hover {\n",
              "      background-color: #E2EBFA;\n",
              "      box-shadow: 0px 1px 2px rgba(60, 64, 67, 0.3), 0px 1px 3px 1px rgba(60, 64, 67, 0.15);\n",
              "      fill: #174EA6;\n",
              "    }\n",
              "\n",
              "    .colab-df-buttons div {\n",
              "      margin-bottom: 4px;\n",
              "    }\n",
              "\n",
              "    [theme=dark] .colab-df-convert {\n",
              "      background-color: #3B4455;\n",
              "      fill: #D2E3FC;\n",
              "    }\n",
              "\n",
              "    [theme=dark] .colab-df-convert:hover {\n",
              "      background-color: #434B5C;\n",
              "      box-shadow: 0px 1px 3px 1px rgba(0, 0, 0, 0.15);\n",
              "      filter: drop-shadow(0px 1px 2px rgba(0, 0, 0, 0.3));\n",
              "      fill: #FFFFFF;\n",
              "    }\n",
              "  </style>\n",
              "\n",
              "    <script>\n",
              "      const buttonEl =\n",
              "        document.querySelector('#df-4ec28089-61fd-46b9-8d39-9b622c84146f button.colab-df-convert');\n",
              "      buttonEl.style.display =\n",
              "        google.colab.kernel.accessAllowed ? 'block' : 'none';\n",
              "\n",
              "      async function convertToInteractive(key) {\n",
              "        const element = document.querySelector('#df-4ec28089-61fd-46b9-8d39-9b622c84146f');\n",
              "        const dataTable =\n",
              "          await google.colab.kernel.invokeFunction('convertToInteractive',\n",
              "                                                    [key], {});\n",
              "        if (!dataTable) return;\n",
              "\n",
              "        const docLinkHtml = 'Like what you see? Visit the ' +\n",
              "          '<a target=\"_blank\" href=https://colab.research.google.com/notebooks/data_table.ipynb>data table notebook</a>'\n",
              "          + ' to learn more about interactive tables.';\n",
              "        element.innerHTML = '';\n",
              "        dataTable['output_type'] = 'display_data';\n",
              "        await google.colab.output.renderOutput(dataTable, element);\n",
              "        const docLink = document.createElement('div');\n",
              "        docLink.innerHTML = docLinkHtml;\n",
              "        element.appendChild(docLink);\n",
              "      }\n",
              "    </script>\n",
              "  </div>\n",
              "\n",
              "\n",
              "<div id=\"df-6d476b10-98ab-4aa5-b088-60ffa209adb4\">\n",
              "  <button class=\"colab-df-quickchart\" onclick=\"quickchart('df-6d476b10-98ab-4aa5-b088-60ffa209adb4')\"\n",
              "            title=\"Suggest charts\"\n",
              "            style=\"display:none;\">\n",
              "\n",
              "<svg xmlns=\"http://www.w3.org/2000/svg\" height=\"24px\"viewBox=\"0 0 24 24\"\n",
              "     width=\"24px\">\n",
              "    <g>\n",
              "        <path d=\"M19 3H5c-1.1 0-2 .9-2 2v14c0 1.1.9 2 2 2h14c1.1 0 2-.9 2-2V5c0-1.1-.9-2-2-2zM9 17H7v-7h2v7zm4 0h-2V7h2v10zm4 0h-2v-4h2v4z\"/>\n",
              "    </g>\n",
              "</svg>\n",
              "  </button>\n",
              "\n",
              "<style>\n",
              "  .colab-df-quickchart {\n",
              "      --bg-color: #E8F0FE;\n",
              "      --fill-color: #1967D2;\n",
              "      --hover-bg-color: #E2EBFA;\n",
              "      --hover-fill-color: #174EA6;\n",
              "      --disabled-fill-color: #AAA;\n",
              "      --disabled-bg-color: #DDD;\n",
              "  }\n",
              "\n",
              "  [theme=dark] .colab-df-quickchart {\n",
              "      --bg-color: #3B4455;\n",
              "      --fill-color: #D2E3FC;\n",
              "      --hover-bg-color: #434B5C;\n",
              "      --hover-fill-color: #FFFFFF;\n",
              "      --disabled-bg-color: #3B4455;\n",
              "      --disabled-fill-color: #666;\n",
              "  }\n",
              "\n",
              "  .colab-df-quickchart {\n",
              "    background-color: var(--bg-color);\n",
              "    border: none;\n",
              "    border-radius: 50%;\n",
              "    cursor: pointer;\n",
              "    display: none;\n",
              "    fill: var(--fill-color);\n",
              "    height: 32px;\n",
              "    padding: 0;\n",
              "    width: 32px;\n",
              "  }\n",
              "\n",
              "  .colab-df-quickchart:hover {\n",
              "    background-color: var(--hover-bg-color);\n",
              "    box-shadow: 0 1px 2px rgba(60, 64, 67, 0.3), 0 1px 3px 1px rgba(60, 64, 67, 0.15);\n",
              "    fill: var(--button-hover-fill-color);\n",
              "  }\n",
              "\n",
              "  .colab-df-quickchart-complete:disabled,\n",
              "  .colab-df-quickchart-complete:disabled:hover {\n",
              "    background-color: var(--disabled-bg-color);\n",
              "    fill: var(--disabled-fill-color);\n",
              "    box-shadow: none;\n",
              "  }\n",
              "\n",
              "  .colab-df-spinner {\n",
              "    border: 2px solid var(--fill-color);\n",
              "    border-color: transparent;\n",
              "    border-bottom-color: var(--fill-color);\n",
              "    animation:\n",
              "      spin 1s steps(1) infinite;\n",
              "  }\n",
              "\n",
              "  @keyframes spin {\n",
              "    0% {\n",
              "      border-color: transparent;\n",
              "      border-bottom-color: var(--fill-color);\n",
              "      border-left-color: var(--fill-color);\n",
              "    }\n",
              "    20% {\n",
              "      border-color: transparent;\n",
              "      border-left-color: var(--fill-color);\n",
              "      border-top-color: var(--fill-color);\n",
              "    }\n",
              "    30% {\n",
              "      border-color: transparent;\n",
              "      border-left-color: var(--fill-color);\n",
              "      border-top-color: var(--fill-color);\n",
              "      border-right-color: var(--fill-color);\n",
              "    }\n",
              "    40% {\n",
              "      border-color: transparent;\n",
              "      border-right-color: var(--fill-color);\n",
              "      border-top-color: var(--fill-color);\n",
              "    }\n",
              "    60% {\n",
              "      border-color: transparent;\n",
              "      border-right-color: var(--fill-color);\n",
              "    }\n",
              "    80% {\n",
              "      border-color: transparent;\n",
              "      border-right-color: var(--fill-color);\n",
              "      border-bottom-color: var(--fill-color);\n",
              "    }\n",
              "    90% {\n",
              "      border-color: transparent;\n",
              "      border-bottom-color: var(--fill-color);\n",
              "    }\n",
              "  }\n",
              "</style>\n",
              "\n",
              "  <script>\n",
              "    async function quickchart(key) {\n",
              "      const quickchartButtonEl =\n",
              "        document.querySelector('#' + key + ' button');\n",
              "      quickchartButtonEl.disabled = true;  // To prevent multiple clicks.\n",
              "      quickchartButtonEl.classList.add('colab-df-spinner');\n",
              "      try {\n",
              "        const charts = await google.colab.kernel.invokeFunction(\n",
              "            'suggestCharts', [key], {});\n",
              "      } catch (error) {\n",
              "        console.error('Error during call to suggestCharts:', error);\n",
              "      }\n",
              "      quickchartButtonEl.classList.remove('colab-df-spinner');\n",
              "      quickchartButtonEl.classList.add('colab-df-quickchart-complete');\n",
              "    }\n",
              "    (() => {\n",
              "      let quickchartButtonEl =\n",
              "        document.querySelector('#df-6d476b10-98ab-4aa5-b088-60ffa209adb4 button');\n",
              "      quickchartButtonEl.style.display =\n",
              "        google.colab.kernel.accessAllowed ? 'block' : 'none';\n",
              "    })();\n",
              "  </script>\n",
              "</div>\n",
              "\n",
              "    </div>\n",
              "  </div>\n"
            ],
            "application/vnd.google.colaboratory.intrinsic+json": {
              "type": "dataframe",
              "variable_name": "tr_df",
              "summary": "{\n  \"name\": \"tr_df\",\n  \"rows\": 14188,\n  \"fields\": [\n    {\n      \"column\": \"abstract\",\n      \"properties\": {\n        \"dtype\": \"string\",\n        \"num_unique_values\": 14159,\n        \"samples\": [\n          \"['INTRODUCTION Mass screening modalities remained controversial and made necessary large studies . The European R and omized study of Screening for Prostate cancer ( ERSPC ) was initiated in 1994 . Eight countries including France are participating . METHODS ERSPC is a multicentric r and omised study and started with the aim to determine whether a 20 % reduction in prostate cancer mortality can be achieved with PSA-based screening .  Men aged 50 - 74 and living in the Tarn or H\\u00e9rault were included . After r and omization and exclusion of men who died or had a prostate cancer were invited to participate by giving their consent and had a PSA test . In case of PSA greater than or equal to 3 ng/ml , biopsy was recommended . Included men in both screening and control group were followed through cancer registries . Objective was to present first round results of French participation to ERSPC , to determine factors of participation and to compare detected cancers cases between both groups . RESULTS Population of men included was 84,781 and were r and omized in screening ( n=42,590 ) or control ( n=42,191 ) group .  Participation rate was 36.9 % in Tarn and 24.3 % in H\\u00e9rault . PSA was greater than or equal to 3 ng/ml in 15,4 % of cases ( n=1812 ) and 45.9 % of men ( n=832 ) who were biopsied . Age , previous PSA performed within two years prior to invitation , health insurance and department of residence were significantly associated to participation rate . Cumulated incidence with a four years follow-up was 2.48 % ( n=1053 ) in screening and 1.99 % ( n=840 ) in control group , with a relative risk ( RR ) of 1.242 . Corresponding RR for Tarn and H\\u00e9rault were 1.37 and 1.20 respectively . Clinical parameters and treatments modalities were similar between both screening and control groups ( radical prostatectomy 68 % and radiation therapy 20 % ) . CONCLUSION Participation rate at first round was modest . Profile of men who participated compared to men who did not were different . The control group was probably contaminated by PSA testing outside study protocol . Consequences at ERSPC level of this low participation rate on final analysis remain to be determined', 'The objectives of the Prostate , Lung , Colorectal and Ovarian Cancer Screening Trial are to determine in screenees ages 55 - 74 at entry whether screening with flexible sigmoidoscopy ( 60-cm sigmoidoscope ) can reduce mortality from colorectal cancer , whether screening with chest X-ray can reduce mortality from lung cancer , whether screening men with digital rectal examination ( DRE ) plus serum prostate-specific antigen ( PSA ) can reduce mortality from prostate cancer , and whether screening women with CA125 and transvaginal ultrasound ( TVU ) can reduce mortality from ovarian cancer . Secondary objectives are to assess screening variables other than mortality for each of the interventions including sensitivity , specificity , and positive predictive value ; to assess incidence , stage , and survival of cancer cases ; and to investigate biologic and /or prognostic characterizations of tumor tissue and biochemical products as intermediate endpoints . The design is a multicenter , two-armed , r and omized trial with 37,000 females and 37,000 males in each of the two arms . In the intervention arm , the  PSA and CA125 tests  are performed at entry , then annually for 5 years . The  DRE , TVU , and chest X-ray exams  are performed at entry and then annually for 3 years . Sigmoidoscopy is performed at entry and then at the 5-year point . Participants in the control arm follow their usual medical care practice s. Participants will be followed for at least 13 years from r and omization to ascertain all cancers of the prostate , lung , colorectum , and ovary , as well as deaths from all causes . A pilot phase was undertaken to assess the r and omization , screening , and data collection procedures of the trial and to estimate design parameters such as compliance and contamination levels . This paper describes eligibility , consent , and other design features of the trial , r and omization and screening procedures , and an outline of the follow-up procedures . Sample -size calculations are reported , and a data analysis plan is presented', 'BACKGROUND Prostate cancer ( PC ) screening with prostate-specific antigen ( PSA ) has been shown to decrease PC mortality by the European R and omized Study of Screening for Prostate Cancer ( ERSPC ) . We evaluated mortality results in the Finnish Prostate Cancer Screening Trial , the largest component of ERSPC . The primary endpoint was PC-specific mortality . METHODS A total of 80 144 men were identified from the population registry and r and omized to either a  screening arm ( SA ) or a  control arm ( CA ) . Men in the SA were invited to serum PSA determination up to three times with a 4-year interval between each scan and referred to biopsy if the PSA concentration was greater than or equal to 4.0 ng/mL or 3.0 to 3.99 ng/mL with a free/total PSA ratio less than or equal to 16 % . Men in the CA received usual care . The analysis covers follow-up to 12 years from r and omization for all men . Hazard ratios ( HRs ) were estimated for incidence and mortality using Cox proportional hazard model . All statistical tests were two-sided . RESULTS PC incidence was 8.8 per 1000 person-years in the SA and 6.6 in the CA ( HR = 1.34 , 95 % confidence interval [ CI ] = 1.27 to 1.40 ) . The incidence of advanced PC was lower in the SA vs CA arm ( 1.2 vs 1.6 , respectively ; HR = 0.73 , 95 % CI = 0.64 to 0.82 ; P < .001 ) . For PC mortality , no statistically significant difference was observed between the SA and CA ( HR = 0.85 , 95 % CI = 0.69 to 1.04 ) ( with intention-to-screen analysis ) . To avoid one PC death , we needed to invite 1199 men to screening and to detect 25 PCs . We observed no difference in all-cause mortality between trial arms . CONCLUSIONS At 12 years , a relatively conservative screening protocol produced a small , non-statistically significant PC-specific mortality reduction in the Finnish trial , at the cost of moderate overdiagnosis', 'BACKGROUND Prostate cancer is one of the leading causes of death from malignant disease among men in the developed world . One strategy to decrease the risk of death from this disease is screening with prostate-specific antigen ( PSA ) ; however , the extent of benefit and harm with such screening is under continuous debate . METHODS In December , 1994 , 20,000 men born between 1930 and 1944 , r and omly sample d from the population register , were r and omised by computer in a 1:1 ratio to either a screening group invited for PSA testing every 2 years ( n=10,000 ) or to a control group not invited ( n=10,000 ) . Men in the screening group were invited up to the upper age limit ( median 69 , range 67 - 71 years ) and only men with raised PSA concentrations were offered additional tests such as digital rectal examination and prostate biopsies . The primary endpoint was prostate-cancer specific mortality , analysed according to the intention-to-screen principle . The study is ongoing , with men who have not reached the upper age limit invited for PSA testing . This is the first planned report on cumulative prostate-cancer incidence and mortality calculated up to Dec 31 , 2008 . This study is registered as an International St and ard R and omised Controlled Trial IS RCT N54449243 . FINDINGS In each group , 48 men were excluded from the analysis because of death or emigration before the r and omisation date , or prevalent prostate cancer . In men r and omised to screening , 7578 ( 76 % ) of 9952 attended at least once . During a median follow-up of 14 years , 1138 men in the screening group and 718 in the control group  were diagnosed with prostate cancer , result ing in a cumulative prostate-cancer incidence of 12.7 % in the screening group and 8.2 % in the  control  group ( hazard ratio 1.64 ; 95 % CI 1.50 - 1.80 ; p<0.0001 ) . The absolute cumulative risk reduction of death from prostate cancer at 14 years was 0.40 % ( 95 % CI 0.17 - 0.64 ) , from 0.90 % in the control group to 0.50 % in the screening group . The rate ratio for death from prostate cancer was 0.56 ( 95 % CI 0.39 - 0.82 ; p=0.002 ) in the screening compared with the control group . The rate ratio of death from prostate cancer for attendees compared with the control group was 0.44 ( 95 % CI 0.28 - 0.68 ; p=0.0002 ) . Overall , 293 ( 95 % CI 177 - 799 ) men needed to be invited for screening and 12 to be diagnosed to prevent one prostate cancer death . INTERPRETATION This study shows that prostate cancer mortality was reduced almost by half over 14 years . However , the risk of over-diagnosis is substantial and the number needed to treat is at least as high as in breast-cancer screening programmes . The benefit of prostate-cancer screening compares favourably to other cancer screening programs . FUNDING The Swedish Cancer Society , the Swedish Research Council , and the National Cancer Institute', 'Objective To assess whether screening for prostate cancer reduces prostate cancer specific mortality . Design Population based r and omised controlled trial . Setting Department of Urology , Norrk\\u00f6ping , and the South-East Region Prostate Cancer Register . Participants All men aged 50 - 69 in the city of Norrk\\u00f6ping , Sweden , identified in 1987 in the National Population Register ( n=9026 ) . Intervention From the study population , 1494 men were r and omly allocated to be screened by including every sixth man from a list of date s of birth . These men were invited to be screened every third year from 1987 to 1996 . On the first two occasions screening was done by digital rectal examination only . From 1993 , this was combined with prostate specific antigen testing , with 4 \\u00b5g/L as cut off . On the fourth occasion ( 1996 ) , only men aged 69 or under at the time of the investigation were invited . Main outcome measures Data on tumour stage , grade , and treatment from the South East Region Prostate Cancer Register . Prostate cancer specific mortality up to 31 December 2008 . Results In the four screenings from 1987 to 1996 attendance was 1161/1492 ( 78 % ) , 957/1363 ( 70 % ) , 895/1210 ( 74 % ) , and 446/606 ( 74 % ) , respectively . There were 85 cases ( 5.7 % ) of prostate cancer diagnosed in the screened group and 292 ( 3.9 % ) in the control group . The risk ratio for death from prostate cancer in the screening group was 1.16 ( 95 % confidence interval 0.78 to 1.73 ) . In a Cox proportional hazard analysis comparing prostate cancer specific survival in the control group with that in the screened group , the hazard ratio for death from prostate cancer was 1.23 ( 0.94 to 1.62 ; P=0.13 ) . After adjustment for age at start of the study , the hazard ratio was 1.58 ( 1.06 to 2.36 ; P=0.024 ) . Conclusions After 20 years of follow-up the rate of death from prostate cancer did not differ significantly between men in the screening group and those in the  control group . Trial registration Current Controlled Trials , IS RCT N06342431', 'BACKGROUND The effect of screening with prostate-specific-antigen ( PSA ) testing and digital rectal examination on the rate of death from prostate cancer is unknown . This is the first report from the Prostate , Lung , Colorectal , and Ovarian ( PLCO ) Cancer Screening Trial on prostate-cancer mortality . METHODS From 1993 through 2001 , we r and omly assigned 76,693 men at 10 U.S. study centers to receive either annual screening ( 38,343 subjects ) or usual care as the control ( 38,350 subjects ) . Men in the screening group were offered annual PSA testing for 6 years and digital rectal examination for 4 years . The subjects and health care providers received the results and decided on the type of follow-up evaluation . Usual care sometimes included screening , as some organizations have recommended . The numbers of all cancers and deaths and causes of death were ascertained . RESULTS In the screening group , rates of compliance were 85 % for PSA testing and 86 % for digital rectal examination . Rates of screening in the control group increased from 40 % in the first year to 52 % in the sixth year for PSA testing and ranged from 41 to 46 % for digital rectal examination . After 7 years of follow-up , the incidence of prostate cancer per 10,000 person-years was 116 ( 2820 cancers ) in the screening group and 95 ( 2322 cancers ) in the control group ( rate ratio , 1.22 ; 95 % confidence interval [ CI ] , 1.16 to 1.29 ) . The incidence of death per 10,000 person-years was 2.0 ( 50 deaths ) in the screening group and 1.7 ( 44 deaths ) in the control group ( rate ratio , 1.13 ; 95 % CI , 0.75 to 1.70 ) . The data at 10 years were 67 % complete and consistent with these overall findings . CONCLUSIONS After 7 to 10 years of follow-up , the rate of death from prostate cancer was very low and did not differ significantly between the two study groups . ( Clinical Trials.gov number , NCT00002540 .', 'BACKGROUND The prostate component of the Prostate , Lung , Colorectal , and Ovarian ( PLCO ) Cancer Screening Trial was undertaken to determine whether there is a reduction in prostate cancer mortality from screening using serum prostate-specific antigen ( PSA ) testing and digital rectal examination ( DRE ) . Mortality after 7 - 10 years of follow-up has been reported previously . We report extended follow-up to 13 years after the trial . METHODS A total of 76 685 men , aged 55 - 74 years , were enrolled at 10 screening centers between November 1993 and July 2001 and r and omly assigned to the intervention  ( organized screening of annual PSA testing for 6 years and annual DRE for 4 years ; 38 340 men ) and control ( usual care , which sometimes included opportunistic screening ; 38 345 men ) arms . Screening was completed in October 2006 . All incident prostate cancers and deaths from prostate cancer through 13 years of follow-up or through December 31 , 2009 , were ascertained . Relative risks ( RRs ) were estimated as the ratio of observed rates in the intervention and control arms , and 95 % confidence intervals ( CIs ) were calculated assuming a Poisson distribution for the number of events . Poisson regression modeling was used to examine the interactions with respect to prostate cancer mortality between trial arm and age , comorbidity status , and pretrial PSA testing . All statistical tests were two-sided . RESULTS Approximately 92 % of the study participants were followed to 10 years and 57 % to 13 years . At 13 years , 4250 participants had been diagnosed with prostate cancer in the intervention arm compared with 3815 in the control arm . Cumulative incidence rates for prostate cancer in the intervention and control arms were 108.4 and 97.1 per 10 000 person-years , respectively , result ing in a relative increase of 12 % in the intervention arm ( RR = 1.12 , 95 % CI = 1.07 to 1.17 ) . After 13 years of follow-up , the cumulative mortality rates from prostate cancer in the intervention and control arms were 3.7 and 3.4 deaths per 10 000 person-years , respectively , result ing in a non-statistically significant difference between the two arms ( RR = 1.09 , 95 % CI = 0.87 to 1.36 ) . No statistically significant interactions with respect to prostate cancer mortality were observed between trial arm and age ( P(interaction ) = .81 ) , pretrial PSA testing ( P(interaction ) = .52 ) , and comorbidity ( P(interaction ) = .68 ) . CONCLUSIONS After 13 years of follow-up , there was no evidence of a mortality benefit for organized annual screening in the PLCO trial compared with opportunistic screening , which forms part of usual care , and there was no apparent interaction with age , baseline comorbidity , or pretrial PSA testing', \\\"PURPOSE This clinical trial is aim ed at evaluating the impact of prostate cancer screening on cancer-specific mortality . SUBJECTS AND METHODS Forty-six thous and four hundred and eighty-six ( 46,486 ) men aged 45 - 80 years registered in the electoral roll of the Quebec city area were r and omized in 1988 between screening and no screening . Screening included measurement of serum prostatic specific antigen ( PSA ) using 3.0 ng/ml as upper limit of normal and digital rectal examination ( DRE ) at first visit . At follow-up visits , serum PSA only was used . RESULTS Seventy-four ( 74 ) deaths from prostate cancer occurred in the 14,231 unscreened controls while 10 deaths were observed in the screened group of 7,348 men during the first 11 years following r and omization . Median follow-up of screened men was 7.93 years . A Cox proportional hazards model of the age at death from prostate cancer shows a 62 % reduction ( P < 0.002 , Fisher 's exact test ) of cause-specific mortality in the screened men ( P = 0.005 ) . These results are in agreement with the continuous decrease of prostate cancer mortality observed in North America\\\", 'BACKGROUND The incidence of prostate cancer has increased substantially since it became common practice to screen asymptomatic men for the disease . The European R and omized Study of Screening for Prostate Cancer ( ERSPC ) was initiated in 1993 to determine how prostate-specific antigen ( PSA ) screening affects prostate cancer mortality . Variations in the screening algorithm , such as the interval between screening rounds , likely influence the morbidity , mortality , and quality of life of the screened population . METHODS We compared the number and characteristics of interval cancers , defined as those diagnosed during the screening interval but not detected by screening , in men in the screening arm of the ERSPC who were aged 55 - 65 years at the time of the first screening and were participating through two centers of the ERSPC : Gothenburg ( 2-year screening interval , n = 4202 ) and Rotterdam ( 4-year screening interval , n = 13301 ) . All participants who were diagnosed with prostate cancer through December 31 , 2005 , but at most 10 years after the initial screening were ascertained by linkage with the national cancer registries . A potentially life-threatening ( aggressive ) interval cancer was defined as one with at least one of the following characteristics at diagnosis : stage M1 or N1 , plasma PSA concentration greater than 20.0 ng/mL , or Gleason score greater than 7 . We used Mantel Cox regression to assess differences between rates of interval cancers and aggressive interval cancers at the two centers . All statistical tests were two-sided . RESULTS The 10-year cumulative incidence of all prostate cancers in Rotterdam versus Gothenburg was 1118 ( 8.41 % ) versus 552 ( 13.14 % ) ( P<.001 ) , the cumulative incidence of interval cancer was 57 ( 0.43 % ) versus 31 ( 0.74 % ) ( P = .51 ) , and the cumulative incidence of aggressive interval cancer was 15 ( 0.11 % ) versus 5 ( 0.12 % ) ( P = .72 ) . CONCLUSION The rate of interval cancer , especially aggressive interval cancer , was low in this study . The 2-year screening interval had higher detection rates than the 4-year interval but did not lead to lower rates of interval and aggressive interval prostate cancers', 'The extent of effective prostate\\u2010specific antigen ( PSA ) contamination in the Rotterdam section of the ongoing European R and omized Study of Screening for Prostate Cancer ( ERSPC ) trial was evaluated and defined as when opportunistic PSA testing of \\u2265 3.0 ng/ml was followed by biopsy , similar to the regular procedure within the trial . Records of participants aged 55\\u201374 years at entry were linked to the regional data base of the general practitioner ( GP ) laboratory to obtain PSA tests requested by GPs in the period 1 July 1997 to 31 May 2000 ( 2.9 years ) , and to the national pathology data base to quantify the number of biopsies . All men r and omized were included , only those with prostate cancer screen\\u2010detected or clinical ly diagnosed before July 1997 were omitted from the analyses . 2,895 out of the 14,349 men ( 20.2 % ) in the control arm and 1,981 out of the 14,052 men ( 14.1 % ) in the screening arm were  PSA\\u2010tested  , at an average annual rate of 73 and 52 per 1,000 person\\u2010years , respectively . These rates were higher than those recorded at the national and regional levels , 33 and 38 per 1,000 person\\u2010years , respectively . Opportunistic PSA testing in the control arm reached a peak within the first months of r and omization , after which it decreased to around 70 per 1,000 person\\u2010years . An opposite pattern was observed in the screening arm , where participants already had received the scheduled screening within the trial . The proportion of men in the control arm with PSA \\u2265 3.0 ng/ml followed by biopsy and prostate cancer was 7\\u20138 % and 3 % , respectively ( 3 % and 0.4\\u20130.6 % in the screening arm ) , over the whole study period . Over a 4\\u2010year rescreening interval , the average PSA and effective contamination amount were approximately 28 % and 10 % , respectively . PSA testing in the control arm in the Rotterdam ERSPC section is high , but was not followed by a substantial increase in prostate biopsies . Although the reasons for ordering PSA test or indicating biopsy are unknown , effective PSA contamination in the Rotterdam ERSPC section is low and not likely to jeopardize the power of the trial . \\u00a9 2003 Wiley\\u2010Liss ,', 'OBJECTIVE To address if prostate cancer ( PCa ) screening decreases PCa mortality in the asymptomatic population , within the setting of the Spanish arm of the European R and omized Study of Screening for Prostate Cancer ( ERSPC ) . MATERIAL AND METHODS From 1996 to 1999 , 4,278 men aged 45 - 70 years were recruited and r and omized to the screening arm ( PSA every 4 years , prostate biopsy when PSA \\u22653 ng/ml ) and control arm ( no tests ) . Date s and causes of death were collected on an annual basis . A Kaplan-Meier analysis was used to calculate overall and cancer-specific survival . RESULTS A total of 2,416 men were recruited in the screening arm and 1,862 in the control arm . Mean age was 57.8 years , median follow-up was 13.3 years . At the end of the follow-up period , 427 deaths ( 9 from PCa ) were observed . Survival analysis did not show any difference between the study arms with respect to overall and cancer-specific survival ( p=0.939 and p=0.544 respectively ) . Most relevant causes of death were malignant tumors ( 52.9 % ) , cardiovascular disease ( 17.3 % ) and respiratory ( 8.9 % ) . Only 2.1 % of deaths ( 0.2 % of all recruited men ) were due to PCa ( 2.5 % screening , 1.6 % control ) . CONCLUSIONS The Spanish arm of ERSPC failed to reproduce the long-term results shown in the whole study . No differences in mortality ( overall or cancer-specific ) were observed after 15 years of follow-up . PCa mortality was infrequent ( less than 1 % ) . These results suggest limited yield of PCa screening in our setting', 'Screening for prostate cancer ( PC ) remains a controversial issue despite some new evidence on the mortality benefits of PC screening . We conducted a prospect i ve , r and omized screening trial in Finl and to investigate whether screening decreases PC incidence . Here , we report the incidence results from three screening rounds during a 12-year period . Of the 80,144 men enrolled , 31,866 men were r and omized to the screening arm ( SA ) and invited for screening with prostate-specific antigen test ( cut-off 4.0 ng/ml ) every 4 years , while the remaining men formed the control arm ( CA ) that received no interventions . The mean follow-up time for PC incidence in both arms was over 9 years . The incidence rate of PC ( including screen-detected and interval cancers as well as cases among non participants ) was 9.1 per 1,000 person-years in the SA and 6.2 in the CA , yielding an incidence rate ratio ( IRR ) 1.5 ( 95 % confidence interval 1.4 - 1.5 ) . The incidence of advanced PC was 1.1 in the SA and 1.5 in the CA , IRR = 0.7 ( 0.6 - 0.8 ) and the difference emerges after 5 - 6 years of follow-up . The incidence of localized PC was 7.5 in the SA and 4.6 in the CA , IRR = 1.6 ( 1.5 - 1.7 ) . The results from our large population -based trial indicate that screening for PC decreases the incidence of advanced PC . When compared with the CA , the PC detected in the SA there were substantially more often localized , low- grade PCs due to overdiagnosis', \\\"To report the results from  Switzerl and 's participation in the ERSPC from 1998 ; importantly , epidemiological data showed that Switzerl and has one of the highest rates of morbidity and mortality from prostate cancer in the world . The local study protocol was accepted by the ethical committee and after the successful pilot study phase , the centre joined the ERSPC\\\", 'BACKGROUND Screening for prostate cancer ( PC ) with prostate-specific antigen ( PSA ) has been shown to decrease mortality , but has adverse effects , such as false-positive ( FP ) screening results . We describe the frequency of FP results and assess their relation to subsequent screening attendance , test results and prostate cancer risk in a large r and omized trial . MATERIAL S AND METHODS We included data from five centres of the European R and omized Study of Screening for Prostate Cancer , altogether over 61,000 screened men . Men were screened with PSA test at a 2 - 7 year interval depending on the centre ; PSA cut-off was 3.0 - 4.0 ng/ml . A positive screen with no histologically confirmed PC in biopsy within 1 year was defined as an FP result . RESULTS Of the 61,604 men who were screened at least once , 17.8 % had one or more FP result ( s ) . Almost 20 % of men who participated at all screening rounds had one or more FP result ( s ) . More than half of the men with an FP result had another FP if screened again . Men with FP results had a fourfold risk of PC at subsequent screen ( depending on the round , 10.0 % versus 2.6 - 2.7 % of men with negative screen , risk ratio 3.8 - 3.9 ) . The PCs following an FP result were in 92.8 % of cases localised and low- grade versus 90.4 % following a screen-negative result . CONCLUSIONS Our results show that FP results are common adverse effects in PC screening , as they affect at least one in six screened men . False-positive men are more prone to be diagnosed with PC but are also likely to have consistently high PSA levels', \\\"PURPOSE Estimates of prostate cancer-specific mortality ( PCSM ) were similar for men r and omly assigned to intervention compared with usual care  on the Prostate , Lung , Colorectal and Ovarian PC screening study . However , results analyzed by comorbidity strata remain unknown . PATIENTS AND METHODS Between 1993 and 2001 , of 76,693 men who were r and omly assigned to usual care or intervention at 10 US centers , 73,378 ( 96 % ) completed a question naire that inquired about comorbidity and prostate-specific antigen ( PSA ) testing before r and om assignment . Fine and Gray 's multivariable analysis was performed to assess whether the r and omized screening arm was associated with the risk of PCSM in men with no or minimal versus at least one significant comorbidity , adjusting for age and prer and omization PSA testing . RESULTS After 10 years of follow-up , 9,565 deaths occurred , 164 from PC . A significant decrease in the risk of PCSM ( 22 v 38 deaths ; adjusted hazard ratio [ AHR ] , 0.56 ; 95 % CI , 0.33 to 0.95 ; P = .03 ) was observed in men with no or minimal comorbidity r and omly assigned to intervention versus usual care , and the additional number needed to treat to prevent one PC death at 10 years was five . Among men with at least one significant comorbidity , those r and omly assigned to intervention versus usual care did not have a decreased risk of PCSM ( 62 v 42 deaths ; AHR , 1.43 ; 95 % CI , 0.96 to 2.11 ; P = .08 ) . CONCLUSION Selective use of PSA screening for men in good health appears to reduce the risk of PCSM with minimal overtreatment\\\", 'The specific details of the French national programme are based on the design of a local mass screening programme .  Men in the screening group are repeatedly invited by mail to be screened while no information other that the national available guidelines on the use of prostate\\u2010specific antigen ( PSA ) is offered to the control group . The protocol includes r and omization before information and consent . In addition , knowledge of any pre\\u2010existing PSA test is obtained through the health insurance data base . This will allow separate analysis , if necessary , between groups with previous PSA testing ( low participation rate expected ) and without ( higher participation rate expected )', 'From 1992 - 2001 , 7 countries in Europe gradually recruited men for the European R and omised Screening for Prostate Cancer ( ERSPC ) trial . Centres recruit different age groups and have different design s for recruiting and countries have different underlying risks for prostate cancer . Recruitment has reached 163,126 men aged 55 - 69 at entry now . Our purpose was to calculate the power of the trial and at what point in time can statistically significant differences in prostate cancer mortality be expected . Recruitment data were collected from the screening centres .  We calculated the expected number of prostate cancer deaths in each follow-up year , based on national statistics and expected rate in trial entrants . The power was calculated using different assumptions on intervention effect and contamination rate and also if the ERSPC trial would cooperate with other trials . With an assumed 25 % intervention effect in men actually screened and a 20 % contamination rate , the trial will reach a power of 0.86 in 2008 . With an assumed intervention effect of 40 % , the power reaches 0.90 in 2003 - 2004 . Pooling data with those of the Prostate , Lung , Colorectal and Ovary ( PLCO ) trial early is expected to improve the power to 79 % ( 20 % intervention effect ) to 92 % ( 40 % intervention effect PLCO ) . Adding more centres with compliance rates lower than 45 % decreases the power of the trial . The ERSPC trial has sufficient power to detect a significant difference in prostate cancer mortality between the 2 arms if the true reduction in mortality by screening is 25 % or more or if contamination remains limited to 10 % if the true effect is 20 % or more . If early detection and treatment turns out to have a stronger effect as may be suggested by observational data , the ERSPC trial is likely to conclusively show that within the next 5 years', 'Two large\\u2010scale r and omized screening trials , the Prostate , Lung , Colorectal and Ovary ( PLCO ) cancer trial in the USA and the European R and omized Screening for Prostate Cancer ( ERSPC ) trial in Europe are currently under way , aim ed at assessing whether screening reduces prostate cancer mortality . Up to the end of 1998 , 102,691 men have been r and omized to the intervention arm and 115,322 to the control arm ( which represents 83 % of the target sample size ) from 7 European countries and 10 screening centers in the USA . The principal screening method at all centers is determination of  serum prostate\\u2010specific antigen ( PSA ) . The PLCO trial and some European centers use also  digital rectal examination ( DRE )  as an ancillary screening test . In the core age group ( 55\\u201369 years ) , 3,362 of 32,486 men screened ( 10 % ) had a  serum PSA concentration of 4 ng/ml or greater , which is 1 cut\\u2010off for biopsy ( performed in 84 % ) . An additional 6 % was referred for further assessment based on other criteria , with much less efficiency . Differences in PSA by country are largely attributable to the age structure of the study population . The mean age\\u2010specific PSA levels are lower in the PLCO trial ( 1.64 ng/ml [ in the age group 55\\u201359 years ] , 1.80 [ 60\\u201364 years ] and 2.18 [ 65\\u201369 years ) than in the ERSPC trial ( 1.28\\u20131.71 [ 55\\u201359 ] , 1.75\\u20132.87 [ 60\\u201364 ] and 2.48\\u20133.06 [ 65\\u201369 years ] ) . Detection rates at the first screen in the ERSPC trial range from 11 to 42/1,000 men screened and reflect underlying differences in incidence rates and screening procedures . In centers with consent to r and omization design , adherence in the screening arm is 91 % , but less than half of the men in the target population are enrolled in the trial . In population \\u2010based centers in which men were r and omized prior to consent , all eligible subjects are enrolled , but only about two\\u2010thirds of the men in the intervention arm undergo screening . Considerable progress has been made in both trials . Enrollment will be completed in 2001 . A substantial number of early prostate cancers have been detected . The differences between countries seem to reflect both underlying prostate cancer incidence and screening policy . The trials have the power to show definitive results in 2005\\u20132008 . \\u00a9 2002 Wiley\\u2010Liss ,', \\\"Prostate cancer has become the most frequent cancer and the second cause of cancer mortality in men . This public health problem is becoming increasingly important due to the increasing life expectancy . At the present time , prostate cancer will be discovered in one in every eight men during their lifetime . Prostate cancer represents 25 % of all new cases of male cancers . Prostate cancer screening is design ed to detect early stage , asymptomatic prostate cancer , as the patient 's chances of cure are higher when the cancer is diagnosed at an early stage . The conclusions of the ANAES evaluation in 1998 did not recommend mass screening for prostate cancer . Several international prospect i ve r and omized studies based on serum PSA assay , sometimes associated with digital rectal examination , are currently underway . France is participating in the European ERSPC study ( European R and omized Study of Screening for Cancer Prostate ) and is organizing a national study on high-risk population s. While waiting for the final results of these studies , a recommendation needs to be proposed to inform general practitioners and specialists about optimal use of the currently available tests . Based on the conclusions of its oncology committee ( composed of urologists , medical oncologists , radiotherapists , pathologists and radiologists ) , the Association Fran\\u00e7aise d'Urologie proposes a recommendation concerning prostate cancer screening and defines its modalities , especially concerning the target population , screening tests and the information given to men before screening . The Association Fran\\u00e7aise d'Urologie recommends prostate cancer screening by PSA assay ( prostate specific antigen ) and digital rectal examination annually between the ages of 50 and 75 years , and from the age of 45 years in men with a family or ethnic risk . If total PSA is above the normal value of the test or if digital rectal examination is abnormal , referral to a urologist is recommended . Information concerning the limits , benefits and risks of screening and the available treatment options must be given before performing these examinations\\\", 'OBJECTIVE To test the feasibility of a population -based prostate cancer screening programme in general practice and explore the outcome after a 15-year follow-up period . METHODS From the total population of men aged 50 - 69 years in Norrk\\u00f6ping ( n = 9026 ) every sixth man ( n = 1494 ) was r and omly selected to be screened for prostate cancer every third year over a 12-year period . The remaining 7532 men were treated as controls . In 1987 and 1990 only  digital rectal examination ( DRE )  was performed , in 1993 and 1996 DRE was combined with a test for Prostate-Specific Antigen ( PSA ) .  TNM categories , grade of malignancy , management and cause of death were recorded in the South-East Region Prostate Cancer Register . RESULTS There were 85 ( 5.7 % ) cancers detected in the screened group ( SG ) , 42 of these in the interval between screenings , and 292 ( 3.8 % ) in the unscreened group ( UG ) . In the SG 48 ( 56.5 % ) of the tumours and in the UG 78 ( 26.7 % ) were localised at diagnosis ( p < 0.001 ) . In the SG 21 ( 25 % ) and in the UG 41 ( 14 % ) received curative treatment . There was no significant difference in total or prostate cancer-specific survival between the groups . CONCLUSIONS Although PSA had not been introduced in the clinical practice at the start of the study , we were still able to show that it is possible to perform a long-term population -based r and omised controlled study with st and ardised management and that screening in general practice is an efficient way of detecting prostate cancer whilst it is localised . Complete data on stage , treatment and mortality for both groups was obtained from a vali date d cancer register , which is a fundamental prerequisite when assessing screening programmes', 'OBJECTIVE To describe the natural history of initially untreated early-stage prostate cancer . A key secondary objective was to calculate long-term survival rates by stage , grade , and age at diagnosis . DESIGN Prospect i ve cohort study . SETTING Population -based in 1 county of Sweden , without screening for prostate cancer . PATIENTS A group of 642 patients with prostate cancer of any stage , consecutively diagnosed between 1977 and 1984 at a mean age of 72 years with complete follow-up to 1994 . MAIN OUTCOME MEASURES Proportion of patients who died from prostate cancer , and 15-year survival ( with 95 % confidence interval [ CI ] ) , corrected for causes of death other than prostate cancer . RESULTS In the entire cohort , prostate cancer accounted for 201 ( 37 % ) of all 541 deaths . Among 300 patients with a diagnosis of localized disease ( T0-T2 ) , 33 ( 11 % ) died of prostate cancer . In this group , the corrected 15-year survival rate was similar in 223 patients with deferred treatment ( 81 % ; 95 % CI , 72%-89 % ) and in 77 who received initial treatment ( 81 % ; 95 % CI , 67%-95 % ) . The corrected 15-year survival was 57 % ( 95 % CI , 45%-68 % ) in 183 patients with locally advanced cancer ( T3-T4 ) and 6 % ( 95 % CI , 0%-12 % ) in those 159 who had distant metastases at the time of diagnosis . CONCLUSION Patients with localized prostate cancer have a favorable outlook following watchful waiting , and the number of deaths potentially avoidable by radical initial treatment is limited . Without reliable prognostic indicators , an aggressive approach to all patients with early disease would entail substantial overtreatment . In contrast , patients with locally advanced or metastatic disease need trials of aggressive therapy to improve their poor prognosis', 'PURPOSE We evaluated long-term survival in attendees and nonattendees of a 1-time screening for prostate cancer . MATERIAL S AND METHODS A total of 2,400 men 55 to 70 years old in 1988 were r and omly selected and invited to a screening for prostate cancer . Of the invited men 1,782 ( 74 % ) attended . Screening attendees were examined with digital rectal examination , transrectal ultrasound and prostate specific antigen analysis .  When cancer was suspected , prostate biopsies were taken . A total of 65 men with prostate cancer were detected by this procedure . The entire source population comprising 27,204 men , including 618 nonattendees ( 26 % ) , was followed for prostate cancer diagnosis and survival for 15 years . RESULTS Incidence rate ratios were calculated using Poisson regression models . We found no effect of this screening procedure on the risk of death from prostate cancer and other causes of death ( incidence rate ratio 1.10 , 95 % CI 0.83 - 1.46 and 0.98 , 95 % CI 0.92 - 1.05 , respectively ) when comparing all invited men with the source population . However , attending the screening program was associated with a significantly decreased risk of death from causes other than prostate cancer ( vs source population incidence rate ratio 0.82 , 95 % CI 0.76 - 0.90 ) . In contrast , the corresponding incidence rate ratio in nonattendees was 1.53 ( 95 % CI 1.37 - 1.71 ) . CONCLUSIONS We found no evidence of a beneficial effect of this specific screening procedure but strong evidence of a difference in overall survival in screening attendees and nonattendees . These findings should be considered when interpreting previous and upcoming studies of the effect of screening programs', 'OBJECTIVES R and omized controlled trials are currently conducted to assess whether the mortality from prostate cancer is reduced by early detection with the use of prostate-specific antigen ( PSA ) measurements in serum . To be effective , such a program should be able to reduce the absolute number of men diagnosed with metastatic prostate cancer ( for which no cure is available ) . The aim of the present report is to evaluate whether PSA-based screening reduces the risk of being diagnosed with metastatic prostate cancer . METHODS A population -based , prospect i ve , r and omized , controlled screening trial for prostate cancer started in 1995 ( the G\\u00f6teborg branch of the European R and omized Study of Screening for Prostate Cancer [ ERSPC ] ) . Ten thous and , r and omly selected men aged 50 - 66 yr were invited for biennial PSA testing , with 10,000 men serving as passive controls for whom diagnosis of metastatic prostate cancer was monitored by using the Swedish Cancer Registry . RESULTS After a follow-up of 10 yr , the risk of being diagnosed with metastatic prostate cancer was reduced by 48.9%-that is , decreasing from 47 cases in the control group to 24 cases in the group r and omized to PSA-based screening ( p=0.0084 ) . However , the risk of being diagnosed with prostate cancer increased 1.8-fold with PSA-based screening . CONCLUSIONS Biennial PSA screening reduces the risk of being diagnosed with metastatic prostate cancer , the first prerequisite for achieving decreased cancer mortality  in younger men . This putative benefit is balanced by a 1.8-fold increased risk for diagnosis of prostate cancer', 'To report the initial results from Sweden of a large population \\u2010based r and omized study of screening using prostate\\u2010specific antigen ( PSA ) to detect prostate cancer , as the efficacy of such screening to decrease prostate cancer mortality has not yet been proven', 'BACKGROUND Evidence from r and omized trials on the effects of screening for prostate cancer ( PCa ) on disease-specific mortality accumulates slowly with increasing follow-up . OBJECTIVE To assess data on PCa-specific mortality in the Rotterdam section of the European R and omized Study of Screening for Prostate Cancer ( ERSPC ) trial . DESIGN , SETTING , AND PARTICIPANTS A r and omized controlled trial with r and omization after signed , written informed consent ( efficacy trial ) . In the period 1993 - 1999 , a total of 42 376 men aged 54 - 74 yr were r and omized to a screening arm ( S-arm )  ( n = 21 210 with screening every 4 yr , applying a total prostate-specific antigen [ PSA ] level cut-off \\u2265 3.0 ng/ml as biopsy indication ) or a control arm ( C-arm ) ( n = 21 166 ; no intervention ) . OUTCOME MEASUREMENTS AND STATISTICAL ANALYSIS Number of PCas detected per arm depicted by predefined time periods and prognostic groups . PCa-specific mortality analyses using Poisson regression in age group 55 - 74 yr at r and omization and separately in the predefined age group of 55 - 69 yr . RESULTS AND LIMITATIONS After a median follow-up of 12.8 yr , 19 765 men ( 94.2 % ) were screened at least once and 2674 PCas were detected ( of which 561 [ 21.0 % ] were interval PCas ) . In the C-arm , 1430 PCas were detected , result ing in an excess incidence of 59 PCas per 1000 men r and omized ( 61 PCas per 1000 in age group 55 - 69 yr ) . Thirty-two percent of all men r and omized have died . PCa-specific mortality relative-risk ( RR ) reductions of 20.0 % overall ( age : 55 - 74 yr ; p = 0.042 ) and 31.6 % ( age : 55 - 69 yr ; p = 0.004 ) were found . A 14.1 % increase was found in men aged 70 - 74 yr ( not statistically significant ) . Absolute PCa mortality was 1.8 per 1000 men r and omized ( 2.6 per 1000 men r and omized in age group 55 - 69 yr ) . The number needed to invite and number needed to manage were 565 and 33 , respectively , for age group 55 - 74 yr , and 392 and 24 , respectively , for age group 65 - 69 yr . Given the slow natural history of the disease , follow-up might be too short . CONCLUSIONS Systematic PSA-based screening reduced PCa-specific mortality by 32 % in the age range of 55 - 69 yr . The roughly twofold higher incidence in the S-arm underlines the importance of tools to better identify those men who would benefit from screening']\",\n          \"[\\\"BACKGROUND There is increased pressure on primary care physicians to monitor oral anticoagulation . OBJECTIVE To test the null hypothesis that oral anticoagulation care can be provided at least as well in primary care through a nurse-led clinic , involving near-patient testing and computerized decision support software , compared with routine hospital management based on a variety of clinical outcome measures . METHODS A r and omized , controlled trial in 12 primary care practice s in Birmingham , Engl and ( 9 intervention and 3 control ) . Two control population s were used :  patients individually r and omly allocated as controls in the intervention practice s ( intra practice controls ) and all patients in control practice s ( inter practice controls ) . Intervention practice s ' patients were r and omized to the intervention ( practice -based anticoagulation clinic ) or control ( hospital clinic ) group . The main outcome measure was therapeutic control of the international normalized ratio . RESULTS Three hundred sixty-seven patients were recruited ( 122 intervention patients , 102 intra practice control patients , and 143 inter practice control patients ) . St and ard measures of control of the international normalized ratio ( point prevalence ) showed no significant difference between the intervention and control groups . Data on proportion of time spent in the international normalized ratio range showed significant improvement for patients in the intervention group ( paired t test , P = .008 ) . CONCLUSIONS Nurse-led anticoagulation clinics can be implemented in novice primary care setting s by means of computerized decision support software and near-patient testing . Care given by this model is at least as good as routine hospital follow-up . The model is generalizable to primary health care centers operating in developed health care systems\\\", 'OBJECTIVE To investigate the effect of meal-related self-monitoring of blood glucose on glycemic control and well-being in non-insulin-treated type 2 diabetic patients . RESEARCH DESIGN AND METHODS This 6-month study , which included 6 months of follow-up , adopted a prospect i ve , multicenter , r and omized controlled design . Subjects were r and omized to two groups : one group used a blood glucose-monitoring device , kept a blood glucose/eating diary , and received st and ardized counseling ; the control group received nonst and ardized counseling on diet and lifestyle . The primary efficacy parameter was the change in HbA(1c ) . Secondary efficacy variables included changes in body weight , lipids , and microalbumin and changes in treatment satisfaction and well-being . RESULTS In the per- protocol analysis , the use of a self-monitoring blood glucose device significantly reduced HbA(1c ) levels by 1.0 + /- 1.08 % compared with 0.54 + /- 1.41 % for the control group ( P = 0.0086 ) ; subgroup analysis showed three types of responders . Body weight , total cholesterol , and microalbumin improved when using a glucometer , but there was no statistically significant difference between the two groups . Treatment satisfaction increased in both groups to a similar extent ( P = 0.9 ) . Self-monitoring result ed in a marked improvement of general well-being with significant improvements in the subitems depression ( P = 0.032 ) and lack of well-being ( P = 0.02 ) . CONCLUSIONS Meal-related self-monitoring of blood glucose within a structured counseling program improved glycemic control in the majority of non-insulin-treated type 2 diabetic patients in this study . The finding of three types of responders will be important for future planning of counseling and educational interventions', 'Proper r and omisation means little if investigators can not include all r and omised participants in the primary analysis . Participants might ignore follow-up , leave town , or take aspartame when instructed to take aspirin . Exclusions before r and omisation do not bias the treatment comparison , but they can hurt generalisability . Eligibility criteria for a trial should be clear , specific , and applied before r and omisation . Readers should assess whether any of the criteria make the trial sample atypical or unrepresentative of the people in which they are interested . In principle , assessment of exclusions after r and omisation is simple : none are allowed . For the primary analysis , all participants enrolled should be included and analysed as part of the original group assigned ( an intent-to-treat analysis ) . In reality , however , losses frequently occur . Investigators should , therefore , commit adequate re sources to develop and implement procedures to maximise retention of participants . Moreover , research ers should provide clear , explicit information on the progress of all r and omised participants through the trial by use of , for instance , a trial profile . Investigators can also do secondary analyses on , for instance , per- protocol or as-treated participants . Such analyses should be described as secondary and non-r and omised comparisons . Mish and ling of exclusions causes serious method ological difficulties . Unfortunately , some explanations for mish and ling exclusions intuitively appeal to readers , disguising the seriousness of the issues . Creative mismanagement of exclusions can undermine trial validity', \\\"CONTEXT Control of oral anticoagulation therapy has been reported to often be inadequate . Previous retrospective investigations suggest that patients ' self-adjustment of oral anticoagulants may lead to improved control . OBJECTIVE To investigate the effects of patients ' self-management of oral anticoagulation therapy on accuracy of control and measures of treatment-related quality of life . DESIGN R and omized , single-blind , multicenter trial . SETTING AND PARTICIPANTS A total of 179 patients receiving long-term oral anticoagulation treatment were enrolled at 5 referral centers in Germany . INTERVENTION Patients were r and omized to an oral anticoagulation self-management group based on a structured treatment and teaching program and international normalized ratio ( INR ) self-monitoring . The control group received conventional care as provided by family physicians , including referral to specialists if necessary . MAIN OUTCOME MEASURES Deviation of INR values from the individual INR target range ( squared ) and the 5 categories of treatment-related quality of life . RESULTS Deviation of INR value from the mean of the INR target range was significantly lower in the intervention group at 3-month ( squared INR deviation , 0.59 vs 0.95 ; P<.001 ) and 6-month follow-up ( 0.65 vs 0.83 ; P=.03 ) compared with the control group . Also , the intervention group had INR values within the target range more often ( repeated measurement analysis for categorical data , P=.006 ) . The results were mainly due to less frequent suboptimal INR values in the intervention group ( 32.8 % vs 50.0 % [ P=.03 ] at 3-month , and 33.7 % vs 48.2 % [ P=.08 ] at 6-month follow-up ) . Treatment-related quality -of-life measures , especially treatment satisfaction scores , were significantly higher in the intervention group compared with controls . CONCLUSIONS An anticoagulation education program that includes self-management of anticoagulation therapy results in improved accuracy of anticoagulation control and in treatment-related quality -of-life measures . Further studies are needed to describe whether the program will reduce risk of bleeding or thromboembolism\\\", 'The goal of this study was to compare the relative efficacy and cost of self-monitoring of blood glucose ( SMBG ) with routine urine testing in the management of patients with type II ( non-insulin-dependent ) diabetes mellitus not treated with insulin . Fifty-four patients with type II diabetes mellitus , not treated with insulin , who had inadequate glucose control on diet aloneor diet and oral hypoglycemic agents were studied . Patients performed SMBG or urine glucose testing as part of a st and ardized treatment program that also included diet and exercise counseling . During the 6-mo study , both the urine-testing and SMBG groups showed similar improvement in glycemic control ; within each group , there were significant improvements in fasting plasma glucose ( reduction of 1.4 \\u00b1 3.2 mM , P < 0.03 ) and glycosylated hemoglobin ( reduction of 2.0 \\u00b1 3.4 % , P < 0.01 ) levels . Seventeen ( 31 % ) of54 patients actually normalized their glycosylated hemoglobin values , 9 in the urine-testing group and 8 in the SMBG group . Comparisons between the urine-testing and SMBG groups showed no significant differences in mean fasting plasma glucose ( P > 0.86 ) , glycosylated hemoglobin ( P > 0.95 ) , or weight ( P < 0.19 ) . In patients with type II diabetes mellitus not treated with insulin , SMBG is no more effective , but is 8\\u201312 times more expensive , thanurine testing in facilitating improved glycemic control . Our results do not support widespread use of SMBG in diabetic patients not treated with insulin', 'BACKGROUND Vitamin K antagonist treatment is effective for prevention and treatment of thromboembolic events but frequent laboratory control and dose-adjustment are essential . Small portable devices have enabled patient self-monitoring of anticoagulation and self-adjustment of the dose . We compared this self-management of oral anticoagulant therapy with conventional management by a specialist anticoagulation clinic in a r and omised cross-over study . METHODS 50 patients on long-term oral anticoagulant treatment were included in a r and omised controlled crossover study . Patients were self-managed or were managed by the anticoagulation clinic for a period of 3 months . After this period the alternative strategy was followed for each patient . Prothrombin time ( expressed as international normalised ratio [ INR ] ) were measured at intervals of 1 - 2 weeks in both periods without knowledge of type of management . The primary endpoint was the number of measurements within the therapeutic range ( therapeutic target value + /-50.5 INR units ) . FINDINGS There was no significant difference in the overall quality of control of anticoagulation between the two study periods . Patients were for 55 % and for 49 % of the treatment period within a range of + /-0.5 from the therapeutic target INR during self-management and anticoagulation clinic management , respectively ( p=0.06 ) . The proportion of patients who spent most time in the therapeutic target range was larger during self-management than during anticoagulation clinic-guided management . The odds ratio for a better control of anticoagulation ( defined as the period of time in the therapeutic target range ) during self-management compared with anticoagulation clinic-guided management was 4.6 ( 95 % CI 2.1 - 10.2 ) . A patient-satisfaction assessment showed superiority of self-management over conventional care . INTERPRETATION Self-management of INR in the population in this study is feasible and appears to result in control of anticoagulation that is at least equivalent to management by a specialist anticoagulation clinic . It is also better appreciated by patients . Larger studies are required to assess the effect of this novel management strategy on the incidence of thromboembolic or bleeding complications', 'BACKGROUND Self-management ( SM ) of warfarin by patients is an attractive strategy , particularly if it improves anticoagulation control and can be done safely under minimal physician supervision . OBJECTIVE To compare the effect of SM with physician-management ( PM ) on the maintenance of therapeutic anticoagulation . METHODS A r and omized , open-label eight-month trial was performed . Patients 18 years of age and older were eligible if they were receiving warfarin for at least one month before enrolment and required anticoagulation for at least one year to a target international normalized ratio ( INR ) of 2.0 to 3.0 or 2.5 to 3.5 . Exclusion criteria were a known hypercoaguable disorder , mental incompetence , a language barrier or an inability to attend training sessions . Patients r and omly assigned to SM tested their INR using a point-of-care device ( Pro Time Microcogulation System , International Technidyne Corporation , USA ) and adjusted their warfarin doses using a nomogram . Patients r and omly assigned to PM received usual care from their general practitioner . The primary outcome was to demonstrate 20 % improvement in anticoagulation control by SM . RESULTS One hundred forty patients were r and omly assigned ( 70 per group ) . Thirteen patients dropped out of SM early due to an inability to self-manage . Based on intention-to-treat analysis , there was no difference in the proportion of INR in range ( SM 64.8 % versus PM 58.7 % , P=0.23 ) or time in target range ( SM 71.8 % versus PM 63.2 % , P=0.14 ) . Patients managing their own therapy spent less time below the therapeutic range ( 15.0 % versus 27.3 % , P=0.04 ) . There were three major complications of thrombosis or bleeding , all occurring in the PM arm . All patients who completed SM preferred to continue with that strategy . CONCLUSIONS SM was not significantly better than PM in maintaining therapeutic anticoagulation . SM was feasible and appeared safe in the present study population', \\\"A diabetes protocol characterized by self-monitoring of blood glucose was introduced in four general practice s with the aim of making the frequency of consultations dependent on the metabolic regulation and emphasizing body weight reduction . The feasibility of the programme was investigated and the results after 1 year were compared with those of conventional care in four control practice s. In the experimental practice s , 13 patients switched from a medical specialist 's to a general practitioner 's supervision  , 20 remained under supervision of their GP  and 33 started self-monitoring .  The self-monitoring rate , the consultation frequency according to protocol , the low number of dropouts and inadequate referrals and adherence to the therapeutic scheme showed that the protocol was feasible for both the GPs and the patients . At the initial assessment , the regulation of the diabetes was worse in patients of the experimental group , compared with those of the control group ( mean HbA1 9.7 % vs 8.9 % ; p less than 0.05 ) . On average , patients in the experimental group ( n = 56 ) lost 0.4 kg of body weight , whereas those in the control group ( n = 73 ) gained 0.1 kg ( n.s . ) . The mean change in HbA1 , adjusted for the initial value , was -0.4 % in the experimental and + 0.5 % in the control group ( p less than 0.05 ) . The results of the protocol can be attributed to a combination of greater participation of the patient , the individualized consultation frequency and the prescription of oral hypoglycaemic agents according to body weight development\\\", 'Self-monitoring of blood glucose levels is currently being recommended for obese patients with type II diabetes to improve weight loss and glycemic control . To determine whether self-monitoring of blood glucose levels improves dietary compliance in these patients , 50 obese patients with type II diabetes were r and omly assigned either to a st and ard behavioral weight control program or to a weight control program that included self-monitoring of blood glucose levels and focused on the weight-blood glucose relationship . Both groups lost significant amounts of weight and maintained their losses for at least one year ; reductions in medication could be made for 70 percent of patients . These data suggest that the behavioral weight control used in this study may be of benefit to patients with type II diabetes . However , there was no evidence that the addition of self-monitoring of blood glucose levels to the treatment program improved the outcome in terms of weight loss , reduction in medication , dietary compliance , or mood state', 'The objective of this open , r and omized , multicenter study is to investigate the benefits and economic efficiency of  self-management of oral anticoagulation in patients with atrial fibrillation ( SMAAF study ) in comparison with a group of patients given conventional care by a general practitioner or specialist . Two thous and patients suitable for self-management will be assigned at r and om to either the self-management group or the control group . The numbers of thromboembolic and hemorrhagic complications requiring treatment during the 2-year follow-up period will be recorded as the primary end point . The secondary endpoint variables will be maintenance of the INR value in the individual target range , INR variance , the course of complications over time , and the cost efficiency of self-management compared with the routine procedures . The last of these parameters will include the diagnostic and /or therapeutic measures carried out , the duration of inpatient hospital treatment , and the social consequences ( subsequent rehabilitation treatment , inability to work , forced retirement ) . The estimate of the required number of patients was based on the assumption that during long-term anticoagulant therapy within the framework of primary and secondary prevention 4 % of patients with chronic non-valvular atrial fibrillation would have severe thromboembolic of hemorrhagic complications each year . Since this rate can be halved by self-management , a one-tailed chi 2-test of 80 % power and a 5 % significance threshold would require n = 997 patients per group . The results of the SMAAF study will establish the socioeconomic benefits of self-management in patients with non-valvular atrial fibrillation', 'BACKGROUND Severe thromboembolic and hemorrhagic complications after mechanical heart valve replacement essentially depend on the intensity of oral anticoagulation and the fluctuation of individual international normalized ratio ( INR ) values . METHODS After heart valve replacement with Medtronic Hall , St. Jude Medical , and CarboMedics implants , patients were r and omly divided into two groups , one controlling INR values at home , the other being monitored by family practitioners . RESULTS Almost 80 % of the INR values recorded by patients at home were within the stipulated therapeutic range , INR 2.5 to 4.5 , compared with just 62 % of INR values recorded by family practitioners . The overall complication rate ( hemorrhages and thromboembolic events ) of the self-management group was significantly ( p < 0.05 ) decreased compared with the conventional group . CONCLUSIONS Through INR self-management , an improvement in the quality of ongoing oral anticoagulation could be shown . Starting this form of therapeutic control early after mechanical heart valve replacement appears to effect a further reduction in anticoagulant-induced complications', 'BACKGROUND Several studies have demonstrated that patient self-management of oral anticoagulant therapy ( OAT )  can improve treatment quality . However , most of these studies were not conducted within a specialized anticoagulation care system . The objective of the present study was to determine whether patient self-management of OAT improves the quality of care delivered by anticoagulation clinics . METHODS In this r and omized study by 2 Dutch anticoagulation clinics 341 patients aged between 18 and 75 years and receiving long-term OAT were divided into 4 groups : an existing routine care group of patients untrained in self-management ; a routine care group of trained patients ; a group managed weekly at an anticoagulation clinic where international normalized ratios were measured by trained patients ; and weekly patient self-management . A 2-step r and omization procedure was followed : first , a Zelen- design r and omization was performed to distribute patients ( without informing them ) to the existing care group or to receive training in self-management ; second , trained patients were r and omized to the 3 other study groups . RESULTS Only 25.6 % of invited patients agreed to participate in the training program . Patients who remained in the existing care group were within the international normalized ratio target range 63.5 % of the time . The type of coumarin taken was a major predicting factor of OAT quality . In all study groups phenprocoumon outperformed acenocoumarol by 11.6 % ( 95 % confidence interval [ CI ] , 6.6%-16.5 % ) . Weekly management with phenprocoumon led to a 6.5 % improvement ( 95 % CI , 0.0%-13.1 % ) in time in the international normalized ratio target range when patients were managed at an anticoagulation clinic and to an 8.7 % improvement ( 95 % CI , 1.6%-15.9 % ) when patients were self-managed . Weekly management with acenocoumarol did not improve the quality of OAT . CONCLUSION With selected patients , the quality of OAT obtained through patient self-management is at least as high as that delivered by specialized physicians at anticoagulation clinics . Weekly management of OAT with long-acting phenprocoumon has to be preferred at anticoagulation clinics or , where possible , through patient self-management', 'To study if self-monitoring of glucose , urinary or capillary , could help them to improve their metabolic control through better compliance to diet and /or hypoglycaemic agents , 208 non-insulin-treated poorly controlled diabetic patients were r and omized to : group A -- regular HbA1c determinations but no self-monitoring , group B -- self-urine glucose monitoring , twice every other day , group C -- self blood glucose monitoring , twice every other day , and followed six months . At the end of the study period , the decrease of HbA1c over six months -- main endpoint -- was not significantly different between the three groups ( mean + /- SEM ; group A : -0.5 + /- 0.2 % ; group B : -0.1 + /- 0.3 % ; group C : -0.4 + /- 0.3 % ) . However , the degree of compliance to  blood glucose self-monitoring  in group C appeared to relate to the outcome : a significant correlation was found between the number of blood glucose strips used and the decrease of HbA1c ( r = .36 , p less than .02 ) . We conclude that regular self-monitoring has no definite advantage over the usual management for improving metabolic control in non-insulin-treated diabetic patients , though it may possibly help patients ready to comply with its use', 'Self-monitoring of blood glucose  ( SBGM ) is widely recommended for both type 1 and type 2 diabetic patients despite the lack of evidence of benefit in glucose control or as an aid in weight loss in type 2 subjects . This study tested the hypothesis that combined use of SMBG and dietary carbohydrate ( CHO ) counting , using the blood monitoring results to shape dietary CHO quotas , is beneficial in managing type 2 diabetes . Twenty-three over-weight ( body mass index , BMI 27.5\\u201344 kg/m2 ) patients aged 40\\u201375 participated in a 28-week behavioral weight control program . Baseline hemoglobin HbA 1c ranged between 9.5 % and 13.5 % ( normal range 5.5%\\u20137.7 % ) . Subjects were matched for weight , sex , and HbAlc and assigned to small ( 4\\u20138 participants ) groups which met weekly for 12 weeks and then monthly for 16 weeks . After 8 weeks , the group were r and omized either to continue the behavioral program or to have SMBG and dietary CHO counting .  Glucose monitoring was performed 6 times daily ( pre- and 2h postpr and ially ) for the first month , focusing on the meal increment and correlating this to dietary CHO intake . Weight loss was identical in both groups during the year of follow-up . The HbA1c level showed a progressive decline in experimental subjects ( P<0.05 ) , whereas there was no improvement in control subjects', 'Abstract Objective To determine the clinical effectiveness of self management compared with routine care in patients on long term oral anticoagulants . Design Multicentre open r and omised controlled trial . Setting Midl and s region of the UK . Participants 617 patients aged over 18 and receiving warfarin r and omised to intervention ( n = 337 ) and routine care ( n = from 2470 invited ; 193/337 ( 57 % ) completed the 12 month intervention . Intervention Intervention patients used a point of care device to measure international normalised ratio twice a week and a simple dosing chart to interpret their dose of warfarin . Main outcome measure Percentage of time spent within the therapeutic range of international normalised ratio . Results No significant differences were found in percentage of time in the therapeutic range between self managment and routine care ( 70 % v 68 % ) . Self managed patients with poor control before the study showed an improvement in control that was not seen in the routine care group . Nine patients ( 2.8/100 patient years ) had serious adverse events in the self managed group , compared with seven ( 2.7/100 patient years ) in the routine care arm ( \\u03c72(df = 1 ) = 0.02 , P = 0.89 ) . Conclusion With appropriate training , self management is safe and reliable for a sizeable proportion of patients receiving oral anticoagulation treatment . It may improve the time spent the therapeutic range for patients with initially poor control . Trial registration IS RCT N 19313375', 'This study tested the hypothesis that follow-up intervention ( by telephone calls and home visit ) affects compliance in patients with non-insulin-dependent diabetes mellitus ( NIDDM ) . Sixty NIDDM patients were r and omly assigned to two groups \\u2014 a control group , which received the st and ard protocol ( 3-day educational program and a review session 1 month after the program ) ; and an intervention group , which received the st and ard protocol as well as a series offour telephone calls and one home visit by a registered nurse over a 3-month period .  Compliance to prescribed regimens was determined by analyzing three sets of data : changes in pre- to post study glycosylated hemoglobin ( HbA1c ) values ; changes in pre- to post study weight ; and frequency with which self-monitoring of blood glucose ( SMBG ) was practice d. Results showed that SMBG practice was significantly better for the intervention group . No significant differences were seen in post study HbA 1c values and weight changes between the two groups . Follow-up inter vention by telephone calls and home visit can enhance patient compliance to certain aspects of the prescribed diabetes management plan', 'STUDY OBJECTIVE To evaluate the efficacy and accuracy of monitoring prothrombin times at home . DESIGN R and omized , prospect i ve cohort study . SETTING Out patients discharged from a university hospital or a community hospital . PATIENTS Fifty patients started on warfarin for the first time who demonstrated an ability to use the monitor and who had not achieved a stable response to warfarin in the hospital . INTERVENTION Oral anticoagulation therapy managed using a portable prothrombin time monitor compared with specialized anticoagulation clinic care . MEASUREMENTS AND MAIN RESULTS In the 46 patients who completed the 8-week study , the median percentage of time that patients in the home-monitor group ( n = 23 ) were within a range equal to the target prothrombin ratio + /- 0.3 , but always above 1.25 , was 93 % , compared with 75 % for patients in the clinic group ( n = 23 ) ( P = 0.003 ) . There was no significant difference between groups in the percentage of time above the therapeutic range ; however , the percentage of time that patients were subtherapeutic was significantly greater in the clinic group ( P less than 0.001 ) . There were no major thromboembolic or hemorrhagic complications in either group . Differences between home monitor measurements and corresponding clinical laboratory measurements using blood sample s drawn within 4 hours of the home test were comparable to differences observed between measurements using two different clinical laboratory instruments . CONCLUSIONS Use of a portable prothrombin time monitor by patients at home is feasible and provides accurate measurements . Patients doing home monitoring achieve superior anticoagulation control compared with those receiving st and ard anticoagulation clinic care', \\\"Context Although many out patients require oral anticoagulation , the optimal management of outpatient anticoagulation remains uncertain . Studies have demonstrated the feasibility of patient self-management using portable coagulometers , but the studies that compared patient outcomes with self-management and those with conventional management in an anticoagulation clinic did not find a better outcome with self-management . Contribution In this r and omized , controlled trial of 737 patients , patients assigned to self-management of anticoagulation achieved a similar level of control and had fewer adverse events than patients assigned to conventional management . Implication s Health care providers should begin to implement patient self-management of oral anticoagulation with portable coagulometers in mainstream practice . The Editors Indications for oral anticoagulant treatment to prevent thromboembolic disease have increased in recent years ( 1 ) . Prothrombin times must be monitored frequently in patients taking oral anticoagulants to determine the safest dose and to minimize the risk for complications . The clinical management of oral anticoagulant treatment improved greatly after the international normalized ratio ( INR ) was introduced as a measurement of anticoagulation intensity ( 1 ) . The establishment of accurate therapeutic INR ranges was also beneficial . Target ranges include the safest INR values that carry the lowest risk for hemorrhagic or thromboembolic complications ( 2 ) . Despite these improvements , however , serious complications are still associated with oral anticoagulant treatment ( 3 , 4 ) , and management by specialized staff at anticoagulation clinics seems to be safer than other clinical strategies in terms of numbers of complications ( 5 - 7 ) . Currently , portable coagulometers are available for determining INR easily and reliably ( 8) . This technology provides interesting clinical models for the control of oral anticoagulant treatment , the most promising of which are patient self-testing and patient self-management . For patient self-testing , patients measure INRs themselves and ask their referring physicians for the proper anticoagulant dose . Patient self-management assumes that patients will adjust their own doses and is the most autonomous strategy . Several published studies have compared these strategies with usual care ( that is , monitoring of oral anticoagulant treatment by practitioners ) ( 9 - 13 ) or with specialized anticoagulation clinics ( 14 - 18 ) . Although these studies showed that both patient self-testing and patient self-management are feasible , their sample s were relatively small ( 9 , 11 , 13 , 14 - 18 ) or included selected patients with mechanical valve prostheses ( 10 ) or patients older than 65 years of age ( 12 ) . In general , previous studies indicate that patient self-management may be superior to management by general practitioners or anticoagulation clinics in quality of INR control ( 10 - 18 ) . In addition , Krtke and Krfer ( 10 ) , Beyth and associates ( 12 ) , and Sawicki ( 13 ) reported a decrease in major complications among self-managed patients compared with patients managed by general practitioners . To date , no published data have suggested a better clinical outcome ( decrease in associated complications ) with patient self-management than with specialized management at an anticoagulation clinic ( 5 , 19 ) . We performed a r and omized , controlled trial to directly compare self-management of oral anticoagulant treatment , as evaluated in terms of efficacy and safety in unselected patients , with management in an anticoagulation clinic . Methods Study Design The Alternative Control of Oral Anticoagulant Treatment ( ACOA ) trial is a single-center , central ly r and omized , controlled study that was performed at Hospital de la Santa Creu i Sant Pau , Barcelona , Spain , from January 2001 to July 2002 . The hematologists who manage our anticoagulation clinic use a homogeneous dosing protocol and st and ard protocol s to manage situations that increase clinical risk . The clinical staff includes trained nurses . Computers control the clinical data and INR records , ensuring excellent follow-up . Patients and their relatives receive basic education at the beginning of oral anticoagulant treatment , including information on the main characteristics of oral anticoagulants , potential risks , rationale for periodic monitoring , and drug interactions . Samsa and Matchar ( 20 ) recommended that these characteristics be used to provide an appropriate control group in a trial on patient self-management . The institutional review board of our hospital approved the study . Recruitment Phase The recruitment phase began with computerized r and om selection of 1500 patients from the more than 5000 who were receiving oral anticoagulant treatment controlled in our hospital . We included any ambulatory patient 18 years of age or older who had been receiving long-term anticoagulant therapy for at least 3 months before entering the study . We excluded patients who were younger than 18 years of age , who had a severe physical or mental illness without a responsible caregiver , or who were of foreign origin and were unable to underst and Spanish . Once the patient ( or his or her caregiver ) agreed to participate , written informed consent was obtained . Next , central ized telephone r and omization assigned the patient to the experimental group ( patient self-management ) or to the control group ( conventional management ) . The allocation sequence was generated at the hospital 's epidemiology department , and the sequence of r and omization was concealed until the patient was assigned to a group . To facilitate comparability between study groups , this r and omization was stratified according to sex , age ( 70 years of age or < 70 years of age ) , and indication for oral anticoagulant treatment ( 4 groups ) . Members of our anticoagulation clinic enrolled participants and assigned them to groups . Baseline data included demographic details , clinical information on associated risk factors , other medications , previous length of anticoagulant therapy , bleeding or thromboembolic complications during oral anticoagulant treatment , and target INR range . Follow-up for patients assigned to the conventional management group was done immediately . Patients in the self-management group received a training course first , and follow-up was not performed until the nurse teaching the course judged that the patients had acquired a minimum of expertise in self-management . Training Course An educational program was design ed to optimize the number of patients able to underst and and safely perform  self-management  ( Appendix ) . It was similar to the German program developed by Sawicki ( 13 ) but was demographically adapted to the characteristics of the Spanish population , considering differences in daily schedules , diet , educational level , and other idiosyncratic factors . The program consisted of 2 sessions of 2 hours each on consecutive days . A specially trained nurse was responsible for teaching the patients in small , organized groups . The lessons included basic theoretical and practical concepts involving the use of a coagulometer , interpretation of INR , and adjustment of dose . The concepts of target range and dose modification were emphasized when necessary . A simple card system was design ed to help the patient select the correct dose . For each target range , a specific card was provided . Patients were taught to use the portable coagulometer CoaguChek S ( Roche Diagnostics , Mannheim , Germany ) with the appropriate reagent strips . Follow-up Phase Normally , the patients in the conventional management group visited our hospital every 4 weeks to check their INRs . When the INR result was out of target range , our dosing protocol indicated that we should advance the next appointment for INR testing to 1 or 2 weeks . International normalized ratio was determined by means of a st and ard KC 10 coagulometer ( Amelung , Lemgo , Germany ) . As a thromboplastin , we used Thromborel S ( Behring , Marburg , Germany ) . A hematologist experienced in oral anticoagulation management adjusted the dose and made the appointment for the next INR test . Patients in the self-management group performed the INR tests at home once per week using the CoaguChek S kit . They determined the appropriate dose of oral anticoagulant and the time of the next INR test . All of the INR results in both groups were entered into a computer ( in the central system of our anticoagulation clinic or in the portable coagulometers ) to facilitate data management . Patients in both groups were interviewed monthly by telephone to record any complications or changes in their health status . For the conventional management group , these interviews were done approximately midway between hospital visits . The questions addressed minor or major bleeding , thromboembolic events , episodic diseases , changes in long-term medications , and hospital stays . Associated complications were diagnosed and evaluated by a third physician who was not involved in the trial and was unaware of patients ' study group . St and ard criteria were used to diagnose any thromboembolic complications . Transient ischemic attack was diagnosed clinical ly by a neurologist , and superficial thrombophlebitis was diagnosed clinical ly by an angiologist . To diagnose stroke , arterial embolism , venous thromboembolism , pulmonary embolism , or valve thrombosis , we used widely accepted methods ( computed tomography or magnetic nuclear resonance imaging , angiography , surgical diagnosis , Doppler ultrasonography , phlebography , lung angiography or ventilation-perfusion lung scanning , cardiac ultrasonography , or fluoroscopy ) . All thromboembolic complications were considered major events . Life-threatening bleeding or bleeding requiring transfusion or hospital admission was considered a major event . Any other bleeding was considered a minor event . Statistical Analysis Study outcomes were evaluated on an intention-to-treat basis and also on an on-treatment basis .\\\", 'Of 125 patients aged 65 years or over , with atrial fibrillation taking warfarin for at least 12 months , with a st and ard deviation ( SD ) of prothrombin time , expressed as the International Normalized Ratio ( INR ) > 0\\u00b75 over the previous 6 months , 40 were r and omized to continue with usual clinic care and 85 to receive education about warfarin .  Of these , 44 were r and omized to self\\u2010monitor their INR and 41 returned to clinic . Compared with the previous 6 months there was a significant increase in percentage time within the therapeutic range for the 6 months following education [ 61\\u00b71 vs. 70\\u00b74 ; mean difference 8\\u00b78 ; 95 % confidence interval ( CI ) : \\u22120\\u00b72\\u201317\\u00b78 ; P = 0\\u00b7054 ] and following education and self\\u2010monitoring ( 57 vs. 71\\u00b71 ; mean difference 14\\u00b71 ; 95 % CI : 6\\u00b77\\u201321\\u00b75 ; P < 0\\u00b7001 ) , compared with those patients following usual clinic care ( 60\\u00b70 vs. 63\\u00b72 ; mean difference 3\\u00b72 ; 95 % CI : \\u22127\\u00b73\\u201313\\u00b77 ) . Using the same comparative periods , the INR SD fell by 0\\u00b724 ( P < 0\\u00b70001 ) in the group allocated to education and self\\u2010monitoring , 0\\u00b726 ( P < 0\\u00b70001 ) in the group receiving education alone and 0\\u00b716 ( P = 0\\u00b7003 ) in the control group . Inter\\u2010group differences were not statistically significant ( intervention groups 0\\u00b726 \\u00b1 0\\u00b730 vs. control 0\\u00b716 \\u00b1 0\\u00b73 , P = 0\\u00b710 ) . Quality \\u2010of\\u2010life measurements and health beliefs about warfarin were unchanged ( apart from emotional role limitation ) with education or education and self\\u2010monitoring .  Patient  education regarding anticoagulation therapy could be a cost\\u2010effective initiative and is worthy of further study', 'BACKGROUND This study was conducted to assess the ability of patients receiving heart valve replacements to practice self-managed anticoagulation using a portable coagulometer . METHODS We carried out a prospect i ve , r and omized trial , comparing self-managed anticoagulation with conventional management .  Patients practicing self-managed anticoagulation ( 51 patients ) did so at home , measuring their international normalized ratio and then deciding on their dosage of warfarin , while  conventionally controlled patients ( n = 49 ) attended hospital clinics or were managed by their family physicians . RESULTS We successfully trained 41 of 44 patients who agreed to self-manage their anticoagulant therapy ; 34 of the 41 managed their own anticoagulation at home for 2 years . Their control , assessed by a number of tests in range ( 67.6 % versus 58.0 % ) and time in therapeutic range ( 76.5 % versus 63.8 % ) , was significantly better than that for the group managed conventionally ( p < 0.0001 ) . There was no significant difference in mortality or morbidity between the two groups . CONCLUSIONS Self-managed anticoagulation is a reliable , easily learned method of controlling anticoagulation , and it is suitable for approximately two thirds of patients , with excellent results', \\\"Bleeding is the major side effect of warfarin and is a major deterrent to its use , especially in older patients . Older people are widely thought to be at increased risk for warfarin-related bleeding ( 1 - 8 ) , and they are less likely to be treated with warfarin , even when it has been proven efficacious , in part because of concern about risk for bleeding ( 9 - 13 ) . Efforts that reduce the frequency of major warfarin-related bleeding not only will increase the net benefit of therapy but also will facilitate more appropriate and widespread use of warfarin therapy in older patients . Methods for identifying patients at highest risk for bleeding have recently advanced ( 5 - 7 , 14 - 21 ) , and experience with specialized programs that coordinate the management of anticoagulant therapy suggests that clinical outcomes may be improved ( 6 , 14 , 18 , 22 - 27 ) . However , there is little controlled or experimental evidence on how to optimize management of anticoagulant therapy in older patients and prevent bleeding . We developed a multicomponent comprehensive program for management of warfarin therapy aim ed at improving control of the anticoagulant effect and reducing events ( such as use of an interacting medicine ) that might precipitate bleeding . We hypothesized that this intervention would be acceptable to most elderly persons starting warfarin therapy and would reduce the frequency of warfarin-related major bleeding . Methods Patients Patients hospitalized at University Hospitals of Clevel and , a 900-bed teaching hospital , between September 1992 and October 1995 who were 65 years of age or older and were receiving 10 000 units or more of intravenous unfractionated heparin every 24 hours were screened daily . Of these patients , we identified 426 persons who were 65 years of age or older , who resided in Cuyahoga County , Ohio , and for whom treatment with warfarin was planned for 10 or more days ( Figure 1 ) . Patients were excluded if they had been treated with warfarin at any time during the previous 6 months , were admitted from a nursing home , were enrolled in another clinical trial , were too ill to give consent and had no available surrogate , were discharged prematurely , or did not speak English ; if their private physician refused to participate ; or if no r and om allocation was taking place ( for example , during vacations or holidays ) . Eligible patients who were enrolled did not differ significantly from those who were not enrolled with regard to age , ethnicity , sex , or indication for therapy . Figure 1 . Eligibility and r and om assignment of patients . Patients were stratified according to their baseline risk for major bleeding by using the Outpatient Bleeding Risk Index ( 20 ) . This index includes four independent risk factors for  major bleeding :  age 65 years or older , history of gastrointestinal bleeding , history of stroke , and one or more of four specific comorbid conditions ( recent myocardial infa rct ion , hematocrit<30 % , creatinine concentration>133 mol/L [ 1.5 mg/dL ] , or diabetes mellitus ) . Patients with one or two risk factors were classified as intermediate risk , and those with three or more risk factors were classified as high risk ; estimated frequencies of major bleeding in 6 months were 6 % and 35 % , respectively . After stratification , patients were r and omly assigned to receive usual care or intervention . Informed consent for observation and data collection was then sought from both groups , and informed consent to participate in the intervention was sought from the intervention group . This method , initially proposed by Zelen ( 28 ) , allows the study to test the effectiveness of offering the intervention rather than simply the efficacy of the intervention in patients who consent to participation before r and om assignment . The sample size was calculated to provide 80 % power and an level of 0.05 . The study protocol and informed consent procedures were approved by the hospital 's institutional review board . Intervention The intervention had two main components . The first component consisted of a guideline -based consultation that assessed the patient 's indications for therapy and potential risk factors for warfarin-related bleeding .  We used this method previously to reduce the frequency of anticoagulant-related bleeding  during hospitalization ( 27 ) . Specific recommendations about modifiable risk factors , such as use of nonsteroidal anti-inflammatory drugs , were made and implemented . The study investigators directed warfarin dosing and international normalized ratio ( INR ) testing after hospital discharge . The second component included patient education , coaching , and self-monitoring of prothrombin time ;  this component was grounded in social learning theory ( 29 - 31 ) and experimental evidence ( 32 , 33 ) showing that increasing participation of patients in their care can improve clinical outcomes but that increasing patient knowledge alone is insufficient ( 34 , 35 ) . Patient education consisted of one-on-one teaching by a lay educator using a specifically formatted workbook for older adults to teach them about warfarin , indications for its use , drug and food interactions , and the signs and symptoms of bleeding . The lay educator review ed the workbook and was taught how to use the prothrombin time monitor by one of the authors but had no formal medical training . Coaching was aim ed to increase patients ' participation in their care and to improve information-seeking skills . Patients were trained and encouraged to communicate more effectively with physicians and other health personnel about a range of issues , such as health concerns , drug interactions , or changes in lifestyle or diet . Finally , patients were taught to self-monitor the  prothrombin time by using a home portable monitor ( Coumatrak Protime Test System , Biotrack , Inc. , Mountain View , California ) . The monitor uses a fingerstick to obtain a blood sample and has well-established accuracy ( 36 - 38 ) . Patients were initially assessed , educated , and taught to use the portable monitor while hospitalized ; training lasted 30 minutes to 1 hour . They were seen daily while hospitalized , warfarin therapy was adjusted as needed , and any concerns or questions about anticoagulant therapy were addressed . Within 3 days of discharge from the hospital , the lay educator or study investigator made a home visit to assess patients ' use of the portable monitor and to check the  prothrombin time .  In general , patients were instructed to check their prothrombin time three times during the first week after hospital discharge , weekly for the remainder of the first month , and monthly thereafter depending on their results . Patients phoned in their results to the coach , who review ed the results with one of the investigators and provided same-day follow-up , including recommendations for dose and subsequent INR testing . Patients were instructed to call whenever they had questions or concerns about their  warfarin management or possible side effects , if they were hospitalized for any reason , or if they began receiving new medications . After the 6-month intervention period , management and dosing of warfarin therapy reverted back to patients ' personal physicians . Patients assigned to usual care received medical care , including management , dosing , and medical information , according to the discretion and practice s of their personal physician . Data Collection Trained abstract ors who were not involved with the intervention component of the study collected data from the medical chart at the start of anticoagulant therapy ; at each subsequent hospitalization ; and by blinded interview at enrollment and 1 , 3 , and 6 months after enrollment and every 6 months thereafter . Data elements included demographic characteristics , clinical history including comorbid diagnoses , indications for therapy , potential risk factors for bleeding , functional status , and new illnesses or comorbid conditions that developed after enrollment . Surveillance for bleeding and thromboembolism was conducted identically in the intervention and control groups and consisted of 12 items inquiring about bleeding and thromboembolism at each follow-up interview . Whenever an event was reported , the clinical characteristics of the bleeding or thromboembolic episode were determined by review of the relevant medical record and abstract ed without identifying patient information onto a st and ard form . All date s of death were confirmed by death certificates , and all causes of death were confirmed by review of death certificates and medical records . Follow-up was complete for all patients . End Points The primary end point was the first major bleeding event during the 6-month intervention period . Using explicit criteria in the Bleeding Severity Index ( 39 ) for the amount , rate , and consequences of bleeding , we defined major bleeding as overt bleeding that led to the loss of at least 2.0 units of blood in 7 days or less or was otherwise life-threatening ( for example , intracranial bleeding ) . Bleeding was classified without information about possible risk factors or r and omization status . Two author- review ers who were blinded to group assignment adjudicated bleeding events ; their agreement was high ( statistic , 0.97 ) . Secondary outcomes were death and recurrent venous thromboembolism at 6 months ; major bleeding after 6 months ; and control of anticoagulant therapy during the first 6 months of therapy , as measured by the INR . The therapeutic range of the INR was defined as 2.5 to 3.5 for persons with mechanical heart valves and 2.0 to 3.0 for persons with all other indications ( 40 ) . Therapeutic quality control was assessed by using the patient-time approach , described by Rosendaal and colleagues ( 41 ) , for three time periods after discharge from the hospital : 0 to 1 month , 1 to 3 months , and 3 to 6 months of therapy . This approach estimates the amount of time a patient is in the therapeutic range based on the actual INRs measured , assuming a linear relationship between consecutive INRs . Patients with only one\\\", \\\"An ageing population and the continuing expansion of clinical indications for coumadin therapy have increased pressure on hospital anticoagulant clinics . One solution is patient self\\u2010testing ( PST ) of the international normalized ratio ( INR ) using capillary blood sample s on point\\u2010of\\u2010care coagulation monitors at home . We conducted a prospect i ve study to determine whether patients can achieve accurate INR values through PST , using the CoaguChek S ( Roche Diagnostics , Lewes , UK ) . The main outcome measurements were : comparability of INR values obtained by PST and the hospital laboratory , patient acceptability as assessed by a question naire and anticoagulant control . Eighty\\u2010four patients [ 53 men , 31 women ; median age 59 years ( range 26\\u201383 ) ] , receiving long\\u2010term oral anticoagulation ( warfarin ) , were recruited from our Anticoagulation Clinic . Patients were r and omized to weekly self\\u2010testing or continuing 4\\u2010weekly hospital laboratory monitoring of INR . Comparison of INRs ( n = 234 ) showed no significant differences between the CoaguChek ( median INR 3\\u00b702 ) and laboratory testing ( median INR 3\\u00b707 ) . There was excellent correlation between the two methods ( r = 0\\u00b795 ) , with 85 % of CoaguChek results within 0\\u00b75 INR units of the laboratory method . On four occasions , differences of > 1 unit INR were obtained , but in each case the patient 's anticoagulation was unstable ( INR > 4\\u00b75 by both methods ) and the differences in INR would not have altered patient management . 87 % of patients found self\\u2010testing straightforward , 87 % were confident in the result they obtained and 77 % preferred self\\u2010testing . We conclude that PST is a reliable alternative to hospital clinic attendance and is acceptable to the majority of suitably trained patients\\\"]\",\n          \"['BACKGROUND Actinic keratosis is a common precursor to sun-related squamous-cell carcinoma . Treating actinic keratoses and the surrounding skin area ( i.e. , field therapy ) can eradicate clinical and sub clinical actinic keratoses . Topical field therapy currently requires weeks or months of treatment . We investigated the efficacy and safety of a new topical field therapy for actinic keratosis , ingenol mebutate gel ( 0.015 % for face and scalp and 0.05 % for trunk and extremities ) . METHODS In four multicenter , r and omized , double-blind studies , we r and omly assigned patients with actinic keratoses on the face or scalp or on the trunk or extremities to receive ingenol mebutate or placebo ( vehicle ) , self-applied to a 25-cm(2 ) contiguous field once daily for 3 consecutive days for lesions on the face or scalp or for 2 consecutive days for the trunk or extremities . Complete clearance ( primary outcome ) was assessed at 57 days , and local reactions were quantitatively measured . RESULTS In a pooled analysis of the two trials involving the face and scalp , the rate of complete clearance was higher with ingenol mebutate than with placebo ( 42.2 % vs. 3.7 % , P<0.001 ) . Local reactions peaked at day 4 , with a mean maximum composite score of 9.1 on the local-skin-response scale ( which ranges from 0 to 4 for six types of reaction , yielding a composite score of 0 to 24 , with higher numbers indicating more severe reactions ) , rapidly decreased by day 8 , and continued to decrease , approaching baseline scores by day 29 . In a pooled analysis of the two trials involving the trunk and extremities , the rate of complete clearance was also higher with ingenol mebutate than with placebo ( 34.1 % vs. 4.7 % , P<0.001 ) . Local skin reactions peaked between days 3 and 8 and declined rapidly , approaching baseline by day 29 , with a mean maximum score of 6.8 . Adverse events were generally mild to moderate in intensity and resolved without sequelae . CONCLUSIONS Ingenol mebutate gel applied topically for 2 to 3 days is effective for field treatment of actinic keratoses . ( Funded by LEO Pharma ; Clinical Trials.gov numbers , NCT00742391 , NCT00916006 , NCT00915551 , and NCT00942604 . )', 'BACKGROUND In r and omized trials , fecal occult-blood testing reduces mortality from colorectal cancer . However , the duration of the benefit is unknown , as are the effects specific to age and sex . METHODS In the Minnesota Colon Cancer Control Study , 46,551 participants , 50 to 80 years of age , were r and omly assigned to usual care ( control ) or to annual or biennial screening with fecal occult-blood testing . Screening was performed from 1976 through 1982 and from 1986 through 1992 . We used the National Death Index to obtain up date d information on the vital status of participants and to determine causes of death through 2008 . RESULTS Through 30 years of follow-up , 33,020 participants ( 70.9 % ) died . A total of 732 deaths were attributed to colorectal cancer : 200 of the 11,072 deaths ( 1.8 % ) in the annual-screening group , 237 of the 11,004 deaths ( 2.2 % ) in the biennial-screening group , and 295 of the 10,944 deaths ( 2.7 % ) in the control group . Screening reduced colorectal-cancer mortality ( relative risk with annual screening , 0.68 ; 95 % confidence interval [ CI ] , 0.56 to 0.82 ; relative risk with biennial screening , 0.78 ; 95 % CI , 0.65 to 0.93 ) through 30 years of follow-up . No reduction was observed in all-cause mortality ( relative risk with annual screening , 1.00 ; 95 % CI , 0.99 to 1.01 ; relative risk with biennial screening , 0.99 ; 95 % CI , 0.98 to 1.01 ) . The reduction in colorectal-cancer mortality was larger for men than for women in the biennial-screening group ( P=0.04 for interaction ) . CONCLUSIONS The effect of screening with fecal occult-blood testing on colorectal-cancer mortality persists after 30 years but does not influence all-cause mortality . The sustained reduction in colorectal-cancer mortality supports the effect of polypectomy . ( Funded by the Veterans Affairs Merit Review Award Program and others . )', \\\"BACKGROUND Women 's groups and health education by peer counsellors can improve the health of mothers and children . We assessed their effects on mortality and breastfeeding rates  in rural Malawi . METHODS We did a 2 \\u00d7 2 factorial , cluster-r and omised trial in 185,888 people in Mchinji district . 48 equal-sized clusters were r and omly allocated to four groups with a computer-generated number sequence . 24 facilitators guided groups through a community action cycle to tackle maternal and child health problems . 72 trained volunteer peer counsellors  made home visits at five timepoints during pregnancy and after birth to support breastfeeding and infant care . Primary outcomes for the women 's group intervention were maternal , perinatal , neonatal , and infant mortality rates ( MMR , PMR , NMR , and IMR , respectively ) ; and for the peer counselling were IMR and exclusive breastfeeding ( EBF ) rates . Analysis was by intention to treat . The trial is registered as IS RCT N06477126 . FINDINGS We monitored outcomes of 26,262 births between 2005 and 2009 . In a factorial model adjusted only for clustering and the volunteer peer counselling intervention , in women 's group areas , for years 2 and 3 , we noted non-significant decreases in NMR ( odds ratio 0.93 , 0.64 - 1.35 ) and MMR ( 0.54 , 0.28 - 1.04 ) . After adjustment for parity , socioeconomic quintile , and baseline measures , effects were larger for NMR ( 0.85 , 0.59 - 1.22 ) and MMR ( 0.48 , 0.26 - 0.91 ) . Because of the interaction between the two interventions , a stratified analysis was done . For women 's groups , in adjusted analyses , MMR fell by 74 % ( 0.26 , 0.10 - 0.70 ) , and NMR by 41 % ( 0.59 , 0.40 - 0.86 ) in areas with no peer counsellors , but there was no effect in areas with counsellors ( 1.09 , 0.40 - 2.98 , and 1.38 , 0.75 - 2.54 ) . Factorial analysis for the peer counselling intervention for years 1 - 3 showed a fall in IMR of 18 % ( 0.82 , 0.67 - 1.00 ) and an improvement in EBF rates ( 2.42 , 1.48 - 3.96 ) . The results of the stratified , adjusted analysis showed a 36 % reduction in IMR ( 0.64 , 0.48 - 0.85 ) but no effect on EBF ( 1.18 , 0.63 - 2.25 ) in areas without women 's groups , and in areas with women 's groups there was no effect on IMR ( 1.05 , 0.82 - 1.36 ) and an increase in EBF ( 5.02 , 2.67 - 9.44 ) . The cost of women 's groups was US$ 114 per year of life lost ( YLL ) averted and that of peer counsellors was $ 33 per YLL averted , using stratified data from single intervention comparisons . INTERPRETATION Community mobilisation through women 's groups and volunteer peer counsellor health education are methods to improve maternal and child health outcomes in poor rural population s in Africa . FUNDING Saving Newborn Lives , UK Department for International Development , and Wellcome Trust\\\", 'BACKGROUND Venous thromboembolism is a common , potentially avoidable cause of death and morbidity in patients in hospital , including those with stroke . In surgical patients , intermittent pneumatic compression ( IPC ) reduces the risk of deep vein thrombosis ( DVT ) , but no reliable evidence exists about its effectiveness in patients who have had a stroke . We assessed the effectiveness of IPC to reduce the risk of DVT in patients who have had a stroke . METHODS The CLOTS 3 trial is a multicentre parallel group r and omised trial assessing IPC in immobile patients ( ie , who can not walk to the toilet without the help of another person ) with acute stroke . We enrolled patients from day 0 to day 3 of admission and allocated them via a central r and omisation system ( ratio 1:1 ) to receive either IPC or no IPC . A technician who was masked to treatment allocation did a compression duplex ultrasound ( CDU ) of both legs at 7 - 10 days and , wherever practical , at 25 - 30 days after enrolment . Caregivers and patients were not masked to treatment assignment . Patients were followed up for 6 months to determine survival and later symptomatic venous thromboembolism . The primary outcome was a DVT in the proximal veins detected on a screening CDU or any symptomatic DVT in the proximal veins , confirmed on imaging , within 30 days of r and omisation . Patients were analysed according to their treatment allocation . TRIAL REGISTRATION IS RCT N93529999 . FINDINGS Between Dec 8 , 2008 , and Sept 6 , 2012 , 2876 patients were enrolled in 94 centres in the UK . The included patients were broadly representative of immobile stroke patients admitted to hospital and had a median age of 76 years ( IQR 67 - 84 ) . The primary outcome occurred in 122 ( 8\\u00b75 % ) of 1438 patients allocated IPC and 174 ( 12\\u00b71 % ) of 1438 patients allocated no IPC ; an absolute reduction in risk of 3\\u00b76 % ( 95 % CI 1\\u00b74 - 5\\u00b78 ) . Excluding the 323 patients who died before any primary outcome and 41 without any screening CDU , the adjusted OR for the comparison of 122 of 1267 patients vs 174 of 1245 patients was 0\\u00b765 ( 95 % CI 0\\u00b751 - 0\\u00b784 ; p=0\\u00b7001 ) . Deaths in the treatment period occurred in 156 ( 11 % ) patients allocated IPC and 189 ( 13 % ) patients allocated no IPC died within the 30 days of treatment period ( p=0\\u00b7057 ) ; skin breaks on the legs were reported in 44 ( 3 % ) patients allocated IPC and in 20 ( 1 % ) patients allocated no IPC ( p=0\\u00b7002 ) ; falls with injury were reported in 33 ( 2 % ) patients in the IPC group and in 24 ( 2 % ) patients in the no-IPC group ( p=0\\u00b7221 ) . INTERPRETATION IPC is an effective method of reducing the risk of DVT and possibly improving survival in a wide variety of patients who are immobile after stroke . FUNDING National Institute of Health Research ( NIHR ) Health Technology Assessment ( HTA ) programme , UK ; Chief Scientist Office of Scottish Government ; Covidien ( MA , USA )', \\\"BACKGROUND We previously reported that integrating antiretroviral therapy ( ART ) with tuberculosis treatment reduces mortality . However , the timing for the initiation of ART during tuberculosis treatment remains unresolved . METHODS We conducted a three-group , open-label , r and omized , controlled trial in South Africa involving 642 ambulatory patients , all with tuberculosis ( confirmed by a positive sputum smear for acid-fast bacilli ) , human immunodeficiency virus infection , and a CD4 + T-cell count of less than 500 per cubic millimeter . Findings in the earlier-ART group ( ART initiated within 4 weeks after the start of tuberculosis treatment ,  214 patients ) and later-ART group ( ART initiated during the first 4 weeks of the continuation phase of tuberculosis treatment ,  215 patients ) are presented here . RESULTS At baseline , the median CD4 + T-cell count was 150 per cubic millimeter , and the median viral load was 161,000 copies per milliliter , with no significant differences between the two groups . The incidence rate of the acquired immunodeficiency syndrome ( AIDS ) or death was 6.9 cases per 100 person-years in the earlier-ART group ( 18 cases ) as compared with 7.8 per 100 person-years in the later-ART group ( 19 cases ) ( incidence-rate ratio , 0.89 ; 95 % confidence interval [ CI ] , 0.44 to 1.79 ; P=0.73 ) . However , among patients with CD4 + T-cell counts of less than 50 per cubic millimeter , the incidence rates of AIDS or death were 8.5 and 26.3 cases per 100 person-years , respectively ( incidence-rate ratio , 0.32 ; 95 % CI , 0.07 to 1.13 ; P=0.06 ) . The incidence rates of the immune reconstitution inflammatory syndrome ( IRIS ) were 20.1 and 7.7 cases per 100 person-years , respectively ( incidence-rate ratio , 2.62 ; 95 % CI , 1.48 to 4.82 ; P<0.001 ) . Adverse events requiring a switching of antiretroviral drugs occurred in 10 patients in the earlier-ART group and 1 patient in the later-ART group ( P=0.006 ) . CONCLUSIONS Early initiation of ART in patients with CD4 + T-cell counts of less than 50 per cubic millimeter increased AIDS-free survival . Deferral of the initiation of ART to the first 4 weeks of the continuation phase of tuberculosis therapy in those with higher CD4 + T-cell counts reduced the risks of IRIS and other adverse events related to ART without increasing the risk of AIDS or death . ( Funded by the U.S. President 's Emergency Plan for AIDS Relief and others ; SAPIT Clinical Trials.gov number , NCT00398996 . )\\\", 'BACKGROUND Early termination of prolonged seizures with intravenous administration of benzodiazepines improves outcomes . For faster and more reliable administration , paramedics increasingly use an intramuscular route . METHODS This double-blind , r and omized , noninferiority trial compared the efficacy of intramuscular midazolam with that of intravenous lorazepam for children and adults in status epilepticus treated by paramedics . Subjects whose convulsions had persisted for more than 5 minutes and who were still convulsing after paramedics arrived were given the study medication by either intramuscular autoinjector or intravenous infusion . The primary outcome was absence of seizures at the time of arrival in the emergency department without the need for rescue therapy . Secondary outcomes included endotracheal intubation , recurrent seizures , and timing of treatment relative to the cessation of convulsive seizures . This trial tested the hypothesis that intramuscular midazolam was noninferior to intravenous lorazepam by a margin of 10 percentage points . RESULTS At the time of arrival in the emergency department , seizures were absent without rescue therapy in 329 of 448 subjects ( 73.4 % ) in the intramuscular-midazolam group and in 282 of 445 ( 63.4 % ) in the intravenous-lorazepam group ( absolute difference , 10 percentage points ; 95 % confidence interval , 4.0 to 16.1 ; P<0.001 for both noninferiority and superiority ) . The two treatment groups were similar with respect to need for endotracheal intubation ( 14.1 % of subjects with intramuscular midazolam and 14.4 % with intravenous lorazepam ) and recurrence of seizures ( 11.4 % and 10.6 % , respectively ) . Among subjects whose seizures ceased before arrival in the emergency department , the median times to active treatment were 1.2 minutes in the intramuscular-midazolam group and 4.8 minutes in the intravenous-lorazepam group , with corresponding median times from active treatment to cessation of convulsions of 3.3 minutes and 1.6 minutes . Adverse-event rates were similar in the two groups . CONCLUSIONS For subjects in status epilepticus , intramuscular midazolam is at least as safe and effective as intravenous lorazepam for prehospital seizure cessation . ( Funded by the National Institute of Neurological Disorders and Stroke and others ; Clinical Trials.gov number , Clinical Trials.gov NCT00809146 . )', \\\"BACKGROUND In women with a multiple pregnancy , spontaneous preterm delivery is the leading cause of perinatal morbidity and mortality . Interventions to reduce preterm birth in these women have not been successful . We assessed whether a cervical pessary could effectively prevent poor perinatal outcomes . METHODS We undertook a multicentre , open-label r and omised controlled trial in 40 hospitals in the Netherl and s. We r and omly assigned women with a multiple pregnancy between 12 and 20 weeks ' gestation ( 1:1 ) to pessary or control groups  , using a web-based application with a computer-generated list with r and om block sizes of two to four , stratified by hospital . Participants and investigators were aware of group allocation . For women in the pessary group , a midwife or obstetrician inserted a cervical pessary between 16 and 20 weeks ' gestation . Women in the control group did not receive the pessary , but otherwise received similar obstetrical care to those in the pessary group . The primary outcome was a composite of poor perinatal outcome : stillbirth , periventricular leucomalacia , severe respiratory distress syndrome , bronchopulmonary dysplasia , intraventricular haemorrhage , necrotising enterocolitis , proven sepsis , and neonatal death . Analyses were by modified intention to treat . This trial is registered in the Dutch trial registry , number NTR1858 . FINDINGS Between Sept 21 , 2009 , and March 9 , 2012 , 813 women underwent r and omisation , of whom 808 were analysed ( 401 in the pessary group ; 407 in the control group ) . At least one child of 53 women ( 13 % ) in the pessary group had poor perinatal outcome , compared with 55 ( 14 % ) in the control group ( relative risk 0\\u00b798 , 95 % CI 0\\u00b769 - 1\\u00b739 ) . INTERPRETATION In unselected women with a multiple pregnancy , prophylactic use of a cervical pessary does not reduce poor perinatal outcome . FUNDING The Netherl and s Organisation for Health Research and Development\\\", 'BACKGROUND Treatment with prasugrel and aspirin improves outcomes compared with clopidogrel and aspirin for patients with acute coronary syndrome who have had angiography and percutaneous coronary intervention ; however , no clear benefit has been shown for patients managed first with drugs only . We assessed outcomes from the TRILOGY ACS trial based on whether or not patients had coronary angiography before treatment was chosen . METHODS TRILOGY ACS ( Clinical Trials.gov number NCT00699998 ) was a r and omised controlled trial , done at more than 800 sites worldwide . Patients with non-ST-elevation acute coronary syndrome who were selected for management without [ corrected ] revascularisation were r and omly assigned to clopidogrel or prasugrel . The primary endpoint was cardiovascular death , myocardial infa rct ion , or stroke at 30 months . In the present analysis we assessed differences in the primary endpoint by angiography status and whether the effects of treatment on the primary endpoint differed between patients who had angiography before enrolment and those who had not . FINDINGS 7243 patients younger than 75 years were included in the TRILOGY ACS primary analysis . 3085 ( 43 % ) had angiography at baseline , 4158 ( 57 % ) had not . Fewer patients who had angiography reached the primary endpoint at 30 months compared with those who did not have angiography , according to Kaplan-Meier analysis ( 281/3085 [ 12\\u00b78 % ] vs 480/4158 [ 16\\u00b75 % ] , adjusted hazard ratio [ HR ] 0\\u00b763 , 95 % CI 0\\u00b753 - 0\\u00b775 ; p<0\\u00b70001 ) . The proportion of patients who reached the primary endpoint was lower in the prasugrel group than in the clopidogrel group for those who had angiography ( 122/1524 [ 10\\u00b77 % ] vs 159/1561 [ 14\\u00b79 % ] , HR 0\\u00b777 , 95 % CI 0\\u00b761 - 0\\u00b798 ; p=0\\u00b7032 ) but did not differ between groups in patients who did not have angiography ( 242/2096 [ 16\\u00b73 % ] vs 238/2062 [ 16\\u00b77 % ] , HR 1\\u00b701 , 0\\u00b784 - 1\\u00b720 ; p=0\\u00b794 ; pinteraction=0\\u00b708 ) . Overall , TIMI major bleeding and GUSTO severe bleeding were rare . Bleeding outcomes tended to be higher with prasugrel but did not differ significantly between treatment groups in either angiography cohort . INTERPRETATION Among patients who had angiography who took prasugrel there were fewer cardiovascular deaths , myocardial infa rct ions , or strokes than in those who took clopidogrel . This result needs to be corroborated , but it is consistent with previous trials of more versus less intensive antiplatelet treatment . When angiography is done for acute coronary syndrome and anatomic coronary disease confirmed , the benefits and risks of intensive antiplatelet treatment exist whether the patient is treated with drugs or percutaneous coronary intervention . FUNDING Daiichi Sankyo , Eli Lilly', 'BACKGROUND Dalcetrapib modulates cholesteryl ester transfer protein ( CETP ) activity to raise high-density lipoprotein cholesterol ( HDL-C ) . After the failure of torcetrapib it was unknown if HDL produced by interaction with CETP had pro-atherogenic or pro-inflammatory properties . dal-PLAQUE is the first multicentre study using novel non-invasive multimodality imaging to assess structural and inflammatory indices of atherosclerosis as primary endpoints . METHODS In this phase 2b , double-blind , multicentre trial , patients ( aged 18 - 75 years ) with , or with high risk of , coronary heart disease were r and omly assigned ( 1:1 ) to dalcetrapib 600 mg/day or placebo for 24 months . R and omisation was done with a computer-generated r and omisation code and was stratified by centre . Patients and investigators were masked to treatment . Co primary endpoints were MRI-assessed indices ( total vessel area , wall area , wall thickness , and normalised wall index [ average carotid ] ) after 24 months and (18)F-fluorodeoxyglucose ( (18)F-FDG ) PET/CT assessment of arterial inflammation within an index vessel ( right carotid , left carotid , or ascending thoracic aorta ) after 6 months , with no-harm boundaries established before unblinding of the trial . Analysis was by intention to treat . This trial is registered at Clinical Trials.gov , NCT00655473 . FINDINGS 189 patients were screened and 130 r and omly assigned to placebo ( 66 patients ) or dalcetrapib ( 64 patients ) . For the co primary MRI and PET/CT endpoints , CIs were below the no-harm boundary or the adverse change was numerically lower in the dalcetrapib group than in the placebo group . MRI-derived change in total vessel area was reduced in patients given dalcetrapib compared with those given placebo after 24 months ; absolute change from baseline relative to placebo was -4\\u00b701 mm(2 ) ( 90 % CI -7\\u00b723 to -0\\u00b780 ; nominal p=0\\u00b704 ) . The PET/CT measure of index vessel most-diseased-segment target-to- background ratio ( TBR ) was not different between groups , but carotid artery analysis showed a 7 % reduction in most-diseased-segment TBR in the dalcetrapib group compared with the placebo group ( -7\\u00b73 [ 90 % CI -13\\u00b75 to -0\\u00b78 ] ; nominal p=0\\u00b707 ) . Dalcetrapib did not increase office blood pressure and the frequency of adverse events was similar between groups . INTERPRETATION Dalcetrapib showed no evidence of a pathological effect related to the arterial wall over 24 months . Moreover , this trial suggests possible beneficial vascular effects of dalcetrapib , including the reduction in total vessel enlargement over 24 months , but long-term safety and clinical outcomes efficacy of dalcetrapib need to be analysed . FUNDING F Hoffmann-La Roche', 'BACKGROUND In a phase 1 - 2 trial of albumin-bound paclitaxel ( nab-paclitaxel ) plus gemcitabine , substantial clinical activity was noted in patients with advanced pancreatic cancer . We conducted a phase 3 study of the efficacy and safety of the combination versus gemcitabine monotherapy in patients with metastatic pancreatic cancer . METHODS We r and omly assigned patients with a Karnofsky performance-status score of 70 or more ( on a scale from 0 to 100 , with higher scores indicating better performance status ) to nab-paclitaxel ( 125 mg per square meter of body-surface area ) followed by gemcitabine  ( 1000 mg per square meter ) on days 1 , 8 , and 15 every 4 weeks or gemcitabine monotherapy ( 1000 mg per square meter ) weekly for 7 of 8 weeks ( cycle 1 ) and then on days 1 , 8 , and 15 every 4 weeks ( cycle 2 and subsequent cycles ) . Patients received the study treatment until disease progression . The primary end point was overall survival ; secondary end points were progression-free survival and overall response rate . RESULTS A total of 861 patients were r and omly assigned to nab-paclitaxel plus gemcitabine ( 431 patients ) or gemcitabine  ( 430 ) . The median overall survival was 8.5 months in the nab-paclitaxel-gemcitabine group as compared with 6.7 months in the gemcitabine group ( hazard ratio for death , 0.72 ; 95 % confidence interval [ CI ] , 0.62 to 0.83 ; P<0.001 ) . The survival rate was 35 % in the nab-paclitaxel-gemcitabine group versus 22 % in the gemcitabine group at 1 year , and 9 % versus 4 % at 2 years . The median progression-free survival was 5.5 months in the nab-paclitaxel-gemcitabine group , as compared with 3.7 months in the gemcitabine group ( hazard ratio for disease progression or death , 0.69 ; 95 % CI , 0.58 to 0.82 ; P<0.001 ) ; the response rate according to independent review was 23 % versus 7 % in the two groups ( P<0.001 ) . The most common adverse events of grade 3 or higher were neutropenia ( 38 % in the nab-paclitaxel-gemcitabine group vs. 27 % in the gemcitabine group ) , fatigue ( 17 % vs. 7 % ) , and neuropathy ( 17 % vs. 1 % ) . Febrile neutropenia occurred in 3 % versus 1 % of the patients in the two groups . In the nab-paclitaxel-gemcitabine group , neuropathy of grade 3 or higher improved to grade 1 or lower in a median of 29 days . CONCLUSIONS In patients with metastatic pancreatic adenocarcinoma , nab-paclitaxel plus gemcitabine significantly improved overall survival , progression-free survival , and response rate , but rates of peripheral neuropathy and myelosuppression were increased . ( Funded by Celgene ; Clinical Trials.gov number , NCT00844649 . )', 'OBJECTIVES Gender and ethnicity are factors affecting the incidence and severity of vascular disease as well as subsequent treatment outcomes . Although well studied in other fields , balanced enrollment of patients with relevant demographic characteristics in vascular surgery r and omized controlled trials ( RCTs ) is not well known . This study describes the reporting of gender and ethnicity data in vascular surgery RCTs and analyzes whether these studies adequately represent our diverse patient population . METHODS We conducted a retrospective review of United States-based RCTs from 1983 through 2007 for three broadly defined vascular procedures : aortic aneurysm repair ( AAR ) , carotid revascularization ( CR ) , and lower extremity revascularization ( LER ) . Included studies were examined for gender and ethnicity data , study parameters , funding source , and geographic region . The Nationwide Inpatient Sample ( NIS ) data base was analyzed to obtain group-specific procedure frequency as an estimate of procedure frequency in the general population . RESULTS We review ed 77 studies , and 52 met our inclusion criteria . Only 85 % reported gender , and 21 % reported ethnicity . Reporting of ethnicity was strongly associated with larger ( > 280 participants ) , multicenter , government-funded trials ( P < .001 for all ) . Women are disproportionately under-represented in RCTs for all procedure categories ( AAR , 9.0 % vs 21.5 % ; CR , 30.0 % vs 42.9 % ; LER , 22.4 % vs 41.3 % ) . Minorities are under-represented in AAR studies ( 6.0 % vs 10.7 % ) and CR studies ( 6.9 % vs 9.5 % ) but are over-represented in LER studies ( 26.0 % vs 21.8 % , P < .001 for all ) . CONCLUSIONS Minority ethnicity and female gender are under-reported and under-represented in vascular surgery RCTs , particularly in small , non-government-funded and single-center trials . The generalizability of some trial results may not be applicable to these population s. Greater effort to enroll a balanced study population in RCTs may yield more broadly applicable results', 'BACKGROUND Arthroscopic partial meniscectomy is one of the most common orthopedic procedures , yet rigorous evidence of its efficacy is lacking . METHODS We conducted a multicenter , r and omized , double-blind , sham-controlled trial in 146 patients 35 to 65 years of age who had knee symptoms consistent with a degenerative medial meniscus tear and no knee osteoarthritis . Patients were r and omly assigned to arthroscopic partial meniscectomy or sham surgery . The primary outcomes were changes in the Lysholm and Western Ontario Meniscal Evaluation Tool ( WOMET ) scores ( each ranging from 0 to 100 , with lower scores indicating more severe symptoms ) and in knee pain after exercise ( rated on a scale from 0 to 10 , with 0 denoting no pain ) at 12 months after the procedure . RESULTS In the intention-to-treat analysis , there were no significant between-group differences in the change from baseline to 12 months in any primary outcome . The mean changes ( improvements ) in the primary outcome measures were as follows : Lysholm score , 21.7 points in the partial-meniscectomy group as compared with 23.3 points in the sham-surgery group ( between-group difference , -1.6 points ; 95 % confidence interval [ CI ] , -7.2 to 4.0 ) ; WOMET score , 24.6 and 27.1 points , respectively ( between-group difference , -2.5 points ; 95 % CI , -9.2 to 4.1 ) ; and score for knee pain after exercise , 3.1 and 3.3 points , respectively ( between-group difference , -0.1 ; 95 % CI , -0.9 to 0.7 ) . There were no significant differences between groups in the number of patients who required subsequent knee surgery ( two in the partial-meniscectomy group and five in the sham-surgery group ) or serious adverse events ( one and zero , respectively ) . CONCLUSIONS In this trial involving patients without knee osteoarthritis but with symptoms of a degenerative medial meniscus tear , the outcomes after arthroscopic partial meniscectomy were no better than those after a sham surgical procedure . ( Funded by the Sigrid Juselius Foundation and others ; Clinical Trials.gov number , NCT00549172 . )', 'BACKGROUND Bevacizumab has been suggested to have similar effectiveness to ranibizumab for treatment of neovascular age-related macular degeneration . The Inhibition of VEGF in Age-related choroidal Neovascularisation ( IVAN ) trial was design ed to compare these drugs and different regimens . Here , we report the findings at the prespecified 2-year timepoint . METHODS In a multicentre , 2 \\u00d7 2 factorial , non-inferiority r and omised trial , we enrolled adults aged at least 50 years with active , previously untreated neovascular age-related macular degeneration and a best corrected distance visual acuity ( BCVA ) of at least 25 letters from 23 hospitals in the UK . Participants were r and omly assigned ( 1:1:1:1 ) to intravitreal injections of ranibizumab ( 0\\u00b75 mg ) or bevacizumab ( 1\\u00b725 mg ) in continuous ( every month ) or discontinuous ( as needed ) regimens , with monthly review . Study participants and clinical assessors were masked to drug allocation . Allocation to continuous or discontinuous treatment was masked up to 3 months , at which point investigators and participants were unmasked . The primary outcome was BCVA at 2 years , with a prespecified non-inferiority limit of 3\\u00b75 letters . The primary safety outcome was arterial thrombotic event or hospital admission for heart failure . Analyses were by modified intention to treat . This trial is registered , number IS RCT N92166560 . FINDINGS Between March 27 , 2008 , and Oct 15 , 2010 , 628 patients underwent r and omisation . 18 were withdrawn ; 610 received study drugs ( 314 ranibizumab ; 296 bevacizumab ) and were included in analyses . 525 participants reached the visit at 2 years : 134 ranibizumab in continuous regimen , 137 ranibizumab in discontinuous regimen , 127 bevacizumab in continuous regimen , and 127 bevacizumab in discontinuous regimen . For BCVA , bevacizumab was neither non-inferior nor inferior to ranibizumab ( mean difference -1\\u00b737 letters , 95 % CI -3\\u00b775 to 1\\u00b701 ; p=0\\u00b726 ) . Discontinuous treatment was neither non-inferior nor inferior to continuous treatment ( -1\\u00b763 letters , -4\\u00b701 to 0\\u00b775 ; p=0\\u00b718 ) . Frequency of arterial thrombotic events or hospital admission for heart failure did not differ between groups given ranibizumab ( 20 [ 6 % ] of 314 participants ) and bevacizumab ( 12 [ 4 % ] of 296 ; odds ratio [ OR ] 1\\u00b769 , 95 % CI 0\\u00b780 - 3\\u00b757 ; p=0\\u00b716 ) , or those given continuous ( 12 [ 4 % ] of 308 ) and discontinuous treatment ( 20 [ 7 % ] of 302 ; 0\\u00b756 , 0\\u00b727 - 1\\u00b719 ; p=0\\u00b713 ) . Mortality was lower with continuous than discontinuous treatment ( OR 0\\u00b747 , 95 % CI 0\\u00b722 - 1\\u00b703 ; p=0\\u00b705 ) , but did not differ by drug group ( 0\\u00b796 , 0\\u00b746 - 2\\u00b702 ; p=0\\u00b791 ) . INTERPRETATION Ranibizumab and bevacizumab have similar efficacy . Reduction in the frequency of retreatment result ed in a small loss of efficacy irrespective of drug . Safety was worse when treatment was administered discontinuously . These findings highlight that the choice of anti-VEGF treatment strategy is less straightforward than previously thought . FUNDING UK National Institute for Health Research Health Technology Assessment programme', 'BACKGROUND Patients with metastatic colorectal cancer that harbors KRAS mutations in exon 2 do not benefit from anti-epidermal growth factor receptor ( EGFR ) therapy . Other activating RAS mutations may also be negative predictive biomarkers for anti-EGFR therapy . METHODS In this prospect ive-retrospective analysis , we assessed the efficacy and safety of panitumumab plus oxaliplatin , fluorouracil , and leucovorin ( FOLFOX4 ) as compared with FOLFOX4 alone , according to RAS ( KRAS or NRAS ) or BRAF mutation status . A total of 639 patients who had metastatic colorectal cancer without KRAS mutations in exon 2 had results for at least one of the following : KRAS exon 3 or 4 ; NRAS exon 2 , 3 , or 4 ; or BRAF exon 15 . The overall rate of ascertainment of RAS status was 90 % . RESULTS Among 512 patients without RAS mutations , progression-free survival was 10.1 months with panitumumab-FOLFOX4 versus 7.9 months with FOLFOX4 alone ( hazard ratio for progression or death with combination therapy , 0.72 ; 95 % confidence interval [ CI ] , 0.58 to 0.90 ; P=0.004 ) . Overall survival was 26.0 months in the panitumumab-FOLFOX4 group versus 20.2 months in the FOLFOX4-alone group ( hazard ratio for death , 0.78 ; 95 % CI , 0.62 to 0.99 ; P=0.04 ) . A total of 108 patients ( 17 % ) with nonmutated KRAS exon 2 had other RAS mutations . These mutations were associated with inferior progression-free survival and overall survival with panitumumab-FOLFOX4 treatment , which was consistent with the findings in patients with KRAS mutations in exon 2 .  BRAF mutations were a negative prognostic factor . No new safety signals were identified . CONCLUSIONS Additional RAS mutations predicted a lack of response in patients who received panitumumab-FOLFOX4 . In patients who had metastatic colorectal cancer without RAS mutations , improvements in overall survival were observed with panitumumab-FOLFOX4 therapy . ( Funded by Amgen and others ; PRIME Clinical Trials.gov number , NCT00364013 . )', \\\"Summary Background Intensive treatment of multiple cardiovascular risk factors can halve mortality among people with established type 2 diabetes . We investigated the effect of early multifactorial treatment after diagnosis by screening . Methods In a pragmatic , cluster-r and omised , parallel-group trial done in Denmark , the Netherl and s , and the UK , 343 general practice s were r and omly assigned screening of registered patients aged 40\\u201369 years without known diabetes followed by routine care of diabetes or screening followed by intensive treatment of multiple risk factors .  The primary endpoint was first cardiovascular event , including cardiovascular mortality and morbidity , revascularisation , and non-traumatic amputation within 5 years . Patients and staff assessing outcomes were unaware of the practice 's study group assignment . Analysis was done by intention to treat . This study is registered with Clinical Trials.gov , number NCT00237549 . Findings Primary endpoint data were available for 3055 ( 99\\u00b79 % ) of 3057 screen-detected patients . The mean age was 60\\u00b73 ( SD 6\\u00b79 ) years and the mean duration of follow-up was 5\\u00b73 ( SD 1\\u00b76 ) years .  Improvements in cardiovascular risk factors ( HbA1c and cholesterol concentrations and blood pressure ) were slightly but significantly better in the intensive treatment group . The incidence of first cardiovascular event was 7\\u00b72 % ( 13\\u00b75 per 1000 person-years ) in the intensive treatment group and 8\\u00b75 % ( 15\\u00b79 per 1000 person-years ) in the routine care group ( hazard ratio 0\\u00b783 , 95 % CI 0\\u00b765\\u20131\\u00b705 ) , and of all-cause mortality 6\\u00b72 % ( 11\\u00b76 per 1000 person-years ) and 6\\u00b77 % ( 12\\u00b75 per 1000 person-years ; 0\\u00b791 , 0\\u00b769\\u20131\\u00b721 ) , respectively . Interpretation An intervention to promote early intensive management of patients with type 2 diabetes was associated with a small , non-significant reduction in the incidence of cardiovascular events and death . Funding National Health Service Denmark , Danish Council for Strategic Research , Danish Research Foundation for General Practice , Danish Centre for Evaluation and Health Technology Assessment , Danish National Board of Health , Danish Medical Research Council , Aarhus University Research Foundation , Wellcome Trust , UK Medical Research Council , UK NIHR Health Technology Assessment Programme , UK National Health Service R&D , UK National Institute for Health Research , Julius Center for Health Sciences and Primary Care , University Medical Center , Utrecht , Novo Nordisk , Astra , Pfizer , GlaxoSmithKline , Servier , HemoCue , Merck\\\", 'BACKGROUND It is unclear whether an evaluation incorporating coronary computed tomographic angiography ( CCTA ) is more effective than st and ard evaluation in the emergency department in patients with symptoms suggestive of acute coronary syndromes . METHODS In this multicenter trial , we r and omly assigned patients 40 to 74 years of age with symptoms suggestive of acute coronary syndromes but without ischemic electrocardiographic changes or an initial positive troponin test to early CCTA or to st and ard evaluation in the emergency department on weekdays during daylight hours between April 2010 and January 2012 . The primary end point was length of stay in the hospital . Secondary end points included rates of discharge from the emergency department , major adverse cardiovascular events at 28 days , and cumulative costs . Safety end points were undetected acute coronary syndromes . RESULTS The rate of acute coronary syndromes  among 1000 patients with a mean ( \\u00b1SD ) age of 54\\u00b18 years ( 47 % women ) was 8 % . After early CCTA , as compared with st and ard evaluation  , the mean length of stay in the hospital was reduced by 7.6 hours ( P<0.001 ) and more patients were discharged directly from the emergency department ( 47 % vs. 12 % , P<0.001 ) . There were no undetected acute coronary syndromes and no significant differences in major adverse cardiovascular events at 28 days . After CCTA , there was more downstream testing and higher radiation exposure . The cumulative mean cost of care was similar in the CCTA group and the st and ard-evaluation group ( $ 4,289 and $ 4,060 , respectively ; P=0.65 ) . CONCLUSIONS In patients in the emergency department with symptoms suggestive of acute coronary syndromes , incorporating CCTA into a triage strategy improved the efficiency of clinical decision making , as compared with a st and ard evaluation in the emergency department , but it result ed in an increase in downstream testing and radiation exposure with no decrease in the overall costs of care . ( Funded by the National Heart , Lung , and Blood Institute ; ROMICAT-II Clinical Trials.gov number , NCT01084239 . )', 'BACKGROUND Catheter-associated urinary tract infection ( CAUTI ) is a major preventable cause of harm for patients in hospital . We aim ed to establish whether short-term routine use of antimicrobial catheters reduced risk of CAUTI compared with st and ard polytetrafluoroethylene ( PTFE ) catheterisation . METHODS In our parallel , three group , multicentre , r and omised controlled superiority trial , we enrolled adults ( aged \\u226516 years ) requiring short-term ( \\u226414 days ) catheterisation at 24 hospitals in the UK . Participants were r and omly allocated 1:1:1 with a remote computer allocation to receive a silver alloy-coated catheter , a nitrofural-impregnated catheter , or a PTFE-coated catheter ( control group ) . Patients undergoing unplanned catheterisation were also included and consent for participation was obtained retrospectively . Participants and trial staff were unmasked to treatment assignment . Data were collected by trial staff and by patient-reported question naires for 6 weeks after r and omisation . The primary outcome was incidence of symptomatic urinary tract infection for which an antibiotic was prescribed by 6 weeks . We postulated that a 3\\u00b73 % absolute reduction in CAUTI would represent sufficient benefit to recommend routine use of antimicrobial catheters . This study is registered , number IS RCT N75198618 . FINDINGS 708 ( 10 % ) of 7102 r and omly allocated participants were not catheterised , did not confirm consent , or withdrew , and were not included in the primary analyses . Compared with 271 ( 12\\u00b76 % ) of 2144 participants in the control group , 263 ( 12\\u00b75 % ) of 2097 participants allocated a silver alloy catheter had the primary outcome ( difference -0\\u00b71 % [ 95 % CI -2\\u00b74 to 2\\u00b72 ] ) , as did 228 ( 10\\u00b76 % ) of 2153 participants allocated a nitrofural catheter ( -2\\u00b71 % [ -4\\u00b72 to 0\\u00b71 ] ) . Rates of catheter-related discomfort were higher in the nitrofural group than they were in the other groups . INTERPRETATION Silver alloy-coated catheters were not effective for reduction of incidence of symptomatic CAUTI . The reduction we noted in CAUTI associated with nitrofural-impregnated catheters was less than that regarded as clinical ly important . Routine use of antimicrobial-impregnated catheters is not supported by this trial . FUNDING UK National Institute for Health Research Health Technology Assessment Programme', 'BACKGROUND The higher prevalence and cost of depression for women compared with men and the possible gender differences in treatment response dem and the inclusion of women in clinical trials of depression treatments . The 1993 National Institutes of Health ( NIH ) Revitalization Act set a new st and ard , requiring investigators to consider the inclusion of women and analyze outcomes by gender , yet compliance with these st and ards in depression research has not been examined systematic ally . The purpose of this study is to examine the inclusion of women and gender-specific analyses in recent r and omized clinical trials ( RCTs ) for depression . METHODS RCTs were identified through a MEDLINE search for trials published between January 1 and December 31 , 2007 , and a Clinical trials.gov search of self-identified interventional studies to treat depression . RESULTS Of the 150 RCTs for depression published in 2007 , 15 % did not report the gender composition of their sample , 50 % of studies did not analyze outcomes by gender , and 12 % controlled for gender but did not analyze for gender differences . Of the 768 trials review ed on Clinical trials.gov , 89 % reported recruiting male and female participants , yet < 1 % reported an intention to analyze results by gender . CONCLUSIONS Many recent studies of depression treatments include women but do not examine outcomes by gender . Underst and ing how women differ from men in response to treatment is critical for enhancing treatment efficacy for the greatest number of adults with depression', 'BACKGROUND In trachoma control programmes , azithromycin is distributed to treat the strains of chlamydia that cause ocular disease . We aim ed to compare the effect of annual versus twice-yearly distribution of azithromycin on infection with these strains . METHODS We did a cluster-r and omised trial in 24 subdistricts in northern Ethiopia , which we r and omly assigned to receive annual or twice-yearly treatment for all residents of all ages . R and om assignment was done with the R AND OM and SORT functions of Microsoft Excel . All individuals were offered their assigned treatment of a single , directly observed , oral dose of azithromycin . A 6 week course of topical 1 % tetracycline ointment , applied twice daily to both eyes but not directly observed , was offered as an alternative to azithromycin in patients younger than 12 months , and in patients with self-reported pregnancy , with allergy , or who refused azithromycin .  Our primary , prespecified outcome was the prevalence of ocular chlamydial infection in a r and om sample of children aged 0 - 9 years at baseline and every 6 months for a total of 42 months within sentinel villages . Our analysis was by intention to treat . This study is registered with Clinical Trials.gov , number NCT00322972 . FINDINGS Antibiotic coverage of children aged 1 - 9 years was greater than 80 % ( range 80\\u00b79 to 93\\u00b70 ) at all study visits . In the groups treated annually , the prevalence of infection in children aged 0 - 9 years was reduced from a mean 41\\u00b79 % ( 95 % CI 31\\u00b75 to 52\\u00b72 ) at baseline to 1\\u00b79 % ( 0\\u00b73 to 3\\u00b75 ) at 42 months . In the groups treated twice yearly , the prevalence of infection was reduced from a mean 38\\u00b73 % ( 29\\u00b70 to 47\\u00b76 ) at baseline to 3\\u00b72 % ( 0\\u00b70 to 6\\u00b75 ) at 42 months . The prevalence of ocular chlamydial infection in children aged 0 - 9 years in groups treated annually was not different from that of the groups treated twice yearly at 18 , 30 , and 42 months ( pooled regression p>0\\u00b799 , 95 % CI -0\\u00b706 to 0\\u00b706 ) . The mean elimination time in the twice-yearly treatment group was 7\\u00b75 months earlier ( 2\\u00b73 to 17\\u00b73 ) than that of the annual group ( p=0\\u00b710 , Cox proportional hazards model ) . INTERPRETATION After 42 months of treatment , the prevalence of ocular infection with chlamydia was similar in the groups treated annually and twice yearly . However , elimination of infection might have been more rapid in the groups of villages that received treatment twice yearly . FUNDING National Institutes of Health ( NEI U10 EY016214 )', 'BACKGROUND Atherosclerotic renal-artery stenosis is a common problem in the elderly . Despite two r and omized trials that did not show a benefit of renal-artery stenting with respect to kidney function , the usefulness of stenting for the prevention of major adverse renal and cardiovascular events is uncertain . METHODS We r and omly assigned 947 participants who had atherosclerotic renal-artery stenosis and either systolic hypertension while taking two or more antihypertensive drugs or chronic kidney disease to medical therapy plus renal-artery stenting or medical therapy alone . Participants were followed for the occurrence of adverse cardiovascular and renal events ( a composite end point of death from cardiovascular or renal causes , myocardial infa rct ion , stroke , hospitalization for congestive heart failure , progressive renal insufficiency , or the need for renal-replacement therapy ) . RESULTS Over a median follow-up period of 43 months ( interquartile range , 31 to 55 ) , the rate of the primary composite end point did not differ significantly between participants who underwent stenting in addition to receiving medical therapy and those who received medical therapy alone ( 35.1 % and 35.8 % , respectively ; hazard ratio with stenting , 0.94 ; 95 % confidence interval [ CI ] , 0.76 to 1.17 ; P=0.58 ) . There were also no significant differences between the treatment groups in the rates of the individual components of the primary end point or in all-cause mortality . During follow-up , there was a consistent modest difference in systolic blood pressure favoring the stent group ( -2.3 mm Hg ; 95 % CI , -4.4 to -0.2 ; P=0.03 ) . CONCLUSIONS Renal-artery stenting did not confer a significant benefit with respect to the prevention of clinical events when added to comprehensive , multifactorial medical therapy in people with atherosclerotic renal-artery stenosis and hypertension or chronic kidney disease . ( Funded by the National Heart , Lung and Blood Institute and others ; Clinical Trials.gov number , NCT00081731 . )', 'BACKGROUND Powders containing iron and other micronutrients are recommended as a strategy to prevent nutritional anaemia and other micronutrient deficiencies in children . We assessed the effects of provision of two micronutrient powder formulations , with or without zinc , to children in Pakistan . METHODS We did a cluster r and omised trial in urban and rural sites in Sindh , Pakistan . A baseline survey identified 256 clusters , which were r and omly assigned ( within urban and rural strata , by computer-generated r and om numbers ) to one of three groups : non-supplemented control ( group A ) , micronutrient powder without zinc ( group B ) , or micronutrient powder with 10 mg zinc ( group C ) . Children in the clusters aged 6 months were eligible for inclusion in the study . Powders were to be given daily between 6 and 18 months of age ; follow-up was to age 2 years . Micronutrient powder sachets for groups B and C were identical except for colour ; investigators and field and supervisory staff were masked to composition of the micronutrient powders until trial completion . Parents knew whether their child was receiving supplementation , but did not know whether the powder contained zinc . Primary outcomes were growth , episodes of diarrhoea , acute lower respiratory tract infection , fever , and incidence of admission to hospital . This trial is registered with Clinical Trials.gov , number NCT00705445 . RESULTS The trial was done between Nov 1 , 2008 , and Dec 31 , 2011 . 947 children were enrolled in group A clusters , 910 in group B clusters , and 889 in group C clusters . Micronutrient powder administration was associated with lower risk of iron-deficiency anaemia at 18 months compared with the control group ( odds ratio [ OR ] for micronutrient powder without zinc=0\\u00b720 , 95 % CI 0\\u00b711 - 0\\u00b736 ; OR for micronutrient powder with zinc=0\\u00b725 , 95 % CI 0\\u00b714 - 0\\u00b744 ) . Compared with the control group , children in the group receiving micronutrient powder without zinc gained an extra 0\\u00b731 cm ( 95 % CI 0\\u00b703 - 0\\u00b759 ) between 6 and 18 months of age and children receiving micronutrient powder with zinc an extra 0\\u00b756 cm ( 0\\u00b729 - 0\\u00b784 ) . We recorded strong evidence of an increased proportion of days with diarrhoea ( p=0\\u00b7001 ) and increased incidence of bloody diarrhoea ( p=0\\u00b7003 ) between 6 and 18 months in the two micronutrient powder groups , and reported chest indrawing ( p=0\\u00b703 ) . Incidence of febrile episodes or admission to hospital for diarrhoea , respiratory problems , or febrile episodes did not differ between the three groups . INTERPRETATION Use of micronutrient powders reduces iron-deficiency anaemia in young children . However , the excess burden of diarrhoea and respiratory morbidities associated with micronutrient powder use and the very small effect on growth recorded suggest that a careful assessment of risks and benefits must be done in population s with malnourished children and high diarrhoea burdens . FUNDING Bill & Melinda Gates Foundation', 'BACKGROUND It is not known whether low-dose radioiodine ( 1.1 GBq [ 30 mCi ] ) is as effective as high-dose radioiodine ( 3.7 GBq [ 100 mCi ] ) for treating patients with differentiated thyroid cancer or whether the effects of radioiodine ( especially at a low dose ) are influenced by using either recombinant human thyrotropin ( thyrotropin alfa ) or thyroid hormone withdrawal . METHODS At 29 centers in the United Kingdom , we conducted a r and omized noninferiority trial comparing low-dose and high-dose radioiodine , each in combination with either thyrotropin alfa or thyroid hormone withdrawal before ablation .  Patients ( age range , 16 to 80 years ) had tumor stage T1 to T3 , with possible spread to nearby lymph nodes but without metastasis . End points were the rate of success of ablation at 6 to 9 months , adverse events , quality of life , and length of hospital stay . RESULTS A total of 438 patients underwent r and omization ; data could be analyzed for 421 .  Ablation success rates were 85.0 % in the group receiving low-dose radioiodine versus 88.9 % in the group receiving the high dose and 87.1 % in the thyrotropin alfa group versus 86.7 % in the group undergoing thyroid hormone withdrawal . All 95 % confidence intervals for the differences were within \\u00b110 percentage points , indicating noninferiority . Similar results were found for low-dose radioiodine plus thyrotropin alfa ( 84.3 % ) versus high-dose radioiodine plus thyroid hormone withdrawal ( 87.6 % ) or high-dose radioiodine plus thyrotropin alfa ( 90.2 % ) . More patients in the high-dose group than in the low-dose group were hospitalized for at least 3 days ( 36.3 % vs. 13.0 % , P<0.001 ) . The proportions of patients with adverse events were 21 % in the low-dose group versus 33 % in the high-dose group ( P=0.007 ) and 23 % in the thyrotropin alfa group versus 30 % in the group undergoing thyroid hormone withdrawal ( P=0.11 ) . CONCLUSIONS Low-dose radioiodine plus thyrotropin alfa was as effective as high-dose radioiodine , with a lower rate of adverse events . ( Funded by Cancer Research UK ; Clinical Trials.gov number , NCT00415233 . )', 'BACKGROUND Prospect i ve assessment of pharmacogenetic strategies has been limited by an inability to undertake bedside genetic testing . The CYP2C19 * 2 allele is a common genetic variant associated with increased rates of major adverse events in individuals given clopidogrel after percutaneous coronary intervention ( PCI ) .  We used a novel point-of-care genetic test to identify carriers of the CYP2C19 * 2 allele and aim ed to assess a pharmacogenetic approach to dual antiplatelet treatment after PCI . METHODS Between Aug 26 , 2010 , and July 7 , 2011 , 200 patients were enrolled into our prospect i ve , r and omised , proof-of-concept study . Patients undergoing PCI for acute coronary syndrome or stable angina were r and omly assigned to rapid point-of-care genotyping or to st and ard treatment . Individuals in the rapid genotyping group were screened for the CYP2C19 * 2 allele . Carriers were given 10 mg prasugrel daily , and non-carriers and patients in the st and ard treatment group were given 75 mg clopidogrel daily . The primary endpoint was the proportion of CYP2C19 * 2 carriers with high on-treatment platelet reactivity ( P2Y12 reactivity unit [ PRU ] value of more than 234 ) after 1 week of dual antiplatelet treatment , which is a marker associated with increased adverse cardiovascular events . Interventional cardiologists and data analysts were masked to genetic status and treatment . Patients were not masked to treatment allocation . All analyses were by intention to treat . This study is registered with Clinical Trials.gov , NCT01184300 . FINDINGS After r and omisation , 187 patients completed follow-up ( 91 rapid genotyping group , 96 st and ard treatment ) . 23 individuals in each group carried at least one CYP2C19 * 2 allele . None of the 23 carriers in the rapid genotyping group had a PRU value of more than 234 at day 7 , compared with seven ( 30 % ) given st and ard treatment ( p=0\\u00b70092 ) . The point-of-care genetic test had a sensitivity of 100 % ( 95 % CI 92\\u00b73 - 100 ) and a specificity of 99\\u00b73 % ( 96\\u00b73 - 100 ) . INTERPRETATION Point-of-care genetic testing after PCI can be done effectively at the bedside and treatment of identified CYP2C19 * 2 carriers with prasugrel can reduce high on-treatment platelet reactivity . FUNDING Spartan Biosciences', 'BACKGROUND Autologous fat grafting is increasingly used in reconstructive surgery . However , resorption rates ranging from 25 % to 80 % have been reported . Therefore , methods to increase graft viability are needed . Here , we report the results of a triple-blind , placebo-controlled trial to compare the survival of fat grafts enriched with autologous adipose-derived stem cells ( ASCs ) versus non-enriched fat grafts . METHODS Healthy participants underwent two liposuctions  taken 14 days apart : one for ASC isolation and ex-vivo expansion , and another for the preparation of fat grafts . Two purified fat grafts ( 30 mL each ) taken from the second liposuction were prepared for each participant . One graft was enriched with ASCs ( 20 \\u00d7 10(6 ) cells per mL fat ) , and another graft without ASC enrichment served as a control . The fat grafts were injected subcutaneously as a bolus to the posterior part of the right and left upper arm according to the r and omisation sequence . The volumes of injected fat grafts were measured by MRI immediately after injection and after 121 days before surgical removal . The primary goal was to compare the residual graft volumes of ASC-enriched grafts with those of control grafts . This study is registered at www . clinical trialsregister.eu , number 2010 - 023006 - 12 . FINDINGS 13 participants were enrolled , three of whom were excluded . Compared with the control grafts , the ASC-enriched fat grafts had significantly higher residual volumes : 23\\u00b700 ( 95 % CI 20\\u00b757 - 25\\u00b743 ) cm(3 ) versus 4\\u00b766 ( 3\\u00b716 - 6\\u00b716 ) cm(3 ) for the controls , corresponding to 80\\u00b79 % ( 76\\u00b76 - 85\\u00b72 ) versus 16\\u00b73 % ( 11\\u00b71 - 21\\u00b74 ) of the initial volumes , respectively ( p<0\\u00b70001 ) . The difference between the groups was 18\\u00b734 ( 95 % CI 15\\u00b770 - 20\\u00b798 ) cm(3 ) , equivalent to 64\\u00b76 % ( 57\\u00b71 - 72\\u00b71 ; p<0\\u00b70001 ) . No serious adverse events were noted . INTERPRETATION The procedure of ASC-enriched fat grafting  had excellent feasibility and safety . These promising results add significantly to the prospect of stem cell use in clinical setting s , and indicate that ASC graft enrichment could render lipofilling a reliable alternative to major tissue augmentation , such as breast surgery , with allogeneic material or major flap surgery . FUNDING Danish Cancer Society , Centre of Head and Orthopaedics Rigshospitalet , and Moalem Weitemeyer Bendtsen', 'BACKGROUND We aim ed to investigate the safety and efficacy of dutasteride , a 5\\u03b1-reductase inhibitor , on prostate cancer progression in men with low-risk disease who chose to be followed up with active surveillance . METHODS In our 3 year , r and omised , double-blind , placebo-controlled study , undertaken at 65 academic medical centres or outpatient clinics in North America , we enrolled men aged 48 - 82 years who had low-volume , Gleason score 5 - 6 prostate cancer and had chosen to be followed up with active surveillance . We r and omly allocated participants in a one-to-one ratio , stratified by site and in block sizes of four , to receive once-daily dutasteride 0\\u00b75 mg or matching placebo . Participants were followed up for 3 years , with 12-core prostate biopsy sample s obtained after 18 months and 3 years . The primary endpoint was time to prostate cancer progression , defined as the number of days between the start of study treatment and the earlier of either pathological progression ( in patients with \\u22651 biopsy assessment after baseline ) or therapeutic progression ( start of medical therapy ) . This trial is registered with Clinical Trials.gov , number NCT00363311 . FINDINGS Between Aug 10 , 2006 , and March 26 , 2007 , we r and omly allocated 302 participants , of whom 289 ( 96 % ) had at least one biopsy procedure after baseline and were included in the primary analysis . By 3 years , 54 ( 38 % ) of 144 men in the dutasteride group and 70 ( 48 % ) of 145 controls had prostate cancer progression ( pathological or therapeutic ; hazard ratio 0\\u00b762 , 95 % CI 0\\u00b743 - 0\\u00b789 ; p=0\\u00b7009 ) . Incidence of adverse events was much the same between treatment groups . 35 ( 24 % ) men in the dutasteride group and 23 ( 15 % ) controls had sexual adverse events or breast enlargement or tenderness . Eight ( 5 % ) men in the dutasteride group and seven ( 5 % ) controls had cardiovascular adverse events , but there were no prostate cancer-related deaths or instances of metastatic disease . INTERPRETATION Dutasteride could provide a beneficial adjunct to active surveillance for men with low-risk prostate cancer . FUNDING GlaxoSmithKline', 'BACKGROUND Dolutegravir ( S/GSK1349572 ) , a once-daily , unboosted integrase inhibitor , was recently approved in the United States for the treatment of human immunodeficiency virus type 1 ( HIV-1 ) infection in combination with other antiretroviral agents . Dolutegravir , in combination with abacavir-lamivudine , may provide a simplified regimen . METHODS We conducted a r and omized , double-blind , phase 3 study involving adult participants who had not received previous therapy for HIV-1 infection and who had an HIV-1 RNA level of 1000 copies per milliliter or more . Participants were r and omly assigned to dolutegravir at a dose of 50 mg plus abacavir-lamivudine once daily ( DTG-ABC-3TC group ) or combination therapy with efavirenz-tenofovir disoproxil fumarate (DF)-emtricitabine once daily ( EFV-TDF-FTC group ) . The primary end point was the proportion of participants with an HIV-1 RNA level of less than 50 copies per milliliter at week 48 . Secondary end points included the time to viral suppression , the change from baseline in CD4 + T-cell count , safety , and viral resistance . RESULTS A total of 833 participants received at least one dose of study drug . At week 48 , the proportion of participants with an HIV-1 RNA level of less than 50 copies per milliliter was significantly higher in the DTG-ABC-3TC group than in the EFV-TDF-FTC group ( 88 % vs. 81 % , P=0.003 ) , thus meeting the criterion for superiority . The DTG-ABC-3TC group had a shorter median time to viral suppression than did the EFV-TDF-FTC group ( 28 vs. 84 days , P<0.001 ) , as well as greater increases in CD4 + T-cell count ( 267 vs. 208 per cubic millimeter , P<0.001 ) . The proportion of participants who discontinued therapy owing to adverse events was lower in the DTG-ABC-3TC group than in the EFV-TDF-FTC group ( 2 % vs. 10 % ) ; rash and neuropsychiatric events ( including abnormal dreams , anxiety , dizziness , and somnolence ) were significantly more common in the EFV-TDF-FTC group , whereas insomnia was reported more frequently in the DTG-ABC-3TC group . No participants in the DTG-ABC-3TC group had detectable antiviral resistance ; one tenofovir DF-associated mutation and four efavirenz-associated mutations were detected in participants with virologic failure in the EFV-TDF-FTC group . CONCLUSIONS Dolutegravir plus abacavir-lamivudine had a better safety profile and was more effective through 48 weeks than the regimen with efavirenz-tenofovir DF-emtricitabine . ( Funded by ViiV Healthcare ; SINGLE Clinical Trials.gov number , NCT01263015 . )', 'BACKGROUND The National Institutes of Health ( NIH ) Revitalization Act of 1993 requires that NIH-funded clinical trials include women and minorities as participants ; other federal agencies have adopted similar guidelines . The objective of this study is to determine the current level of compliance with these guidelines for the inclusion , analysis , and reporting of sex and race/ethnicity in federally funded r and omized controlled trials ( RCTs ) and to compare the current level of compliance with that from 2004 , which was reported previously . METHODS  RCTs published in nine prominent medical journals in 2009 were identified by PubMed search . Studies where individuals were not the unit of analysis , those begun before 1994 , and those not receiving federal funding were excluded . PubMed search located 512 published articles . After exclusion of ineligible articles , 86 ( 17 % ) remained for analysis . RESULTS Thirty studies were sex specific . The  median enrollment of women in the 56 studies that included both men and women was 37 % . Seventy-five percent of the studies did not report any outcomes by sex , including 9 studies reporting < 20 % women enrolled . Among all 86 studies , 21 % did not report sample sizes by racial and ethnic groups , and 64 % did not provide any analysis by racial or ethnic groups . Only 3 studies indicated that the generalizability of their results may be limited by lack of diversity among those studied . There were no statistically significant changes in inclusion or reporting of sex or race/ethnicity when compared with 2004 . CONCLUSIONS Ensuring enhanced inclusion , analysis , and reporting of sex and race/ethnicity entails the efforts of NIH , journal editors , and the research ers themselves', 'BACKGROUND Maintenance therapy , often with azathioprine or mycophenolate mofetil , is required to consoli date remission and prevent relapse after the initial control of lupus nephritis . METHODS We carried out a 36-month , r and omized , double-blind , double-dummy , phase 3 study comparing oral mycophenolate mofetil ( 2 g per day ) and oral azathioprine ( 2 mg per kilogram of body weight per day ) , plus placebo in each group , in patients who met response criteria during a 6-month induction trial . The study group underwent repeat r and omization in a 1:1 ratio . Up to 10 mg of prednisone per day or its equivalent was permitted . The primary efficacy end point was the time to treatment failure , which was defined as death , end-stage renal disease , doubling of the serum creatinine level , renal flare , or rescue therapy for lupus nephritis . Secondary assessment s included the time to the individual components of treatment failure and adverse events . RESULTS A total of 227 patients were r and omly assigned to maintenance treatment ( 116 to mycophenolate mofetil and 111 to azathioprine ) . Mycophenolate mofetil was superior to azathioprine with respect to the primary end point , time to treatment failure ( hazard ratio , 0.44 ; 95 % confidence interval , 0.25 to 0.77 ; P = 0.003 ) , and with respect to time to renal flare and time to rescue therapy ( hazard ratio , < 1.00 ; P < 0.05 ) . Observed rates of treatment failure were 16.4 % ( 19 of 116 patients ) in the mycophenolate mofetil group and 32.4 % ( 36 of 111 ) in the azathioprine group . Adverse events , most commonly minor infections and gastrointestinal disorders , occurred in more than 95 % of the patients in both groups ( P = 0.68 ) . Serious adverse events occurred in 33.3 % of patients in the azathioprine group and in 23.5 % of those in the mycophenolate mofetil group ( P = 0.11 ) , and the rate of withdrawal due to adverse events was higher with azathioprine than with mycophenolate mofetil ( 39.6 % vs. 25.2 % , P = 0.02 ) . CONCLUSIONS Mycophenolate mofetil was superior to azathioprine in maintaining a renal response to treatment and in preventing relapse in patients with lupus nephritis who had a response to induction therapy . ( Funded by Vifor Pharma [ formerly Aspreva ] ; ALMS Clinical Trials.gov number , NCT00377637 . )', 'BACKGROUND Exclusive breastfeeding ( EBF ) is reported to be a life-saving intervention in low-income setting s. The effect of breastfeeding counselling by peer counsellors was assessed in Africa . METHODS 24 communities in Burkina Faso , 24 in Ug and a , and 34 in South Africa were assigned in a 1:1 ratio , by use of a computer-generated r and omisation sequence , to the control or intervention clusters . In the intervention group , we scheduled one antenatal breastfeeding peer counselling visit and four post-delivery visits by trained peers . The data gathering team were masked to the intervention allocation . The primary outcomes were prevalance of EBF and diarrhoea reported by mothers for infants aged 12 weeks and 24 weeks .  Country-specific prevalence ratios were adjusted for cluster effects and sites . Analysis was by intention to treat . This study is registered with Clinical Trials.gov , number NCT00397150 . FINDINGS 2579 mother-infant pairs were assigned to the intervention or control clusters in Burkina Faso ( n=392 and n=402 , respectively ) , Ug and a ( n=396 and n=369 , respectively ) , and South Africa ( n=535 and 485 , respectively ) .  The EBF prevalences based on 24-h recall at 12 weeks in the intervention and control clusters were 310 ( 79 % ) of 392 and 139 ( 35 % ) of 402 , respectively , in Burkina Faso ( prevalence ratio 2\\u00b729 , 95 % CI 1\\u00b733 - 3\\u00b792 ) ; 323 ( 82 % ) of 396 and 161 ( 44 % ) of 369 , respectively , in Ug and a ( 1\\u00b789 , 1\\u00b770 - 2\\u00b711 ) ; and 56 ( 10 % ) of 535 and 30 ( 6 % ) of 485 , respectively , in South Africa ( 1\\u00b772 , 1\\u00b712 - 2\\u00b763 ) . The EBF prevalences based on 7-day recall in the intervention and control clusters were 300 ( 77 % ) and 94 ( 23 % ) , respectively , in Burkina Faso ( 3\\u00b727 , 2\\u00b713 - 5\\u00b703 ) ; 305 ( 77 % ) and 125 ( 34 % ) , respectively , in Ug and a ( 2\\u00b730 , 2\\u00b700 - 2\\u00b765 ) ; and 41 ( 8 % ) and 19 ( 4 % ) , respectively , in South Africa ( 1\\u00b798 , 1\\u00b730 - 3\\u00b702 ) . At 24 weeks , the prevalences based on 24-h recall were 286 ( 73 % ) in the intervention cluster and 88 ( 22 % ) in the control cluster in Burkina Faso ( 3\\u00b733 , 1\\u00b774 - 6\\u00b738 ) ; 232 ( 59 % ) and 57 ( 15 % ) , respectively , in Ug and a ( 3\\u00b783 , 2\\u00b797 - 4\\u00b795 ) ; and 12 ( 2 % ) and two ( < 1 % ) , respectively , in South Africa ( 5\\u00b770 , 1\\u00b733 - 24\\u00b726 ) . The prevalences based on 7-day recall were 279 ( 71 % ) in the intervention cluster and 38 ( 9 % ) in the control cluster in Burkina Faso ( 7\\u00b753 , 4\\u00b742 - 12\\u00b782 ) ; 203 ( 51 % ) and 41 ( 11 % ) , respectively , in Ug and a ( 4\\u00b766 , 3\\u00b735 - 6\\u00b749 ) ; and ten ( 2 % ) and one ( < 1 % ) , respectively , in South Africa ( 9\\u00b783 , 1\\u00b740 - 69\\u00b714 ) . Diarrhoea prevalence at age 12 weeks in the intervention and control clusters was 20 ( 5 % ) and 36 ( 9 % ) , respectively , in Burkina Faso ( 0\\u00b757 , 0\\u00b727 - 1\\u00b722 ) ; 39 ( 10 % ) and 32 ( 9 % ) , respectively , in Ug and a ( 1\\u00b713 , 0\\u00b781 - 1\\u00b759 ) ; and 45 ( 8 % ) and 33 ( 7 % ) , respectively , in South Africa ( 1\\u00b716 , 0\\u00b778 - 1\\u00b775 ) . The prevalence at age 24 weeks in the intervention and control clusters was 26 ( 7 % ) and 32 ( 8 % ) , respectively , in Burkina Faso ( 0\\u00b783 , 0\\u00b745 - 1\\u00b754 ) ; 52 ( 13 % ) and 59 ( 16 % ) , respectively , in Ug and a ( 0\\u00b782 , 0\\u00b758 - 1\\u00b715 ) ; and 54 ( 10 % ) and 33 ( 7 % ) , respectively , in South Africa ( 1\\u00b731 , 0\\u00b789 - 1\\u00b793 ) . INTERPRETATION Low-intensity individual breastfeeding peer counselling is achievable and , although it does not affect the diarrhoea prevalence , can be used to effectively increase EBF prevalence in many sub-Saharan African setting s. FUNDING European Union Sixth Framework International Cooperation-Developing Countries , Research Council of Norway , Swedish International Development Cooperation Agency , Norwegian Programme for Development , Research and Education , South African National Research Foundation , and Rockefeller Brothers Foundation', 'BACKGROUND Bacteraemia is an important cause of morbidity and mortality in critically ill children . Our objective was to assess whether daily bathing in chlorhexidine gluconate ( CHG ) compared with st and ard bathing practice s would reduce bacteraemia in critically ill children . METHODS In an unmasked , cluster-r and omised , two-period crossover trial , ten paediatric intensive-care units at five hospitals in the USA were r and omly assigned a  daily bathing routine for admitted patients older than 2 months , either st and ard bathing practice s or using a cloth impregnated with 2 % CHG , for a 6-month period . Units switched to the alternative bathing method for a second 6-month period . 6482 admissions were screened for eligibility . The primary outcome was an episode of bacteraemia . We did intention-to-treat ( ITT ) and per- protocol ( PP ) analyses . This study is registered with Clinical Trials.gov ( identifier NCT00549393 ) . FINDINGS 1521 admitted patients were excluded because their length of stay was less than 2 days , and 14 refused to participate . 4947 admissions were eligible for analysis . In the ITT population , a non-significant reduction in incidence of bacteraemia was noted with CHG bathing ( 3\\u00b752 per 1000 days , 95 % CI 2\\u00b764 - 4\\u00b761 ) compared with st and ard practice s ( 4\\u00b793 per 1000 days , 3\\u00b791 - 6\\u00b715 ; adjusted incidence rate ratio [ aIRR ] 0\\u00b771 , 95 % CI 0\\u00b742 - 1\\u00b720 ) . In the PP population , incidence of bacteraemia was lower in patients receiving CHG bathing ( 3\\u00b728 per 1000 days , 2\\u00b727 - 4\\u00b758 ) compared with st and ard practice s ( 4\\u00b793 per 1000 days , 3\\u00b791 - 6\\u00b715 ; aIRR 0\\u00b764 , 0\\u00b742 - 0\\u00b798 ) . No serious study -related adverse events were recorded , and the incidence of CHG-associated skin reactions was 1\\u00b72 per 1000 days ( 95 % CI 0\\u00b760 - 2\\u00b702 ) . INTERPRETATION Critically ill children  receiving daily CHG bathing had a lower incidence of bacteraemia compared with those receiving a st and ard bathing routine . Furthermore , the treatment was well tolerated . FUNDING Sage Products , US National Institutes of Health', \\\"BACKGROUND Stroke is common during the first few weeks after a transient ischemic attack ( TIA ) or minor ischemic stroke .  Combination therapy with clopidogrel and aspirin may provide greater protection against subsequent stroke than aspirin alone . METHODS In a r and omized , double-blind , placebo-controlled trial conducted at 114 centers in China , we r and omly assigned 5170 patients within 24 hours after the onset of minor ischemic stroke or high-risk TIA to combination therapy with clopidogrel and aspirin ( clopidogrel at an initial dose of 300 mg , followed by 75 mg per day for 90 days , plus aspirin at a dose of 75 mg per day for the first 21 days ) or to placebo plus aspirin ( 75 mg per day for 90 days ) . All participants received open-label aspirin at a clinician-determined dose of 75 to 300 mg on day 1 . The primary outcome was stroke ( ischemic or hemorrhagic ) during 90 days of follow-up in an intention-to-treat analysis . Treatment differences were assessed with the use of a Cox proportional-hazards model , with study center as a r and om effect . RESULTS Stroke occurred in 8.2 % of patients in the clopidogrel-aspirin group , as compared with 11.7 % of those in the aspirin group ( hazard ratio , 0.68 ; 95 % confidence interval , 0.57 to 0.81 ; P<0.001 ) . Moderate or severe hemorrhage occurred in seven patients ( 0.3 % ) in the clopidogrel-aspirin group and in eight ( 0.3 % ) in the aspirin group ( P=0.73 ) ; the rate of hemorrhagic stroke was 0.3 % in each group . CONCLUSIONS Among patients with TIA or minor stroke who can be treated within 24 hours after the onset of symptoms , the combination of clopidogrel and aspirin is superior to aspirin alone for reducing the risk of stroke in the first 90 days and does not increase the risk of hemorrhage . ( Funded by the Ministry of Science and Technology of the People 's Republic of China ; CHANCE Clinical Trials.gov number , NCT00979589 . )\\\", 'BACKGROUND Rheumatoid arthritis is a heterogeneous chronic disease , and no therapeutic agent has been identified which is universally and persistently effective in all patients . We investigated the effectiveness of tofacitinib ( CP-690,550 ) , a novel oral Janus kinase inhibitor , as a targeted immunomodulator and disease-modifying therapy for rheumatoid arthritis . METHODS We did a 6-month , double-blind , parallel-group phase 3 study at 82 centres in 13 countries , including North America , Europe , and Latin America . 399 patients aged 18 years or older with moderate-to-severe rheumatoid arthritis and inadequate response to tumour necrosis factor inhibitors ( TNFi ) were r and omly assigned in a 2:2:1:1 ratio with an automated internet or telephone system to receive twice a day treatment with : tofacitinib 5 mg ( n=133 ) ; tofacitinib 10 mg ( n=134 ) ; or placebo ( n=132 ) , all with methotrexate . At month 3 , patients given placebo advanced to either tofacitinib 5 mg twice a day ( n=66 ) or 10 mg twice a day ( n=66 ) . Primary endpoints included American College of Rheumatology (ACR)20 response rate , mean change from baseline in Health Assessment Question naire-Disability Index ( HAQ-DI ) , and rates of disease activity score (DAS)28 - 4(ESR ) less than 2\\u00b76 ( referred to as DAS28<2\\u00b76 ) , all at month 3 . The full analysis set for the primary analysis included all r and omised patients who received at least one dose of study medication and had at least one post-baseline assessment . This trial is registered with www . Clinical Trials.gov , number NCT00960440 . FINDINGS At month 3 , ACR20 response rates were 41\\u00b77 % ( 55 of 132 [ 95 % CI vs placebo 6\\u00b706 - 28\\u00b741 ] ; p=0\\u00b70024 ) for tofacitinib 5 mg twice a day and 48\\u00b71 % ( 64 of 133 ; [ 12\\u00b745 - 34\\u00b792 ] ; p<0\\u00b70001 ) for tofacitinib 10 mg twice a day versus 24\\u00b74 % ( 32 of 131 ) for  placebo . Improvements from baseline in HAQ-DI were -0\\u00b743 ( [ -0\\u00b736 to -0\\u00b715 ] ; p<0\\u00b70001 ) for 5 mg twice a day and -0\\u00b746 ( [ -0\\u00b738 to -0\\u00b717 ] ; p<0\\u00b70001 ) for 10 mg twice a day tofacitinib versus -0\\u00b718 for placebo ; DAS28<2\\u00b76 rates were 6\\u00b77 % ( eight of 119 ; [ 0 - 10\\u00b710 ] ; p=0\\u00b70496 ) for 5 mg twice a day tofacitinib and 8\\u00b78 % ( 11 of 125 [ 1\\u00b766 - 12\\u00b760 ] ; p=0\\u00b70105 ) for 10 mg twice a day tofacitinib versus 1\\u00b77 % ( two of 120 ) for  placebo . Safety was consistent with phase 2 and 3 studies . The most common adverse events in months 0 - 3 were diarrhoea ( 13 of 267 ; 4\\u00b79 % ) , nasopharyngitis ( 11 of 267 ; 4\\u00b71 % ) , headache ( 11 of 267 ; 4\\u00b71 % ) , and urinary tract infection ( eight of 267 ; 3\\u00b70 % ) across tofacitinib groups , and nausea ( nine of 132 ; 6\\u00b78 % ) in the placebo group . INTERPRETATION In this treatment-refractory population  , tofacitinib with methotrexate had rapid and clinical ly meaningful improvements in signs and symptoms of rheumatoid arthritis and physical function over 6 months with manageable safety . Tofacitinib could provide an effective treatment option in patients with an inadequate response to TNFi . FUNDING Pfizer', 'BACKGROUND Interim results from the children with HIV early antiretroviral ( CHER ) trial showed that early antiretroviral therapy ( ART ) was life-saving for infants infected with HIV . In view of the few treatment options and the potential toxicity associated with lifelong ART , in the CHER trial we compared early time-limited ART with deferred ART . METHODS CHER was an open-label r and omised controlled trial of HIV-infected asymptomatic infants younger than 12 weeks in two South African trial sites with a percentage of CD4-positive T lymphocytes ( CD4 % ) of 25 % or higher . 377 infants were r and omly allocated to one of three groups : deferred ART ( ART-Def ) , immediate ART for 40 weeks ( ART-40W ) , or immediate ART for 96 weeks ( ART-96W ) , with subsequent treatment interruption . The r and omisation schedule was stratified by clinical site with permuted blocks of r and om sizes to balance the numbers of infants allocated to each group . Criteria for ART initiation in the ART-Def group and re-initiation after interruption in the other groups were CD4 % less than 25 % in infancy ; otherwise , the criteria were CD4 % less than 20 % or Centers for Disease Control and Prevention severe stage B or stage C disease . Combination therapy of lopinavir-ritonavir , zidovudine , and lamivudine was the first-line treatment regimen at ART initiation and re-initiation . The primary endpoint was time to failure of first-line ART ( immunological , clinical , or virological ) or death . Comparisons were done by intention-to-treat analysis , with use of time-to-event methods . This trial is registered with Clinical Trials.gov , number NCT00102960 . FINDINGS 377 infants were enrolled , with a median age of 7\\u00b74 weeks , CD4 % of 35 % , and HIV RNA log 5\\u00b77 copies per mL. Median follow-up was 4\\u00b78 years ; 34 infants ( 9 % ) were lost to follow-up . Median time to ART initiation in the ART-Def group was 20 weeks ( IQR 16 - 25 ) . Time to restarting of ART after interruption was 33 weeks ( 26 - 45 ) in ART-40W and 70 weeks ( 35 - 109 ) in ART-96W ; at the end of the trial , 19 % of patients in ART-40W and 32 % of patients in ART-96W remained off ART . Proportions of follow-up time spent on ART were 81 % in the ART-Def group , 70 % in the ART-40W group , and 69 % in the ART-96W group . 48 ( 38 % ) of 125 children in the ART-Def group , 32 ( 25 % ) of 126 in the ART-40W group , and 26 ( 21 % ) of 126 in the ART-96W group reached the primary endpoint . The hazard ratio , relative to ART-Def , was 0\\u00b759 ( 95 % CI 0\\u00b738 - 0\\u00b793 , p=0\\u00b702 ) for ART-40W and 0\\u00b747 ( 0\\u00b727 - 0\\u00b776 , p=0\\u00b7002 ) for ART-96W . Three children in ART-Def , three in ART-40W , and one in ART-96W switched to second-line ART . INTERPRETATION Early time-limited ART had better clinical and immunological outcomes than deferred ART , with no evidence of excess disease progression during subsequent treatment interruption and less overall ART exposure than deferred ART . Longer time on primary ART permits longer subsequent interruption , with marginally better outcomes . FUNDING US National Institutes of Health', 'BACKGROUND Mortality among patients with severe acute alcoholic hepatitis is high , even among those treated with glucocorticoids . We investigated whether combination therapy with glucocorticoids plus N-acetylcysteine would improve survival . METHODS We r and omly assigned 174 patients to receive prednisolone plus N-acetylcysteine ( 85 patients ) or only prednisolone ( 89 patients ) . All patients received 4 weeks of prednisolone . The prednisolone-N-acetylcysteine group received intravenous N-acetylcysteine on day 1 ( at a dose of 150 , 50 , and 100 mg per kilogram of body weight in 250 , 500 , and 1000 ml of 5 % glucose solution over a period of 30 minutes , 4 hours , and 16 hours , respectively ) and on days 2 through 5 ( 100 mg per kilogram per day in 1000 ml of 5 % glucose solution ) . The prednisolone-only group received an infusion in 1000 ml of 5 % glucose solution per day on days 1 through 5 . The primary outcome was 6-month survival . Secondary outcomes included survival at 1 and 3 months , hepatitis complications , adverse events related to N-acetylcysteine use , and changes in bilirubin levels on days 7 and 14 . RESULTS Mortality was not significantly lower in the prednisolone-N-acetylcysteine group than in the prednisolone-only group at 6 months ( 27 % vs. 38 % , P = 0.07 ) . Mortality was significantly lower at 1 month ( 8 % vs. 24 % , P = 0.006 ) but not at 3 months ( 22 % vs. 34 % , P = 0.06 ) . Death due to the hepatorenal syndrome was less frequent in the prednisolone-N-acetylcysteine group than in the prednisolone-only group at 6 months ( 9 % vs. 22 % , P = 0.02 ) . In a multivariate analysis , factors associated with 6-month survival were a younger age ( P<0.001 ) , a shorter prothrombin time ( P<0.001 ) , a lower level of bilirubin at baseline ( P<0.001 ) , and a decrease in bilirubin on day 14 ( P<0.001 ) . Infections were less frequent in the prednisolone-N-acetylcysteine group than in the prednisolone-only group ( P = 0.001 ) ; other side effects were similar in the two groups . CONCLUSIONS Although combination therapy with prednisolone plus N-acetylcysteine increased 1-month survival among patients with severe acute alcoholic hepatitis , 6-month survival , the primary outcome , was not improved . ( Funded by Programme Hospitalier de Recherche Clinique ; AAH-NAC Clinical Trials.gov number , NCT00863785 . )', \\\"BACKGROUND Most patients who have had a stroke are dependent on informal caregivers for activities of daily living . The TRACS trial investigated a training programme for caregivers ( the London Stroke Carers Training Course , LSCTC ) on physical and psychological outcomes , including cost-effectiveness , for patients and caregivers after a disabling stroke . METHODS We undertook a pragmatic , multicentre , cluster r and omised controlled trial with a parallel cost-effectiveness analysis . Stroke units were eligible if four of five criteria used to define a stroke unit were met , a substantial number of patients on the unit had a diagnosis of stroke , staff were able to deliver the LSCTC , and most patients were discharged to a permanent place of residence . Stroke units were r and omly assigned to either LSCTC or usual care ( control group ) , stratified by geographical region and quality of care , and using blocks of size 2 . Patients with a diagnosis of stroke , likely to return home with residual disability and with a caregiver providing support were eligible . The primary outcome for patients was self-reported extended activities of daily living at 6 months , measured with the Nottingham Extended Activities of Daily Living ( NEADL ) scale . The primary outcome for caregivers was self-reported burden at 6 months , measured with the caregivers burden scale ( CBS ) . We combined patient and caregiver costs with primary outcomes and quality -adjusted life-years ( QALYs ) to assess cost-effectiveness . This trial is registered with controlled-trials.com , number IS RCT N 49208824 . FINDINGS We assessed 49 stroke units for eligibility , of which 36 were r and omly assigned to either the intervention group or the control group . Between Feb 27 , 2008 , and Feb 9 , 2010 , 928 patient and caregiver dyads were registered , of which 450 were in the intervention group , and 478 in the control group .  Patients ' self-reported extended activities of daily living did not differ between groups at 6 months ( adjusted mean NEADL score 27\\u00b74 in the intervention group versus 27\\u00b76 in the control group , difference -0\\u00b72 points [ 95 % CI -3\\u00b70 to 2\\u00b75 ] , p value=0\\u00b7866 , ICC=0\\u00b7027 ) . The caregiver burden scale did not differ between groups either ( adjusted mean CBS 45\\u00b75 in the intervention group versus 45\\u00b70 in the control group , difference 0\\u00b75 points [ 95 % CI -1\\u00b77 to 2\\u00b77 ] , p value=0\\u00b7660 , ICC=0\\u00b7013 ) . Patient and caregiver costs were similar in both groups ( length of the initial stroke admission and associated costs were \\u00a3 13,127 for the intervention group and \\u00a3 12,471 for the control group ; adjusted mean difference \\u00a3 1243 [ 95 % CI -1533 to 4019 ] ; p value=0\\u00b7380 ) . Probabilities of cost-effectiveness based on QALYs were low . INTERPRETATION In a large scale , robust evaluation , results from this study have shown no differences between the LSCTC and usual care on any of the assessed outcomes . The immediate period after stroke might not be the ideal time to deliver structured caregiver training . FUNDING Medical Research Council\\\", 'Differential enrollment into clinical trials by gender has been described previously . In 1993 , the National Institutes of Health ( NIH ) Revitalization Act was enacted to promote the inclusion of women in clinical trials . The purpose of this study was to review patterns in clinical trial enrollment among studies published in a major medical journal to determine the effects of this policy . A systematic search was conducted of all articles published in the Original Articles section of The New Engl and Journal of Medicine from 1994 to 1999 . Two independent observers abstract ed information from the r and omized clinical trials using st and ardized forms . All r and omized clinical trials in which the primary end point was total mortality or included mortality in a composite end point were considered for review . Trials were analyzed for enrollment of women with respect to disease state , funding source , site of trial performance , and use of gender-specific data analysis . From 1994 to 1999 , 1322 original articles were published in The New Engl and Journal of Medicine , including 442 r and omized , controlled trials of which 120 met our inclusion criteria . On average , 24.6 % women were enrolled .  Gender-specific data analysis was performed in 14 % of the trials . The NIH Revitalization Act does not appear to have improved gender-balanced enrollment or promoted the use of gender-specific analyses in clinical trials published in an influential medical journal . Overcoming this trend will require rigorous efforts on the part of funding entities , trial investigators , and journals disseminating study results', 'BACKGROUND Current treatment recommendations for patients with polycythemia vera call for maintaining a hematocrit of less than 45 % , but this therapeutic strategy has not been tested in a r and omized clinical trial . METHODS We r and omly assigned 365 adults with JAK2-positive polycythemia vera who were being treated with phlebotomy , hydroxyurea , or both to receive either more intensive treatment ( target hematocrit , < 45 % ) ( low-hematocrit group ) or less intensive treatment ( target hematocrit , 45 to 50 % ) ( high-hematocrit group ) . The primary composite end point was the time until death from cardiovascular causes or major thrombotic events . The secondary end points were cardiovascular events , cardiovascular hospitalizations , incidence of cancer , progression to myelofibrosis , myelodysplasia or leukemic transformation , and hemorrhage . An intention-to-treat analysis was performed . RESULTS After a median follow-up of 31 months , the primary end point was recorded in 5 of 182 patients in the low-hematocrit group ( 2.7 % ) and 18 of 183 patients in the high-hematocrit group ( 9.8 % ) ( hazard ratio in the high-hematocrit group , 3.91 ; 95 % confidence interval [ CI ] , 1.45 to 10.53 ; P=0.007 ) . The primary end point plus superficial-vein thrombosis occurred in 4.4 % of patients in the low-hematocrit group , as compared with 10.9 % in the high-hematocrit group ( hazard ratio , 2.69 ; 95 % CI , 1.19 to 6.12 ; P=0.02 ) . Progression to myelofibrosis , myelodysplasia or leukemic transformation , and bleeding were observed in 6 , 2 , and 2 patients , respectively , in the low-hematocrit group , as compared with 2 , 1 , and 5 patients , respectively , in the high-hematocrit group . There was no significant between-group difference in the rate of adverse events . CONCLUSIONS In patients with polycythemia vera , those with a hematocrit target of less than 45 % had a significantly lower rate of cardiovascular death and major thrombosis than did those with a hematocrit target of 45 to 50 % . ( Funded by the Italian Medicines Agency and others ; Clinical Trials.gov number , NCT01645124 , and EudraCT number , 2007 - 006694 - 91 . )', 'BACKGROUND All-trans retinoic acid ( ATRA ) with chemotherapy is the st and ard of care for acute promyelocytic leukemia ( APL ) , result ing in cure rates exceeding 80 % . Pilot studies of treatment with arsenic trioxide with or without ATRA have shown high efficacy and reduced hematologic toxicity . METHODS We conducted a phase 3 , multicenter trial comparing ATRA plus chemotherapy with ATRA plus arsenic trioxide in patients with APL classified as low-to-intermediate risk ( white-cell count , \\u226410 \\u00d7 10(9 ) per liter ) . Patients were r and omly assigned to receive either ATRA plus arsenic trioxide for induction and consolidation therapy or st and ard ATRA-idarubicin induction therapy followed by three cycles of consolidation therapy with ATRA plus chemotherapy and maintenance therapy with low-dose chemotherapy and ATRA . The study was design ed as a noninferiority trial to show that the difference between the rates of event-free survival at 2 years in the two groups was not greater than 5 % . RESULTS Complete remission was achieved in all 77 patients in the ATRA-arsenic  trioxide group who could be evaluated ( 100 % ) and in 75 of 79 patients in the ATRA-chemotherapy group ( 95 % ) ( P=0.12 ) . The median follow-up was 34.4 months . Two-year event-free survival rates were 97 % in the ATRA-arsenic trioxide group and 86 % in the ATRA-chemotherapy group ( 95 % confidence interval for the difference , 2 to 22 percentage points ; P<0.001 for noninferiority and P=0.02 for superiority of ATRA-arsenic trioxide ) . Overall survival was also better with ATRA-arsenic trioxide ( P=0.02 ) . As compared with ATRA-chemotherapy , ATRA-arsenic trioxide was associated with less hematologic toxicity and fewer infections but with more hepatic toxicity . CONCLUSIONS ATRA plus arsenic trioxide is at least not inferior and may be superior to ATRA plus chemotherapy in the treatment of patients with low-to-intermediate-risk APL . ( Funded by Associazione Italiana contro le Leucemie and others ; Clinical Trials.gov number , NCT00482833 . )', \\\"BACKGROUND Among patients with Alzheimer 's disease who have had a response to antipsychotic medication for psychosis or agitation-aggression , the risk of a recurrence of symptoms after discontinuation of the medication has not been established . METHODS Patients with Alzheimer 's disease and psychosis or agitation-aggression received open-label treatment with risperidone for 16 weeks . Those who had a response to risperidone therapy were then r and omly assigned , in a double-blind fashion , to one of three regimens : continued risperidone therapy for 32 weeks ( group 1 ) , risperidone therapy for 16 weeks followed by placebo for 16 weeks ( group 2 ) , or placebo for 32 weeks ( group 3 ) . The primary outcome was the time to relapse of psychosis or agitation . RESULTS A total of 180 patients received open-label  risperidone ( mean dose , 0.97 mg daily ) . The severity of psychosis and agitation were reduced , although there was a mild increase in extrapyramidal signs ;  112 patients met the criteria for response to treatment , of whom 110 underwent r and omization . In the first 16 weeks after r and omization , the rate of relapse was higher in the group that received placebo than in the groups that received risperidone ( 60 % [ 24 of 40 patients in group 3 ] vs. 33 % [ 23 of 70 in groups 1 and 2 ] ; P=0.004 ; hazard ratio with placebo , 1.94 ; 95 % confidence interval [ CI ] , 1.09 to 3.45 ; P=0.02 ) . During the next 16 weeks , the rate of relapse was higher in the group that was switched from risperidone to placebo than in the group that continued to receive risperidone ( 48 % [ 13 of 27 patients in group 2 ] vs. 15 % [ 2 of 13 in group 1 ] ; P=0.02 ; hazard ratio , 4.88 ; 95 % CI , 1.08 to 21.98 ; P=0.02 ) . The rates of adverse events and death after r and omization did not differ significantly among the groups , although comparisons were based on small numbers of patients , especially during the final 16 weeks . CONCLUSIONS In patients with Alzheimer 's disease who had psychosis or agitation that had responded to risperidone therapy for 4 to 8 months , discontinuation of risperidone was associated with an increased risk of relapse . ( Funded by the National Institutes of Health and others ; Clinical Trials.gov number , NCT00417482 . )\\\", \\\"BACKGROUND Alzheimer 's disease is characterized by the presence of cortical amyloid-beta ( A\\u03b2 ) protein plaques , which result from the sequential action of \\u03b2-secretase and \\u03b3-secretase on amyloid precursor protein . Semagacestat is a small-molecule \\u03b3-secretase inhibitor that was developed as a potential treatment for Alzheimer 's disease . METHODS We conducted a double-blind , placebo-controlled trial in which 1537 patients with probable Alzheimer 's disease underwent r and omization to receive 100 mg of semagacestat , 140 mg of semagacestat , or placebo daily .  Changes in cognition from baseline to week 76 were assessed with the use of the cognitive subscale of the Alzheimer 's Disease Assessment Scale for cognition ( ADAS-cog ) , on which scores range from 0 to 70 and higher scores indicate greater cognitive impairment , and changes in functioning were assessed with the Alzheimer 's Disease Cooperative Study -Activities of Daily Living ( ADCS-ADL ) scale , on which scores range from 0 to 78 and higher scores indicate better functioning . A mixed-model repeated- measures analysis was used . RESULTS The trial was terminated before completion on the basis of a recommendation by the data and safety monitoring board . At termination , there were 189 patients in the group receiving placebo  , 153 patients in the group receiving 100 mg of semagacestat , and 121 patients in the group receiving 140 mg of semagacestat .  The ADAS-cog scores worsened in all three groups ( mean change , 6.4 points in the placebo group , 7.5 points in the group receiving 100 mg of the study drug , and 7.8 points in the group receiving 140 mg ; P=0.15 and P=0.07 , respectively , for the comparison with placebo ) . The ADCS-ADL scores also worsened in all groups ( mean change at week 76 , -9.0 points in the placebo group , -10.5 points in the 100-mg group , and -12.6 points in the 140-mg group ; P=0.14 and P<0.001 , respectively , for the comparison with placebo ) . Patients treated with semagacestat  lost more weight and had more skin cancers and infections , treatment discontinuations due to adverse events , and serious adverse events ( P<0.001 for all comparisons with placebo ) . Laboratory abnormalities included reduced levels of lymphocytes , T cells , immunoglobulins , albumin , total protein , and uric acid and elevated levels of eosinophils , monocytes , and cholesterol ; the urine pH was also elevated . CONCLUSIONS As compared with placebo , semagacestat did not improve cognitive status , and patients receiving the higher dose had significant worsening of functional ability .  Semagacestat was associated with more adverse events , including skin cancers and infections . ( Funded by Eli Lilly ; Clinical Trials.gov number , NCT00594568 .\\\", 'BACKGROUND Interferon-free regimens would be a major advance in the treatment of patients with chronic hepatitis C virus ( HCV ) infection . METHODS In this phase 2b , r and omized , open-label trial of faldaprevir ( a protease inhibitor ) and deleobuvir ( a nonnucleoside polymerase inhibitor ) , we r and omly assigned 362 previously untreated patients with HCV genotype 1 infection to one of five groups : faldaprevir at a dose of 120 mg once daily and deleobuvir at a dose of 600 mg three times daily , plus ribavirin , for 16 , 28 , or 40 weeks ( TID16W , TID28W , or TID40W , respectively ) ; faldaprevir at a dose of 120 mg once daily and deleobuvir at a dose of 600 mg twice daily , plus ribavirin , for 28 weeks ( BID28W ) ; or faldaprevir at a dose of 120 mg once daily and deleobuvir at a dose of 600 mg three times daily , without ribavirin , for 28 weeks ( TID28W-NR ) . The primary end point was a sustained virologic response 12 weeks after the completion of therapy . RESULTS The primary end point was met in 59 % of patients in the TID16W group , 59 % of patients in the TID28W group , 52 % of patients in the TID40W group , 69 % of patients in the BID28W group , and 39 % of patients in the TID28W-NR group . The sustained virologic response 12 weeks after the completion of therapy did not differ significantly according to treatment duration or dosage among ribavirin-containing regimens . This response was significantly higher with TID28W than with TID28W-NR ( P=0.03 ) . Rates of a sustained virologic response 12 weeks after the completion of therapy were 56 to 85 % among patients with genotype 1b infection versus 11 to 47 % among patients with genotype 1a infection and 58 to 84 % among patients with IL28B CC versus 33 to 64 % with non-CC genotypes . Rash , photosensitivity , nausea , vomiting , and diarrhea were the most common adverse events . CONCLUSIONS The rate of a sustained virologic response 12 weeks after the completion of therapy was 52 to 69 % among patients who received interferon-free treatment with faldaprevir in combination with deleobuvir plus ribavirin . ( Funded by Boehringer Ingelheim ; SOUND-C2 Clinical Trials.gov number , NCT01132313 . )', \\\"BACKGROUND The treatment of relapsed chronic lymphocytic leukemia ( CLL ) has result ed in few durable remissions . Bruton 's tyrosine kinase ( BTK ) , an essential component of B-cell-receptor signaling , mediates interactions with the tumor microenvironment and promotes the survival and proliferation of CLL cells . METHODS We conducted a phase 1b-2 multicenter study to assess the safety , efficacy , pharmacokinetics , and pharmacodynamics of ibrutinib ( PCI-32765 ) , a first-in-class , oral covalent inhibitor of BTK design ed for treatment of B-cell cancers , in patients with relapsed or refractory CLL or small lymphocytic lymphoma . A total of 85 patients , the majority of whom were considered to have high-risk disease , received ibrutinib orally once daily ; 51 received 420 mg , and 34 received 840 mg . RESULTS Toxic effects were predominantly grade 1 or 2 and included transient diarrhea , fatigue , and upper respiratory tract infection ; thus , patients could receive extended treatment with minimal hematologic toxic effects . The overall response rate was the same in the group that received 420 mg and the group that received 840 mg ( 71 % ) , and an additional 20 % and 15 % of patients in the respective groups had a partial response with lymphocytosis . The response was independent of clinical and genomic risk factors present before treatment , including advanced-stage disease , the number of previous therapies , and the 17p13.1 deletion . At 26 months , the estimated progression-free survival rate was 75 % and the rate of overall survival was 83 % . CONCLUSIONS Ibrutinib was associated with a high frequency of durable remissions in patients with relapsed or refractory CLL and small lymphocytic lymphoma , including patients with high-risk genetic lesions . ( Funded by Pharmacyclics and others ; Clinical Trials.gov number , NCT01105247 . )\\\", 'BACKGROUND For patients with smoldering multiple myeloma , the st and ard of care is observation until symptoms develop . However , this approach does not identify high-risk patients who may benefit from early intervention . METHODS In this r and omized , open-label , phase 3 trial , we r and omly assigned 119 patients with high-risk smoldering myeloma to treatment or observation . Patients in the treatment group received an induction regimen ( lenalidomide at a dose of 25 mg per day on days 1 to 21 , plus dexamethasone at a dose of 20 mg per day on days 1 to 4 and days 12 to 15 , at 4-week intervals for nine cycles ) , followed by a maintenance regimen ( lenalidomide at a dose of 10 mg per day on days 1 to 21 of each 28-day cycle for 2 years ) . The primary end point was time to progression to symptomatic disease . Secondary end points were response rate , overall survival , and safety . RESULTS After a median follow-up of 40 months , the median time to progression was significantly longer in the treatment group than in the observation group ( median not reached vs. 21 months ; hazard ratio for progression , 0.18 ; 95 % confidence interval [ CI ] , 0.09 to 0.32 ; P<0.001 ) . The 3-year survival rate was also higher in the treatment group ( 94 % vs. 80 % ; hazard ratio for death , 0.31 ; 95 % CI , 0.10 to 0.91 ; P=0.03 ) . A partial response or better was achieved in 79 % of patients in the treatment group after the induction phase and in 90 % during the maintenance phase . Toxic effects were mainly grade 2 or lower . CONCLUSIONS Early treatment for patients with high-risk smoldering myeloma delays progression to active disease and increases overall survival . ( Funded by Celgene ; Clinical Trials.gov number , NCT00480363 . )', 'BACKGROUND To assess potentially elevated cardiovascular risk related to new antihyperglycemic drugs in patients with type 2 diabetes , regulatory agencies require a comprehensive evaluation of the cardiovascular safety profile of new antidiabetic therapies . We assessed cardiovascular outcomes with alogliptin , a new inhibitor of dipeptidyl peptidase 4 ( DPP-4 ) , as compared with placebo in patients with type 2 diabetes who had had a recent acute coronary syndrome . METHODS We r and omly assigned patients with type 2 diabetes and either an acute myocardial infa rct ion or unstable angina requiring hospitalization within the previous 15 to 90 days to receive alogliptin or placebo in addition to existing antihyperglycemic and cardiovascular drug therapy . The study design was a double-blind , noninferiority trial with a prespecified noninferiority margin of 1.3 for the hazard ratio for the primary end point of a composite of death from cardiovascular causes , nonfatal myocardial infa rct ion , or nonfatal stroke . RESULTS A total of 5380 patients underwent r and omization and were followed for up to 40 months ( median , 18 months ) . A primary end-point event occurred in 305 patients assigned to alogliptin ( 11.3 % ) and in 316 patients assigned to placebo ( 11.8 % ) ( hazard ratio , 0.96 ; upper boundary of the one-sided repeated confidence interval , 1.16 ; P<0.001 for noninferiority ) . Glycated hemoglobin levels were significantly lower with alogliptin than with placebo ( mean difference , -0.36 percentage points ; P<0.001 ) . Incidences of hypoglycemia , cancer , pancreatitis , and initiation of dialysis were similar with alogliptin and placebo . CONCLUSIONS Among patients with type 2 diabetes who had had a recent acute coronary syndrome , the rates of major adverse cardiovascular events were not increased with the DPP-4 inhibitor alogliptin as compared with placebo . ( Funded by Takeda Development Center Americas ; EXAMINE Clinical Trials.gov number , NCT00968708 . )', 'BACKGROUND Although P2Y12 antagonists are effective in patients with non-ST-segment elevation ( NSTE ) acute coronary syndromes , the effect of the timing of administration -- before or after coronary angiography -- is not known . We evaluated the effect of administering the P2Y12 antagonist prasugrel at the time of diagnosis versus administering it after the coronary angiography if percutaneous coronary intervention ( PCI ) was indicated . METHODS We enrolled 4033 patients with NSTE acute coronary syndromes and a positive troponin level who were scheduled to undergo coronary angiography within 2 to 48 hours after r and omization . Patients were r and omly assigned to receive prasugrel ( a 30-mg loading dose ) before the angiography ( pretreatment group ) or placebo ( control group ) . When PCI was indicated , an additional 30 mg of prasugrel was given in the pretreatment group at the time of PCI and 60 mg of prasugrel was given in the control group . RESULTS The rate of the primary efficacy end point , a composite of death from cardiovascular causes , myocardial infa rct ion , stroke , urgent revascularization , or glycoprotein IIb/IIIa inhibitor rescue therapy ( glycoprotein IIb/IIIa bailout ) through day 7 , did not differ significantly between the two groups ( hazard ratio with pretreatment , 1.02 ; 95 % confidence interval [ CI ] , 0.84 to 1.25 ; P=0.81 ) . The rate of the key safety end point of all Thrombolysis in Myocardial Infa rct ion ( TIMI ) major bleeding episodes , whether related or not related to coronary-artery bypass grafting ( CABG ) , through day 7 was increased with pretreatment ( hazard ratio , 1.90 ; 95 % CI , 1.19 to 3.02 ; P=0.006 ) . The rates of TIMI major bleeding and life-threatening bleeding not related to CABG were increased by a factor of 3 and 6 , respectively . Pretreatment did not reduce the rate of the primary outcome among patients undergoing PCI ( 69 % of the patients ) but increased the rate of TIMI major bleeding at 7 days . All the results were confirmed at 30 days and in prespecified subgroups . CONCLUSIONS Among patients with NSTE acute coronary syndromes who were scheduled to undergo catheterization , pretreatment with prasugrel did not reduce the rate of major ischemic events up to 30 days but increased the rate of major bleeding complications . ( Funded by Daiichi Sankyo and Eli Lilly ; ACCOAST Clinical Trials.gov number , NCT01015287 . )', \\\"BACKGROUND Idiopathic pulmonary fibrosis ( IPF ) is a progressive , fatal disorder of unknown cause with no effective treatment . Cough affects up to 80 % of patients with IPF , is frequently disabling , and lacks effective therapy . OBJECTIVE To determine the efficacy of thalidomide in suppressing cough in patients with IPF . DESIGN 24-week , double-blind , 2-treatment , 2-period crossover trial . ( Clinical Trials.gov registration number : NCT00600028 ) SETTING 1 university center . PARTICIPANTS 98 participants were screened , 24 were r and omly assigned , 23 received treatment ( 78.3 % men ; mean age , 67.6 years ; mean FVC , 70.4 % predicted ) , and 20 completed both treatment periods . MEASUREMENTS The primary end point was cough-specific quality of life measured by the Cough Quality of Life Question naire ( CQLQ ) . Secondary end points were visual analogue scale of cough and the St. George 's Respiratory Question naire ( SGRQ ) . For all measures , lower scores equaled improved cough or respiratory quality of life . RESULTS CQLQ scores significantly improved with thalidomide ( mean difference vs. placebo , -11.4 [ 95 % CI , -15.7 to -7.0 ] ; P < 0.001 ) . Thalidomide also significantly improved scores on the visual analogue scale of cough ( mean difference vs. placebo , -31.2 [ CI , -45.2 to -17.2 ] ; P < 0.001 ) . In participants receiving thalidomide , scores from the total SGRQ , SGRQ symptom domain , and SGRQ impact domain improved compared with those of participants receiving placebo .  Adverse events were reported in 74 % of patients receiving thalidomide and 22 % receiving placebo ;  constipation , dizziness , and malaise were more frequent with thalidomide . LIMITATION This was a single-center study of short duration and small sample size focused on symptom-specific quality of life . CONCLUSION Thalidomide improved cough and respiratory quality of life in patients with IPF . A larger trial is warranted to assess these promising results . PRIMARY FUNDING SOURCE Celgene Corporation\\\", 'BACKGROUND The role of aspirin in thromboprophylaxis after total hip arthroplasty ( THA ) is controversial . OBJECTIVE To compare extended prophylaxis with aspirin and dalteparin for prevention of symptomatic venous thromboembolism ( VTE )  after THA . DESIGN Multicenter r and omized , controlled trial with a noninferiority design based on a minimal clinical ly important difference of 2.0 % . R and omization was electronically generated ; patients were assigned to a treatment group through a Web-based program . Patients , physicians , study coordinators , health care team members , outcome adjudicators , and data analysts were blinded to interventions . ( Current Controlled Trials : IS RCT N11902170 ) . SETTING 12 tertiary care orthopedic referral centers in Canada . PATIENTS 778 patients who had elective unilateral THA between 2007 and 2010 . INTERVENTION After an initial 10 days of dalteparin prophylaxis after elective THA , patients were r and omly assigned to 28 days of dalteparin ( n = 400 ) or aspirin ( n = 386 ) . MEASUREMENTS Symptomatic VTE confirmed by objective testing ( primary efficacy outcome ) and bleeding . RESULTS Five of 398 patients ( 1.3 % ) r and omly assigned to dalteparin and 1 of 380 ( 0.3 % ) r and omly assigned to aspirin  had VTE ( absolute difference , 1.0 percentage point [ 95 % CI , -0.5 to 2.5 percentage points ] ) . Aspirin was noninferior ( P < 0.001 ) but not superior ( P = 0.22 ) to dalteparin . Clinical ly significant bleeding occurred in 5 patients ( 1.3 % ) receiving dalteparin and 2 ( 0.5 % ) receiving aspirin . The absolute between-group difference in a composite of all VTE and clinical ly significant bleeding events was 1.7 percentage points ( CI , -0.3 to 3.8 percentage points ; P = 0.091 ) in favor of aspirin . LIMITATION The study was halted prematurely because of difficulty with patient recruitment . CONCLUSION Extended prophylaxis for 28 days with aspirin was noninferior to and as safe as dalteparin for the prevention of VTE after THA in patients who initially received dalteparin for 10 days . Given its low cost and greater convenience , aspirin may be considered a reasonable alternative for extended thromboprophylaxis after THA . PRIMARY FUNDING SOURCE Canadian Institutes of Health Research', 'BACKGROUND Social networking technologies are an emerging tool for HIV prevention . OBJECTIVE To determine whether social networking communities can increase HIV testing among African American and Latino men who have sex with men ( MSM ) . DESIGN R and omized , controlled trial with concealed allocation . ( Clinical Trials.gov : NCT01701206 ) . SETTING Online . PATIENTS 112 MSM based in Los Angeles , more than 85 % of whom were African American or Latino . INTERVENTION Sixteen  peer leaders were r and omly assigned to deliver information about HIV or general health to participants via Facebook groups over 12 weeks . After participants accepted a request to join the group , participation was voluntary . Group participation and engagement were monitored . Participants could request a free , home-based HIV testing kit and completed question naires at baseline and 12-week follow-up . MEASUREMENTS Participant acceptance of and engagement in the intervention and social network participation , rates of home-based HIV testing , and sexual risk behaviors . RESULTS Almost 95 % of intervention participants and 73 % of control participants voluntarily communicated using the social platform . Twenty-five of 57 intervention participants ( 44 % ) requested home-based HIV testing kits compared with 11 of 55 control participants ( 20 % ) ( difference , 24 percentage points [ 95 % CI , 8 to 41 percentage points ] ) . Nine of the 25 intervention participants ( 36 % ) who requested the test took it and mailed it back compared with 2 of the 11 control participants ( 18 % ) who requested the test . Retention at study follow-up was more than 93 % . LIMITATION Only 2 Facebook communities were included for each group . CONCLUSION Social networking communities are acceptable and effective tools to increase home-based HIV testing among at-risk population s. PRIMARY FUNDING SOURCE National Institute of Mental Health']\"\n        ],\n        \"semantic_type\": \"\",\n        \"description\": \"\"\n      }\n    },\n    {\n      \"column\": \"target\",\n      \"properties\": {\n        \"dtype\": \"string\",\n        \"num_unique_values\": 14162,\n        \"samples\": [\n          \"The economic attractiveness of this therapy improves when administered to those at highest risk as assessed by APACHE II \\u2265 25 ( 93 % probability ICER \\u2264 $ 50,000/LYG ) but these results are not robust to different measures of disease severity .\",\n          \"RESULTS Successful components of programs align to the needs of people with ID .\",\n          \"The intraoperative use of MMC is safe and slightly improves the success rate of Ex- or En-DCR .\"\n        ],\n        \"semantic_type\": \"\",\n        \"description\": \"\"\n      }\n    }\n  ]\n}"
            }
          },
          "metadata": {},
          "execution_count": 46
        }
      ]
    },
    {
      "cell_type": "markdown",
      "metadata": {
        "id": "tZ11Va-qCp96"
      },
      "source": [
        "To check that we are having enough RAM we can run the following command.\n",
        "If the randomely allocated GPU is too small, the above cells can be run\n",
        "to crash the notebook hoping to get a better GPU."
      ]
    },
    {
      "cell_type": "code",
      "execution_count": null,
      "metadata": {
        "colab": {
          "base_uri": "https://localhost:8080/"
        },
        "id": "o9IkphgF-90-",
        "outputId": "41f310c0-e0a0-486b-ca3a-30d4f30e6590"
      },
      "outputs": [
        {
          "output_type": "stream",
          "name": "stdout",
          "text": [
            "Fri Apr 12 17:48:23 2024       \n",
            "+---------------------------------------------------------------------------------------+\n",
            "| NVIDIA-SMI 535.104.05             Driver Version: 535.104.05   CUDA Version: 12.2     |\n",
            "|-----------------------------------------+----------------------+----------------------+\n",
            "| GPU  Name                 Persistence-M | Bus-Id        Disp.A | Volatile Uncorr. ECC |\n",
            "| Fan  Temp   Perf          Pwr:Usage/Cap |         Memory-Usage | GPU-Util  Compute M. |\n",
            "|                                         |                      |               MIG M. |\n",
            "|=========================================+======================+======================|\n",
            "|   0  NVIDIA A100-SXM4-40GB          Off | 00000000:00:04.0 Off |                    0 |\n",
            "| N/A   36C    P0              50W / 400W |  24495MiB / 40960MiB |      0%      Default |\n",
            "|                                         |                      |             Disabled |\n",
            "+-----------------------------------------+----------------------+----------------------+\n",
            "                                                                                         \n",
            "+---------------------------------------------------------------------------------------+\n",
            "| Processes:                                                                            |\n",
            "|  GPU   GI   CI        PID   Type   Process name                            GPU Memory |\n",
            "|        ID   ID                                                             Usage      |\n",
            "|=======================================================================================|\n",
            "+---------------------------------------------------------------------------------------+\n"
          ]
        }
      ],
      "source": [
        "!nvidia-smi"
      ]
    },
    {
      "cell_type": "markdown",
      "metadata": {
        "id": "0u9twLMqYEzT"
      },
      "source": [
        "Let's start by loading and preprocessing the dataset.\n",
        "\n"
      ]
    },
    {
      "cell_type": "code",
      "execution_count": null,
      "metadata": {
        "id": "ODLQ8MUJfmi4"
      },
      "outputs": [],
      "source": [
        "from datasets import Dataset, load_dataset, load_metric"
      ]
    },
    {
      "cell_type": "markdown",
      "metadata": {
        "id": "hEZ20fa9DP4W"
      },
      "source": [
        "Next, we download the data from the dataframes."
      ]
    },
    {
      "cell_type": "code",
      "source": [
        "# Convert the DataFrame to a Dataset\n",
        "train_dataset = Dataset.from_pandas(tr_df)\n",
        "val_dataset = Dataset.from_pandas(vl_df)\n"
      ],
      "metadata": {
        "id": "7TUvhsPNoaJZ"
      },
      "execution_count": null,
      "outputs": []
    },
    {
      "cell_type": "markdown",
      "metadata": {
        "id": "OkDoz13UB3gY"
      },
      "source": [
        "Cool! Having downloaded the dataset, let's tokenize it.\n",
        "We'll import the convenient `AutoTokenizer` class."
      ]
    },
    {
      "cell_type": "code",
      "execution_count": null,
      "metadata": {
        "id": "R-gvC8jiYtS_"
      },
      "outputs": [],
      "source": [
        "from transformers import AutoTokenizer"
      ]
    },
    {
      "cell_type": "code",
      "source": [
        "del tokenizer"
      ],
      "metadata": {
        "id": "o6isnp-Fa2vd"
      },
      "execution_count": null,
      "outputs": []
    },
    {
      "cell_type": "markdown",
      "metadata": {
        "id": "Gst7xqXECbRc"
      },
      "source": [
        " change model to large and load the tokenizer"
      ]
    },
    {
      "cell_type": "code",
      "execution_count": null,
      "metadata": {
        "id": "jpUr9QeebZ-n",
        "colab": {
          "base_uri": "https://localhost:8080/",
          "height": 394,
          "referenced_widgets": [
            "710cf4dae0f94bf786950f4c3741b7fb",
            "dad18ed56a1e425d89756299e950195a",
            "0c2e382bf47b48029ec44ed64a7b961f",
            "d0f9c51840c74d42a878c44b41b595c9",
            "9844dd392fea4026b548ec8ee84bf9fc",
            "ccdea8145388470398a210b214b5cd8f",
            "795ce9734d384a0495adf06a88b7a927",
            "221b6dbec4ea4dbbb371fe7768dd2271",
            "c7224c0140bc4c81ba7fa74b882b62e1",
            "05f225d0cb124678a3e85263d7306b7b",
            "2fb66eb9bcfa4cfda7894fd4703e82b0",
            "2505e53d8ba84f189c132b6ada6529fa",
            "e85c06044ceb451ba3557d8996b8405d",
            "e3bf9e6c4d534e5ba1d6b365f631420b",
            "38516cea30894464844df58b7d83e9ee",
            "3e1b84f33f5843fca7e4c032c5add3f9",
            "fcc144b11a5c45488bd4511ca87cd63b",
            "619d91ea100543b68a8064e85a36d362",
            "4d0f16f920864f49a867400375cfe121",
            "ae916a38815443b7a6f0cdc751c71c6c",
            "08af4da051ae4610af3d96fe81f6158c",
            "5d7ead12f9884ce4921e9964b723dd1f",
            "0f326549e30541ad919bf0284e91c57b",
            "edc75d9000504dde91f3502a6eed0c13",
            "887d3eed57ce42679ccd64dc3fd91225",
            "be2cb59defdf47b3b95703cc0ae0a211",
            "8c62a75c604d45179ea6889d688fbb76",
            "6b7c4e29efea46e283ae3b155fea6dd5",
            "e401dcf567114edca7f5872200c9ce7e",
            "02cf5db76d244928a5b0885e6a2024d9",
            "153e49b210c24eaab5a2201605caf799",
            "99b01c7fca3c443e8060d0b4a9557a93",
            "d26cbb9ced52497791efa63ece6fec79",
            "779123a89c2443ad8cae5bc57de22082",
            "4379158d688a4eecba0226a23a060350",
            "f85ee4ec8bb84b488f252a63b5559769",
            "93fee972f498462c8c3e052453114abc",
            "a2621c7b970744d897233582ddae0b3c",
            "a8654de2556b4b22b880592c8d3e789d",
            "cc81c1cea22340b0828957ceba56d8e2"
          ]
        },
        "outputId": "2a13e383-cc1e-4183-9861-1fdba542f598"
      },
      "outputs": [
        {
          "output_type": "stream",
          "name": "stderr",
          "text": [
            "/usr/local/lib/python3.10/dist-packages/huggingface_hub/utils/_token.py:88: UserWarning: \n",
            "The secret `HF_TOKEN` does not exist in your Colab secrets.\n",
            "To authenticate with the Hugging Face Hub, create a token in your settings tab (https://huggingface.co/settings/tokens), set it as secret in your Google Colab and restart your session.\n",
            "You will be able to reuse this secret in all of your notebooks.\n",
            "Please note that authentication is recommended but still optional to access public models or datasets.\n",
            "  warnings.warn(\n"
          ]
        },
        {
          "output_type": "display_data",
          "data": {
            "text/plain": [
              "HBox(children=(FloatProgress(value=0.0, description='tokenizer_config.json', max=27.0, style=ProgressStyle(des…"
            ],
            "application/vnd.jupyter.widget-view+json": {
              "version_major": 2,
              "version_minor": 0,
              "model_id": "710cf4dae0f94bf786950f4c3741b7fb"
            }
          },
          "metadata": {}
        },
        {
          "output_type": "stream",
          "name": "stdout",
          "text": [
            "\n"
          ]
        },
        {
          "output_type": "display_data",
          "data": {
            "text/plain": [
              "HBox(children=(FloatProgress(value=0.0, description='config.json', max=1217.0, style=ProgressStyle(description…"
            ],
            "application/vnd.jupyter.widget-view+json": {
              "version_major": 2,
              "version_minor": 0,
              "model_id": "c7224c0140bc4c81ba7fa74b882b62e1"
            }
          },
          "metadata": {}
        },
        {
          "output_type": "stream",
          "name": "stdout",
          "text": [
            "\n"
          ]
        },
        {
          "output_type": "display_data",
          "data": {
            "text/plain": [
              "HBox(children=(FloatProgress(value=0.0, description='vocab.json', max=898822.0, style=ProgressStyle(descriptio…"
            ],
            "application/vnd.jupyter.widget-view+json": {
              "version_major": 2,
              "version_minor": 0,
              "model_id": "fcc144b11a5c45488bd4511ca87cd63b"
            }
          },
          "metadata": {}
        },
        {
          "output_type": "stream",
          "name": "stdout",
          "text": [
            "\n"
          ]
        },
        {
          "output_type": "display_data",
          "data": {
            "text/plain": [
              "HBox(children=(FloatProgress(value=0.0, description='merges.txt', max=456318.0, style=ProgressStyle(descriptio…"
            ],
            "application/vnd.jupyter.widget-view+json": {
              "version_major": 2,
              "version_minor": 0,
              "model_id": "887d3eed57ce42679ccd64dc3fd91225"
            }
          },
          "metadata": {}
        },
        {
          "output_type": "stream",
          "name": "stdout",
          "text": [
            "\n"
          ]
        },
        {
          "output_type": "display_data",
          "data": {
            "text/plain": [
              "HBox(children=(FloatProgress(value=0.0, description='special_tokens_map.json', max=772.0, style=ProgressStyle(…"
            ],
            "application/vnd.jupyter.widget-view+json": {
              "version_major": 2,
              "version_minor": 0,
              "model_id": "d26cbb9ced52497791efa63ece6fec79"
            }
          },
          "metadata": {}
        },
        {
          "output_type": "stream",
          "name": "stdout",
          "text": [
            "\n"
          ]
        }
      ],
      "source": [
        "tokenizer = AutoTokenizer.from_pretrained(\"allenai/led-large-16384\")"
      ]
    },
    {
      "cell_type": "code",
      "source": [
        "#tokenizer = AutoTokenizer.from_pretrained(\"emilyalsentzer/Bio_ClinicalBERT\")"
      ],
      "metadata": {
        "id": "awlC_Jksa576"
      },
      "execution_count": null,
      "outputs": []
    },
    {
      "cell_type": "markdown",
      "metadata": {
        "id": "ZhQeQg3oCcL-"
      },
      "source": [
        "Note that for the sake of this notebook, we finetune the \"smaller\" LED checkpoint [\"allenai/led-base-16384\"](https://huggingface.co/allenai/led-base-16384). Better performance can however be attained by finetuning [\"allenai/led-large-16384\"](https://huggingface.co/allenai/led-large-16384) at the cost of a higher required GPU RAM."
      ]
    },
    {
      "cell_type": "markdown",
      "source": [
        "MS2 input data has a median token length of 6873 with the 90%-ile token length being 13,524. The output data has a media token length of unknown but is less than 512.\n",
        "\n",
        "Thus, we set the maximum input length to 8192 and the maximum output length to 512 to ensure that the model can attend to almost all input tokens is able to generate up to a large enough number of output tokens.\n",
        "\n",
        "In this notebook, we are only able to train on `batch_size=2` to prevent out-of-memory errors.\n",
        "\n",
        "---\n"
      ],
      "metadata": {
        "id": "8ERz5j-2OEcy"
      }
    },
    {
      "cell_type": "markdown",
      "source": [
        "recall from our EDA the following with the raw data:\n",
        "<p>Mean token length: 6873</p>\n",
        "<p>Mode of token length: 3176</p>\n",
        "<p>90% of entries have a token length of 13,524.300000000001 or less</p>\n",
        "<p>80% of entries have a token length of 9,357.2 or less</p>\n",
        "<p>70% of entries have a token length of 7,273.799999999999 or less</p>\n",
        "<p>60% of entries have a token length of 5,920.599999999997 or less</p>\n",
        "<p>50% of entries have a token length of 4,939.5 or less</p>\n",
        "<p>40% of entries have a token length of 4,091.6000000000004 or less</p>\n",
        "<p>30% of entries have a token length of 3,319.0 or less</p>\n",
        "<p>20% of entries have a token length of 2,582.0 or less</p>\n",
        "<p>10% of entries have a token length of 1,735.4 or less</p>\n",
        "\n",
        "<p>Maximum token length:  123,039</p>"
      ],
      "metadata": {
        "id": "6YYoVLtlM0fZ"
      }
    },
    {
      "cell_type": "code",
      "execution_count": null,
      "metadata": {
        "id": "Nbb24Uh-Y4xO"
      },
      "outputs": [],
      "source": [
        "max_input_length = 8192 #tokens, make this longer if you want longer input, like 10,000\n",
        "max_output_length = 190 #tokens, size of output, this doesnt need to change\n",
        "batch_size = 2"
      ]
    },
    {
      "cell_type": "markdown",
      "metadata": {
        "id": "WN_SAv1JE40f"
      },
      "source": [
        "Now, let's write down the input data processing function that will be used to map each data sample to the correct model format.\n",
        "As explained earlier `article` represents here our input data and `abstract` is the target data. The datasamples are thus tokenized up to the respective maximum lengths of 8192 and 512.\n",
        "\n",
        "In addition to the usual `attention_mask`, LED can make use of an additional `global_attention_mask` defining which input tokens are attended globally and which are attended only locally, just as it's the case of [Longformer](https://huggingface.co/transformers/model_doc/longformer.html). For more information on Longformer's self-attention, please take a look at the corresponding [docs](https://huggingface.co/transformers/model_doc/longformer.html#longformer-self-attention). For summarization, we follow recommendations of the [paper](https://arxiv.org/abs/2004.05150) and use global attention only for the very first token. Finally, we make sure that no loss is computed on padded tokens by setting their index to `-100`."
      ]
    },
    {
      "cell_type": "code",
      "source": [
        "def process_data_to_model_inputs(batch):\n",
        "    # tokenize the inputs and labels\n",
        "    inputs = tokenizer(\n",
        "        batch[\"abstract\"],\n",
        "        padding=\"max_length\",\n",
        "        truncation=True,\n",
        "        max_length=max_input_length,\n",
        "    )\n",
        "    outputs = tokenizer(\n",
        "        batch[\"target\"],\n",
        "        padding=\"max_length\",\n",
        "        truncation=True,\n",
        "        max_length=max_output_length,\n",
        "    )\n",
        "\n",
        "    batch[\"input_ids\"] = inputs.input_ids\n",
        "    batch[\"attention_mask\"] = inputs.attention_mask\n",
        "\n",
        "    # create 0 global_attention_mask lists\n",
        "    batch[\"global_attention_mask\"] = len(batch[\"input_ids\"]) * [\n",
        "        [0 for _ in range(len(batch[\"input_ids\"][0]))]\n",
        "    ]\n",
        "\n",
        "    # since above lists are references, the following line changes the 0 index for all samples\n",
        "    batch[\"global_attention_mask\"][0][0] = 1\n",
        "    batch[\"labels\"] = outputs.input_ids\n",
        "\n",
        "    # We have to make sure that the PAD token is ignored\n",
        "    batch[\"labels\"] = [\n",
        "        [-100 if token == tokenizer.pad_token_id else token for token in labels]\n",
        "        for labels in batch[\"labels\"]\n",
        "    ]\n",
        "\n",
        "    return batch\n"
      ],
      "metadata": {
        "id": "YpBWD2sHlesJ"
      },
      "execution_count": null,
      "outputs": []
    },
    {
      "cell_type": "markdown",
      "metadata": {
        "id": "iyseRmC5IcXj"
      },
      "source": [
        "**For the sake of this trial, we will reduce the training and validation data\n",
        "to a dummy dataset of sizes 250 and 25 respectively. For a full training run, those lines should be commented out.**"
      ]
    },
    {
      "cell_type": "code",
      "execution_count": null,
      "metadata": {
        "id": "xMAkJfjCZKeE",
        "colab": {
          "base_uri": "https://localhost:8080/"
        },
        "outputId": "ed439877-1694-4640-b06d-9a15d8d98fc0"
      },
      "outputs": [
        {
          "output_type": "execute_result",
          "data": {
            "text/plain": [
              "(10, 2)"
            ]
          },
          "metadata": {},
          "execution_count": 55
        }
      ],
      "source": [
        "train_dataset = train_dataset.select(range(10000))\n",
        "val_dataset = val_dataset.select(range(10))\n",
        "val_dataset.shape"
      ]
    },
    {
      "cell_type": "markdown",
      "metadata": {
        "id": "fNzZZACtIoCD"
      },
      "source": [
        "Great, having defined the mapping function, let's preprocess the training data"
      ]
    },
    {
      "cell_type": "code",
      "execution_count": null,
      "metadata": {
        "colab": {
          "base_uri": "https://localhost:8080/",
          "height": 67,
          "referenced_widgets": [
            "ebff27f4c64a48c183da06327d814037",
            "e20eb966377541f5889be4af5e8cf918",
            "fe32d27e7c074544b3361c52a98364ba",
            "3451e06b5e6e4f20bc9e7bd3b7f083a8",
            "f32f573f968b4087ba9e866e196e3f0c",
            "aa6d6dafa1954926abc822698c8030fe",
            "d6e9be02bf67426b818c93ac8586b4aa",
            "c39120b00bbe451d879e317a598239b1"
          ]
        },
        "id": "8RClMjZOZCPO",
        "outputId": "415b5170-5f8d-4ad4-d2fc-15539214fd09"
      },
      "outputs": [
        {
          "output_type": "display_data",
          "data": {
            "text/plain": [
              "HBox(children=(FloatProgress(value=0.0, max=5000.0), HTML(value='')))"
            ],
            "application/vnd.jupyter.widget-view+json": {
              "version_major": 2,
              "version_minor": 0,
              "model_id": "ebff27f4c64a48c183da06327d814037"
            }
          },
          "metadata": {}
        },
        {
          "output_type": "stream",
          "name": "stdout",
          "text": [
            "\n"
          ]
        }
      ],
      "source": [
        "train_dataset = train_dataset.map(\n",
        "    process_data_to_model_inputs,\n",
        "    batched=True,\n",
        "    batch_size=batch_size,\n",
        "    remove_columns=[\"abstract\", \"target\"],\n",
        ")"
      ]
    },
    {
      "cell_type": "markdown",
      "metadata": {
        "id": "RUtRFmgVIuHG"
      },
      "source": [
        "and validation data"
      ]
    },
    {
      "cell_type": "code",
      "execution_count": null,
      "metadata": {
        "colab": {
          "base_uri": "https://localhost:8080/",
          "height": 67,
          "referenced_widgets": [
            "c7dc76a096e74d17b806e1068460fcf6",
            "aaa118d2a6354116a97b1a49edb70f00",
            "b17bdbc9b6ab44648bb1ce8d1d272414",
            "1c48f06e03d747b7a47441f60718bed8",
            "202e954f69394aa283464f17e3a2a1ee",
            "2e454f4d4d79407580c481406b704e22",
            "00b7a6701b8443528b40b365e934991d",
            "81e1828434da4988ad928aea86774776"
          ]
        },
        "id": "Gy_9DCocZD5G",
        "outputId": "f9166d39-1c2c-4a58-e3d5-1b9e60f604ac"
      },
      "outputs": [
        {
          "output_type": "display_data",
          "data": {
            "text/plain": [
              "HBox(children=(FloatProgress(value=0.0, max=5.0), HTML(value='')))"
            ],
            "application/vnd.jupyter.widget-view+json": {
              "version_major": 2,
              "version_minor": 0,
              "model_id": "c7dc76a096e74d17b806e1068460fcf6"
            }
          },
          "metadata": {}
        },
        {
          "output_type": "stream",
          "name": "stdout",
          "text": [
            "\n"
          ]
        }
      ],
      "source": [
        "val_dataset = val_dataset.map(\n",
        "    process_data_to_model_inputs,\n",
        "    batched=True,\n",
        "    batch_size=batch_size,\n",
        "    remove_columns=[\"abstract\", \"target\"],\n",
        ")"
      ]
    },
    {
      "cell_type": "markdown",
      "metadata": {
        "id": "evRRitZaIw9N"
      },
      "source": [
        "Finally, the datasets should be converted into the PyTorch format as follows."
      ]
    },
    {
      "cell_type": "code",
      "execution_count": null,
      "metadata": {
        "id": "ci2QYHCMZiNO"
      },
      "outputs": [],
      "source": [
        "train_dataset.set_format(\n",
        "    type=\"torch\",\n",
        "    columns=[\"input_ids\", \"attention_mask\", \"global_attention_mask\", \"labels\"],\n",
        ")\n",
        "val_dataset.set_format(\n",
        "    type=\"torch\",\n",
        "    columns=[\"input_ids\", \"attention_mask\", \"global_attention_mask\", \"labels\"],\n",
        ")"
      ]
    },
    {
      "cell_type": "markdown",
      "metadata": {
        "id": "dI-QHywgI6Hb"
      },
      "source": [
        "Alright, we're almost ready to start training. Let's load the model via the `AutoModelForSeq2SeqLM` class."
      ]
    },
    {
      "cell_type": "code",
      "execution_count": null,
      "metadata": {
        "id": "SZf_8QXJacIc"
      },
      "outputs": [],
      "source": [
        "from transformers import AutoModelForSeq2SeqLM"
      ]
    },
    {
      "cell_type": "markdown",
      "metadata": {
        "id": "hNJQlLDKJHIK"
      },
      "source": [
        "We've decided to stick to the smaller model `\"allenai/led-base-16384\"` for the sake of this notebook. In addition, we directly enable gradient checkpointing and disable the caching mechanism to save memory."
      ]
    },
    {
      "cell_type": "code",
      "execution_count": null,
      "metadata": {
        "id": "R-UfEo0Zadpl"
      },
      "outputs": [],
      "source": [
        "led = AutoModelForSeq2SeqLM.from_pretrained(\"allenai/led-large-16384\", gradient_checkpointing=True, use_cache=False)"
      ]
    },
    {
      "cell_type": "markdown",
      "metadata": {
        "id": "kQOaX6eRJXkM"
      },
      "source": [
        "During training, we want to evaluate the model on Rouge, the most common metric used in summarization, to make sure the model is indeed improving during training. For this, we set fitting generation parameters. We'll use beam search with a small beam of just 2 to save memory. Also, we force the model to generate at least 100 tokens, but no more than 512. In addition, some other generation parameters are set that have been found helpful for generation. For more information on those parameters, please take a look at the [docs](https://huggingface.co/transformers/main_classes/model.html?highlight=generate#transformers.generation_utils.GenerationMixin.generate).\n"
      ]
    },
    {
      "cell_type": "code",
      "execution_count": null,
      "metadata": {
        "id": "kPnNi_tWaklV"
      },
      "outputs": [],
      "source": [
        "# set generate hyperparameters\n",
        "led.config.num_beams = 2\n",
        "led.config.max_length = 196\n",
        "led.config.min_length = 25\n",
        "led.config.length_penalty = 2.0\n",
        "led.config.early_stopping = True\n",
        "led.config.no_repeat_ngram_size = 3"
      ]
    },
    {
      "cell_type": "markdown",
      "metadata": {
        "id": "p7FTiwHrKSBA"
      },
      "source": [
        "Next, we also have to define the function the will compute the `\"rouge\"` score during evalution.\n",
        "\n",
        "Let's load the `\"rouge\"` metric from 🤗datasets and define the `compute_metrics(...)` function."
      ]
    },
    {
      "cell_type": "code",
      "execution_count": null,
      "metadata": {
        "id": "S5_rc9wUaBop"
      },
      "outputs": [],
      "source": [
        "rouge = load_metric(\"rouge\")"
      ]
    },
    {
      "cell_type": "markdown",
      "metadata": {
        "id": "wsytOIWVKqFz"
      },
      "source": [
        "The compute metrics function expects the generation output, called `pred.predictions` as well as the gold label, called `pred.label_ids`.\n",
        "\n",
        "Those tokens are decoded and consequently, the rouge score can be computed."
      ]
    },
    {
      "cell_type": "code",
      "execution_count": null,
      "metadata": {
        "id": "1ahmf7mcZzU7"
      },
      "outputs": [],
      "source": [
        "def compute_metrics(pred):\n",
        "    labels_ids = pred.label_ids\n",
        "    pred_ids = pred.predictions\n",
        "\n",
        "    pred_str = tokenizer.batch_decode(pred_ids, skip_special_tokens=True)\n",
        "    labels_ids[labels_ids == -100] = tokenizer.pad_token_id\n",
        "    label_str = tokenizer.batch_decode(labels_ids, skip_special_tokens=True)\n",
        "\n",
        "    rouge_output = rouge.compute(\n",
        "        predictions=pred_str, references=label_str, rouge_types=[\"rouge1\", \"rouge2\"]\n",
        "    )\n",
        "\n",
        "    return {\n",
        "        \"rouge1_precision\": round(rouge_output[\"rouge1\"].mid.precision, 4),\n",
        "        \"rouge1_recall\": round(rouge_output[\"rouge1\"].mid.recall, 4),\n",
        "        \"rouge1_fmeasure\": round(rouge_output[\"rouge1\"].mid.fmeasure, 4),\n",
        "        \"rouge2_precision\": round(rouge_output[\"rouge2\"].mid.precision, 4),\n",
        "        \"rouge2_recall\": round(rouge_output[\"rouge2\"].mid.recall, 4),\n",
        "        \"rouge2_fmeasure\": round(rouge_output[\"rouge2\"].mid.fmeasure, 4),\n",
        "    }\n"
      ]
    },
    {
      "cell_type": "markdown",
      "metadata": {
        "id": "rrX2gBnYLAna"
      },
      "source": [
        "Now, we're ready to start training. Let's import the `Seq2SeqTrainer` and `Seq2SeqTrainingArguments`."
      ]
    },
    {
      "cell_type": "code",
      "execution_count": null,
      "metadata": {
        "id": "Gq7CajIWaUo5"
      },
      "outputs": [],
      "source": [
        "from transformers import Seq2SeqTrainer, Seq2SeqTrainingArguments"
      ]
    },
    {
      "cell_type": "markdown",
      "metadata": {
        "id": "ga-fCOB4LI4W"
      },
      "source": [
        "In contrast to the usual `Trainer`, the `Seq2SeqTrainer` makes it possible to use the `generate()` function during evaluation. This should be enabled with `predict_with_generate=True`. Because our GPU RAM is limited, we make use of gradient accumulation by setting `gradient_accumulation_steps=4` to have an effective `batch_size` of 2 * 4 = 8.\n",
        "\n",
        "Other training arguments can be read upon in the [docs](https://huggingface.co/transformers/main_classes/trainer.html?highlight=trainingarguments#transformers.TrainingArguments)."
      ]
    },
    {
      "cell_type": "markdown",
      "source": [
        "###Setting the Epochs"
      ],
      "metadata": {
        "id": "ql94B6bKJ9jp"
      }
    },
    {
      "cell_type": "code",
      "execution_count": null,
      "metadata": {
        "id": "mMehwI4QZqB_"
      },
      "outputs": [],
      "source": [
        "#all files will be stored under folder longformer_plain1, or whatever name the folder its given\n",
        "#it will automatically save it after each epoch\n",
        "#output_dir= longformer_plain1\n",
        "# enable fp16 apex training\n",
        "training_args = Seq2SeqTrainingArguments(\n",
        "    predict_with_generate=True,\n",
        "    evaluation_strategy=\"steps\",\n",
        "    per_device_train_batch_size=batch_size,\n",
        "    per_device_eval_batch_size=batch_size,\n",
        "    fp16=True,\n",
        "    output_dir=\"/content/drive/MyDrive/W266_NLP/Project2/summarization/e_l_longformer_8k_plain3\", #where trained model is saved\n",
        "    logging_steps=125,\n",
        "    eval_steps=500,\n",
        "    save_steps=250,\n",
        "    save_total_limit=2,\n",
        "    gradient_accumulation_steps=4,\n",
        "    num_train_epochs=10, #add epochs\n",
        ")\n",
        "output_dir=\"/content/drive/MyDrive/W266_NLP/Project2/summarization/e_l_longformer_8k_plain3\", #where trained model is saved"
      ]
    },
    {
      "cell_type": "markdown",
      "metadata": {
        "id": "JZCY-C5mLzXY"
      },
      "source": [
        "The training arguments, along with the model, tokenizer, datasets and the `compute_metrics` function can then be passed to the `Seq2SeqTrainer`"
      ]
    },
    {
      "cell_type": "code",
      "execution_count": null,
      "metadata": {
        "id": "6WPyTYO_JfHW",
        "colab": {
          "base_uri": "https://localhost:8080/"
        },
        "outputId": "4d665fdf-11fe-48ae-eb76-0401d062cbdc"
      },
      "outputs": [
        {
          "output_type": "stream",
          "name": "stderr",
          "text": [
            "/usr/local/lib/python3.10/dist-packages/accelerate/accelerator.py:436: FutureWarning: Passing the following arguments to `Accelerator` is deprecated and will be removed in version 1.0 of Accelerate: dict_keys(['dispatch_batches', 'split_batches', 'even_batches', 'use_seedable_sampler']). Please pass an `accelerate.DataLoaderConfiguration` instead: \n",
            "dataloader_config = DataLoaderConfiguration(dispatch_batches=None, split_batches=False, even_batches=True, use_seedable_sampler=True)\n",
            "  warnings.warn(\n"
          ]
        }
      ],
      "source": [
        "trainer = Seq2SeqTrainer(\n",
        "    model=led,\n",
        "    tokenizer=tokenizer,\n",
        "    args=training_args,\n",
        "    compute_metrics=compute_metrics,\n",
        "    train_dataset=train_dataset,\n",
        "    eval_dataset=val_dataset,\n",
        ")"
      ]
    },
    {
      "cell_type": "markdown",
      "metadata": {
        "id": "xZxSe_afL9TH"
      },
      "source": [
        "and we can start training."
      ]
    },
    {
      "cell_type": "code",
      "execution_count": null,
      "metadata": {
        "colab": {
          "base_uri": "https://localhost:8080/",
          "height": 1000
        },
        "id": "g4zkCpeQa2NN",
        "outputId": "50d0d026-f795-444f-a197-4952ed92f2e3"
      },
      "outputs": [
        {
          "data": {
            "text/html": [
              "\n",
              "    <div>\n",
              "      \n",
              "      <progress value='2552' max='12500' style='width:300px; height:20px; vertical-align: middle;'></progress>\n",
              "      [ 2552/12500 6:26:08 < 25:06:23, 0.11 it/s, Epoch 2.04/10]\n",
              "    </div>\n",
              "    <table border=\"1\" class=\"dataframe\">\n",
              "  <thead>\n",
              " <tr style=\"text-align: left;\">\n",
              "      <th>Step</th>\n",
              "      <th>Training Loss</th>\n",
              "      <th>Validation Loss</th>\n",
              "      <th>Rouge1 Precision</th>\n",
              "      <th>Rouge1 Recall</th>\n",
              "      <th>Rouge1 Fmeasure</th>\n",
              "      <th>Rouge2 Precision</th>\n",
              "      <th>Rouge2 Recall</th>\n",
              "      <th>Rouge2 Fmeasure</th>\n",
              "    </tr>\n",
              "  </thead>\n",
              "  <tbody>\n",
              "    <tr>\n",
              "      <td>500</td>\n",
              "      <td>4.726900</td>\n",
              "      <td>4.404412</td>\n",
              "      <td>0.107100</td>\n",
              "      <td>0.392000</td>\n",
              "      <td>0.159600</td>\n",
              "      <td>0.019500</td>\n",
              "      <td>0.076900</td>\n",
              "      <td>0.029200</td>\n",
              "    </tr>\n",
              "    <tr>\n",
              "      <td>1000</td>\n",
              "      <td>4.483100</td>\n",
              "      <td>4.270196</td>\n",
              "      <td>0.106300</td>\n",
              "      <td>0.414100</td>\n",
              "      <td>0.160000</td>\n",
              "      <td>0.021600</td>\n",
              "      <td>0.098600</td>\n",
              "      <td>0.033800</td>\n",
              "    </tr>\n",
              "    <tr>\n",
              "      <td>1500</td>\n",
              "      <td>4.504000</td>\n",
              "      <td>4.328493</td>\n",
              "      <td>0.098000</td>\n",
              "      <td>0.379800</td>\n",
              "      <td>0.147400</td>\n",
              "      <td>0.013800</td>\n",
              "      <td>0.054000</td>\n",
              "      <td>0.021200</td>\n",
              "    </tr>\n",
              "    <tr>\n",
              "      <td>2000</td>\n",
              "      <td>4.298500</td>\n",
              "      <td>4.550736</td>\n",
              "      <td>0.101700</td>\n",
              "      <td>0.417500</td>\n",
              "      <td>0.156100</td>\n",
              "      <td>0.020000</td>\n",
              "      <td>0.092300</td>\n",
              "      <td>0.031600</td>\n",
              "    </tr>\n",
              "    <tr>\n",
              "      <td>2500</td>\n",
              "      <td>4.248100</td>\n",
              "      <td>4.290622</td>\n",
              "      <td>0.103200</td>\n",
              "      <td>0.395700</td>\n",
              "      <td>0.155800</td>\n",
              "      <td>0.021000</td>\n",
              "      <td>0.089800</td>\n",
              "      <td>0.032600</td>\n",
              "    </tr>\n",
              "  </tbody>\n",
              "</table><p>"
            ],
            "text/plain": [
              "<IPython.core.display.HTML object>"
            ]
          },
          "metadata": {},
          "output_type": "display_data"
        },
        {
          "metadata": {
            "tags": null
          },
          "name": "stderr",
          "output_type": "stream",
          "text": [
            "Some non-default generation parameters are set in the model config. These should go into a GenerationConfig file (https://huggingface.co/docs/transformers/generation_strategies#save-a-custom-decoding-strategy-with-your-model) instead. This warning will be raised to an exception in v4.41.\n",
            "Non-default generation parameters: {'max_length': 196, 'min_length': 25, 'early_stopping': True, 'num_beams': 2, 'length_penalty': 2.0, 'no_repeat_ngram_size': 3}\n",
            "Your generation config was originally created from the model config, but the model config has changed since then. Unless you pass the `generation_config` argument to this model's `generate` calls, they will revert to the legacy behavior where the base `generate` parameterization is loaded from the model config instead. To avoid this behavior and this warning, we recommend you to overwrite the generation config model attribute before calling the model's `save_pretrained`, preferably also removing any generation kwargs from the model config. This warning will be raised to an exception in v4.41.\n",
            "/usr/local/lib/python3.10/dist-packages/transformers/generation/utils.py:1339: UserWarning: You have modified the pretrained model configuration to control generation. This is a deprecated strategy to control generation and will be removed soon, in a future version. Please use and modify the model generation configuration (see https://huggingface.co/docs/transformers/generation_strategies#default-text-generation-configuration )\n",
            "  warnings.warn(\n",
            "Some non-default generation parameters are set in the model config. These should go into a GenerationConfig file (https://huggingface.co/docs/transformers/generation_strategies#save-a-custom-decoding-strategy-with-your-model) instead. This warning will be raised to an exception in v4.41.\n",
            "Non-default generation parameters: {'max_length': 196, 'min_length': 25, 'early_stopping': True, 'num_beams': 2, 'length_penalty': 2.0, 'no_repeat_ngram_size': 3}\n",
            "Some non-default generation parameters are set in the model config. These should go into a GenerationConfig file (https://huggingface.co/docs/transformers/generation_strategies#save-a-custom-decoding-strategy-with-your-model) instead. This warning will be raised to an exception in v4.41.\n",
            "Non-default generation parameters: {'max_length': 196, 'min_length': 25, 'early_stopping': True, 'num_beams': 2, 'length_penalty': 2.0, 'no_repeat_ngram_size': 3}\n",
            "Some non-default generation parameters are set in the model config. These should go into a GenerationConfig file (https://huggingface.co/docs/transformers/generation_strategies#save-a-custom-decoding-strategy-with-your-model) instead. This warning will be raised to an exception in v4.41.\n",
            "Non-default generation parameters: {'max_length': 196, 'min_length': 25, 'early_stopping': True, 'num_beams': 2, 'length_penalty': 2.0, 'no_repeat_ngram_size': 3}\n",
            "Some non-default generation parameters are set in the model config. These should go into a GenerationConfig file (https://huggingface.co/docs/transformers/generation_strategies#save-a-custom-decoding-strategy-with-your-model) instead. This warning will be raised to an exception in v4.41.\n",
            "Non-default generation parameters: {'max_length': 196, 'min_length': 25, 'early_stopping': True, 'num_beams': 2, 'length_penalty': 2.0, 'no_repeat_ngram_size': 3}\n",
            "Some non-default generation parameters are set in the model config. These should go into a GenerationConfig file (https://huggingface.co/docs/transformers/generation_strategies#save-a-custom-decoding-strategy-with-your-model) instead. This warning will be raised to an exception in v4.41.\n",
            "Non-default generation parameters: {'max_length': 196, 'min_length': 25, 'early_stopping': True, 'num_beams': 2, 'length_penalty': 2.0, 'no_repeat_ngram_size': 3}\n",
            "Some non-default generation parameters are set in the model config. These should go into a GenerationConfig file (https://huggingface.co/docs/transformers/generation_strategies#save-a-custom-decoding-strategy-with-your-model) instead. This warning will be raised to an exception in v4.41.\n",
            "Non-default generation parameters: {'max_length': 196, 'min_length': 25, 'early_stopping': True, 'num_beams': 2, 'length_penalty': 2.0, 'no_repeat_ngram_size': 3}\n",
            "Some non-default generation parameters are set in the model config. These should go into a GenerationConfig file (https://huggingface.co/docs/transformers/generation_strategies#save-a-custom-decoding-strategy-with-your-model) instead. This warning will be raised to an exception in v4.41.\n",
            "Non-default generation parameters: {'max_length': 196, 'min_length': 25, 'early_stopping': True, 'num_beams': 2, 'length_penalty': 2.0, 'no_repeat_ngram_size': 3}\n",
            "Some non-default generation parameters are set in the model config. These should go into a GenerationConfig file (https://huggingface.co/docs/transformers/generation_strategies#save-a-custom-decoding-strategy-with-your-model) instead. This warning will be raised to an exception in v4.41.\n",
            "Non-default generation parameters: {'max_length': 196, 'min_length': 25, 'early_stopping': True, 'num_beams': 2, 'length_penalty': 2.0, 'no_repeat_ngram_size': 3}\n",
            "Some non-default generation parameters are set in the model config. These should go into a GenerationConfig file (https://huggingface.co/docs/transformers/generation_strategies#save-a-custom-decoding-strategy-with-your-model) instead. This warning will be raised to an exception in v4.41.\n",
            "Non-default generation parameters: {'max_length': 196, 'min_length': 25, 'early_stopping': True, 'num_beams': 2, 'length_penalty': 2.0, 'no_repeat_ngram_size': 3}\n"
          ]
        },
        {
          "output_type": "display_data",
          "data": {
            "text/plain": [
              "<IPython.core.display.HTML object>"
            ],
            "text/html": [
              "\n",
              "    <div>\n",
              "      \n",
              "      <progress value='2598' max='12500' style='width:300px; height:20px; vertical-align: middle;'></progress>\n",
              "      [ 2598/12500 6:32:58 < 24:58:56, 0.11 it/s, Epoch 2.08/10]\n",
              "    </div>\n",
              "    <table border=\"1\" class=\"dataframe\">\n",
              "  <thead>\n",
              " <tr style=\"text-align: left;\">\n",
              "      <th>Step</th>\n",
              "      <th>Training Loss</th>\n",
              "      <th>Validation Loss</th>\n",
              "      <th>Rouge1 Precision</th>\n",
              "      <th>Rouge1 Recall</th>\n",
              "      <th>Rouge1 Fmeasure</th>\n",
              "      <th>Rouge2 Precision</th>\n",
              "      <th>Rouge2 Recall</th>\n",
              "      <th>Rouge2 Fmeasure</th>\n",
              "    </tr>\n",
              "  </thead>\n",
              "  <tbody>\n",
              "    <tr>\n",
              "      <td>500</td>\n",
              "      <td>4.726900</td>\n",
              "      <td>4.404412</td>\n",
              "      <td>0.107100</td>\n",
              "      <td>0.392000</td>\n",
              "      <td>0.159600</td>\n",
              "      <td>0.019500</td>\n",
              "      <td>0.076900</td>\n",
              "      <td>0.029200</td>\n",
              "    </tr>\n",
              "    <tr>\n",
              "      <td>1000</td>\n",
              "      <td>4.483100</td>\n",
              "      <td>4.270196</td>\n",
              "      <td>0.106300</td>\n",
              "      <td>0.414100</td>\n",
              "      <td>0.160000</td>\n",
              "      <td>0.021600</td>\n",
              "      <td>0.098600</td>\n",
              "      <td>0.033800</td>\n",
              "    </tr>\n",
              "    <tr>\n",
              "      <td>1500</td>\n",
              "      <td>4.504000</td>\n",
              "      <td>4.328493</td>\n",
              "      <td>0.098000</td>\n",
              "      <td>0.379800</td>\n",
              "      <td>0.147400</td>\n",
              "      <td>0.013800</td>\n",
              "      <td>0.054000</td>\n",
              "      <td>0.021200</td>\n",
              "    </tr>\n",
              "    <tr>\n",
              "      <td>2000</td>\n",
              "      <td>4.298500</td>\n",
              "      <td>4.550736</td>\n",
              "      <td>0.101700</td>\n",
              "      <td>0.417500</td>\n",
              "      <td>0.156100</td>\n",
              "      <td>0.020000</td>\n",
              "      <td>0.092300</td>\n",
              "      <td>0.031600</td>\n",
              "    </tr>\n",
              "    <tr>\n",
              "      <td>2500</td>\n",
              "      <td>4.248100</td>\n",
              "      <td>4.290622</td>\n",
              "      <td>0.103200</td>\n",
              "      <td>0.395700</td>\n",
              "      <td>0.155800</td>\n",
              "      <td>0.021000</td>\n",
              "      <td>0.089800</td>\n",
              "      <td>0.032600</td>\n",
              "    </tr>\n",
              "  </tbody>\n",
              "</table><p>"
            ]
          },
          "metadata": {}
        },
        {
          "output_type": "error",
          "ename": "KeyboardInterrupt",
          "evalue": "",
          "traceback": [
            "\u001b[0;31m---------------------------------------------------------------------------\u001b[0m",
            "\u001b[0;31mKeyboardInterrupt\u001b[0m                         Traceback (most recent call last)",
            "\u001b[0;32m<ipython-input-69-a2c23cb0a8cf>\u001b[0m in \u001b[0;36m<cell line: 1>\u001b[0;34m()\u001b[0m\n\u001b[0;32m----> 1\u001b[0;31m \u001b[0mtrainer\u001b[0m\u001b[0;34m.\u001b[0m\u001b[0mtrain\u001b[0m\u001b[0;34m(\u001b[0m\u001b[0;34m)\u001b[0m\u001b[0;34m\u001b[0m\u001b[0;34m\u001b[0m\u001b[0m\n\u001b[0m\u001b[1;32m      2\u001b[0m \u001b[0msave_to_dir\u001b[0m \u001b[0;34m=\u001b[0m \u001b[0moutput_dir\u001b[0m\u001b[0;34m\u001b[0m\u001b[0;34m\u001b[0m\u001b[0m\n\u001b[1;32m      3\u001b[0m \u001b[0mtrainer\u001b[0m\u001b[0;34m.\u001b[0m\u001b[0msave_model\u001b[0m\u001b[0;34m(\u001b[0m\u001b[0msave_to_dir\u001b[0m \u001b[0;34m)\u001b[0m\u001b[0;34m\u001b[0m\u001b[0;34m\u001b[0m\u001b[0m\n",
            "\u001b[0;32m/usr/local/lib/python3.10/dist-packages/transformers/trainer.py\u001b[0m in \u001b[0;36mtrain\u001b[0;34m(self, resume_from_checkpoint, trial, ignore_keys_for_eval, **kwargs)\u001b[0m\n\u001b[1;32m   1622\u001b[0m                 \u001b[0mhf_hub_utils\u001b[0m\u001b[0;34m.\u001b[0m\u001b[0menable_progress_bars\u001b[0m\u001b[0;34m(\u001b[0m\u001b[0;34m)\u001b[0m\u001b[0;34m\u001b[0m\u001b[0;34m\u001b[0m\u001b[0m\n\u001b[1;32m   1623\u001b[0m         \u001b[0;32melse\u001b[0m\u001b[0;34m:\u001b[0m\u001b[0;34m\u001b[0m\u001b[0;34m\u001b[0m\u001b[0m\n\u001b[0;32m-> 1624\u001b[0;31m             return inner_training_loop(\n\u001b[0m\u001b[1;32m   1625\u001b[0m                 \u001b[0margs\u001b[0m\u001b[0;34m=\u001b[0m\u001b[0margs\u001b[0m\u001b[0;34m,\u001b[0m\u001b[0;34m\u001b[0m\u001b[0;34m\u001b[0m\u001b[0m\n\u001b[1;32m   1626\u001b[0m                 \u001b[0mresume_from_checkpoint\u001b[0m\u001b[0;34m=\u001b[0m\u001b[0mresume_from_checkpoint\u001b[0m\u001b[0;34m,\u001b[0m\u001b[0;34m\u001b[0m\u001b[0;34m\u001b[0m\u001b[0m\n",
            "\u001b[0;32m/usr/local/lib/python3.10/dist-packages/transformers/trainer.py\u001b[0m in \u001b[0;36m_inner_training_loop\u001b[0;34m(self, batch_size, args, resume_from_checkpoint, trial, ignore_keys_for_eval)\u001b[0m\n\u001b[1;32m   1959\u001b[0m \u001b[0;34m\u001b[0m\u001b[0m\n\u001b[1;32m   1960\u001b[0m                 \u001b[0;32mwith\u001b[0m \u001b[0mself\u001b[0m\u001b[0;34m.\u001b[0m\u001b[0maccelerator\u001b[0m\u001b[0;34m.\u001b[0m\u001b[0maccumulate\u001b[0m\u001b[0;34m(\u001b[0m\u001b[0mmodel\u001b[0m\u001b[0;34m)\u001b[0m\u001b[0;34m:\u001b[0m\u001b[0;34m\u001b[0m\u001b[0;34m\u001b[0m\u001b[0m\n\u001b[0;32m-> 1961\u001b[0;31m                     \u001b[0mtr_loss_step\u001b[0m \u001b[0;34m=\u001b[0m \u001b[0mself\u001b[0m\u001b[0;34m.\u001b[0m\u001b[0mtraining_step\u001b[0m\u001b[0;34m(\u001b[0m\u001b[0mmodel\u001b[0m\u001b[0;34m,\u001b[0m \u001b[0minputs\u001b[0m\u001b[0;34m)\u001b[0m\u001b[0;34m\u001b[0m\u001b[0;34m\u001b[0m\u001b[0m\n\u001b[0m\u001b[1;32m   1962\u001b[0m \u001b[0;34m\u001b[0m\u001b[0m\n\u001b[1;32m   1963\u001b[0m                 if (\n",
            "\u001b[0;32m/usr/local/lib/python3.10/dist-packages/transformers/trainer.py\u001b[0m in \u001b[0;36mtraining_step\u001b[0;34m(self, model, inputs)\u001b[0m\n\u001b[1;32m   2900\u001b[0m \u001b[0;34m\u001b[0m\u001b[0m\n\u001b[1;32m   2901\u001b[0m         \u001b[0;32mwith\u001b[0m \u001b[0mself\u001b[0m\u001b[0;34m.\u001b[0m\u001b[0mcompute_loss_context_manager\u001b[0m\u001b[0;34m(\u001b[0m\u001b[0;34m)\u001b[0m\u001b[0;34m:\u001b[0m\u001b[0;34m\u001b[0m\u001b[0;34m\u001b[0m\u001b[0m\n\u001b[0;32m-> 2902\u001b[0;31m             \u001b[0mloss\u001b[0m \u001b[0;34m=\u001b[0m \u001b[0mself\u001b[0m\u001b[0;34m.\u001b[0m\u001b[0mcompute_loss\u001b[0m\u001b[0;34m(\u001b[0m\u001b[0mmodel\u001b[0m\u001b[0;34m,\u001b[0m \u001b[0minputs\u001b[0m\u001b[0;34m)\u001b[0m\u001b[0;34m\u001b[0m\u001b[0;34m\u001b[0m\u001b[0m\n\u001b[0m\u001b[1;32m   2903\u001b[0m \u001b[0;34m\u001b[0m\u001b[0m\n\u001b[1;32m   2904\u001b[0m         \u001b[0;32mif\u001b[0m \u001b[0mself\u001b[0m\u001b[0;34m.\u001b[0m\u001b[0margs\u001b[0m\u001b[0;34m.\u001b[0m\u001b[0mn_gpu\u001b[0m \u001b[0;34m>\u001b[0m \u001b[0;36m1\u001b[0m\u001b[0;34m:\u001b[0m\u001b[0;34m\u001b[0m\u001b[0;34m\u001b[0m\u001b[0m\n",
            "\u001b[0;32m/usr/local/lib/python3.10/dist-packages/transformers/trainer.py\u001b[0m in \u001b[0;36mcompute_loss\u001b[0;34m(self, model, inputs, return_outputs)\u001b[0m\n\u001b[1;32m   2923\u001b[0m         \u001b[0;32melse\u001b[0m\u001b[0;34m:\u001b[0m\u001b[0;34m\u001b[0m\u001b[0;34m\u001b[0m\u001b[0m\n\u001b[1;32m   2924\u001b[0m             \u001b[0mlabels\u001b[0m \u001b[0;34m=\u001b[0m \u001b[0;32mNone\u001b[0m\u001b[0;34m\u001b[0m\u001b[0;34m\u001b[0m\u001b[0m\n\u001b[0;32m-> 2925\u001b[0;31m         \u001b[0moutputs\u001b[0m \u001b[0;34m=\u001b[0m \u001b[0mmodel\u001b[0m\u001b[0;34m(\u001b[0m\u001b[0;34m**\u001b[0m\u001b[0minputs\u001b[0m\u001b[0;34m)\u001b[0m\u001b[0;34m\u001b[0m\u001b[0;34m\u001b[0m\u001b[0m\n\u001b[0m\u001b[1;32m   2926\u001b[0m         \u001b[0;31m# Save past state if it exists\u001b[0m\u001b[0;34m\u001b[0m\u001b[0;34m\u001b[0m\u001b[0m\n\u001b[1;32m   2927\u001b[0m         \u001b[0;31m# TODO: this needs to be fixed and made cleaner later.\u001b[0m\u001b[0;34m\u001b[0m\u001b[0;34m\u001b[0m\u001b[0m\n",
            "\u001b[0;32m/usr/local/lib/python3.10/dist-packages/torch/nn/modules/module.py\u001b[0m in \u001b[0;36m_wrapped_call_impl\u001b[0;34m(self, *args, **kwargs)\u001b[0m\n\u001b[1;32m   1509\u001b[0m             \u001b[0;32mreturn\u001b[0m \u001b[0mself\u001b[0m\u001b[0;34m.\u001b[0m\u001b[0m_compiled_call_impl\u001b[0m\u001b[0;34m(\u001b[0m\u001b[0;34m*\u001b[0m\u001b[0margs\u001b[0m\u001b[0;34m,\u001b[0m \u001b[0;34m**\u001b[0m\u001b[0mkwargs\u001b[0m\u001b[0;34m)\u001b[0m  \u001b[0;31m# type: ignore[misc]\u001b[0m\u001b[0;34m\u001b[0m\u001b[0;34m\u001b[0m\u001b[0m\n\u001b[1;32m   1510\u001b[0m         \u001b[0;32melse\u001b[0m\u001b[0;34m:\u001b[0m\u001b[0;34m\u001b[0m\u001b[0;34m\u001b[0m\u001b[0m\n\u001b[0;32m-> 1511\u001b[0;31m             \u001b[0;32mreturn\u001b[0m \u001b[0mself\u001b[0m\u001b[0;34m.\u001b[0m\u001b[0m_call_impl\u001b[0m\u001b[0;34m(\u001b[0m\u001b[0;34m*\u001b[0m\u001b[0margs\u001b[0m\u001b[0;34m,\u001b[0m \u001b[0;34m**\u001b[0m\u001b[0mkwargs\u001b[0m\u001b[0;34m)\u001b[0m\u001b[0;34m\u001b[0m\u001b[0;34m\u001b[0m\u001b[0m\n\u001b[0m\u001b[1;32m   1512\u001b[0m \u001b[0;34m\u001b[0m\u001b[0m\n\u001b[1;32m   1513\u001b[0m     \u001b[0;32mdef\u001b[0m \u001b[0m_call_impl\u001b[0m\u001b[0;34m(\u001b[0m\u001b[0mself\u001b[0m\u001b[0;34m,\u001b[0m \u001b[0;34m*\u001b[0m\u001b[0margs\u001b[0m\u001b[0;34m,\u001b[0m \u001b[0;34m**\u001b[0m\u001b[0mkwargs\u001b[0m\u001b[0;34m)\u001b[0m\u001b[0;34m:\u001b[0m\u001b[0;34m\u001b[0m\u001b[0;34m\u001b[0m\u001b[0m\n",
            "\u001b[0;32m/usr/local/lib/python3.10/dist-packages/torch/nn/modules/module.py\u001b[0m in \u001b[0;36m_call_impl\u001b[0;34m(self, *args, **kwargs)\u001b[0m\n\u001b[1;32m   1518\u001b[0m                 \u001b[0;32mor\u001b[0m \u001b[0m_global_backward_pre_hooks\u001b[0m \u001b[0;32mor\u001b[0m \u001b[0m_global_backward_hooks\u001b[0m\u001b[0;34m\u001b[0m\u001b[0;34m\u001b[0m\u001b[0m\n\u001b[1;32m   1519\u001b[0m                 or _global_forward_hooks or _global_forward_pre_hooks):\n\u001b[0;32m-> 1520\u001b[0;31m             \u001b[0;32mreturn\u001b[0m \u001b[0mforward_call\u001b[0m\u001b[0;34m(\u001b[0m\u001b[0;34m*\u001b[0m\u001b[0margs\u001b[0m\u001b[0;34m,\u001b[0m \u001b[0;34m**\u001b[0m\u001b[0mkwargs\u001b[0m\u001b[0;34m)\u001b[0m\u001b[0;34m\u001b[0m\u001b[0;34m\u001b[0m\u001b[0m\n\u001b[0m\u001b[1;32m   1521\u001b[0m \u001b[0;34m\u001b[0m\u001b[0m\n\u001b[1;32m   1522\u001b[0m         \u001b[0;32mtry\u001b[0m\u001b[0;34m:\u001b[0m\u001b[0;34m\u001b[0m\u001b[0;34m\u001b[0m\u001b[0m\n",
            "\u001b[0;32m/usr/local/lib/python3.10/dist-packages/accelerate/utils/operations.py\u001b[0m in \u001b[0;36mforward\u001b[0;34m(*args, **kwargs)\u001b[0m\n\u001b[1;32m    823\u001b[0m \u001b[0;34m\u001b[0m\u001b[0m\n\u001b[1;32m    824\u001b[0m     \u001b[0;32mdef\u001b[0m \u001b[0mforward\u001b[0m\u001b[0;34m(\u001b[0m\u001b[0;34m*\u001b[0m\u001b[0margs\u001b[0m\u001b[0;34m,\u001b[0m \u001b[0;34m**\u001b[0m\u001b[0mkwargs\u001b[0m\u001b[0;34m)\u001b[0m\u001b[0;34m:\u001b[0m\u001b[0;34m\u001b[0m\u001b[0;34m\u001b[0m\u001b[0m\n\u001b[0;32m--> 825\u001b[0;31m         \u001b[0;32mreturn\u001b[0m \u001b[0mmodel_forward\u001b[0m\u001b[0;34m(\u001b[0m\u001b[0;34m*\u001b[0m\u001b[0margs\u001b[0m\u001b[0;34m,\u001b[0m \u001b[0;34m**\u001b[0m\u001b[0mkwargs\u001b[0m\u001b[0;34m)\u001b[0m\u001b[0;34m\u001b[0m\u001b[0;34m\u001b[0m\u001b[0m\n\u001b[0m\u001b[1;32m    826\u001b[0m \u001b[0;34m\u001b[0m\u001b[0m\n\u001b[1;32m    827\u001b[0m     \u001b[0;31m# To act like a decorator so that it can be popped when doing `extract_model_from_parallel`\u001b[0m\u001b[0;34m\u001b[0m\u001b[0;34m\u001b[0m\u001b[0m\n",
            "\u001b[0;32m/usr/local/lib/python3.10/dist-packages/accelerate/utils/operations.py\u001b[0m in \u001b[0;36m__call__\u001b[0;34m(self, *args, **kwargs)\u001b[0m\n\u001b[1;32m    811\u001b[0m \u001b[0;34m\u001b[0m\u001b[0m\n\u001b[1;32m    812\u001b[0m     \u001b[0;32mdef\u001b[0m \u001b[0m__call__\u001b[0m\u001b[0;34m(\u001b[0m\u001b[0mself\u001b[0m\u001b[0;34m,\u001b[0m \u001b[0;34m*\u001b[0m\u001b[0margs\u001b[0m\u001b[0;34m,\u001b[0m \u001b[0;34m**\u001b[0m\u001b[0mkwargs\u001b[0m\u001b[0;34m)\u001b[0m\u001b[0;34m:\u001b[0m\u001b[0;34m\u001b[0m\u001b[0;34m\u001b[0m\u001b[0m\n\u001b[0;32m--> 813\u001b[0;31m         \u001b[0;32mreturn\u001b[0m \u001b[0mconvert_to_fp32\u001b[0m\u001b[0;34m(\u001b[0m\u001b[0mself\u001b[0m\u001b[0;34m.\u001b[0m\u001b[0mmodel_forward\u001b[0m\u001b[0;34m(\u001b[0m\u001b[0;34m*\u001b[0m\u001b[0margs\u001b[0m\u001b[0;34m,\u001b[0m \u001b[0;34m**\u001b[0m\u001b[0mkwargs\u001b[0m\u001b[0;34m)\u001b[0m\u001b[0;34m)\u001b[0m\u001b[0;34m\u001b[0m\u001b[0;34m\u001b[0m\u001b[0m\n\u001b[0m\u001b[1;32m    814\u001b[0m \u001b[0;34m\u001b[0m\u001b[0m\n\u001b[1;32m    815\u001b[0m     \u001b[0;32mdef\u001b[0m \u001b[0m__getstate__\u001b[0m\u001b[0;34m(\u001b[0m\u001b[0mself\u001b[0m\u001b[0;34m)\u001b[0m\u001b[0;34m:\u001b[0m\u001b[0;34m\u001b[0m\u001b[0;34m\u001b[0m\u001b[0m\n",
            "\u001b[0;32m/usr/local/lib/python3.10/dist-packages/torch/amp/autocast_mode.py\u001b[0m in \u001b[0;36mdecorate_autocast\u001b[0;34m(*args, **kwargs)\u001b[0m\n\u001b[1;32m     14\u001b[0m     \u001b[0;32mdef\u001b[0m \u001b[0mdecorate_autocast\u001b[0m\u001b[0;34m(\u001b[0m\u001b[0;34m*\u001b[0m\u001b[0margs\u001b[0m\u001b[0;34m,\u001b[0m \u001b[0;34m**\u001b[0m\u001b[0mkwargs\u001b[0m\u001b[0;34m)\u001b[0m\u001b[0;34m:\u001b[0m\u001b[0;34m\u001b[0m\u001b[0;34m\u001b[0m\u001b[0m\n\u001b[1;32m     15\u001b[0m         \u001b[0;32mwith\u001b[0m \u001b[0mautocast_instance\u001b[0m\u001b[0;34m:\u001b[0m\u001b[0;34m\u001b[0m\u001b[0;34m\u001b[0m\u001b[0m\n\u001b[0;32m---> 16\u001b[0;31m             \u001b[0;32mreturn\u001b[0m \u001b[0mfunc\u001b[0m\u001b[0;34m(\u001b[0m\u001b[0;34m*\u001b[0m\u001b[0margs\u001b[0m\u001b[0;34m,\u001b[0m \u001b[0;34m**\u001b[0m\u001b[0mkwargs\u001b[0m\u001b[0;34m)\u001b[0m\u001b[0;34m\u001b[0m\u001b[0;34m\u001b[0m\u001b[0m\n\u001b[0m\u001b[1;32m     17\u001b[0m \u001b[0;34m\u001b[0m\u001b[0m\n\u001b[1;32m     18\u001b[0m     \u001b[0mdecorate_autocast\u001b[0m\u001b[0;34m.\u001b[0m\u001b[0m__script_unsupported\u001b[0m \u001b[0;34m=\u001b[0m \u001b[0;34m\"@autocast() decorator is not supported in script mode\"\u001b[0m  \u001b[0;31m# type: ignore[attr-defined]\u001b[0m\u001b[0;34m\u001b[0m\u001b[0;34m\u001b[0m\u001b[0m\n",
            "\u001b[0;32m/usr/local/lib/python3.10/dist-packages/transformers/models/led/modeling_led.py\u001b[0m in \u001b[0;36mforward\u001b[0;34m(self, input_ids, attention_mask, decoder_input_ids, decoder_attention_mask, head_mask, decoder_head_mask, cross_attn_head_mask, encoder_outputs, global_attention_mask, past_key_values, inputs_embeds, decoder_inputs_embeds, labels, use_cache, output_attentions, output_hidden_states, return_dict)\u001b[0m\n\u001b[1;32m   2402\u001b[0m                 )\n\u001b[1;32m   2403\u001b[0m \u001b[0;34m\u001b[0m\u001b[0m\n\u001b[0;32m-> 2404\u001b[0;31m         outputs = self.led(\n\u001b[0m\u001b[1;32m   2405\u001b[0m             \u001b[0minput_ids\u001b[0m\u001b[0;34m,\u001b[0m\u001b[0;34m\u001b[0m\u001b[0;34m\u001b[0m\u001b[0m\n\u001b[1;32m   2406\u001b[0m             \u001b[0mattention_mask\u001b[0m\u001b[0;34m=\u001b[0m\u001b[0mattention_mask\u001b[0m\u001b[0;34m,\u001b[0m\u001b[0;34m\u001b[0m\u001b[0;34m\u001b[0m\u001b[0m\n",
            "\u001b[0;32m/usr/local/lib/python3.10/dist-packages/torch/nn/modules/module.py\u001b[0m in \u001b[0;36m_wrapped_call_impl\u001b[0;34m(self, *args, **kwargs)\u001b[0m\n\u001b[1;32m   1509\u001b[0m             \u001b[0;32mreturn\u001b[0m \u001b[0mself\u001b[0m\u001b[0;34m.\u001b[0m\u001b[0m_compiled_call_impl\u001b[0m\u001b[0;34m(\u001b[0m\u001b[0;34m*\u001b[0m\u001b[0margs\u001b[0m\u001b[0;34m,\u001b[0m \u001b[0;34m**\u001b[0m\u001b[0mkwargs\u001b[0m\u001b[0;34m)\u001b[0m  \u001b[0;31m# type: ignore[misc]\u001b[0m\u001b[0;34m\u001b[0m\u001b[0;34m\u001b[0m\u001b[0m\n\u001b[1;32m   1510\u001b[0m         \u001b[0;32melse\u001b[0m\u001b[0;34m:\u001b[0m\u001b[0;34m\u001b[0m\u001b[0;34m\u001b[0m\u001b[0m\n\u001b[0;32m-> 1511\u001b[0;31m             \u001b[0;32mreturn\u001b[0m \u001b[0mself\u001b[0m\u001b[0;34m.\u001b[0m\u001b[0m_call_impl\u001b[0m\u001b[0;34m(\u001b[0m\u001b[0;34m*\u001b[0m\u001b[0margs\u001b[0m\u001b[0;34m,\u001b[0m \u001b[0;34m**\u001b[0m\u001b[0mkwargs\u001b[0m\u001b[0;34m)\u001b[0m\u001b[0;34m\u001b[0m\u001b[0;34m\u001b[0m\u001b[0m\n\u001b[0m\u001b[1;32m   1512\u001b[0m \u001b[0;34m\u001b[0m\u001b[0m\n\u001b[1;32m   1513\u001b[0m     \u001b[0;32mdef\u001b[0m \u001b[0m_call_impl\u001b[0m\u001b[0;34m(\u001b[0m\u001b[0mself\u001b[0m\u001b[0;34m,\u001b[0m \u001b[0;34m*\u001b[0m\u001b[0margs\u001b[0m\u001b[0;34m,\u001b[0m \u001b[0;34m**\u001b[0m\u001b[0mkwargs\u001b[0m\u001b[0;34m)\u001b[0m\u001b[0;34m:\u001b[0m\u001b[0;34m\u001b[0m\u001b[0;34m\u001b[0m\u001b[0m\n",
            "\u001b[0;32m/usr/local/lib/python3.10/dist-packages/torch/nn/modules/module.py\u001b[0m in \u001b[0;36m_call_impl\u001b[0;34m(self, *args, **kwargs)\u001b[0m\n\u001b[1;32m   1518\u001b[0m                 \u001b[0;32mor\u001b[0m \u001b[0m_global_backward_pre_hooks\u001b[0m \u001b[0;32mor\u001b[0m \u001b[0m_global_backward_hooks\u001b[0m\u001b[0;34m\u001b[0m\u001b[0;34m\u001b[0m\u001b[0m\n\u001b[1;32m   1519\u001b[0m                 or _global_forward_hooks or _global_forward_pre_hooks):\n\u001b[0;32m-> 1520\u001b[0;31m             \u001b[0;32mreturn\u001b[0m \u001b[0mforward_call\u001b[0m\u001b[0;34m(\u001b[0m\u001b[0;34m*\u001b[0m\u001b[0margs\u001b[0m\u001b[0;34m,\u001b[0m \u001b[0;34m**\u001b[0m\u001b[0mkwargs\u001b[0m\u001b[0;34m)\u001b[0m\u001b[0;34m\u001b[0m\u001b[0;34m\u001b[0m\u001b[0m\n\u001b[0m\u001b[1;32m   1521\u001b[0m \u001b[0;34m\u001b[0m\u001b[0m\n\u001b[1;32m   1522\u001b[0m         \u001b[0;32mtry\u001b[0m\u001b[0;34m:\u001b[0m\u001b[0;34m\u001b[0m\u001b[0;34m\u001b[0m\u001b[0m\n",
            "\u001b[0;32m/usr/local/lib/python3.10/dist-packages/transformers/models/led/modeling_led.py\u001b[0m in \u001b[0;36mforward\u001b[0;34m(self, input_ids, attention_mask, decoder_input_ids, decoder_attention_mask, head_mask, decoder_head_mask, cross_attn_head_mask, encoder_outputs, global_attention_mask, past_key_values, inputs_embeds, decoder_inputs_embeds, use_cache, output_attentions, output_hidden_states, return_dict)\u001b[0m\n\u001b[1;32m   2252\u001b[0m \u001b[0;34m\u001b[0m\u001b[0m\n\u001b[1;32m   2253\u001b[0m         \u001b[0;32mif\u001b[0m \u001b[0mencoder_outputs\u001b[0m \u001b[0;32mis\u001b[0m \u001b[0;32mNone\u001b[0m\u001b[0;34m:\u001b[0m\u001b[0;34m\u001b[0m\u001b[0;34m\u001b[0m\u001b[0m\n\u001b[0;32m-> 2254\u001b[0;31m             encoder_outputs = self.encoder(\n\u001b[0m\u001b[1;32m   2255\u001b[0m                 \u001b[0minput_ids\u001b[0m\u001b[0;34m=\u001b[0m\u001b[0minput_ids\u001b[0m\u001b[0;34m,\u001b[0m\u001b[0;34m\u001b[0m\u001b[0;34m\u001b[0m\u001b[0m\n\u001b[1;32m   2256\u001b[0m                 \u001b[0mattention_mask\u001b[0m\u001b[0;34m=\u001b[0m\u001b[0mattention_mask\u001b[0m\u001b[0;34m,\u001b[0m\u001b[0;34m\u001b[0m\u001b[0;34m\u001b[0m\u001b[0m\n",
            "\u001b[0;32m/usr/local/lib/python3.10/dist-packages/torch/nn/modules/module.py\u001b[0m in \u001b[0;36m_wrapped_call_impl\u001b[0;34m(self, *args, **kwargs)\u001b[0m\n\u001b[1;32m   1509\u001b[0m             \u001b[0;32mreturn\u001b[0m \u001b[0mself\u001b[0m\u001b[0;34m.\u001b[0m\u001b[0m_compiled_call_impl\u001b[0m\u001b[0;34m(\u001b[0m\u001b[0;34m*\u001b[0m\u001b[0margs\u001b[0m\u001b[0;34m,\u001b[0m \u001b[0;34m**\u001b[0m\u001b[0mkwargs\u001b[0m\u001b[0;34m)\u001b[0m  \u001b[0;31m# type: ignore[misc]\u001b[0m\u001b[0;34m\u001b[0m\u001b[0;34m\u001b[0m\u001b[0m\n\u001b[1;32m   1510\u001b[0m         \u001b[0;32melse\u001b[0m\u001b[0;34m:\u001b[0m\u001b[0;34m\u001b[0m\u001b[0;34m\u001b[0m\u001b[0m\n\u001b[0;32m-> 1511\u001b[0;31m             \u001b[0;32mreturn\u001b[0m \u001b[0mself\u001b[0m\u001b[0;34m.\u001b[0m\u001b[0m_call_impl\u001b[0m\u001b[0;34m(\u001b[0m\u001b[0;34m*\u001b[0m\u001b[0margs\u001b[0m\u001b[0;34m,\u001b[0m \u001b[0;34m**\u001b[0m\u001b[0mkwargs\u001b[0m\u001b[0;34m)\u001b[0m\u001b[0;34m\u001b[0m\u001b[0;34m\u001b[0m\u001b[0m\n\u001b[0m\u001b[1;32m   1512\u001b[0m \u001b[0;34m\u001b[0m\u001b[0m\n\u001b[1;32m   1513\u001b[0m     \u001b[0;32mdef\u001b[0m \u001b[0m_call_impl\u001b[0m\u001b[0;34m(\u001b[0m\u001b[0mself\u001b[0m\u001b[0;34m,\u001b[0m \u001b[0;34m*\u001b[0m\u001b[0margs\u001b[0m\u001b[0;34m,\u001b[0m \u001b[0;34m**\u001b[0m\u001b[0mkwargs\u001b[0m\u001b[0;34m)\u001b[0m\u001b[0;34m:\u001b[0m\u001b[0;34m\u001b[0m\u001b[0;34m\u001b[0m\u001b[0m\n",
            "\u001b[0;32m/usr/local/lib/python3.10/dist-packages/torch/nn/modules/module.py\u001b[0m in \u001b[0;36m_call_impl\u001b[0;34m(self, *args, **kwargs)\u001b[0m\n\u001b[1;32m   1518\u001b[0m                 \u001b[0;32mor\u001b[0m \u001b[0m_global_backward_pre_hooks\u001b[0m \u001b[0;32mor\u001b[0m \u001b[0m_global_backward_hooks\u001b[0m\u001b[0;34m\u001b[0m\u001b[0;34m\u001b[0m\u001b[0m\n\u001b[1;32m   1519\u001b[0m                 or _global_forward_hooks or _global_forward_pre_hooks):\n\u001b[0;32m-> 1520\u001b[0;31m             \u001b[0;32mreturn\u001b[0m \u001b[0mforward_call\u001b[0m\u001b[0;34m(\u001b[0m\u001b[0;34m*\u001b[0m\u001b[0margs\u001b[0m\u001b[0;34m,\u001b[0m \u001b[0;34m**\u001b[0m\u001b[0mkwargs\u001b[0m\u001b[0;34m)\u001b[0m\u001b[0;34m\u001b[0m\u001b[0;34m\u001b[0m\u001b[0m\n\u001b[0m\u001b[1;32m   1521\u001b[0m \u001b[0;34m\u001b[0m\u001b[0m\n\u001b[1;32m   1522\u001b[0m         \u001b[0;32mtry\u001b[0m\u001b[0;34m:\u001b[0m\u001b[0;34m\u001b[0m\u001b[0;34m\u001b[0m\u001b[0m\n",
            "\u001b[0;32m/usr/local/lib/python3.10/dist-packages/transformers/models/led/modeling_led.py\u001b[0m in \u001b[0;36mforward\u001b[0;34m(self, input_ids, attention_mask, global_attention_mask, head_mask, inputs_embeds, output_attentions, output_hidden_states, return_dict)\u001b[0m\n\u001b[1;32m   1859\u001b[0m             \u001b[0;32melse\u001b[0m\u001b[0;34m:\u001b[0m\u001b[0;34m\u001b[0m\u001b[0;34m\u001b[0m\u001b[0m\n\u001b[1;32m   1860\u001b[0m                 \u001b[0;32mif\u001b[0m \u001b[0mself\u001b[0m\u001b[0;34m.\u001b[0m\u001b[0mgradient_checkpointing\u001b[0m \u001b[0;32mand\u001b[0m \u001b[0mself\u001b[0m\u001b[0;34m.\u001b[0m\u001b[0mtraining\u001b[0m\u001b[0;34m:\u001b[0m\u001b[0;34m\u001b[0m\u001b[0;34m\u001b[0m\u001b[0m\n\u001b[0;32m-> 1861\u001b[0;31m                     layer_outputs = self._gradient_checkpointing_func(\n\u001b[0m\u001b[1;32m   1862\u001b[0m                         \u001b[0mencoder_layer\u001b[0m\u001b[0;34m.\u001b[0m\u001b[0m__call__\u001b[0m\u001b[0;34m,\u001b[0m\u001b[0;34m\u001b[0m\u001b[0;34m\u001b[0m\u001b[0m\n\u001b[1;32m   1863\u001b[0m                         \u001b[0mhidden_states\u001b[0m\u001b[0;34m,\u001b[0m\u001b[0;34m\u001b[0m\u001b[0;34m\u001b[0m\u001b[0m\n",
            "\u001b[0;32m/usr/local/lib/python3.10/dist-packages/torch/_compile.py\u001b[0m in \u001b[0;36minner\u001b[0;34m(*args, **kwargs)\u001b[0m\n\u001b[1;32m     22\u001b[0m             \u001b[0;32mimport\u001b[0m \u001b[0mtorch\u001b[0m\u001b[0;34m.\u001b[0m\u001b[0m_dynamo\u001b[0m\u001b[0;34m\u001b[0m\u001b[0;34m\u001b[0m\u001b[0m\n\u001b[1;32m     23\u001b[0m \u001b[0;34m\u001b[0m\u001b[0m\n\u001b[0;32m---> 24\u001b[0;31m             \u001b[0;32mreturn\u001b[0m \u001b[0mtorch\u001b[0m\u001b[0;34m.\u001b[0m\u001b[0m_dynamo\u001b[0m\u001b[0;34m.\u001b[0m\u001b[0mdisable\u001b[0m\u001b[0;34m(\u001b[0m\u001b[0mfn\u001b[0m\u001b[0;34m,\u001b[0m \u001b[0mrecursive\u001b[0m\u001b[0;34m)\u001b[0m\u001b[0;34m(\u001b[0m\u001b[0;34m*\u001b[0m\u001b[0margs\u001b[0m\u001b[0;34m,\u001b[0m \u001b[0;34m**\u001b[0m\u001b[0mkwargs\u001b[0m\u001b[0;34m)\u001b[0m\u001b[0;34m\u001b[0m\u001b[0;34m\u001b[0m\u001b[0m\n\u001b[0m\u001b[1;32m     25\u001b[0m \u001b[0;34m\u001b[0m\u001b[0m\n\u001b[1;32m     26\u001b[0m         \u001b[0;32mreturn\u001b[0m \u001b[0minner\u001b[0m\u001b[0;34m\u001b[0m\u001b[0;34m\u001b[0m\u001b[0m\n",
            "\u001b[0;32m/usr/local/lib/python3.10/dist-packages/torch/_dynamo/eval_frame.py\u001b[0m in \u001b[0;36m_fn\u001b[0;34m(*args, **kwargs)\u001b[0m\n\u001b[1;32m    487\u001b[0m                 \u001b[0mdynamo_config_ctx\u001b[0m\u001b[0;34m.\u001b[0m\u001b[0m__enter__\u001b[0m\u001b[0;34m(\u001b[0m\u001b[0;34m)\u001b[0m\u001b[0;34m\u001b[0m\u001b[0;34m\u001b[0m\u001b[0m\n\u001b[1;32m    488\u001b[0m             \u001b[0;32mtry\u001b[0m\u001b[0;34m:\u001b[0m\u001b[0;34m\u001b[0m\u001b[0;34m\u001b[0m\u001b[0m\n\u001b[0;32m--> 489\u001b[0;31m                 \u001b[0;32mreturn\u001b[0m \u001b[0mfn\u001b[0m\u001b[0;34m(\u001b[0m\u001b[0;34m*\u001b[0m\u001b[0margs\u001b[0m\u001b[0;34m,\u001b[0m \u001b[0;34m**\u001b[0m\u001b[0mkwargs\u001b[0m\u001b[0;34m)\u001b[0m\u001b[0;34m\u001b[0m\u001b[0;34m\u001b[0m\u001b[0m\n\u001b[0m\u001b[1;32m    490\u001b[0m             \u001b[0;32mfinally\u001b[0m\u001b[0;34m:\u001b[0m\u001b[0;34m\u001b[0m\u001b[0;34m\u001b[0m\u001b[0m\n\u001b[1;32m    491\u001b[0m                 \u001b[0mset_eval_frame\u001b[0m\u001b[0;34m(\u001b[0m\u001b[0mprior\u001b[0m\u001b[0;34m)\u001b[0m\u001b[0;34m\u001b[0m\u001b[0;34m\u001b[0m\u001b[0m\n",
            "\u001b[0;32m/usr/local/lib/python3.10/dist-packages/torch/_dynamo/external_utils.py\u001b[0m in \u001b[0;36minner\u001b[0;34m(*args, **kwargs)\u001b[0m\n\u001b[1;32m     15\u001b[0m     \u001b[0;34m@\u001b[0m\u001b[0mfunctools\u001b[0m\u001b[0;34m.\u001b[0m\u001b[0mwraps\u001b[0m\u001b[0;34m(\u001b[0m\u001b[0mfn\u001b[0m\u001b[0;34m)\u001b[0m\u001b[0;34m\u001b[0m\u001b[0;34m\u001b[0m\u001b[0m\n\u001b[1;32m     16\u001b[0m     \u001b[0;32mdef\u001b[0m \u001b[0minner\u001b[0m\u001b[0;34m(\u001b[0m\u001b[0;34m*\u001b[0m\u001b[0margs\u001b[0m\u001b[0;34m,\u001b[0m \u001b[0;34m**\u001b[0m\u001b[0mkwargs\u001b[0m\u001b[0;34m)\u001b[0m\u001b[0;34m:\u001b[0m\u001b[0;34m\u001b[0m\u001b[0;34m\u001b[0m\u001b[0m\n\u001b[0;32m---> 17\u001b[0;31m         \u001b[0;32mreturn\u001b[0m \u001b[0mfn\u001b[0m\u001b[0;34m(\u001b[0m\u001b[0;34m*\u001b[0m\u001b[0margs\u001b[0m\u001b[0;34m,\u001b[0m \u001b[0;34m**\u001b[0m\u001b[0mkwargs\u001b[0m\u001b[0;34m)\u001b[0m\u001b[0;34m\u001b[0m\u001b[0;34m\u001b[0m\u001b[0m\n\u001b[0m\u001b[1;32m     18\u001b[0m \u001b[0;34m\u001b[0m\u001b[0m\n\u001b[1;32m     19\u001b[0m     \u001b[0;32mreturn\u001b[0m \u001b[0minner\u001b[0m\u001b[0;34m\u001b[0m\u001b[0;34m\u001b[0m\u001b[0m\n",
            "\u001b[0;32m/usr/local/lib/python3.10/dist-packages/torch/utils/checkpoint.py\u001b[0m in \u001b[0;36mcheckpoint\u001b[0;34m(function, use_reentrant, context_fn, determinism_check, debug, *args, **kwargs)\u001b[0m\n\u001b[1;32m    480\u001b[0m                 \u001b[0;34m\"use_reentrant=False.\"\u001b[0m\u001b[0;34m\u001b[0m\u001b[0;34m\u001b[0m\u001b[0m\n\u001b[1;32m    481\u001b[0m             )\n\u001b[0;32m--> 482\u001b[0;31m         \u001b[0;32mreturn\u001b[0m \u001b[0mCheckpointFunction\u001b[0m\u001b[0;34m.\u001b[0m\u001b[0mapply\u001b[0m\u001b[0;34m(\u001b[0m\u001b[0mfunction\u001b[0m\u001b[0;34m,\u001b[0m \u001b[0mpreserve\u001b[0m\u001b[0;34m,\u001b[0m \u001b[0;34m*\u001b[0m\u001b[0margs\u001b[0m\u001b[0;34m)\u001b[0m\u001b[0;34m\u001b[0m\u001b[0;34m\u001b[0m\u001b[0m\n\u001b[0m\u001b[1;32m    483\u001b[0m     \u001b[0;32melse\u001b[0m\u001b[0;34m:\u001b[0m\u001b[0;34m\u001b[0m\u001b[0;34m\u001b[0m\u001b[0m\n\u001b[1;32m    484\u001b[0m         gen = _checkpoint_without_reentrant_generator(\n",
            "\u001b[0;32m/usr/local/lib/python3.10/dist-packages/torch/autograd/function.py\u001b[0m in \u001b[0;36mapply\u001b[0;34m(cls, *args, **kwargs)\u001b[0m\n\u001b[1;32m    551\u001b[0m             \u001b[0;31m# See NOTE: [functorch vjp and autograd interaction]\u001b[0m\u001b[0;34m\u001b[0m\u001b[0;34m\u001b[0m\u001b[0m\n\u001b[1;32m    552\u001b[0m             \u001b[0margs\u001b[0m \u001b[0;34m=\u001b[0m \u001b[0m_functorch\u001b[0m\u001b[0;34m.\u001b[0m\u001b[0mutils\u001b[0m\u001b[0;34m.\u001b[0m\u001b[0munwrap_dead_wrappers\u001b[0m\u001b[0;34m(\u001b[0m\u001b[0margs\u001b[0m\u001b[0;34m)\u001b[0m\u001b[0;34m\u001b[0m\u001b[0;34m\u001b[0m\u001b[0m\n\u001b[0;32m--> 553\u001b[0;31m             \u001b[0;32mreturn\u001b[0m \u001b[0msuper\u001b[0m\u001b[0;34m(\u001b[0m\u001b[0;34m)\u001b[0m\u001b[0;34m.\u001b[0m\u001b[0mapply\u001b[0m\u001b[0;34m(\u001b[0m\u001b[0;34m*\u001b[0m\u001b[0margs\u001b[0m\u001b[0;34m,\u001b[0m \u001b[0;34m**\u001b[0m\u001b[0mkwargs\u001b[0m\u001b[0;34m)\u001b[0m  \u001b[0;31m# type: ignore[misc]\u001b[0m\u001b[0;34m\u001b[0m\u001b[0;34m\u001b[0m\u001b[0m\n\u001b[0m\u001b[1;32m    554\u001b[0m \u001b[0;34m\u001b[0m\u001b[0m\n\u001b[1;32m    555\u001b[0m         \u001b[0;32mif\u001b[0m \u001b[0;32mnot\u001b[0m \u001b[0mis_setup_ctx_defined\u001b[0m\u001b[0;34m:\u001b[0m\u001b[0;34m\u001b[0m\u001b[0;34m\u001b[0m\u001b[0m\n",
            "\u001b[0;32m/usr/local/lib/python3.10/dist-packages/torch/utils/checkpoint.py\u001b[0m in \u001b[0;36mforward\u001b[0;34m(ctx, run_function, preserve_rng_state, *args)\u001b[0m\n\u001b[1;32m    259\u001b[0m \u001b[0;34m\u001b[0m\u001b[0m\n\u001b[1;32m    260\u001b[0m         \u001b[0;32mwith\u001b[0m \u001b[0mtorch\u001b[0m\u001b[0;34m.\u001b[0m\u001b[0mno_grad\u001b[0m\u001b[0;34m(\u001b[0m\u001b[0;34m)\u001b[0m\u001b[0;34m:\u001b[0m\u001b[0;34m\u001b[0m\u001b[0;34m\u001b[0m\u001b[0m\n\u001b[0;32m--> 261\u001b[0;31m             \u001b[0moutputs\u001b[0m \u001b[0;34m=\u001b[0m \u001b[0mrun_function\u001b[0m\u001b[0;34m(\u001b[0m\u001b[0;34m*\u001b[0m\u001b[0margs\u001b[0m\u001b[0;34m)\u001b[0m\u001b[0;34m\u001b[0m\u001b[0;34m\u001b[0m\u001b[0m\n\u001b[0m\u001b[1;32m    262\u001b[0m         \u001b[0;32mreturn\u001b[0m \u001b[0moutputs\u001b[0m\u001b[0;34m\u001b[0m\u001b[0;34m\u001b[0m\u001b[0m\n\u001b[1;32m    263\u001b[0m \u001b[0;34m\u001b[0m\u001b[0m\n",
            "\u001b[0;32m/usr/local/lib/python3.10/dist-packages/torch/nn/modules/module.py\u001b[0m in \u001b[0;36m_wrapped_call_impl\u001b[0;34m(self, *args, **kwargs)\u001b[0m\n\u001b[1;32m   1509\u001b[0m             \u001b[0;32mreturn\u001b[0m \u001b[0mself\u001b[0m\u001b[0;34m.\u001b[0m\u001b[0m_compiled_call_impl\u001b[0m\u001b[0;34m(\u001b[0m\u001b[0;34m*\u001b[0m\u001b[0margs\u001b[0m\u001b[0;34m,\u001b[0m \u001b[0;34m**\u001b[0m\u001b[0mkwargs\u001b[0m\u001b[0;34m)\u001b[0m  \u001b[0;31m# type: ignore[misc]\u001b[0m\u001b[0;34m\u001b[0m\u001b[0;34m\u001b[0m\u001b[0m\n\u001b[1;32m   1510\u001b[0m         \u001b[0;32melse\u001b[0m\u001b[0;34m:\u001b[0m\u001b[0;34m\u001b[0m\u001b[0;34m\u001b[0m\u001b[0m\n\u001b[0;32m-> 1511\u001b[0;31m             \u001b[0;32mreturn\u001b[0m \u001b[0mself\u001b[0m\u001b[0;34m.\u001b[0m\u001b[0m_call_impl\u001b[0m\u001b[0;34m(\u001b[0m\u001b[0;34m*\u001b[0m\u001b[0margs\u001b[0m\u001b[0;34m,\u001b[0m \u001b[0;34m**\u001b[0m\u001b[0mkwargs\u001b[0m\u001b[0;34m)\u001b[0m\u001b[0;34m\u001b[0m\u001b[0;34m\u001b[0m\u001b[0m\n\u001b[0m\u001b[1;32m   1512\u001b[0m \u001b[0;34m\u001b[0m\u001b[0m\n\u001b[1;32m   1513\u001b[0m     \u001b[0;32mdef\u001b[0m \u001b[0m_call_impl\u001b[0m\u001b[0;34m(\u001b[0m\u001b[0mself\u001b[0m\u001b[0;34m,\u001b[0m \u001b[0;34m*\u001b[0m\u001b[0margs\u001b[0m\u001b[0;34m,\u001b[0m \u001b[0;34m**\u001b[0m\u001b[0mkwargs\u001b[0m\u001b[0;34m)\u001b[0m\u001b[0;34m:\u001b[0m\u001b[0;34m\u001b[0m\u001b[0;34m\u001b[0m\u001b[0m\n",
            "\u001b[0;32m/usr/local/lib/python3.10/dist-packages/torch/nn/modules/module.py\u001b[0m in \u001b[0;36m_call_impl\u001b[0;34m(self, *args, **kwargs)\u001b[0m\n\u001b[1;32m   1518\u001b[0m                 \u001b[0;32mor\u001b[0m \u001b[0m_global_backward_pre_hooks\u001b[0m \u001b[0;32mor\u001b[0m \u001b[0m_global_backward_hooks\u001b[0m\u001b[0;34m\u001b[0m\u001b[0;34m\u001b[0m\u001b[0m\n\u001b[1;32m   1519\u001b[0m                 or _global_forward_hooks or _global_forward_pre_hooks):\n\u001b[0;32m-> 1520\u001b[0;31m             \u001b[0;32mreturn\u001b[0m \u001b[0mforward_call\u001b[0m\u001b[0;34m(\u001b[0m\u001b[0;34m*\u001b[0m\u001b[0margs\u001b[0m\u001b[0;34m,\u001b[0m \u001b[0;34m**\u001b[0m\u001b[0mkwargs\u001b[0m\u001b[0;34m)\u001b[0m\u001b[0;34m\u001b[0m\u001b[0;34m\u001b[0m\u001b[0m\n\u001b[0m\u001b[1;32m   1521\u001b[0m \u001b[0;34m\u001b[0m\u001b[0m\n\u001b[1;32m   1522\u001b[0m         \u001b[0;32mtry\u001b[0m\u001b[0;34m:\u001b[0m\u001b[0;34m\u001b[0m\u001b[0;34m\u001b[0m\u001b[0m\n",
            "\u001b[0;32m/usr/local/lib/python3.10/dist-packages/transformers/models/led/modeling_led.py\u001b[0m in \u001b[0;36mforward\u001b[0;34m(self, hidden_states, attention_mask, layer_head_mask, is_index_masked, is_index_global_attn, is_global_attn, output_attentions)\u001b[0m\n\u001b[1;32m    956\u001b[0m         \"\"\"\n\u001b[1;32m    957\u001b[0m         \u001b[0mresidual\u001b[0m \u001b[0;34m=\u001b[0m \u001b[0mhidden_states\u001b[0m\u001b[0;34m\u001b[0m\u001b[0;34m\u001b[0m\u001b[0m\n\u001b[0;32m--> 958\u001b[0;31m         attn_outputs = self.self_attn(\n\u001b[0m\u001b[1;32m    959\u001b[0m             \u001b[0mhidden_states\u001b[0m\u001b[0;34m=\u001b[0m\u001b[0mhidden_states\u001b[0m\u001b[0;34m,\u001b[0m\u001b[0;34m\u001b[0m\u001b[0;34m\u001b[0m\u001b[0m\n\u001b[1;32m    960\u001b[0m             \u001b[0mattention_mask\u001b[0m\u001b[0;34m=\u001b[0m\u001b[0mattention_mask\u001b[0m\u001b[0;34m,\u001b[0m\u001b[0;34m\u001b[0m\u001b[0;34m\u001b[0m\u001b[0m\n",
            "\u001b[0;32m/usr/local/lib/python3.10/dist-packages/torch/nn/modules/module.py\u001b[0m in \u001b[0;36m_wrapped_call_impl\u001b[0;34m(self, *args, **kwargs)\u001b[0m\n\u001b[1;32m   1509\u001b[0m             \u001b[0;32mreturn\u001b[0m \u001b[0mself\u001b[0m\u001b[0;34m.\u001b[0m\u001b[0m_compiled_call_impl\u001b[0m\u001b[0;34m(\u001b[0m\u001b[0;34m*\u001b[0m\u001b[0margs\u001b[0m\u001b[0;34m,\u001b[0m \u001b[0;34m**\u001b[0m\u001b[0mkwargs\u001b[0m\u001b[0;34m)\u001b[0m  \u001b[0;31m# type: ignore[misc]\u001b[0m\u001b[0;34m\u001b[0m\u001b[0;34m\u001b[0m\u001b[0m\n\u001b[1;32m   1510\u001b[0m         \u001b[0;32melse\u001b[0m\u001b[0;34m:\u001b[0m\u001b[0;34m\u001b[0m\u001b[0;34m\u001b[0m\u001b[0m\n\u001b[0;32m-> 1511\u001b[0;31m             \u001b[0;32mreturn\u001b[0m \u001b[0mself\u001b[0m\u001b[0;34m.\u001b[0m\u001b[0m_call_impl\u001b[0m\u001b[0;34m(\u001b[0m\u001b[0;34m*\u001b[0m\u001b[0margs\u001b[0m\u001b[0;34m,\u001b[0m \u001b[0;34m**\u001b[0m\u001b[0mkwargs\u001b[0m\u001b[0;34m)\u001b[0m\u001b[0;34m\u001b[0m\u001b[0;34m\u001b[0m\u001b[0m\n\u001b[0m\u001b[1;32m   1512\u001b[0m \u001b[0;34m\u001b[0m\u001b[0m\n\u001b[1;32m   1513\u001b[0m     \u001b[0;32mdef\u001b[0m \u001b[0m_call_impl\u001b[0m\u001b[0;34m(\u001b[0m\u001b[0mself\u001b[0m\u001b[0;34m,\u001b[0m \u001b[0;34m*\u001b[0m\u001b[0margs\u001b[0m\u001b[0;34m,\u001b[0m \u001b[0;34m**\u001b[0m\u001b[0mkwargs\u001b[0m\u001b[0;34m)\u001b[0m\u001b[0;34m:\u001b[0m\u001b[0;34m\u001b[0m\u001b[0;34m\u001b[0m\u001b[0m\n",
            "\u001b[0;32m/usr/local/lib/python3.10/dist-packages/torch/nn/modules/module.py\u001b[0m in \u001b[0;36m_call_impl\u001b[0;34m(self, *args, **kwargs)\u001b[0m\n\u001b[1;32m   1518\u001b[0m                 \u001b[0;32mor\u001b[0m \u001b[0m_global_backward_pre_hooks\u001b[0m \u001b[0;32mor\u001b[0m \u001b[0m_global_backward_hooks\u001b[0m\u001b[0;34m\u001b[0m\u001b[0;34m\u001b[0m\u001b[0m\n\u001b[1;32m   1519\u001b[0m                 or _global_forward_hooks or _global_forward_pre_hooks):\n\u001b[0;32m-> 1520\u001b[0;31m             \u001b[0;32mreturn\u001b[0m \u001b[0mforward_call\u001b[0m\u001b[0;34m(\u001b[0m\u001b[0;34m*\u001b[0m\u001b[0margs\u001b[0m\u001b[0;34m,\u001b[0m \u001b[0;34m**\u001b[0m\u001b[0mkwargs\u001b[0m\u001b[0;34m)\u001b[0m\u001b[0;34m\u001b[0m\u001b[0;34m\u001b[0m\u001b[0m\n\u001b[0m\u001b[1;32m   1521\u001b[0m \u001b[0;34m\u001b[0m\u001b[0m\n\u001b[1;32m   1522\u001b[0m         \u001b[0;32mtry\u001b[0m\u001b[0;34m:\u001b[0m\u001b[0;34m\u001b[0m\u001b[0;34m\u001b[0m\u001b[0m\n",
            "\u001b[0;32m/usr/local/lib/python3.10/dist-packages/transformers/models/led/modeling_led.py\u001b[0m in \u001b[0;36mforward\u001b[0;34m(self, hidden_states, attention_mask, layer_head_mask, is_index_masked, is_index_global_attn, is_global_attn, output_attentions)\u001b[0m\n\u001b[1;32m    765\u001b[0m         \u001b[0;34m\"\"\"Input shape: Batch x Time x Channel\"\"\"\u001b[0m\u001b[0;34m\u001b[0m\u001b[0;34m\u001b[0m\u001b[0m\n\u001b[1;32m    766\u001b[0m \u001b[0;34m\u001b[0m\u001b[0m\n\u001b[0;32m--> 767\u001b[0;31m         self_outputs = self.longformer_self_attn(\n\u001b[0m\u001b[1;32m    768\u001b[0m             \u001b[0mhidden_states\u001b[0m\u001b[0;34m=\u001b[0m\u001b[0mhidden_states\u001b[0m\u001b[0;34m,\u001b[0m\u001b[0;34m\u001b[0m\u001b[0;34m\u001b[0m\u001b[0m\n\u001b[1;32m    769\u001b[0m             \u001b[0mattention_mask\u001b[0m\u001b[0;34m=\u001b[0m\u001b[0mattention_mask\u001b[0m\u001b[0;34m,\u001b[0m\u001b[0;34m\u001b[0m\u001b[0;34m\u001b[0m\u001b[0m\n",
            "\u001b[0;32m/usr/local/lib/python3.10/dist-packages/torch/nn/modules/module.py\u001b[0m in \u001b[0;36m_wrapped_call_impl\u001b[0;34m(self, *args, **kwargs)\u001b[0m\n\u001b[1;32m   1509\u001b[0m             \u001b[0;32mreturn\u001b[0m \u001b[0mself\u001b[0m\u001b[0;34m.\u001b[0m\u001b[0m_compiled_call_impl\u001b[0m\u001b[0;34m(\u001b[0m\u001b[0;34m*\u001b[0m\u001b[0margs\u001b[0m\u001b[0;34m,\u001b[0m \u001b[0;34m**\u001b[0m\u001b[0mkwargs\u001b[0m\u001b[0;34m)\u001b[0m  \u001b[0;31m# type: ignore[misc]\u001b[0m\u001b[0;34m\u001b[0m\u001b[0;34m\u001b[0m\u001b[0m\n\u001b[1;32m   1510\u001b[0m         \u001b[0;32melse\u001b[0m\u001b[0;34m:\u001b[0m\u001b[0;34m\u001b[0m\u001b[0;34m\u001b[0m\u001b[0m\n\u001b[0;32m-> 1511\u001b[0;31m             \u001b[0;32mreturn\u001b[0m \u001b[0mself\u001b[0m\u001b[0;34m.\u001b[0m\u001b[0m_call_impl\u001b[0m\u001b[0;34m(\u001b[0m\u001b[0;34m*\u001b[0m\u001b[0margs\u001b[0m\u001b[0;34m,\u001b[0m \u001b[0;34m**\u001b[0m\u001b[0mkwargs\u001b[0m\u001b[0;34m)\u001b[0m\u001b[0;34m\u001b[0m\u001b[0;34m\u001b[0m\u001b[0m\n\u001b[0m\u001b[1;32m   1512\u001b[0m \u001b[0;34m\u001b[0m\u001b[0m\n\u001b[1;32m   1513\u001b[0m     \u001b[0;32mdef\u001b[0m \u001b[0m_call_impl\u001b[0m\u001b[0;34m(\u001b[0m\u001b[0mself\u001b[0m\u001b[0;34m,\u001b[0m \u001b[0;34m*\u001b[0m\u001b[0margs\u001b[0m\u001b[0;34m,\u001b[0m \u001b[0;34m**\u001b[0m\u001b[0mkwargs\u001b[0m\u001b[0;34m)\u001b[0m\u001b[0;34m:\u001b[0m\u001b[0;34m\u001b[0m\u001b[0;34m\u001b[0m\u001b[0m\n",
            "\u001b[0;32m/usr/local/lib/python3.10/dist-packages/torch/nn/modules/module.py\u001b[0m in \u001b[0;36m_call_impl\u001b[0;34m(self, *args, **kwargs)\u001b[0m\n\u001b[1;32m   1518\u001b[0m                 \u001b[0;32mor\u001b[0m \u001b[0m_global_backward_pre_hooks\u001b[0m \u001b[0;32mor\u001b[0m \u001b[0m_global_backward_hooks\u001b[0m\u001b[0;34m\u001b[0m\u001b[0;34m\u001b[0m\u001b[0m\n\u001b[1;32m   1519\u001b[0m                 or _global_forward_hooks or _global_forward_pre_hooks):\n\u001b[0;32m-> 1520\u001b[0;31m             \u001b[0;32mreturn\u001b[0m \u001b[0mforward_call\u001b[0m\u001b[0;34m(\u001b[0m\u001b[0;34m*\u001b[0m\u001b[0margs\u001b[0m\u001b[0;34m,\u001b[0m \u001b[0;34m**\u001b[0m\u001b[0mkwargs\u001b[0m\u001b[0;34m)\u001b[0m\u001b[0;34m\u001b[0m\u001b[0;34m\u001b[0m\u001b[0m\n\u001b[0m\u001b[1;32m   1521\u001b[0m \u001b[0;34m\u001b[0m\u001b[0m\n\u001b[1;32m   1522\u001b[0m         \u001b[0;32mtry\u001b[0m\u001b[0;34m:\u001b[0m\u001b[0;34m\u001b[0m\u001b[0;34m\u001b[0m\u001b[0m\n",
            "\u001b[0;32m/usr/local/lib/python3.10/dist-packages/transformers/models/led/modeling_led.py\u001b[0m in \u001b[0;36mforward\u001b[0;34m(self, hidden_states, attention_mask, layer_head_mask, is_index_masked, is_index_global_attn, is_global_attn, output_attentions)\u001b[0m\n\u001b[1;32m    266\u001b[0m         \u001b[0;32mif\u001b[0m \u001b[0mis_global_attn\u001b[0m\u001b[0;34m:\u001b[0m\u001b[0;34m\u001b[0m\u001b[0;34m\u001b[0m\u001b[0m\n\u001b[1;32m    267\u001b[0m             \u001b[0;31m# compute sum of global and local attn\u001b[0m\u001b[0;34m\u001b[0m\u001b[0;34m\u001b[0m\u001b[0m\n\u001b[0;32m--> 268\u001b[0;31m             attn_output = self._compute_attn_output_with_global_indices(\n\u001b[0m\u001b[1;32m    269\u001b[0m                 \u001b[0mvalue_vectors\u001b[0m\u001b[0;34m=\u001b[0m\u001b[0mvalue_vectors\u001b[0m\u001b[0;34m,\u001b[0m\u001b[0;34m\u001b[0m\u001b[0;34m\u001b[0m\u001b[0m\n\u001b[1;32m    270\u001b[0m                 \u001b[0mattn_probs\u001b[0m\u001b[0;34m=\u001b[0m\u001b[0mattn_probs\u001b[0m\u001b[0;34m,\u001b[0m\u001b[0;34m\u001b[0m\u001b[0;34m\u001b[0m\u001b[0m\n",
            "\u001b[0;32m/usr/local/lib/python3.10/dist-packages/transformers/models/led/modeling_led.py\u001b[0m in \u001b[0;36m_compute_attn_output_with_global_indices\u001b[0;34m(self, value_vectors, attn_probs, max_num_global_attn_indices, is_index_global_attn_nonzero, is_local_index_global_attn_nonzero)\u001b[0m\n\u001b[1;32m    623\u001b[0m         \u001b[0;31m# attn = torch.einsum('blhs,bshd->blhd', (selected_attn_probs, selected_v))\u001b[0m\u001b[0;34m\u001b[0m\u001b[0;34m\u001b[0m\u001b[0m\n\u001b[1;32m    624\u001b[0m         \u001b[0;31m# compute attn output only global\u001b[0m\u001b[0;34m\u001b[0m\u001b[0;34m\u001b[0m\u001b[0m\n\u001b[0;32m--> 625\u001b[0;31m         attn_output_only_global = torch.matmul(\n\u001b[0m\u001b[1;32m    626\u001b[0m             \u001b[0mattn_probs_only_global\u001b[0m\u001b[0;34m.\u001b[0m\u001b[0mtranspose\u001b[0m\u001b[0;34m(\u001b[0m\u001b[0;36m1\u001b[0m\u001b[0;34m,\u001b[0m \u001b[0;36m2\u001b[0m\u001b[0;34m)\u001b[0m\u001b[0;34m.\u001b[0m\u001b[0mclone\u001b[0m\u001b[0;34m(\u001b[0m\u001b[0;34m)\u001b[0m\u001b[0;34m,\u001b[0m \u001b[0mvalue_vectors_only_global\u001b[0m\u001b[0;34m.\u001b[0m\u001b[0mtranspose\u001b[0m\u001b[0;34m(\u001b[0m\u001b[0;36m1\u001b[0m\u001b[0;34m,\u001b[0m \u001b[0;36m2\u001b[0m\u001b[0;34m)\u001b[0m\u001b[0;34m.\u001b[0m\u001b[0mclone\u001b[0m\u001b[0;34m(\u001b[0m\u001b[0;34m)\u001b[0m\u001b[0;34m\u001b[0m\u001b[0;34m\u001b[0m\u001b[0m\n\u001b[1;32m    627\u001b[0m         ).transpose(1, 2)\n",
            "\u001b[0;31mKeyboardInterrupt\u001b[0m: "
          ]
        }
      ],
      "source": [
        "trainer.train()\n",
        "save_to_dir = output_dir\n",
        "trainer.save_model(save_to_dir )"
      ]
    },
    {
      "cell_type": "code",
      "source": [
        "#check storage\n",
        "!df -h"
      ],
      "metadata": {
        "colab": {
          "base_uri": "https://localhost:8080/"
        },
        "id": "HQL1Jr7r_3Ip",
        "outputId": "b554c87c-2fdb-4d4a-c07d-851fa7ab05f7"
      },
      "execution_count": null,
      "outputs": [
        {
          "output_type": "stream",
          "name": "stdout",
          "text": [
            "Filesystem      Size  Used Avail Use% Mounted on\n",
            "overlay         202G   80G  122G  40% /\n",
            "tmpfs            64M     0   64M   0% /dev\n",
            "shm              41G  4.0K   41G   1% /dev/shm\n",
            "/dev/root       2.0G  1.1G  849M  57% /usr/sbin/docker-init\n",
            "/dev/sda1       242G  130G  113G  54% /opt/bin/.nvidia\n",
            "tmpfs            42G  2.5M   42G   1% /var/colab\n",
            "tmpfs            42G     0   42G   0% /proc/acpi\n",
            "tmpfs            42G     0   42G   0% /proc/scsi\n",
            "tmpfs            42G     0   42G   0% /sys/firmware\n"
          ]
        }
      ]
    },
    {
      "cell_type": "code",
      "source": [
        "#check your directory, if files are not there,\n",
        "#run drive flush to flush all local storage to your drive\n",
        "drive.flush_and_unmount()"
      ],
      "metadata": {
        "colab": {
          "base_uri": "https://localhost:8080/",
          "height": 294
        },
        "id": "9C6pF_u3_Txg",
        "outputId": "aa8baebc-6b87-4352-a603-025b2deaa618"
      },
      "execution_count": null,
      "outputs": [
        {
          "output_type": "error",
          "ename": "KeyboardInterrupt",
          "evalue": "",
          "traceback": [
            "\u001b[0;31m---------------------------------------------------------------------------\u001b[0m",
            "\u001b[0;31mKeyboardInterrupt\u001b[0m                         Traceback (most recent call last)",
            "\u001b[0;32m<ipython-input-39-7e7fc67cc157>\u001b[0m in \u001b[0;36m<cell line: 1>\u001b[0;34m()\u001b[0m\n\u001b[0;32m----> 1\u001b[0;31m \u001b[0mdrive\u001b[0m\u001b[0;34m.\u001b[0m\u001b[0mflush_and_unmount\u001b[0m\u001b[0;34m(\u001b[0m\u001b[0;34m)\u001b[0m\u001b[0;34m\u001b[0m\u001b[0;34m\u001b[0m\u001b[0m\n\u001b[0m",
            "\u001b[0;32m/usr/local/lib/python3.10/dist-packages/google/colab/drive.py\u001b[0m in \u001b[0;36mflush_and_unmount\u001b[0;34m(timeout_ms)\u001b[0m\n\u001b[1;32m     89\u001b[0m       \u001b[0mstderr\u001b[0m\u001b[0;34m=\u001b[0m\u001b[0m_subprocess\u001b[0m\u001b[0;34m.\u001b[0m\u001b[0mPIPE\u001b[0m\u001b[0;34m,\u001b[0m\u001b[0;34m\u001b[0m\u001b[0;34m\u001b[0m\u001b[0m\n\u001b[1;32m     90\u001b[0m   )\n\u001b[0;32m---> 91\u001b[0;31m   \u001b[0mout\u001b[0m\u001b[0;34m,\u001b[0m \u001b[0merr\u001b[0m \u001b[0;34m=\u001b[0m \u001b[0mp\u001b[0m\u001b[0;34m.\u001b[0m\u001b[0mcommunicate\u001b[0m\u001b[0;34m(\u001b[0m\u001b[0;34m)\u001b[0m\u001b[0;34m\u001b[0m\u001b[0;34m\u001b[0m\u001b[0m\n\u001b[0m\u001b[1;32m     92\u001b[0m   \u001b[0;32mif\u001b[0m \u001b[0mmount\u001b[0m\u001b[0;34m.\u001b[0m\u001b[0m_DEBUG\u001b[0m\u001b[0;34m:\u001b[0m  \u001b[0;31m# pylint:disable=protected-access\u001b[0m\u001b[0;34m\u001b[0m\u001b[0;34m\u001b[0m\u001b[0m\n\u001b[1;32m     93\u001b[0m     \u001b[0mprint\u001b[0m\u001b[0;34m(\u001b[0m\u001b[0;34m'flush_and_unmount: out: {}\\nerr: {}'\u001b[0m\u001b[0;34m.\u001b[0m\u001b[0mformat\u001b[0m\u001b[0;34m(\u001b[0m\u001b[0mout\u001b[0m\u001b[0;34m,\u001b[0m \u001b[0merr\u001b[0m\u001b[0;34m)\u001b[0m\u001b[0;34m)\u001b[0m\u001b[0;34m\u001b[0m\u001b[0;34m\u001b[0m\u001b[0m\n",
            "\u001b[0;32m/usr/lib/python3.10/subprocess.py\u001b[0m in \u001b[0;36mcommunicate\u001b[0;34m(self, input, timeout)\u001b[0m\n\u001b[1;32m   1152\u001b[0m \u001b[0;34m\u001b[0m\u001b[0m\n\u001b[1;32m   1153\u001b[0m             \u001b[0;32mtry\u001b[0m\u001b[0;34m:\u001b[0m\u001b[0;34m\u001b[0m\u001b[0;34m\u001b[0m\u001b[0m\n\u001b[0;32m-> 1154\u001b[0;31m                 \u001b[0mstdout\u001b[0m\u001b[0;34m,\u001b[0m \u001b[0mstderr\u001b[0m \u001b[0;34m=\u001b[0m \u001b[0mself\u001b[0m\u001b[0;34m.\u001b[0m\u001b[0m_communicate\u001b[0m\u001b[0;34m(\u001b[0m\u001b[0minput\u001b[0m\u001b[0;34m,\u001b[0m \u001b[0mendtime\u001b[0m\u001b[0;34m,\u001b[0m \u001b[0mtimeout\u001b[0m\u001b[0;34m)\u001b[0m\u001b[0;34m\u001b[0m\u001b[0;34m\u001b[0m\u001b[0m\n\u001b[0m\u001b[1;32m   1155\u001b[0m             \u001b[0;32mexcept\u001b[0m \u001b[0mKeyboardInterrupt\u001b[0m\u001b[0;34m:\u001b[0m\u001b[0;34m\u001b[0m\u001b[0;34m\u001b[0m\u001b[0m\n\u001b[1;32m   1156\u001b[0m                 \u001b[0;31m# https://bugs.python.org/issue25942\u001b[0m\u001b[0;34m\u001b[0m\u001b[0;34m\u001b[0m\u001b[0m\n",
            "\u001b[0;32m/usr/lib/python3.10/subprocess.py\u001b[0m in \u001b[0;36m_communicate\u001b[0;34m(self, input, endtime, orig_timeout)\u001b[0m\n\u001b[1;32m   2019\u001b[0m                             'failed to raise TimeoutExpired.')\n\u001b[1;32m   2020\u001b[0m \u001b[0;34m\u001b[0m\u001b[0m\n\u001b[0;32m-> 2021\u001b[0;31m                     \u001b[0mready\u001b[0m \u001b[0;34m=\u001b[0m \u001b[0mselector\u001b[0m\u001b[0;34m.\u001b[0m\u001b[0mselect\u001b[0m\u001b[0;34m(\u001b[0m\u001b[0mtimeout\u001b[0m\u001b[0;34m)\u001b[0m\u001b[0;34m\u001b[0m\u001b[0;34m\u001b[0m\u001b[0m\n\u001b[0m\u001b[1;32m   2022\u001b[0m                     \u001b[0mself\u001b[0m\u001b[0;34m.\u001b[0m\u001b[0m_check_timeout\u001b[0m\u001b[0;34m(\u001b[0m\u001b[0mendtime\u001b[0m\u001b[0;34m,\u001b[0m \u001b[0morig_timeout\u001b[0m\u001b[0;34m,\u001b[0m \u001b[0mstdout\u001b[0m\u001b[0;34m,\u001b[0m \u001b[0mstderr\u001b[0m\u001b[0;34m)\u001b[0m\u001b[0;34m\u001b[0m\u001b[0;34m\u001b[0m\u001b[0m\n\u001b[1;32m   2023\u001b[0m \u001b[0;34m\u001b[0m\u001b[0m\n",
            "\u001b[0;32m/usr/lib/python3.10/selectors.py\u001b[0m in \u001b[0;36mselect\u001b[0;34m(self, timeout)\u001b[0m\n\u001b[1;32m    414\u001b[0m         \u001b[0mready\u001b[0m \u001b[0;34m=\u001b[0m \u001b[0;34m[\u001b[0m\u001b[0;34m]\u001b[0m\u001b[0;34m\u001b[0m\u001b[0;34m\u001b[0m\u001b[0m\n\u001b[1;32m    415\u001b[0m         \u001b[0;32mtry\u001b[0m\u001b[0;34m:\u001b[0m\u001b[0;34m\u001b[0m\u001b[0;34m\u001b[0m\u001b[0m\n\u001b[0;32m--> 416\u001b[0;31m             \u001b[0mfd_event_list\u001b[0m \u001b[0;34m=\u001b[0m \u001b[0mself\u001b[0m\u001b[0;34m.\u001b[0m\u001b[0m_selector\u001b[0m\u001b[0;34m.\u001b[0m\u001b[0mpoll\u001b[0m\u001b[0;34m(\u001b[0m\u001b[0mtimeout\u001b[0m\u001b[0;34m)\u001b[0m\u001b[0;34m\u001b[0m\u001b[0;34m\u001b[0m\u001b[0m\n\u001b[0m\u001b[1;32m    417\u001b[0m         \u001b[0;32mexcept\u001b[0m \u001b[0mInterruptedError\u001b[0m\u001b[0;34m:\u001b[0m\u001b[0;34m\u001b[0m\u001b[0;34m\u001b[0m\u001b[0m\n\u001b[1;32m    418\u001b[0m             \u001b[0;32mreturn\u001b[0m \u001b[0mready\u001b[0m\u001b[0;34m\u001b[0m\u001b[0;34m\u001b[0m\u001b[0m\n",
            "\u001b[0;31mKeyboardInterrupt\u001b[0m: "
          ]
        }
      ]
    },
    {
      "cell_type": "code",
      "source": [
        "import torch\n",
        "!nvidia-smi\n",
        "del led\n",
        "del trainer\n",
        "torch.cuda.empty_cache()\n",
        "!nvidia-smi"
      ],
      "metadata": {
        "colab": {
          "base_uri": "https://localhost:8080/",
          "height": 540
        },
        "id": "XSHpCaxR1j43",
        "outputId": "40903645-c662-4719-92ce-9908ef45f0a6"
      },
      "execution_count": null,
      "outputs": [
        {
          "output_type": "stream",
          "name": "stdout",
          "text": [
            "Sun Apr  7 23:13:32 2024       \n",
            "+---------------------------------------------------------------------------------------+\n",
            "| NVIDIA-SMI 535.104.05             Driver Version: 535.104.05   CUDA Version: 12.2     |\n",
            "|-----------------------------------------+----------------------+----------------------+\n",
            "| GPU  Name                 Persistence-M | Bus-Id        Disp.A | Volatile Uncorr. ECC |\n",
            "| Fan  Temp   Perf          Pwr:Usage/Cap |         Memory-Usage | GPU-Util  Compute M. |\n",
            "|                                         |                      |               MIG M. |\n",
            "|=========================================+======================+======================|\n",
            "|   0  NVIDIA A100-SXM4-40GB          Off | 00000000:00:04.0 Off |                    0 |\n",
            "| N/A   31C    P0              52W / 400W |  23729MiB / 40960MiB |      0%      Default |\n",
            "|                                         |                      |             Disabled |\n",
            "+-----------------------------------------+----------------------+----------------------+\n",
            "                                                                                         \n",
            "+---------------------------------------------------------------------------------------+\n",
            "| Processes:                                                                            |\n",
            "|  GPU   GI   CI        PID   Type   Process name                            GPU Memory |\n",
            "|        ID   ID                                                             Usage      |\n",
            "|=======================================================================================|\n",
            "+---------------------------------------------------------------------------------------+\n"
          ]
        },
        {
          "output_type": "error",
          "ename": "NameError",
          "evalue": "name 'led' is not defined",
          "traceback": [
            "\u001b[0;31m---------------------------------------------------------------------------\u001b[0m",
            "\u001b[0;31mNameError\u001b[0m                                 Traceback (most recent call last)",
            "\u001b[0;32m<ipython-input-33-a6adb78d8b1e>\u001b[0m in \u001b[0;36m<cell line: 3>\u001b[0;34m()\u001b[0m\n\u001b[1;32m      1\u001b[0m \u001b[0;32mimport\u001b[0m \u001b[0mtorch\u001b[0m\u001b[0;34m\u001b[0m\u001b[0;34m\u001b[0m\u001b[0m\n\u001b[1;32m      2\u001b[0m \u001b[0mget_ipython\u001b[0m\u001b[0;34m(\u001b[0m\u001b[0;34m)\u001b[0m\u001b[0;34m.\u001b[0m\u001b[0msystem\u001b[0m\u001b[0;34m(\u001b[0m\u001b[0;34m'nvidia-smi'\u001b[0m\u001b[0;34m)\u001b[0m\u001b[0;34m\u001b[0m\u001b[0;34m\u001b[0m\u001b[0m\n\u001b[0;32m----> 3\u001b[0;31m \u001b[0;32mdel\u001b[0m \u001b[0mled\u001b[0m\u001b[0;34m\u001b[0m\u001b[0;34m\u001b[0m\u001b[0m\n\u001b[0m\u001b[1;32m      4\u001b[0m \u001b[0;32mdel\u001b[0m \u001b[0mtrainer\u001b[0m\u001b[0;34m\u001b[0m\u001b[0;34m\u001b[0m\u001b[0m\n\u001b[1;32m      5\u001b[0m \u001b[0mtorch\u001b[0m\u001b[0;34m.\u001b[0m\u001b[0mcuda\u001b[0m\u001b[0;34m.\u001b[0m\u001b[0mempty_cache\u001b[0m\u001b[0;34m(\u001b[0m\u001b[0;34m)\u001b[0m\u001b[0;34m\u001b[0m\u001b[0;34m\u001b[0m\u001b[0m\n",
            "\u001b[0;31mNameError\u001b[0m: name 'led' is not defined"
          ]
        }
      ]
    }
  ],
  "metadata": {
    "accelerator": "GPU",
    "colab": {
      "gpuType": "A100",
      "provenance": [],
      "machine_shape": "hm"
    },
    "kernelspec": {
      "display_name": "Python 3",
      "name": "python3"
    },
    "widgets": {
      "application/vnd.jupyter.widget-state+json": {
        "710cf4dae0f94bf786950f4c3741b7fb": {
          "model_module": "@jupyter-widgets/controls",
          "model_name": "HBoxModel",
          "model_module_version": "1.5.0",
          "state": {
            "_dom_classes": [],
            "_model_module": "@jupyter-widgets/controls",
            "_model_module_version": "1.5.0",
            "_model_name": "HBoxModel",
            "_view_count": null,
            "_view_module": "@jupyter-widgets/controls",
            "_view_module_version": "1.5.0",
            "_view_name": "HBoxView",
            "box_style": "",
            "children": [
              "IPY_MODEL_dad18ed56a1e425d89756299e950195a",
              "IPY_MODEL_0c2e382bf47b48029ec44ed64a7b961f"
            ],
            "layout": "IPY_MODEL_d0f9c51840c74d42a878c44b41b595c9"
          }
        },
        "dad18ed56a1e425d89756299e950195a": {
          "model_module": "@jupyter-widgets/controls",
          "model_name": "FloatProgressModel",
          "model_module_version": "1.5.0",
          "state": {
            "_dom_classes": [],
            "_model_module": "@jupyter-widgets/controls",
            "_model_module_version": "1.5.0",
            "_model_name": "FloatProgressModel",
            "_view_count": null,
            "_view_module": "@jupyter-widgets/controls",
            "_view_module_version": "1.5.0",
            "_view_name": "ProgressView",
            "bar_style": "success",
            "description": "tokenizer_config.json: 100%",
            "description_tooltip": null,
            "layout": "IPY_MODEL_9844dd392fea4026b548ec8ee84bf9fc",
            "max": 27,
            "min": 0,
            "orientation": "horizontal",
            "style": "IPY_MODEL_ccdea8145388470398a210b214b5cd8f",
            "value": 27
          }
        },
        "0c2e382bf47b48029ec44ed64a7b961f": {
          "model_module": "@jupyter-widgets/controls",
          "model_name": "HTMLModel",
          "model_module_version": "1.5.0",
          "state": {
            "_dom_classes": [],
            "_model_module": "@jupyter-widgets/controls",
            "_model_module_version": "1.5.0",
            "_model_name": "HTMLModel",
            "_view_count": null,
            "_view_module": "@jupyter-widgets/controls",
            "_view_module_version": "1.5.0",
            "_view_name": "HTMLView",
            "description": "",
            "description_tooltip": null,
            "layout": "IPY_MODEL_795ce9734d384a0495adf06a88b7a927",
            "placeholder": "​",
            "style": "IPY_MODEL_221b6dbec4ea4dbbb371fe7768dd2271",
            "value": " 27.0/27.0 [00:04&lt;00:00, 6.23B/s]"
          }
        },
        "d0f9c51840c74d42a878c44b41b595c9": {
          "model_module": "@jupyter-widgets/base",
          "model_name": "LayoutModel",
          "model_module_version": "1.2.0",
          "state": {
            "_model_module": "@jupyter-widgets/base",
            "_model_module_version": "1.2.0",
            "_model_name": "LayoutModel",
            "_view_count": null,
            "_view_module": "@jupyter-widgets/base",
            "_view_module_version": "1.2.0",
            "_view_name": "LayoutView",
            "align_content": null,
            "align_items": null,
            "align_self": null,
            "border": null,
            "bottom": null,
            "display": null,
            "flex": null,
            "flex_flow": null,
            "grid_area": null,
            "grid_auto_columns": null,
            "grid_auto_flow": null,
            "grid_auto_rows": null,
            "grid_column": null,
            "grid_gap": null,
            "grid_row": null,
            "grid_template_areas": null,
            "grid_template_columns": null,
            "grid_template_rows": null,
            "height": null,
            "justify_content": null,
            "justify_items": null,
            "left": null,
            "margin": null,
            "max_height": null,
            "max_width": null,
            "min_height": null,
            "min_width": null,
            "object_fit": null,
            "object_position": null,
            "order": null,
            "overflow": null,
            "overflow_x": null,
            "overflow_y": null,
            "padding": null,
            "right": null,
            "top": null,
            "visibility": null,
            "width": null
          }
        },
        "9844dd392fea4026b548ec8ee84bf9fc": {
          "model_module": "@jupyter-widgets/base",
          "model_name": "LayoutModel",
          "model_module_version": "1.2.0",
          "state": {
            "_model_module": "@jupyter-widgets/base",
            "_model_module_version": "1.2.0",
            "_model_name": "LayoutModel",
            "_view_count": null,
            "_view_module": "@jupyter-widgets/base",
            "_view_module_version": "1.2.0",
            "_view_name": "LayoutView",
            "align_content": null,
            "align_items": null,
            "align_self": null,
            "border": null,
            "bottom": null,
            "display": null,
            "flex": null,
            "flex_flow": null,
            "grid_area": null,
            "grid_auto_columns": null,
            "grid_auto_flow": null,
            "grid_auto_rows": null,
            "grid_column": null,
            "grid_gap": null,
            "grid_row": null,
            "grid_template_areas": null,
            "grid_template_columns": null,
            "grid_template_rows": null,
            "height": null,
            "justify_content": null,
            "justify_items": null,
            "left": null,
            "margin": null,
            "max_height": null,
            "max_width": null,
            "min_height": null,
            "min_width": null,
            "object_fit": null,
            "object_position": null,
            "order": null,
            "overflow": null,
            "overflow_x": null,
            "overflow_y": null,
            "padding": null,
            "right": null,
            "top": null,
            "visibility": null,
            "width": null
          }
        },
        "ccdea8145388470398a210b214b5cd8f": {
          "model_module": "@jupyter-widgets/controls",
          "model_name": "ProgressStyleModel",
          "model_module_version": "1.5.0",
          "state": {
            "_model_module": "@jupyter-widgets/controls",
            "_model_module_version": "1.5.0",
            "_model_name": "ProgressStyleModel",
            "_view_count": null,
            "_view_module": "@jupyter-widgets/base",
            "_view_module_version": "1.2.0",
            "_view_name": "StyleView",
            "bar_color": null,
            "description_width": "initial"
          }
        },
        "795ce9734d384a0495adf06a88b7a927": {
          "model_module": "@jupyter-widgets/base",
          "model_name": "LayoutModel",
          "model_module_version": "1.2.0",
          "state": {
            "_model_module": "@jupyter-widgets/base",
            "_model_module_version": "1.2.0",
            "_model_name": "LayoutModel",
            "_view_count": null,
            "_view_module": "@jupyter-widgets/base",
            "_view_module_version": "1.2.0",
            "_view_name": "LayoutView",
            "align_content": null,
            "align_items": null,
            "align_self": null,
            "border": null,
            "bottom": null,
            "display": null,
            "flex": null,
            "flex_flow": null,
            "grid_area": null,
            "grid_auto_columns": null,
            "grid_auto_flow": null,
            "grid_auto_rows": null,
            "grid_column": null,
            "grid_gap": null,
            "grid_row": null,
            "grid_template_areas": null,
            "grid_template_columns": null,
            "grid_template_rows": null,
            "height": null,
            "justify_content": null,
            "justify_items": null,
            "left": null,
            "margin": null,
            "max_height": null,
            "max_width": null,
            "min_height": null,
            "min_width": null,
            "object_fit": null,
            "object_position": null,
            "order": null,
            "overflow": null,
            "overflow_x": null,
            "overflow_y": null,
            "padding": null,
            "right": null,
            "top": null,
            "visibility": null,
            "width": null
          }
        },
        "221b6dbec4ea4dbbb371fe7768dd2271": {
          "model_module": "@jupyter-widgets/controls",
          "model_name": "DescriptionStyleModel",
          "model_module_version": "1.5.0",
          "state": {
            "_model_module": "@jupyter-widgets/controls",
            "_model_module_version": "1.5.0",
            "_model_name": "DescriptionStyleModel",
            "_view_count": null,
            "_view_module": "@jupyter-widgets/base",
            "_view_module_version": "1.2.0",
            "_view_name": "StyleView",
            "description_width": ""
          }
        },
        "c7224c0140bc4c81ba7fa74b882b62e1": {
          "model_module": "@jupyter-widgets/controls",
          "model_name": "HBoxModel",
          "model_module_version": "1.5.0",
          "state": {
            "_dom_classes": [],
            "_model_module": "@jupyter-widgets/controls",
            "_model_module_version": "1.5.0",
            "_model_name": "HBoxModel",
            "_view_count": null,
            "_view_module": "@jupyter-widgets/controls",
            "_view_module_version": "1.5.0",
            "_view_name": "HBoxView",
            "box_style": "",
            "children": [
              "IPY_MODEL_05f225d0cb124678a3e85263d7306b7b",
              "IPY_MODEL_2fb66eb9bcfa4cfda7894fd4703e82b0"
            ],
            "layout": "IPY_MODEL_2505e53d8ba84f189c132b6ada6529fa"
          }
        },
        "05f225d0cb124678a3e85263d7306b7b": {
          "model_module": "@jupyter-widgets/controls",
          "model_name": "FloatProgressModel",
          "model_module_version": "1.5.0",
          "state": {
            "_dom_classes": [],
            "_model_module": "@jupyter-widgets/controls",
            "_model_module_version": "1.5.0",
            "_model_name": "FloatProgressModel",
            "_view_count": null,
            "_view_module": "@jupyter-widgets/controls",
            "_view_module_version": "1.5.0",
            "_view_name": "ProgressView",
            "bar_style": "success",
            "description": "config.json: 100%",
            "description_tooltip": null,
            "layout": "IPY_MODEL_e85c06044ceb451ba3557d8996b8405d",
            "max": 1217,
            "min": 0,
            "orientation": "horizontal",
            "style": "IPY_MODEL_e3bf9e6c4d534e5ba1d6b365f631420b",
            "value": 1217
          }
        },
        "2fb66eb9bcfa4cfda7894fd4703e82b0": {
          "model_module": "@jupyter-widgets/controls",
          "model_name": "HTMLModel",
          "model_module_version": "1.5.0",
          "state": {
            "_dom_classes": [],
            "_model_module": "@jupyter-widgets/controls",
            "_model_module_version": "1.5.0",
            "_model_name": "HTMLModel",
            "_view_count": null,
            "_view_module": "@jupyter-widgets/controls",
            "_view_module_version": "1.5.0",
            "_view_name": "HTMLView",
            "description": "",
            "description_tooltip": null,
            "layout": "IPY_MODEL_38516cea30894464844df58b7d83e9ee",
            "placeholder": "​",
            "style": "IPY_MODEL_3e1b84f33f5843fca7e4c032c5add3f9",
            "value": " 1.22k/1.22k [00:00&lt;00:00, 2.48kB/s]"
          }
        },
        "2505e53d8ba84f189c132b6ada6529fa": {
          "model_module": "@jupyter-widgets/base",
          "model_name": "LayoutModel",
          "model_module_version": "1.2.0",
          "state": {
            "_model_module": "@jupyter-widgets/base",
            "_model_module_version": "1.2.0",
            "_model_name": "LayoutModel",
            "_view_count": null,
            "_view_module": "@jupyter-widgets/base",
            "_view_module_version": "1.2.0",
            "_view_name": "LayoutView",
            "align_content": null,
            "align_items": null,
            "align_self": null,
            "border": null,
            "bottom": null,
            "display": null,
            "flex": null,
            "flex_flow": null,
            "grid_area": null,
            "grid_auto_columns": null,
            "grid_auto_flow": null,
            "grid_auto_rows": null,
            "grid_column": null,
            "grid_gap": null,
            "grid_row": null,
            "grid_template_areas": null,
            "grid_template_columns": null,
            "grid_template_rows": null,
            "height": null,
            "justify_content": null,
            "justify_items": null,
            "left": null,
            "margin": null,
            "max_height": null,
            "max_width": null,
            "min_height": null,
            "min_width": null,
            "object_fit": null,
            "object_position": null,
            "order": null,
            "overflow": null,
            "overflow_x": null,
            "overflow_y": null,
            "padding": null,
            "right": null,
            "top": null,
            "visibility": null,
            "width": null
          }
        },
        "e85c06044ceb451ba3557d8996b8405d": {
          "model_module": "@jupyter-widgets/base",
          "model_name": "LayoutModel",
          "model_module_version": "1.2.0",
          "state": {
            "_model_module": "@jupyter-widgets/base",
            "_model_module_version": "1.2.0",
            "_model_name": "LayoutModel",
            "_view_count": null,
            "_view_module": "@jupyter-widgets/base",
            "_view_module_version": "1.2.0",
            "_view_name": "LayoutView",
            "align_content": null,
            "align_items": null,
            "align_self": null,
            "border": null,
            "bottom": null,
            "display": null,
            "flex": null,
            "flex_flow": null,
            "grid_area": null,
            "grid_auto_columns": null,
            "grid_auto_flow": null,
            "grid_auto_rows": null,
            "grid_column": null,
            "grid_gap": null,
            "grid_row": null,
            "grid_template_areas": null,
            "grid_template_columns": null,
            "grid_template_rows": null,
            "height": null,
            "justify_content": null,
            "justify_items": null,
            "left": null,
            "margin": null,
            "max_height": null,
            "max_width": null,
            "min_height": null,
            "min_width": null,
            "object_fit": null,
            "object_position": null,
            "order": null,
            "overflow": null,
            "overflow_x": null,
            "overflow_y": null,
            "padding": null,
            "right": null,
            "top": null,
            "visibility": null,
            "width": null
          }
        },
        "e3bf9e6c4d534e5ba1d6b365f631420b": {
          "model_module": "@jupyter-widgets/controls",
          "model_name": "ProgressStyleModel",
          "model_module_version": "1.5.0",
          "state": {
            "_model_module": "@jupyter-widgets/controls",
            "_model_module_version": "1.5.0",
            "_model_name": "ProgressStyleModel",
            "_view_count": null,
            "_view_module": "@jupyter-widgets/base",
            "_view_module_version": "1.2.0",
            "_view_name": "StyleView",
            "bar_color": null,
            "description_width": "initial"
          }
        },
        "38516cea30894464844df58b7d83e9ee": {
          "model_module": "@jupyter-widgets/base",
          "model_name": "LayoutModel",
          "model_module_version": "1.2.0",
          "state": {
            "_model_module": "@jupyter-widgets/base",
            "_model_module_version": "1.2.0",
            "_model_name": "LayoutModel",
            "_view_count": null,
            "_view_module": "@jupyter-widgets/base",
            "_view_module_version": "1.2.0",
            "_view_name": "LayoutView",
            "align_content": null,
            "align_items": null,
            "align_self": null,
            "border": null,
            "bottom": null,
            "display": null,
            "flex": null,
            "flex_flow": null,
            "grid_area": null,
            "grid_auto_columns": null,
            "grid_auto_flow": null,
            "grid_auto_rows": null,
            "grid_column": null,
            "grid_gap": null,
            "grid_row": null,
            "grid_template_areas": null,
            "grid_template_columns": null,
            "grid_template_rows": null,
            "height": null,
            "justify_content": null,
            "justify_items": null,
            "left": null,
            "margin": null,
            "max_height": null,
            "max_width": null,
            "min_height": null,
            "min_width": null,
            "object_fit": null,
            "object_position": null,
            "order": null,
            "overflow": null,
            "overflow_x": null,
            "overflow_y": null,
            "padding": null,
            "right": null,
            "top": null,
            "visibility": null,
            "width": null
          }
        },
        "3e1b84f33f5843fca7e4c032c5add3f9": {
          "model_module": "@jupyter-widgets/controls",
          "model_name": "DescriptionStyleModel",
          "model_module_version": "1.5.0",
          "state": {
            "_model_module": "@jupyter-widgets/controls",
            "_model_module_version": "1.5.0",
            "_model_name": "DescriptionStyleModel",
            "_view_count": null,
            "_view_module": "@jupyter-widgets/base",
            "_view_module_version": "1.2.0",
            "_view_name": "StyleView",
            "description_width": ""
          }
        },
        "fcc144b11a5c45488bd4511ca87cd63b": {
          "model_module": "@jupyter-widgets/controls",
          "model_name": "HBoxModel",
          "model_module_version": "1.5.0",
          "state": {
            "_dom_classes": [],
            "_model_module": "@jupyter-widgets/controls",
            "_model_module_version": "1.5.0",
            "_model_name": "HBoxModel",
            "_view_count": null,
            "_view_module": "@jupyter-widgets/controls",
            "_view_module_version": "1.5.0",
            "_view_name": "HBoxView",
            "box_style": "",
            "children": [
              "IPY_MODEL_619d91ea100543b68a8064e85a36d362",
              "IPY_MODEL_4d0f16f920864f49a867400375cfe121"
            ],
            "layout": "IPY_MODEL_ae916a38815443b7a6f0cdc751c71c6c"
          }
        },
        "619d91ea100543b68a8064e85a36d362": {
          "model_module": "@jupyter-widgets/controls",
          "model_name": "FloatProgressModel",
          "model_module_version": "1.5.0",
          "state": {
            "_dom_classes": [],
            "_model_module": "@jupyter-widgets/controls",
            "_model_module_version": "1.5.0",
            "_model_name": "FloatProgressModel",
            "_view_count": null,
            "_view_module": "@jupyter-widgets/controls",
            "_view_module_version": "1.5.0",
            "_view_name": "ProgressView",
            "bar_style": "success",
            "description": "vocab.json: 100%",
            "description_tooltip": null,
            "layout": "IPY_MODEL_08af4da051ae4610af3d96fe81f6158c",
            "max": 898822,
            "min": 0,
            "orientation": "horizontal",
            "style": "IPY_MODEL_5d7ead12f9884ce4921e9964b723dd1f",
            "value": 898822
          }
        },
        "4d0f16f920864f49a867400375cfe121": {
          "model_module": "@jupyter-widgets/controls",
          "model_name": "HTMLModel",
          "model_module_version": "1.5.0",
          "state": {
            "_dom_classes": [],
            "_model_module": "@jupyter-widgets/controls",
            "_model_module_version": "1.5.0",
            "_model_name": "HTMLModel",
            "_view_count": null,
            "_view_module": "@jupyter-widgets/controls",
            "_view_module_version": "1.5.0",
            "_view_name": "HTMLView",
            "description": "",
            "description_tooltip": null,
            "layout": "IPY_MODEL_0f326549e30541ad919bf0284e91c57b",
            "placeholder": "​",
            "style": "IPY_MODEL_edc75d9000504dde91f3502a6eed0c13",
            "value": " 899k/899k [00:03&lt;00:00, 286kB/s]"
          }
        },
        "ae916a38815443b7a6f0cdc751c71c6c": {
          "model_module": "@jupyter-widgets/base",
          "model_name": "LayoutModel",
          "model_module_version": "1.2.0",
          "state": {
            "_model_module": "@jupyter-widgets/base",
            "_model_module_version": "1.2.0",
            "_model_name": "LayoutModel",
            "_view_count": null,
            "_view_module": "@jupyter-widgets/base",
            "_view_module_version": "1.2.0",
            "_view_name": "LayoutView",
            "align_content": null,
            "align_items": null,
            "align_self": null,
            "border": null,
            "bottom": null,
            "display": null,
            "flex": null,
            "flex_flow": null,
            "grid_area": null,
            "grid_auto_columns": null,
            "grid_auto_flow": null,
            "grid_auto_rows": null,
            "grid_column": null,
            "grid_gap": null,
            "grid_row": null,
            "grid_template_areas": null,
            "grid_template_columns": null,
            "grid_template_rows": null,
            "height": null,
            "justify_content": null,
            "justify_items": null,
            "left": null,
            "margin": null,
            "max_height": null,
            "max_width": null,
            "min_height": null,
            "min_width": null,
            "object_fit": null,
            "object_position": null,
            "order": null,
            "overflow": null,
            "overflow_x": null,
            "overflow_y": null,
            "padding": null,
            "right": null,
            "top": null,
            "visibility": null,
            "width": null
          }
        },
        "08af4da051ae4610af3d96fe81f6158c": {
          "model_module": "@jupyter-widgets/base",
          "model_name": "LayoutModel",
          "model_module_version": "1.2.0",
          "state": {
            "_model_module": "@jupyter-widgets/base",
            "_model_module_version": "1.2.0",
            "_model_name": "LayoutModel",
            "_view_count": null,
            "_view_module": "@jupyter-widgets/base",
            "_view_module_version": "1.2.0",
            "_view_name": "LayoutView",
            "align_content": null,
            "align_items": null,
            "align_self": null,
            "border": null,
            "bottom": null,
            "display": null,
            "flex": null,
            "flex_flow": null,
            "grid_area": null,
            "grid_auto_columns": null,
            "grid_auto_flow": null,
            "grid_auto_rows": null,
            "grid_column": null,
            "grid_gap": null,
            "grid_row": null,
            "grid_template_areas": null,
            "grid_template_columns": null,
            "grid_template_rows": null,
            "height": null,
            "justify_content": null,
            "justify_items": null,
            "left": null,
            "margin": null,
            "max_height": null,
            "max_width": null,
            "min_height": null,
            "min_width": null,
            "object_fit": null,
            "object_position": null,
            "order": null,
            "overflow": null,
            "overflow_x": null,
            "overflow_y": null,
            "padding": null,
            "right": null,
            "top": null,
            "visibility": null,
            "width": null
          }
        },
        "5d7ead12f9884ce4921e9964b723dd1f": {
          "model_module": "@jupyter-widgets/controls",
          "model_name": "ProgressStyleModel",
          "model_module_version": "1.5.0",
          "state": {
            "_model_module": "@jupyter-widgets/controls",
            "_model_module_version": "1.5.0",
            "_model_name": "ProgressStyleModel",
            "_view_count": null,
            "_view_module": "@jupyter-widgets/base",
            "_view_module_version": "1.2.0",
            "_view_name": "StyleView",
            "bar_color": null,
            "description_width": "initial"
          }
        },
        "0f326549e30541ad919bf0284e91c57b": {
          "model_module": "@jupyter-widgets/base",
          "model_name": "LayoutModel",
          "model_module_version": "1.2.0",
          "state": {
            "_model_module": "@jupyter-widgets/base",
            "_model_module_version": "1.2.0",
            "_model_name": "LayoutModel",
            "_view_count": null,
            "_view_module": "@jupyter-widgets/base",
            "_view_module_version": "1.2.0",
            "_view_name": "LayoutView",
            "align_content": null,
            "align_items": null,
            "align_self": null,
            "border": null,
            "bottom": null,
            "display": null,
            "flex": null,
            "flex_flow": null,
            "grid_area": null,
            "grid_auto_columns": null,
            "grid_auto_flow": null,
            "grid_auto_rows": null,
            "grid_column": null,
            "grid_gap": null,
            "grid_row": null,
            "grid_template_areas": null,
            "grid_template_columns": null,
            "grid_template_rows": null,
            "height": null,
            "justify_content": null,
            "justify_items": null,
            "left": null,
            "margin": null,
            "max_height": null,
            "max_width": null,
            "min_height": null,
            "min_width": null,
            "object_fit": null,
            "object_position": null,
            "order": null,
            "overflow": null,
            "overflow_x": null,
            "overflow_y": null,
            "padding": null,
            "right": null,
            "top": null,
            "visibility": null,
            "width": null
          }
        },
        "edc75d9000504dde91f3502a6eed0c13": {
          "model_module": "@jupyter-widgets/controls",
          "model_name": "DescriptionStyleModel",
          "model_module_version": "1.5.0",
          "state": {
            "_model_module": "@jupyter-widgets/controls",
            "_model_module_version": "1.5.0",
            "_model_name": "DescriptionStyleModel",
            "_view_count": null,
            "_view_module": "@jupyter-widgets/base",
            "_view_module_version": "1.2.0",
            "_view_name": "StyleView",
            "description_width": ""
          }
        },
        "887d3eed57ce42679ccd64dc3fd91225": {
          "model_module": "@jupyter-widgets/controls",
          "model_name": "HBoxModel",
          "model_module_version": "1.5.0",
          "state": {
            "_dom_classes": [],
            "_model_module": "@jupyter-widgets/controls",
            "_model_module_version": "1.5.0",
            "_model_name": "HBoxModel",
            "_view_count": null,
            "_view_module": "@jupyter-widgets/controls",
            "_view_module_version": "1.5.0",
            "_view_name": "HBoxView",
            "box_style": "",
            "children": [
              "IPY_MODEL_be2cb59defdf47b3b95703cc0ae0a211",
              "IPY_MODEL_8c62a75c604d45179ea6889d688fbb76"
            ],
            "layout": "IPY_MODEL_6b7c4e29efea46e283ae3b155fea6dd5"
          }
        },
        "be2cb59defdf47b3b95703cc0ae0a211": {
          "model_module": "@jupyter-widgets/controls",
          "model_name": "FloatProgressModel",
          "model_module_version": "1.5.0",
          "state": {
            "_dom_classes": [],
            "_model_module": "@jupyter-widgets/controls",
            "_model_module_version": "1.5.0",
            "_model_name": "FloatProgressModel",
            "_view_count": null,
            "_view_module": "@jupyter-widgets/controls",
            "_view_module_version": "1.5.0",
            "_view_name": "ProgressView",
            "bar_style": "success",
            "description": "merges.txt: 100%",
            "description_tooltip": null,
            "layout": "IPY_MODEL_e401dcf567114edca7f5872200c9ce7e",
            "max": 456318,
            "min": 0,
            "orientation": "horizontal",
            "style": "IPY_MODEL_02cf5db76d244928a5b0885e6a2024d9",
            "value": 456318
          }
        },
        "8c62a75c604d45179ea6889d688fbb76": {
          "model_module": "@jupyter-widgets/controls",
          "model_name": "HTMLModel",
          "model_module_version": "1.5.0",
          "state": {
            "_dom_classes": [],
            "_model_module": "@jupyter-widgets/controls",
            "_model_module_version": "1.5.0",
            "_model_name": "HTMLModel",
            "_view_count": null,
            "_view_module": "@jupyter-widgets/controls",
            "_view_module_version": "1.5.0",
            "_view_name": "HTMLView",
            "description": "",
            "description_tooltip": null,
            "layout": "IPY_MODEL_153e49b210c24eaab5a2201605caf799",
            "placeholder": "​",
            "style": "IPY_MODEL_99b01c7fca3c443e8060d0b4a9557a93",
            "value": " 456k/456k [00:01&lt;00:00, 286kB/s]"
          }
        },
        "6b7c4e29efea46e283ae3b155fea6dd5": {
          "model_module": "@jupyter-widgets/base",
          "model_name": "LayoutModel",
          "model_module_version": "1.2.0",
          "state": {
            "_model_module": "@jupyter-widgets/base",
            "_model_module_version": "1.2.0",
            "_model_name": "LayoutModel",
            "_view_count": null,
            "_view_module": "@jupyter-widgets/base",
            "_view_module_version": "1.2.0",
            "_view_name": "LayoutView",
            "align_content": null,
            "align_items": null,
            "align_self": null,
            "border": null,
            "bottom": null,
            "display": null,
            "flex": null,
            "flex_flow": null,
            "grid_area": null,
            "grid_auto_columns": null,
            "grid_auto_flow": null,
            "grid_auto_rows": null,
            "grid_column": null,
            "grid_gap": null,
            "grid_row": null,
            "grid_template_areas": null,
            "grid_template_columns": null,
            "grid_template_rows": null,
            "height": null,
            "justify_content": null,
            "justify_items": null,
            "left": null,
            "margin": null,
            "max_height": null,
            "max_width": null,
            "min_height": null,
            "min_width": null,
            "object_fit": null,
            "object_position": null,
            "order": null,
            "overflow": null,
            "overflow_x": null,
            "overflow_y": null,
            "padding": null,
            "right": null,
            "top": null,
            "visibility": null,
            "width": null
          }
        },
        "e401dcf567114edca7f5872200c9ce7e": {
          "model_module": "@jupyter-widgets/base",
          "model_name": "LayoutModel",
          "model_module_version": "1.2.0",
          "state": {
            "_model_module": "@jupyter-widgets/base",
            "_model_module_version": "1.2.0",
            "_model_name": "LayoutModel",
            "_view_count": null,
            "_view_module": "@jupyter-widgets/base",
            "_view_module_version": "1.2.0",
            "_view_name": "LayoutView",
            "align_content": null,
            "align_items": null,
            "align_self": null,
            "border": null,
            "bottom": null,
            "display": null,
            "flex": null,
            "flex_flow": null,
            "grid_area": null,
            "grid_auto_columns": null,
            "grid_auto_flow": null,
            "grid_auto_rows": null,
            "grid_column": null,
            "grid_gap": null,
            "grid_row": null,
            "grid_template_areas": null,
            "grid_template_columns": null,
            "grid_template_rows": null,
            "height": null,
            "justify_content": null,
            "justify_items": null,
            "left": null,
            "margin": null,
            "max_height": null,
            "max_width": null,
            "min_height": null,
            "min_width": null,
            "object_fit": null,
            "object_position": null,
            "order": null,
            "overflow": null,
            "overflow_x": null,
            "overflow_y": null,
            "padding": null,
            "right": null,
            "top": null,
            "visibility": null,
            "width": null
          }
        },
        "02cf5db76d244928a5b0885e6a2024d9": {
          "model_module": "@jupyter-widgets/controls",
          "model_name": "ProgressStyleModel",
          "model_module_version": "1.5.0",
          "state": {
            "_model_module": "@jupyter-widgets/controls",
            "_model_module_version": "1.5.0",
            "_model_name": "ProgressStyleModel",
            "_view_count": null,
            "_view_module": "@jupyter-widgets/base",
            "_view_module_version": "1.2.0",
            "_view_name": "StyleView",
            "bar_color": null,
            "description_width": "initial"
          }
        },
        "153e49b210c24eaab5a2201605caf799": {
          "model_module": "@jupyter-widgets/base",
          "model_name": "LayoutModel",
          "model_module_version": "1.2.0",
          "state": {
            "_model_module": "@jupyter-widgets/base",
            "_model_module_version": "1.2.0",
            "_model_name": "LayoutModel",
            "_view_count": null,
            "_view_module": "@jupyter-widgets/base",
            "_view_module_version": "1.2.0",
            "_view_name": "LayoutView",
            "align_content": null,
            "align_items": null,
            "align_self": null,
            "border": null,
            "bottom": null,
            "display": null,
            "flex": null,
            "flex_flow": null,
            "grid_area": null,
            "grid_auto_columns": null,
            "grid_auto_flow": null,
            "grid_auto_rows": null,
            "grid_column": null,
            "grid_gap": null,
            "grid_row": null,
            "grid_template_areas": null,
            "grid_template_columns": null,
            "grid_template_rows": null,
            "height": null,
            "justify_content": null,
            "justify_items": null,
            "left": null,
            "margin": null,
            "max_height": null,
            "max_width": null,
            "min_height": null,
            "min_width": null,
            "object_fit": null,
            "object_position": null,
            "order": null,
            "overflow": null,
            "overflow_x": null,
            "overflow_y": null,
            "padding": null,
            "right": null,
            "top": null,
            "visibility": null,
            "width": null
          }
        },
        "99b01c7fca3c443e8060d0b4a9557a93": {
          "model_module": "@jupyter-widgets/controls",
          "model_name": "DescriptionStyleModel",
          "model_module_version": "1.5.0",
          "state": {
            "_model_module": "@jupyter-widgets/controls",
            "_model_module_version": "1.5.0",
            "_model_name": "DescriptionStyleModel",
            "_view_count": null,
            "_view_module": "@jupyter-widgets/base",
            "_view_module_version": "1.2.0",
            "_view_name": "StyleView",
            "description_width": ""
          }
        },
        "d26cbb9ced52497791efa63ece6fec79": {
          "model_module": "@jupyter-widgets/controls",
          "model_name": "HBoxModel",
          "model_module_version": "1.5.0",
          "state": {
            "_dom_classes": [],
            "_model_module": "@jupyter-widgets/controls",
            "_model_module_version": "1.5.0",
            "_model_name": "HBoxModel",
            "_view_count": null,
            "_view_module": "@jupyter-widgets/controls",
            "_view_module_version": "1.5.0",
            "_view_name": "HBoxView",
            "box_style": "",
            "children": [
              "IPY_MODEL_779123a89c2443ad8cae5bc57de22082",
              "IPY_MODEL_4379158d688a4eecba0226a23a060350"
            ],
            "layout": "IPY_MODEL_f85ee4ec8bb84b488f252a63b5559769"
          }
        },
        "779123a89c2443ad8cae5bc57de22082": {
          "model_module": "@jupyter-widgets/controls",
          "model_name": "FloatProgressModel",
          "model_module_version": "1.5.0",
          "state": {
            "_dom_classes": [],
            "_model_module": "@jupyter-widgets/controls",
            "_model_module_version": "1.5.0",
            "_model_name": "FloatProgressModel",
            "_view_count": null,
            "_view_module": "@jupyter-widgets/controls",
            "_view_module_version": "1.5.0",
            "_view_name": "ProgressView",
            "bar_style": "success",
            "description": "special_tokens_map.json: 100%",
            "description_tooltip": null,
            "layout": "IPY_MODEL_93fee972f498462c8c3e052453114abc",
            "max": 772,
            "min": 0,
            "orientation": "horizontal",
            "style": "IPY_MODEL_a2621c7b970744d897233582ddae0b3c",
            "value": 772
          }
        },
        "4379158d688a4eecba0226a23a060350": {
          "model_module": "@jupyter-widgets/controls",
          "model_name": "HTMLModel",
          "model_module_version": "1.5.0",
          "state": {
            "_dom_classes": [],
            "_model_module": "@jupyter-widgets/controls",
            "_model_module_version": "1.5.0",
            "_model_name": "HTMLModel",
            "_view_count": null,
            "_view_module": "@jupyter-widgets/controls",
            "_view_module_version": "1.5.0",
            "_view_name": "HTMLView",
            "description": "",
            "description_tooltip": null,
            "layout": "IPY_MODEL_a8654de2556b4b22b880592c8d3e789d",
            "placeholder": "​",
            "style": "IPY_MODEL_cc81c1cea22340b0828957ceba56d8e2",
            "value": " 772/772 [00:00&lt;00:00, 10.5kB/s]"
          }
        },
        "f85ee4ec8bb84b488f252a63b5559769": {
          "model_module": "@jupyter-widgets/base",
          "model_name": "LayoutModel",
          "model_module_version": "1.2.0",
          "state": {
            "_model_module": "@jupyter-widgets/base",
            "_model_module_version": "1.2.0",
            "_model_name": "LayoutModel",
            "_view_count": null,
            "_view_module": "@jupyter-widgets/base",
            "_view_module_version": "1.2.0",
            "_view_name": "LayoutView",
            "align_content": null,
            "align_items": null,
            "align_self": null,
            "border": null,
            "bottom": null,
            "display": null,
            "flex": null,
            "flex_flow": null,
            "grid_area": null,
            "grid_auto_columns": null,
            "grid_auto_flow": null,
            "grid_auto_rows": null,
            "grid_column": null,
            "grid_gap": null,
            "grid_row": null,
            "grid_template_areas": null,
            "grid_template_columns": null,
            "grid_template_rows": null,
            "height": null,
            "justify_content": null,
            "justify_items": null,
            "left": null,
            "margin": null,
            "max_height": null,
            "max_width": null,
            "min_height": null,
            "min_width": null,
            "object_fit": null,
            "object_position": null,
            "order": null,
            "overflow": null,
            "overflow_x": null,
            "overflow_y": null,
            "padding": null,
            "right": null,
            "top": null,
            "visibility": null,
            "width": null
          }
        },
        "93fee972f498462c8c3e052453114abc": {
          "model_module": "@jupyter-widgets/base",
          "model_name": "LayoutModel",
          "model_module_version": "1.2.0",
          "state": {
            "_model_module": "@jupyter-widgets/base",
            "_model_module_version": "1.2.0",
            "_model_name": "LayoutModel",
            "_view_count": null,
            "_view_module": "@jupyter-widgets/base",
            "_view_module_version": "1.2.0",
            "_view_name": "LayoutView",
            "align_content": null,
            "align_items": null,
            "align_self": null,
            "border": null,
            "bottom": null,
            "display": null,
            "flex": null,
            "flex_flow": null,
            "grid_area": null,
            "grid_auto_columns": null,
            "grid_auto_flow": null,
            "grid_auto_rows": null,
            "grid_column": null,
            "grid_gap": null,
            "grid_row": null,
            "grid_template_areas": null,
            "grid_template_columns": null,
            "grid_template_rows": null,
            "height": null,
            "justify_content": null,
            "justify_items": null,
            "left": null,
            "margin": null,
            "max_height": null,
            "max_width": null,
            "min_height": null,
            "min_width": null,
            "object_fit": null,
            "object_position": null,
            "order": null,
            "overflow": null,
            "overflow_x": null,
            "overflow_y": null,
            "padding": null,
            "right": null,
            "top": null,
            "visibility": null,
            "width": null
          }
        },
        "a2621c7b970744d897233582ddae0b3c": {
          "model_module": "@jupyter-widgets/controls",
          "model_name": "ProgressStyleModel",
          "model_module_version": "1.5.0",
          "state": {
            "_model_module": "@jupyter-widgets/controls",
            "_model_module_version": "1.5.0",
            "_model_name": "ProgressStyleModel",
            "_view_count": null,
            "_view_module": "@jupyter-widgets/base",
            "_view_module_version": "1.2.0",
            "_view_name": "StyleView",
            "bar_color": null,
            "description_width": "initial"
          }
        },
        "a8654de2556b4b22b880592c8d3e789d": {
          "model_module": "@jupyter-widgets/base",
          "model_name": "LayoutModel",
          "model_module_version": "1.2.0",
          "state": {
            "_model_module": "@jupyter-widgets/base",
            "_model_module_version": "1.2.0",
            "_model_name": "LayoutModel",
            "_view_count": null,
            "_view_module": "@jupyter-widgets/base",
            "_view_module_version": "1.2.0",
            "_view_name": "LayoutView",
            "align_content": null,
            "align_items": null,
            "align_self": null,
            "border": null,
            "bottom": null,
            "display": null,
            "flex": null,
            "flex_flow": null,
            "grid_area": null,
            "grid_auto_columns": null,
            "grid_auto_flow": null,
            "grid_auto_rows": null,
            "grid_column": null,
            "grid_gap": null,
            "grid_row": null,
            "grid_template_areas": null,
            "grid_template_columns": null,
            "grid_template_rows": null,
            "height": null,
            "justify_content": null,
            "justify_items": null,
            "left": null,
            "margin": null,
            "max_height": null,
            "max_width": null,
            "min_height": null,
            "min_width": null,
            "object_fit": null,
            "object_position": null,
            "order": null,
            "overflow": null,
            "overflow_x": null,
            "overflow_y": null,
            "padding": null,
            "right": null,
            "top": null,
            "visibility": null,
            "width": null
          }
        },
        "cc81c1cea22340b0828957ceba56d8e2": {
          "model_module": "@jupyter-widgets/controls",
          "model_name": "DescriptionStyleModel",
          "model_module_version": "1.5.0",
          "state": {
            "_model_module": "@jupyter-widgets/controls",
            "_model_module_version": "1.5.0",
            "_model_name": "DescriptionStyleModel",
            "_view_count": null,
            "_view_module": "@jupyter-widgets/base",
            "_view_module_version": "1.2.0",
            "_view_name": "StyleView",
            "description_width": ""
          }
        },
        "ebff27f4c64a48c183da06327d814037": {
          "model_module": "@jupyter-widgets/controls",
          "model_name": "HBoxModel",
          "model_module_version": "1.5.0",
          "state": {
            "_dom_classes": [],
            "_model_module": "@jupyter-widgets/controls",
            "_model_module_version": "1.5.0",
            "_model_name": "HBoxModel",
            "_view_count": null,
            "_view_module": "@jupyter-widgets/controls",
            "_view_module_version": "1.5.0",
            "_view_name": "HBoxView",
            "box_style": "",
            "children": [
              "IPY_MODEL_e20eb966377541f5889be4af5e8cf918",
              "IPY_MODEL_fe32d27e7c074544b3361c52a98364ba"
            ],
            "layout": "IPY_MODEL_3451e06b5e6e4f20bc9e7bd3b7f083a8"
          }
        },
        "e20eb966377541f5889be4af5e8cf918": {
          "model_module": "@jupyter-widgets/controls",
          "model_name": "FloatProgressModel",
          "model_module_version": "1.5.0",
          "state": {
            "_dom_classes": [],
            "_model_module": "@jupyter-widgets/controls",
            "_model_module_version": "1.5.0",
            "_model_name": "FloatProgressModel",
            "_view_count": null,
            "_view_module": "@jupyter-widgets/controls",
            "_view_module_version": "1.5.0",
            "_view_name": "ProgressView",
            "bar_style": "success",
            "description": "100%",
            "description_tooltip": null,
            "layout": "IPY_MODEL_f32f573f968b4087ba9e866e196e3f0c",
            "max": 5000,
            "min": 0,
            "orientation": "horizontal",
            "style": "IPY_MODEL_aa6d6dafa1954926abc822698c8030fe",
            "value": 5000
          }
        },
        "fe32d27e7c074544b3361c52a98364ba": {
          "model_module": "@jupyter-widgets/controls",
          "model_name": "HTMLModel",
          "model_module_version": "1.5.0",
          "state": {
            "_dom_classes": [],
            "_model_module": "@jupyter-widgets/controls",
            "_model_module_version": "1.5.0",
            "_model_name": "HTMLModel",
            "_view_count": null,
            "_view_module": "@jupyter-widgets/controls",
            "_view_module_version": "1.5.0",
            "_view_name": "HTMLView",
            "description": "",
            "description_tooltip": null,
            "layout": "IPY_MODEL_d6e9be02bf67426b818c93ac8586b4aa",
            "placeholder": "​",
            "style": "IPY_MODEL_c39120b00bbe451d879e317a598239b1",
            "value": " 5000/5000 [04:12&lt;00:00, 19.80ba/s]"
          }
        },
        "3451e06b5e6e4f20bc9e7bd3b7f083a8": {
          "model_module": "@jupyter-widgets/base",
          "model_name": "LayoutModel",
          "model_module_version": "1.2.0",
          "state": {
            "_model_module": "@jupyter-widgets/base",
            "_model_module_version": "1.2.0",
            "_model_name": "LayoutModel",
            "_view_count": null,
            "_view_module": "@jupyter-widgets/base",
            "_view_module_version": "1.2.0",
            "_view_name": "LayoutView",
            "align_content": null,
            "align_items": null,
            "align_self": null,
            "border": null,
            "bottom": null,
            "display": null,
            "flex": null,
            "flex_flow": null,
            "grid_area": null,
            "grid_auto_columns": null,
            "grid_auto_flow": null,
            "grid_auto_rows": null,
            "grid_column": null,
            "grid_gap": null,
            "grid_row": null,
            "grid_template_areas": null,
            "grid_template_columns": null,
            "grid_template_rows": null,
            "height": null,
            "justify_content": null,
            "justify_items": null,
            "left": null,
            "margin": null,
            "max_height": null,
            "max_width": null,
            "min_height": null,
            "min_width": null,
            "object_fit": null,
            "object_position": null,
            "order": null,
            "overflow": null,
            "overflow_x": null,
            "overflow_y": null,
            "padding": null,
            "right": null,
            "top": null,
            "visibility": null,
            "width": null
          }
        },
        "f32f573f968b4087ba9e866e196e3f0c": {
          "model_module": "@jupyter-widgets/base",
          "model_name": "LayoutModel",
          "model_module_version": "1.2.0",
          "state": {
            "_model_module": "@jupyter-widgets/base",
            "_model_module_version": "1.2.0",
            "_model_name": "LayoutModel",
            "_view_count": null,
            "_view_module": "@jupyter-widgets/base",
            "_view_module_version": "1.2.0",
            "_view_name": "LayoutView",
            "align_content": null,
            "align_items": null,
            "align_self": null,
            "border": null,
            "bottom": null,
            "display": null,
            "flex": null,
            "flex_flow": null,
            "grid_area": null,
            "grid_auto_columns": null,
            "grid_auto_flow": null,
            "grid_auto_rows": null,
            "grid_column": null,
            "grid_gap": null,
            "grid_row": null,
            "grid_template_areas": null,
            "grid_template_columns": null,
            "grid_template_rows": null,
            "height": null,
            "justify_content": null,
            "justify_items": null,
            "left": null,
            "margin": null,
            "max_height": null,
            "max_width": null,
            "min_height": null,
            "min_width": null,
            "object_fit": null,
            "object_position": null,
            "order": null,
            "overflow": null,
            "overflow_x": null,
            "overflow_y": null,
            "padding": null,
            "right": null,
            "top": null,
            "visibility": null,
            "width": null
          }
        },
        "aa6d6dafa1954926abc822698c8030fe": {
          "model_module": "@jupyter-widgets/controls",
          "model_name": "ProgressStyleModel",
          "model_module_version": "1.5.0",
          "state": {
            "_model_module": "@jupyter-widgets/controls",
            "_model_module_version": "1.5.0",
            "_model_name": "ProgressStyleModel",
            "_view_count": null,
            "_view_module": "@jupyter-widgets/base",
            "_view_module_version": "1.2.0",
            "_view_name": "StyleView",
            "bar_color": null,
            "description_width": "initial"
          }
        },
        "d6e9be02bf67426b818c93ac8586b4aa": {
          "model_module": "@jupyter-widgets/base",
          "model_name": "LayoutModel",
          "model_module_version": "1.2.0",
          "state": {
            "_model_module": "@jupyter-widgets/base",
            "_model_module_version": "1.2.0",
            "_model_name": "LayoutModel",
            "_view_count": null,
            "_view_module": "@jupyter-widgets/base",
            "_view_module_version": "1.2.0",
            "_view_name": "LayoutView",
            "align_content": null,
            "align_items": null,
            "align_self": null,
            "border": null,
            "bottom": null,
            "display": null,
            "flex": null,
            "flex_flow": null,
            "grid_area": null,
            "grid_auto_columns": null,
            "grid_auto_flow": null,
            "grid_auto_rows": null,
            "grid_column": null,
            "grid_gap": null,
            "grid_row": null,
            "grid_template_areas": null,
            "grid_template_columns": null,
            "grid_template_rows": null,
            "height": null,
            "justify_content": null,
            "justify_items": null,
            "left": null,
            "margin": null,
            "max_height": null,
            "max_width": null,
            "min_height": null,
            "min_width": null,
            "object_fit": null,
            "object_position": null,
            "order": null,
            "overflow": null,
            "overflow_x": null,
            "overflow_y": null,
            "padding": null,
            "right": null,
            "top": null,
            "visibility": null,
            "width": null
          }
        },
        "c39120b00bbe451d879e317a598239b1": {
          "model_module": "@jupyter-widgets/controls",
          "model_name": "DescriptionStyleModel",
          "model_module_version": "1.5.0",
          "state": {
            "_model_module": "@jupyter-widgets/controls",
            "_model_module_version": "1.5.0",
            "_model_name": "DescriptionStyleModel",
            "_view_count": null,
            "_view_module": "@jupyter-widgets/base",
            "_view_module_version": "1.2.0",
            "_view_name": "StyleView",
            "description_width": ""
          }
        },
        "c7dc76a096e74d17b806e1068460fcf6": {
          "model_module": "@jupyter-widgets/controls",
          "model_name": "HBoxModel",
          "model_module_version": "1.5.0",
          "state": {
            "_dom_classes": [],
            "_model_module": "@jupyter-widgets/controls",
            "_model_module_version": "1.5.0",
            "_model_name": "HBoxModel",
            "_view_count": null,
            "_view_module": "@jupyter-widgets/controls",
            "_view_module_version": "1.5.0",
            "_view_name": "HBoxView",
            "box_style": "",
            "children": [
              "IPY_MODEL_aaa118d2a6354116a97b1a49edb70f00",
              "IPY_MODEL_b17bdbc9b6ab44648bb1ce8d1d272414"
            ],
            "layout": "IPY_MODEL_1c48f06e03d747b7a47441f60718bed8"
          }
        },
        "aaa118d2a6354116a97b1a49edb70f00": {
          "model_module": "@jupyter-widgets/controls",
          "model_name": "FloatProgressModel",
          "model_module_version": "1.5.0",
          "state": {
            "_dom_classes": [],
            "_model_module": "@jupyter-widgets/controls",
            "_model_module_version": "1.5.0",
            "_model_name": "FloatProgressModel",
            "_view_count": null,
            "_view_module": "@jupyter-widgets/controls",
            "_view_module_version": "1.5.0",
            "_view_name": "ProgressView",
            "bar_style": "success",
            "description": "100%",
            "description_tooltip": null,
            "layout": "IPY_MODEL_202e954f69394aa283464f17e3a2a1ee",
            "max": 5,
            "min": 0,
            "orientation": "horizontal",
            "style": "IPY_MODEL_2e454f4d4d79407580c481406b704e22",
            "value": 5
          }
        },
        "b17bdbc9b6ab44648bb1ce8d1d272414": {
          "model_module": "@jupyter-widgets/controls",
          "model_name": "HTMLModel",
          "model_module_version": "1.5.0",
          "state": {
            "_dom_classes": [],
            "_model_module": "@jupyter-widgets/controls",
            "_model_module_version": "1.5.0",
            "_model_name": "HTMLModel",
            "_view_count": null,
            "_view_module": "@jupyter-widgets/controls",
            "_view_module_version": "1.5.0",
            "_view_name": "HTMLView",
            "description": "",
            "description_tooltip": null,
            "layout": "IPY_MODEL_00b7a6701b8443528b40b365e934991d",
            "placeholder": "​",
            "style": "IPY_MODEL_81e1828434da4988ad928aea86774776",
            "value": " 5/5 [00:00&lt;00:00,  5.77ba/s]"
          }
        },
        "1c48f06e03d747b7a47441f60718bed8": {
          "model_module": "@jupyter-widgets/base",
          "model_name": "LayoutModel",
          "model_module_version": "1.2.0",
          "state": {
            "_model_module": "@jupyter-widgets/base",
            "_model_module_version": "1.2.0",
            "_model_name": "LayoutModel",
            "_view_count": null,
            "_view_module": "@jupyter-widgets/base",
            "_view_module_version": "1.2.0",
            "_view_name": "LayoutView",
            "align_content": null,
            "align_items": null,
            "align_self": null,
            "border": null,
            "bottom": null,
            "display": null,
            "flex": null,
            "flex_flow": null,
            "grid_area": null,
            "grid_auto_columns": null,
            "grid_auto_flow": null,
            "grid_auto_rows": null,
            "grid_column": null,
            "grid_gap": null,
            "grid_row": null,
            "grid_template_areas": null,
            "grid_template_columns": null,
            "grid_template_rows": null,
            "height": null,
            "justify_content": null,
            "justify_items": null,
            "left": null,
            "margin": null,
            "max_height": null,
            "max_width": null,
            "min_height": null,
            "min_width": null,
            "object_fit": null,
            "object_position": null,
            "order": null,
            "overflow": null,
            "overflow_x": null,
            "overflow_y": null,
            "padding": null,
            "right": null,
            "top": null,
            "visibility": null,
            "width": null
          }
        },
        "202e954f69394aa283464f17e3a2a1ee": {
          "model_module": "@jupyter-widgets/base",
          "model_name": "LayoutModel",
          "model_module_version": "1.2.0",
          "state": {
            "_model_module": "@jupyter-widgets/base",
            "_model_module_version": "1.2.0",
            "_model_name": "LayoutModel",
            "_view_count": null,
            "_view_module": "@jupyter-widgets/base",
            "_view_module_version": "1.2.0",
            "_view_name": "LayoutView",
            "align_content": null,
            "align_items": null,
            "align_self": null,
            "border": null,
            "bottom": null,
            "display": null,
            "flex": null,
            "flex_flow": null,
            "grid_area": null,
            "grid_auto_columns": null,
            "grid_auto_flow": null,
            "grid_auto_rows": null,
            "grid_column": null,
            "grid_gap": null,
            "grid_row": null,
            "grid_template_areas": null,
            "grid_template_columns": null,
            "grid_template_rows": null,
            "height": null,
            "justify_content": null,
            "justify_items": null,
            "left": null,
            "margin": null,
            "max_height": null,
            "max_width": null,
            "min_height": null,
            "min_width": null,
            "object_fit": null,
            "object_position": null,
            "order": null,
            "overflow": null,
            "overflow_x": null,
            "overflow_y": null,
            "padding": null,
            "right": null,
            "top": null,
            "visibility": null,
            "width": null
          }
        },
        "2e454f4d4d79407580c481406b704e22": {
          "model_module": "@jupyter-widgets/controls",
          "model_name": "ProgressStyleModel",
          "model_module_version": "1.5.0",
          "state": {
            "_model_module": "@jupyter-widgets/controls",
            "_model_module_version": "1.5.0",
            "_model_name": "ProgressStyleModel",
            "_view_count": null,
            "_view_module": "@jupyter-widgets/base",
            "_view_module_version": "1.2.0",
            "_view_name": "StyleView",
            "bar_color": null,
            "description_width": "initial"
          }
        },
        "00b7a6701b8443528b40b365e934991d": {
          "model_module": "@jupyter-widgets/base",
          "model_name": "LayoutModel",
          "model_module_version": "1.2.0",
          "state": {
            "_model_module": "@jupyter-widgets/base",
            "_model_module_version": "1.2.0",
            "_model_name": "LayoutModel",
            "_view_count": null,
            "_view_module": "@jupyter-widgets/base",
            "_view_module_version": "1.2.0",
            "_view_name": "LayoutView",
            "align_content": null,
            "align_items": null,
            "align_self": null,
            "border": null,
            "bottom": null,
            "display": null,
            "flex": null,
            "flex_flow": null,
            "grid_area": null,
            "grid_auto_columns": null,
            "grid_auto_flow": null,
            "grid_auto_rows": null,
            "grid_column": null,
            "grid_gap": null,
            "grid_row": null,
            "grid_template_areas": null,
            "grid_template_columns": null,
            "grid_template_rows": null,
            "height": null,
            "justify_content": null,
            "justify_items": null,
            "left": null,
            "margin": null,
            "max_height": null,
            "max_width": null,
            "min_height": null,
            "min_width": null,
            "object_fit": null,
            "object_position": null,
            "order": null,
            "overflow": null,
            "overflow_x": null,
            "overflow_y": null,
            "padding": null,
            "right": null,
            "top": null,
            "visibility": null,
            "width": null
          }
        },
        "81e1828434da4988ad928aea86774776": {
          "model_module": "@jupyter-widgets/controls",
          "model_name": "DescriptionStyleModel",
          "model_module_version": "1.5.0",
          "state": {
            "_model_module": "@jupyter-widgets/controls",
            "_model_module_version": "1.5.0",
            "_model_name": "DescriptionStyleModel",
            "_view_count": null,
            "_view_module": "@jupyter-widgets/base",
            "_view_module_version": "1.2.0",
            "_view_name": "StyleView",
            "description_width": ""
          }
        }
      }
    }
  },
  "nbformat": 4,
  "nbformat_minor": 0
}